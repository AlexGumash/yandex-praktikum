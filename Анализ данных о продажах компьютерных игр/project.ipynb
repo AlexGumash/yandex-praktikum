{
 "cells": [
  {
   "cell_type": "markdown",
   "metadata": {},
   "source": [
    "# Анализ рынка компьютерных игр"
   ]
  },
  {
   "cell_type": "markdown",
   "metadata": {},
   "source": [
    "Были собраны исторические данные о продажах компьютерных игр, оценки пользователей и критиков, жанры и платформы.  \n",
    "\n",
    "Описание данных:\n",
    "- Name — название игры\n",
    "- Platform — платформа\n",
    "- Year_of_Release — год выпуска\n",
    "- Genre — жанр игры\n",
    "- NA_sales — продажи в Северной Америке (миллионы проданных копий)\n",
    "- EU_sales — продажи в Европе (миллионы проданных копий)\n",
    "- JP_sales — продажи в Японии (миллионы проданных копий)\n",
    "- Other_sales — продажи в других странах (миллионы проданных копий)\n",
    "- Critic_Score — оценка критиков (максимум 100)\n",
    "- User_Score — оценка пользователей (максимум 10)\n",
    "- Rating — рейтинг от организации ESRB (англ. Entertainment Software Rating Board).\n",
    "\n",
    "*Примечание:* Данные за 2016 год могут быть неполными.\n",
    "\n",
    "**Цель** - определить факторы, влияющие на успешность игры.  \n",
    "\n",
    "Это позволит сделать ставку на определенные игры. Также это позволит на основании исторических данных прогнозировать продажи на будующий период.\n",
    "\n",
    "**План**:\n",
    "1. <a href=\"#Импорт-библиотек-и-загрузка-датасета\">Загрузить данные и взглянуть на них</a>\n",
    "2. <a href=\"#Предобработка-данных\">Провести предобработку данных</a>\n",
    "3. <a href=\"#Исследовательский-анализ-данных\">Провести исследовательский анализ данных</a>\n",
    "4. <a href=\"#Портрет-пользователя-для-каждого-региона\">Составить портрет рынка для каждого региона</a>\n",
    "5. <a href=\"#Проверка-гипотез\">Проверить гипотезы</a>"
   ]
  },
  {
   "cell_type": "markdown",
   "metadata": {},
   "source": [
    "### Импорт библиотек и загрузка датасета"
   ]
  },
  {
   "cell_type": "markdown",
   "metadata": {},
   "source": [
    "Импорт необходимых библиотек"
   ]
  },
  {
   "cell_type": "code",
   "execution_count": 1,
   "metadata": {},
   "outputs": [],
   "source": [
    "import pandas as pd\n",
    "import seaborn as sns\n",
    "import matplotlib.pyplot as plt\n",
    "import numpy as np\n",
    "import math\n",
    "from scipy import stats as st\n",
    "\n",
    "import plotly.express as px"
   ]
  },
  {
   "cell_type": "markdown",
   "metadata": {},
   "source": [
    "Загрузка датасета."
   ]
  },
  {
   "cell_type": "code",
   "execution_count": 2,
   "metadata": {},
   "outputs": [],
   "source": [
    "games = pd.read_csv('/datasets/games.csv')"
   ]
  },
  {
   "cell_type": "markdown",
   "metadata": {},
   "source": [
    "### Первый взгляд на данные"
   ]
  },
  {
   "cell_type": "markdown",
   "metadata": {},
   "source": [
    "Взглянем на данные. Выведем несколько строк таблицы, посмотрим информацию о столбцах таблицы."
   ]
  },
  {
   "cell_type": "code",
   "execution_count": 3,
   "metadata": {},
   "outputs": [
    {
     "data": {
      "text/html": [
       "<div>\n",
       "<style scoped>\n",
       "    .dataframe tbody tr th:only-of-type {\n",
       "        vertical-align: middle;\n",
       "    }\n",
       "\n",
       "    .dataframe tbody tr th {\n",
       "        vertical-align: top;\n",
       "    }\n",
       "\n",
       "    .dataframe thead th {\n",
       "        text-align: right;\n",
       "    }\n",
       "</style>\n",
       "<table border=\"1\" class=\"dataframe\">\n",
       "  <thead>\n",
       "    <tr style=\"text-align: right;\">\n",
       "      <th></th>\n",
       "      <th>Name</th>\n",
       "      <th>Platform</th>\n",
       "      <th>Year_of_Release</th>\n",
       "      <th>Genre</th>\n",
       "      <th>NA_sales</th>\n",
       "      <th>EU_sales</th>\n",
       "      <th>JP_sales</th>\n",
       "      <th>Other_sales</th>\n",
       "      <th>Critic_Score</th>\n",
       "      <th>User_Score</th>\n",
       "      <th>Rating</th>\n",
       "    </tr>\n",
       "  </thead>\n",
       "  <tbody>\n",
       "    <tr>\n",
       "      <td>0</td>\n",
       "      <td>Wii Sports</td>\n",
       "      <td>Wii</td>\n",
       "      <td>2006.0</td>\n",
       "      <td>Sports</td>\n",
       "      <td>41.36</td>\n",
       "      <td>28.96</td>\n",
       "      <td>3.77</td>\n",
       "      <td>8.45</td>\n",
       "      <td>76.0</td>\n",
       "      <td>8</td>\n",
       "      <td>E</td>\n",
       "    </tr>\n",
       "    <tr>\n",
       "      <td>1</td>\n",
       "      <td>Super Mario Bros.</td>\n",
       "      <td>NES</td>\n",
       "      <td>1985.0</td>\n",
       "      <td>Platform</td>\n",
       "      <td>29.08</td>\n",
       "      <td>3.58</td>\n",
       "      <td>6.81</td>\n",
       "      <td>0.77</td>\n",
       "      <td>NaN</td>\n",
       "      <td>NaN</td>\n",
       "      <td>NaN</td>\n",
       "    </tr>\n",
       "    <tr>\n",
       "      <td>2</td>\n",
       "      <td>Mario Kart Wii</td>\n",
       "      <td>Wii</td>\n",
       "      <td>2008.0</td>\n",
       "      <td>Racing</td>\n",
       "      <td>15.68</td>\n",
       "      <td>12.76</td>\n",
       "      <td>3.79</td>\n",
       "      <td>3.29</td>\n",
       "      <td>82.0</td>\n",
       "      <td>8.3</td>\n",
       "      <td>E</td>\n",
       "    </tr>\n",
       "    <tr>\n",
       "      <td>3</td>\n",
       "      <td>Wii Sports Resort</td>\n",
       "      <td>Wii</td>\n",
       "      <td>2009.0</td>\n",
       "      <td>Sports</td>\n",
       "      <td>15.61</td>\n",
       "      <td>10.93</td>\n",
       "      <td>3.28</td>\n",
       "      <td>2.95</td>\n",
       "      <td>80.0</td>\n",
       "      <td>8</td>\n",
       "      <td>E</td>\n",
       "    </tr>\n",
       "    <tr>\n",
       "      <td>4</td>\n",
       "      <td>Pokemon Red/Pokemon Blue</td>\n",
       "      <td>GB</td>\n",
       "      <td>1996.0</td>\n",
       "      <td>Role-Playing</td>\n",
       "      <td>11.27</td>\n",
       "      <td>8.89</td>\n",
       "      <td>10.22</td>\n",
       "      <td>1.00</td>\n",
       "      <td>NaN</td>\n",
       "      <td>NaN</td>\n",
       "      <td>NaN</td>\n",
       "    </tr>\n",
       "    <tr>\n",
       "      <td>5</td>\n",
       "      <td>Tetris</td>\n",
       "      <td>GB</td>\n",
       "      <td>1989.0</td>\n",
       "      <td>Puzzle</td>\n",
       "      <td>23.20</td>\n",
       "      <td>2.26</td>\n",
       "      <td>4.22</td>\n",
       "      <td>0.58</td>\n",
       "      <td>NaN</td>\n",
       "      <td>NaN</td>\n",
       "      <td>NaN</td>\n",
       "    </tr>\n",
       "    <tr>\n",
       "      <td>6</td>\n",
       "      <td>New Super Mario Bros.</td>\n",
       "      <td>DS</td>\n",
       "      <td>2006.0</td>\n",
       "      <td>Platform</td>\n",
       "      <td>11.28</td>\n",
       "      <td>9.14</td>\n",
       "      <td>6.50</td>\n",
       "      <td>2.88</td>\n",
       "      <td>89.0</td>\n",
       "      <td>8.5</td>\n",
       "      <td>E</td>\n",
       "    </tr>\n",
       "    <tr>\n",
       "      <td>7</td>\n",
       "      <td>Wii Play</td>\n",
       "      <td>Wii</td>\n",
       "      <td>2006.0</td>\n",
       "      <td>Misc</td>\n",
       "      <td>13.96</td>\n",
       "      <td>9.18</td>\n",
       "      <td>2.93</td>\n",
       "      <td>2.84</td>\n",
       "      <td>58.0</td>\n",
       "      <td>6.6</td>\n",
       "      <td>E</td>\n",
       "    </tr>\n",
       "    <tr>\n",
       "      <td>8</td>\n",
       "      <td>New Super Mario Bros. Wii</td>\n",
       "      <td>Wii</td>\n",
       "      <td>2009.0</td>\n",
       "      <td>Platform</td>\n",
       "      <td>14.44</td>\n",
       "      <td>6.94</td>\n",
       "      <td>4.70</td>\n",
       "      <td>2.24</td>\n",
       "      <td>87.0</td>\n",
       "      <td>8.4</td>\n",
       "      <td>E</td>\n",
       "    </tr>\n",
       "    <tr>\n",
       "      <td>9</td>\n",
       "      <td>Duck Hunt</td>\n",
       "      <td>NES</td>\n",
       "      <td>1984.0</td>\n",
       "      <td>Shooter</td>\n",
       "      <td>26.93</td>\n",
       "      <td>0.63</td>\n",
       "      <td>0.28</td>\n",
       "      <td>0.47</td>\n",
       "      <td>NaN</td>\n",
       "      <td>NaN</td>\n",
       "      <td>NaN</td>\n",
       "    </tr>\n",
       "  </tbody>\n",
       "</table>\n",
       "</div>"
      ],
      "text/plain": [
       "                        Name Platform  Year_of_Release         Genre  \\\n",
       "0                 Wii Sports      Wii           2006.0        Sports   \n",
       "1          Super Mario Bros.      NES           1985.0      Platform   \n",
       "2             Mario Kart Wii      Wii           2008.0        Racing   \n",
       "3          Wii Sports Resort      Wii           2009.0        Sports   \n",
       "4   Pokemon Red/Pokemon Blue       GB           1996.0  Role-Playing   \n",
       "5                     Tetris       GB           1989.0        Puzzle   \n",
       "6      New Super Mario Bros.       DS           2006.0      Platform   \n",
       "7                   Wii Play      Wii           2006.0          Misc   \n",
       "8  New Super Mario Bros. Wii      Wii           2009.0      Platform   \n",
       "9                  Duck Hunt      NES           1984.0       Shooter   \n",
       "\n",
       "   NA_sales  EU_sales  JP_sales  Other_sales  Critic_Score User_Score Rating  \n",
       "0     41.36     28.96      3.77         8.45          76.0          8      E  \n",
       "1     29.08      3.58      6.81         0.77           NaN        NaN    NaN  \n",
       "2     15.68     12.76      3.79         3.29          82.0        8.3      E  \n",
       "3     15.61     10.93      3.28         2.95          80.0          8      E  \n",
       "4     11.27      8.89     10.22         1.00           NaN        NaN    NaN  \n",
       "5     23.20      2.26      4.22         0.58           NaN        NaN    NaN  \n",
       "6     11.28      9.14      6.50         2.88          89.0        8.5      E  \n",
       "7     13.96      9.18      2.93         2.84          58.0        6.6      E  \n",
       "8     14.44      6.94      4.70         2.24          87.0        8.4      E  \n",
       "9     26.93      0.63      0.28         0.47           NaN        NaN    NaN  "
      ]
     },
     "metadata": {},
     "output_type": "display_data"
    },
    {
     "name": "stdout",
     "output_type": "stream",
     "text": [
      "<class 'pandas.core.frame.DataFrame'>\n",
      "RangeIndex: 16715 entries, 0 to 16714\n",
      "Data columns (total 11 columns):\n",
      "Name               16713 non-null object\n",
      "Platform           16715 non-null object\n",
      "Year_of_Release    16446 non-null float64\n",
      "Genre              16713 non-null object\n",
      "NA_sales           16715 non-null float64\n",
      "EU_sales           16715 non-null float64\n",
      "JP_sales           16715 non-null float64\n",
      "Other_sales        16715 non-null float64\n",
      "Critic_Score       8137 non-null float64\n",
      "User_Score         10014 non-null object\n",
      "Rating             9949 non-null object\n",
      "dtypes: float64(6), object(5)\n",
      "memory usage: 1.4+ MB\n"
     ]
    }
   ],
   "source": [
    "display(games.head(10))\n",
    "games.info()"
   ]
  },
  {
   "cell_type": "markdown",
   "metadata": {},
   "source": [
    "#### Вывод"
   ]
  },
  {
   "cell_type": "markdown",
   "metadata": {},
   "source": [
    "При рассмотрении столбцов таблицы возникло ощущение, что эта таблица составлена по мотивам сайта metacritic.com. Скорее всего датасет либо целиком, либо полностью выгружен именно с этого сайта. Данное предположение сделано на основании того, что оценки некоторых игр, таинственное значение 'tbd' в столбцах с рейнтингом и столбец с рейтингом совпадают с оценками и рейтингами той же игры на сайте metacritic.  \n",
    "Возможно эта информация поможет с заполнением пропусков.  "
   ]
  },
  {
   "cell_type": "markdown",
   "metadata": {},
   "source": [
    "Датасет достаточно маленький, всего 16715 строк и 11 столбцов.  \n",
    "\n",
    "В 6-ти столбцах наблюдаются пропуски. Отдельно стоит отметить, что в столбцах Name и Genre ровно по 2 пропуска.  \n",
    "\n",
    "Названия столбцов начинаются с большой буквы, стоит это поправить, приведя все названия к нижнему регистру.  \n",
    "\n",
    "Значения в стобцах Year_Of_Release и Critic_Score, судя по всему, должны быть целочисленными. А в данный момент они представлены вещественными числами, так как в этих столбцах присутствуют пропуски. Необходимо с этим разобраться.  \n",
    "\n",
    "В датасете достаточно много текстовых столбцов, содержимое которых необходимо привести к нижнему регистру.  \n",
    "\n",
    "После всех операций необходимо проверить наличие дубликатов и обработать их, если таковые обнаружатся."
   ]
  },
  {
   "cell_type": "markdown",
   "metadata": {},
   "source": [
    "### Предобработка данных"
   ]
  },
  {
   "cell_type": "markdown",
   "metadata": {},
   "source": [
    "План на предобработку данных:\n",
    "1. Переименование столбцов\n",
    "2. Обработка пропусков\n",
    "3. Приведение значений всех текстовых столбцов к нижнему регистру\n",
    "4. Замена типов данных\n",
    "5. Обработка дубликатов"
   ]
  },
  {
   "cell_type": "markdown",
   "metadata": {},
   "source": [
    "#### Переименование столбцов"
   ]
  },
  {
   "cell_type": "markdown",
   "metadata": {},
   "source": [
    "Переименуем столбцы. Все названия приведем к нижнему регистру. Столбец Year_Of_Release переименуем в release_year, Critic_Score в critics_score, User_Score в users_score.  "
   ]
  },
  {
   "cell_type": "code",
   "execution_count": 4,
   "metadata": {},
   "outputs": [
    {
     "data": {
      "text/plain": [
       "['name',\n",
       " 'platform',\n",
       " 'release_year',\n",
       " 'genre',\n",
       " 'na_sales',\n",
       " 'eu_sales',\n",
       " 'jp_sales',\n",
       " 'other_sales',\n",
       " 'critics_score',\n",
       " 'users_score',\n",
       " 'rating']"
      ]
     },
     "execution_count": 4,
     "metadata": {},
     "output_type": "execute_result"
    }
   ],
   "source": [
    "games.set_axis(['name', 'platform', 'release_year', 'genre', 'na_sales', 'eu_sales', 'jp_sales', 'other_sales', 'critics_score', 'users_score', 'rating'], axis=1, inplace=True)\n",
    "list(games.columns)"
   ]
  },
  {
   "cell_type": "markdown",
   "metadata": {},
   "source": [
    "#### Обработка пропусков"
   ]
  },
  {
   "cell_type": "markdown",
   "metadata": {},
   "source": [
    "Начнем со столбцов name и genre. Посмотрим на строки с пропусками в этих столбцах."
   ]
  },
  {
   "cell_type": "code",
   "execution_count": 5,
   "metadata": {},
   "outputs": [
    {
     "data": {
      "text/html": [
       "<div>\n",
       "<style scoped>\n",
       "    .dataframe tbody tr th:only-of-type {\n",
       "        vertical-align: middle;\n",
       "    }\n",
       "\n",
       "    .dataframe tbody tr th {\n",
       "        vertical-align: top;\n",
       "    }\n",
       "\n",
       "    .dataframe thead th {\n",
       "        text-align: right;\n",
       "    }\n",
       "</style>\n",
       "<table border=\"1\" class=\"dataframe\">\n",
       "  <thead>\n",
       "    <tr style=\"text-align: right;\">\n",
       "      <th></th>\n",
       "      <th>name</th>\n",
       "      <th>platform</th>\n",
       "      <th>release_year</th>\n",
       "      <th>genre</th>\n",
       "      <th>na_sales</th>\n",
       "      <th>eu_sales</th>\n",
       "      <th>jp_sales</th>\n",
       "      <th>other_sales</th>\n",
       "      <th>critics_score</th>\n",
       "      <th>users_score</th>\n",
       "      <th>rating</th>\n",
       "    </tr>\n",
       "  </thead>\n",
       "  <tbody>\n",
       "    <tr>\n",
       "      <td>659</td>\n",
       "      <td>NaN</td>\n",
       "      <td>GEN</td>\n",
       "      <td>1993.0</td>\n",
       "      <td>NaN</td>\n",
       "      <td>1.78</td>\n",
       "      <td>0.53</td>\n",
       "      <td>0.00</td>\n",
       "      <td>0.08</td>\n",
       "      <td>NaN</td>\n",
       "      <td>NaN</td>\n",
       "      <td>NaN</td>\n",
       "    </tr>\n",
       "    <tr>\n",
       "      <td>14244</td>\n",
       "      <td>NaN</td>\n",
       "      <td>GEN</td>\n",
       "      <td>1993.0</td>\n",
       "      <td>NaN</td>\n",
       "      <td>0.00</td>\n",
       "      <td>0.00</td>\n",
       "      <td>0.03</td>\n",
       "      <td>0.00</td>\n",
       "      <td>NaN</td>\n",
       "      <td>NaN</td>\n",
       "      <td>NaN</td>\n",
       "    </tr>\n",
       "  </tbody>\n",
       "</table>\n",
       "</div>"
      ],
      "text/plain": [
       "      name platform  release_year genre  na_sales  eu_sales  jp_sales  \\\n",
       "659    NaN      GEN        1993.0   NaN      1.78      0.53      0.00   \n",
       "14244  NaN      GEN        1993.0   NaN      0.00      0.00      0.03   \n",
       "\n",
       "       other_sales  critics_score users_score rating  \n",
       "659           0.08            NaN         NaN    NaN  \n",
       "14244         0.00            NaN         NaN    NaN  "
      ]
     },
     "execution_count": 5,
     "metadata": {},
     "output_type": "execute_result"
    }
   ],
   "source": [
    "games[games['name'].isna()]"
   ]
  },
  {
   "cell_type": "code",
   "execution_count": 6,
   "metadata": {},
   "outputs": [
    {
     "data": {
      "text/html": [
       "<div>\n",
       "<style scoped>\n",
       "    .dataframe tbody tr th:only-of-type {\n",
       "        vertical-align: middle;\n",
       "    }\n",
       "\n",
       "    .dataframe tbody tr th {\n",
       "        vertical-align: top;\n",
       "    }\n",
       "\n",
       "    .dataframe thead th {\n",
       "        text-align: right;\n",
       "    }\n",
       "</style>\n",
       "<table border=\"1\" class=\"dataframe\">\n",
       "  <thead>\n",
       "    <tr style=\"text-align: right;\">\n",
       "      <th></th>\n",
       "      <th>name</th>\n",
       "      <th>platform</th>\n",
       "      <th>release_year</th>\n",
       "      <th>genre</th>\n",
       "      <th>na_sales</th>\n",
       "      <th>eu_sales</th>\n",
       "      <th>jp_sales</th>\n",
       "      <th>other_sales</th>\n",
       "      <th>critics_score</th>\n",
       "      <th>users_score</th>\n",
       "      <th>rating</th>\n",
       "    </tr>\n",
       "  </thead>\n",
       "  <tbody>\n",
       "    <tr>\n",
       "      <td>659</td>\n",
       "      <td>NaN</td>\n",
       "      <td>GEN</td>\n",
       "      <td>1993.0</td>\n",
       "      <td>NaN</td>\n",
       "      <td>1.78</td>\n",
       "      <td>0.53</td>\n",
       "      <td>0.00</td>\n",
       "      <td>0.08</td>\n",
       "      <td>NaN</td>\n",
       "      <td>NaN</td>\n",
       "      <td>NaN</td>\n",
       "    </tr>\n",
       "    <tr>\n",
       "      <td>14244</td>\n",
       "      <td>NaN</td>\n",
       "      <td>GEN</td>\n",
       "      <td>1993.0</td>\n",
       "      <td>NaN</td>\n",
       "      <td>0.00</td>\n",
       "      <td>0.00</td>\n",
       "      <td>0.03</td>\n",
       "      <td>0.00</td>\n",
       "      <td>NaN</td>\n",
       "      <td>NaN</td>\n",
       "      <td>NaN</td>\n",
       "    </tr>\n",
       "  </tbody>\n",
       "</table>\n",
       "</div>"
      ],
      "text/plain": [
       "      name platform  release_year genre  na_sales  eu_sales  jp_sales  \\\n",
       "659    NaN      GEN        1993.0   NaN      1.78      0.53      0.00   \n",
       "14244  NaN      GEN        1993.0   NaN      0.00      0.00      0.03   \n",
       "\n",
       "       other_sales  critics_score users_score rating  \n",
       "659           0.08            NaN         NaN    NaN  \n",
       "14244         0.00            NaN         NaN    NaN  "
      ]
     },
     "execution_count": 6,
     "metadata": {},
     "output_type": "execute_result"
    }
   ],
   "source": [
    "games[games['genre'].isna()]"
   ]
  },
  {
   "cell_type": "markdown",
   "metadata": {},
   "source": [
    "Как видно, пропуски в этих столбцах наблюдаются в одних и тех же записях. Таких записей всего 2, можно смело избавиться от них."
   ]
  },
  {
   "cell_type": "code",
   "execution_count": 7,
   "metadata": {},
   "outputs": [
    {
     "name": "stdout",
     "output_type": "stream",
     "text": [
      "<class 'pandas.core.frame.DataFrame'>\n",
      "Int64Index: 16713 entries, 0 to 16714\n",
      "Data columns (total 11 columns):\n",
      "name             16713 non-null object\n",
      "platform         16713 non-null object\n",
      "release_year     16444 non-null float64\n",
      "genre            16713 non-null object\n",
      "na_sales         16713 non-null float64\n",
      "eu_sales         16713 non-null float64\n",
      "jp_sales         16713 non-null float64\n",
      "other_sales      16713 non-null float64\n",
      "critics_score    8137 non-null float64\n",
      "users_score      10014 non-null object\n",
      "rating           9949 non-null object\n",
      "dtypes: float64(6), object(5)\n",
      "memory usage: 1.5+ MB\n"
     ]
    }
   ],
   "source": [
    "games.drop(games[games['name'].isna()].index, inplace=True)\n",
    "\n",
    "games.info()"
   ]
  },
  {
   "cell_type": "markdown",
   "metadata": {},
   "source": [
    "Пропуски остались в следующих столбцах:\n",
    "- release_year\n",
    "- critics_score\n",
    "- users_score\n",
    "- rating  "
   ]
  },
  {
   "cell_type": "markdown",
   "metadata": {},
   "source": [
    "Исследуем пропуски в столбце **release_year**."
   ]
  },
  {
   "cell_type": "code",
   "execution_count": 8,
   "metadata": {
    "scrolled": true
   },
   "outputs": [
    {
     "data": {
      "text/html": [
       "<div>\n",
       "<style scoped>\n",
       "    .dataframe tbody tr th:only-of-type {\n",
       "        vertical-align: middle;\n",
       "    }\n",
       "\n",
       "    .dataframe tbody tr th {\n",
       "        vertical-align: top;\n",
       "    }\n",
       "\n",
       "    .dataframe thead th {\n",
       "        text-align: right;\n",
       "    }\n",
       "</style>\n",
       "<table border=\"1\" class=\"dataframe\">\n",
       "  <thead>\n",
       "    <tr style=\"text-align: right;\">\n",
       "      <th></th>\n",
       "      <th>name</th>\n",
       "      <th>platform</th>\n",
       "      <th>release_year</th>\n",
       "      <th>genre</th>\n",
       "      <th>na_sales</th>\n",
       "      <th>eu_sales</th>\n",
       "      <th>jp_sales</th>\n",
       "      <th>other_sales</th>\n",
       "      <th>critics_score</th>\n",
       "      <th>users_score</th>\n",
       "      <th>rating</th>\n",
       "    </tr>\n",
       "  </thead>\n",
       "  <tbody>\n",
       "    <tr>\n",
       "      <td>183</td>\n",
       "      <td>Madden NFL 2004</td>\n",
       "      <td>PS2</td>\n",
       "      <td>NaN</td>\n",
       "      <td>Sports</td>\n",
       "      <td>4.26</td>\n",
       "      <td>0.26</td>\n",
       "      <td>0.01</td>\n",
       "      <td>0.71</td>\n",
       "      <td>94.0</td>\n",
       "      <td>8.5</td>\n",
       "      <td>E</td>\n",
       "    </tr>\n",
       "    <tr>\n",
       "      <td>377</td>\n",
       "      <td>FIFA Soccer 2004</td>\n",
       "      <td>PS2</td>\n",
       "      <td>NaN</td>\n",
       "      <td>Sports</td>\n",
       "      <td>0.59</td>\n",
       "      <td>2.36</td>\n",
       "      <td>0.04</td>\n",
       "      <td>0.51</td>\n",
       "      <td>84.0</td>\n",
       "      <td>6.4</td>\n",
       "      <td>E</td>\n",
       "    </tr>\n",
       "    <tr>\n",
       "      <td>456</td>\n",
       "      <td>LEGO Batman: The Videogame</td>\n",
       "      <td>Wii</td>\n",
       "      <td>NaN</td>\n",
       "      <td>Action</td>\n",
       "      <td>1.80</td>\n",
       "      <td>0.97</td>\n",
       "      <td>0.00</td>\n",
       "      <td>0.29</td>\n",
       "      <td>74.0</td>\n",
       "      <td>7.9</td>\n",
       "      <td>E10+</td>\n",
       "    </tr>\n",
       "    <tr>\n",
       "      <td>475</td>\n",
       "      <td>wwe Smackdown vs. Raw 2006</td>\n",
       "      <td>PS2</td>\n",
       "      <td>NaN</td>\n",
       "      <td>Fighting</td>\n",
       "      <td>1.57</td>\n",
       "      <td>1.02</td>\n",
       "      <td>0.00</td>\n",
       "      <td>0.41</td>\n",
       "      <td>NaN</td>\n",
       "      <td>NaN</td>\n",
       "      <td>NaN</td>\n",
       "    </tr>\n",
       "    <tr>\n",
       "      <td>609</td>\n",
       "      <td>Space Invaders</td>\n",
       "      <td>2600</td>\n",
       "      <td>NaN</td>\n",
       "      <td>Shooter</td>\n",
       "      <td>2.36</td>\n",
       "      <td>0.14</td>\n",
       "      <td>0.00</td>\n",
       "      <td>0.03</td>\n",
       "      <td>NaN</td>\n",
       "      <td>NaN</td>\n",
       "      <td>NaN</td>\n",
       "    </tr>\n",
       "    <tr>\n",
       "      <td>...</td>\n",
       "      <td>...</td>\n",
       "      <td>...</td>\n",
       "      <td>...</td>\n",
       "      <td>...</td>\n",
       "      <td>...</td>\n",
       "      <td>...</td>\n",
       "      <td>...</td>\n",
       "      <td>...</td>\n",
       "      <td>...</td>\n",
       "      <td>...</td>\n",
       "      <td>...</td>\n",
       "    </tr>\n",
       "    <tr>\n",
       "      <td>16373</td>\n",
       "      <td>PDC World Championship Darts 2008</td>\n",
       "      <td>PSP</td>\n",
       "      <td>NaN</td>\n",
       "      <td>Sports</td>\n",
       "      <td>0.01</td>\n",
       "      <td>0.00</td>\n",
       "      <td>0.00</td>\n",
       "      <td>0.00</td>\n",
       "      <td>43.0</td>\n",
       "      <td>tbd</td>\n",
       "      <td>E10+</td>\n",
       "    </tr>\n",
       "    <tr>\n",
       "      <td>16405</td>\n",
       "      <td>Freaky Flyers</td>\n",
       "      <td>GC</td>\n",
       "      <td>NaN</td>\n",
       "      <td>Racing</td>\n",
       "      <td>0.01</td>\n",
       "      <td>0.00</td>\n",
       "      <td>0.00</td>\n",
       "      <td>0.00</td>\n",
       "      <td>69.0</td>\n",
       "      <td>6.5</td>\n",
       "      <td>T</td>\n",
       "    </tr>\n",
       "    <tr>\n",
       "      <td>16448</td>\n",
       "      <td>Inversion</td>\n",
       "      <td>PC</td>\n",
       "      <td>NaN</td>\n",
       "      <td>Shooter</td>\n",
       "      <td>0.01</td>\n",
       "      <td>0.00</td>\n",
       "      <td>0.00</td>\n",
       "      <td>0.00</td>\n",
       "      <td>59.0</td>\n",
       "      <td>6.7</td>\n",
       "      <td>M</td>\n",
       "    </tr>\n",
       "    <tr>\n",
       "      <td>16458</td>\n",
       "      <td>Hakuouki: Shinsengumi Kitan</td>\n",
       "      <td>PS3</td>\n",
       "      <td>NaN</td>\n",
       "      <td>Adventure</td>\n",
       "      <td>0.01</td>\n",
       "      <td>0.00</td>\n",
       "      <td>0.00</td>\n",
       "      <td>0.00</td>\n",
       "      <td>NaN</td>\n",
       "      <td>NaN</td>\n",
       "      <td>NaN</td>\n",
       "    </tr>\n",
       "    <tr>\n",
       "      <td>16522</td>\n",
       "      <td>Virtua Quest</td>\n",
       "      <td>GC</td>\n",
       "      <td>NaN</td>\n",
       "      <td>Role-Playing</td>\n",
       "      <td>0.01</td>\n",
       "      <td>0.00</td>\n",
       "      <td>0.00</td>\n",
       "      <td>0.00</td>\n",
       "      <td>55.0</td>\n",
       "      <td>5.5</td>\n",
       "      <td>T</td>\n",
       "    </tr>\n",
       "  </tbody>\n",
       "</table>\n",
       "<p>269 rows × 11 columns</p>\n",
       "</div>"
      ],
      "text/plain": [
       "                                    name platform  release_year         genre  \\\n",
       "183                      Madden NFL 2004      PS2           NaN        Sports   \n",
       "377                     FIFA Soccer 2004      PS2           NaN        Sports   \n",
       "456           LEGO Batman: The Videogame      Wii           NaN        Action   \n",
       "475           wwe Smackdown vs. Raw 2006      PS2           NaN      Fighting   \n",
       "609                       Space Invaders     2600           NaN       Shooter   \n",
       "...                                  ...      ...           ...           ...   \n",
       "16373  PDC World Championship Darts 2008      PSP           NaN        Sports   \n",
       "16405                      Freaky Flyers       GC           NaN        Racing   \n",
       "16448                          Inversion       PC           NaN       Shooter   \n",
       "16458        Hakuouki: Shinsengumi Kitan      PS3           NaN     Adventure   \n",
       "16522                       Virtua Quest       GC           NaN  Role-Playing   \n",
       "\n",
       "       na_sales  eu_sales  jp_sales  other_sales  critics_score users_score  \\\n",
       "183        4.26      0.26      0.01         0.71           94.0         8.5   \n",
       "377        0.59      2.36      0.04         0.51           84.0         6.4   \n",
       "456        1.80      0.97      0.00         0.29           74.0         7.9   \n",
       "475        1.57      1.02      0.00         0.41            NaN         NaN   \n",
       "609        2.36      0.14      0.00         0.03            NaN         NaN   \n",
       "...         ...       ...       ...          ...            ...         ...   \n",
       "16373      0.01      0.00      0.00         0.00           43.0         tbd   \n",
       "16405      0.01      0.00      0.00         0.00           69.0         6.5   \n",
       "16448      0.01      0.00      0.00         0.00           59.0         6.7   \n",
       "16458      0.01      0.00      0.00         0.00            NaN         NaN   \n",
       "16522      0.01      0.00      0.00         0.00           55.0         5.5   \n",
       "\n",
       "      rating  \n",
       "183        E  \n",
       "377        E  \n",
       "456     E10+  \n",
       "475      NaN  \n",
       "609      NaN  \n",
       "...      ...  \n",
       "16373   E10+  \n",
       "16405      T  \n",
       "16448      M  \n",
       "16458    NaN  \n",
       "16522      T  \n",
       "\n",
       "[269 rows x 11 columns]"
      ]
     },
     "execution_count": 8,
     "metadata": {},
     "output_type": "execute_result"
    }
   ],
   "source": [
    "games[games['release_year'].isna()]"
   ]
  },
  {
   "cell_type": "code",
   "execution_count": 9,
   "metadata": {
    "scrolled": false
   },
   "outputs": [
    {
     "name": "stdout",
     "output_type": "stream",
     "text": [
      "Пропущено 1.61% значений.\n"
     ]
    }
   ],
   "source": [
    "print(f'Пропущено {games[games[\"release_year\"].isna()].shape[0] / games.shape[0]:.2%} значений.')"
   ]
  },
  {
   "cell_type": "markdown",
   "metadata": {},
   "source": [
    "С одной стороны, год релиза игры пропущен у небольшого количества игр. С другой стороны, среди этих игр есть крайне популярные игры, которые могут оказать сильное влияние на некоторые исследуемые факторы успеха игры.  \n",
    "\n",
    "Закономерностей, позволивших бы заполнить или еще каким-то образом обработать данные пропуски, не было найдено.  "
   ]
  },
  {
   "cell_type": "markdown",
   "metadata": {},
   "source": [
    "Обнаружить закономерности в пропусках в столбцах **critics_score** и **users_score** не удалось. В данных столбцах очень большое количество пропусков, поэтому что-то с ними сделать мы не можем.  \n",
    "Оставим эти пропуски без изменения, при необходимости будем брать срез без пропусков."
   ]
  },
  {
   "cell_type": "markdown",
   "metadata": {},
   "source": [
    "Для дальнейшего анализа необходимо заполнить пропуски в столбце **rating**. Как то восполнить пропуски возможности нет. Поэтому заполним пропуски строкой \"рейтинг не определен\". Это поможет хотя бы выделить пласт игр, рейтинг для которых не определен."
   ]
  },
  {
   "cell_type": "code",
   "execution_count": 10,
   "metadata": {},
   "outputs": [],
   "source": [
    "games['rating'] = games['rating'].fillna('рейтинг не определен')"
   ]
  },
  {
   "cell_type": "markdown",
   "metadata": {},
   "source": [
    "#### Обработка значений столбцов  \n",
    "\n",
    "В рамках данного раздела необходимо посмотреть на значения, встречающиеся в столбцах с текстовой информацией, поскольку там могут быть скрытые дубликаты или ошибочные данные.  \n",
    "Проверим числовые столбцы на адекватность встречающихся в них значений.  \n",
    "\n",
    "Переведем все текстовые столбцы в нижний регистр."
   ]
  },
  {
   "cell_type": "code",
   "execution_count": 11,
   "metadata": {},
   "outputs": [],
   "source": [
    "for column in ['name', 'platform', 'genre', 'rating']:\n",
    "    games[column] = games[column].str.lower()"
   ]
  },
  {
   "cell_type": "markdown",
   "metadata": {},
   "source": [
    "Ранее можно было заметить, что столбец **users_score** содержит текстовые значения, хотя должен содержать значения типа float.  \n",
    "Причина - значения 'tbd'. Данная строка является сокращением 'To Be Determined'. То есть оценки для данной игры еще не были получены в достаточном объеме.  \n",
    "\n",
    "Заменим значения 'tbd' на None и переведем значения столбца из строкового представления числа в формат вещественного числа."
   ]
  },
  {
   "cell_type": "code",
   "execution_count": 12,
   "metadata": {},
   "outputs": [],
   "source": [
    "games['users_score'].replace('tbd', float('nan'), inplace=True)\n",
    "games['users_score'] = pd.to_numeric(games['users_score'])"
   ]
  },
  {
   "cell_type": "code",
   "execution_count": 13,
   "metadata": {
    "scrolled": true
   },
   "outputs": [
    {
     "data": {
      "text/plain": [
       "dtype('float64')"
      ]
     },
     "execution_count": 13,
     "metadata": {},
     "output_type": "execute_result"
    }
   ],
   "source": [
    "games['users_score'].dtypes"
   ]
  },
  {
   "cell_type": "markdown",
   "metadata": {},
   "source": [
    "Посмотрим на значения столбца **rating**."
   ]
  },
  {
   "cell_type": "code",
   "execution_count": 14,
   "metadata": {},
   "outputs": [
    {
     "data": {
      "text/plain": [
       "рейтинг не определен    6764\n",
       "e                       3990\n",
       "t                       2961\n",
       "m                       1563\n",
       "e10+                    1420\n",
       "ec                         8\n",
       "k-a                        3\n",
       "rp                         3\n",
       "ao                         1\n",
       "Name: rating, dtype: int64"
      ]
     },
     "execution_count": 14,
     "metadata": {},
     "output_type": "execute_result"
    }
   ],
   "source": [
    "games['rating'].value_counts()"
   ]
  },
  {
   "cell_type": "markdown",
   "metadata": {},
   "source": [
    "Каждое значение - сокращение названия определенной возрастной группы:\n",
    "- e - Everyone (6+)\n",
    "- t - Teen (13+)\n",
    "- m - Mature (17+)\n",
    "- e10+ - Everyone 10 and older (10+)\n",
    "- ec - Early childhood (3+)\n",
    "- k-a - Первоначальное название группы Everyone\n",
    "- rp - Rating Pending - Ожидание рейтинга\n",
    "- ao - Adults only (18+)"
   ]
  },
  {
   "cell_type": "markdown",
   "metadata": {},
   "source": [
    "Необходимо значения 'k-a' заменить на 'e'."
   ]
  },
  {
   "cell_type": "code",
   "execution_count": 15,
   "metadata": {},
   "outputs": [],
   "source": [
    "games['rating'].replace('k-a', 'e', inplace=True)"
   ]
  },
  {
   "cell_type": "markdown",
   "metadata": {},
   "source": [
    "Добавим в таблицу столбец с суммарными продажами."
   ]
  },
  {
   "cell_type": "code",
   "execution_count": 16,
   "metadata": {},
   "outputs": [],
   "source": [
    "games['total_sales'] = games[['na_sales', 'eu_sales', 'jp_sales']].sum(axis=1)"
   ]
  },
  {
   "cell_type": "markdown",
   "metadata": {},
   "source": [
    "#### Вывод"
   ]
  },
  {
   "cell_type": "markdown",
   "metadata": {},
   "source": [
    "Была проведена предобработка данных.  \n",
    "Пропуски заполнены не были, так как нет возможности их заполнить адекватно, не повлияв на результаты дальнейшего анализа.  \n",
    "Были удалены 2 строки с пропущенными названиями игр. Эти пропуски можно списать на случайные ошибки.\n",
    "\n",
    "Учитывая характер таблицы, можно сделать предположение, что пропуски в таблице появились в результате склеивания (merge) двух таблиц. Возможно первая таблица содержала названия игр и данные о продажах, а вторая таблица содержала оценки критиков, пользователей и рейтинг.  \n",
    "Другие возможные причины: использование каких-нибудь фильтров при выгрузке оценок. Пропусков слишком много, чтобы объяснять пропуски каким-то ошибками при сборе данных.  \n",
    "\n",
    "Названия столбцов таблицы были приведены к нижнему регистру, как и текстовые значения столбцов.  \n",
    "\n",
    "Все столбцы содержат адекватные значения. \n",
    "\n",
    "Был добавлен отдельный столбец **total_sales**"
   ]
  },
  {
   "cell_type": "markdown",
   "metadata": {},
   "source": [
    "### Исследовательский анализ данных"
   ]
  },
  {
   "cell_type": "markdown",
   "metadata": {},
   "source": [
    "Построим гистограмму по годам выпуска игр."
   ]
  },
  {
   "cell_type": "code",
   "execution_count": 17,
   "metadata": {},
   "outputs": [
    {
     "data": {
      "image/png": "[encoded data removed]",
      "text/plain": [
       "<Figure size 648x360 with 1 Axes>"
      ]
     },
     "metadata": {
      "needs_background": "light"
     },
     "output_type": "display_data"
    }
   ],
   "source": [
    "games['release_year'].hist(bins=36, figsize=(9, 5))\n",
    "plt.xlabel('Год выпуска')\n",
    "plt.ylabel('Количество игр')\n",
    "plt.title('Количество выпущенных игр в год')\n",
    "plt.show()"
   ]
  },
  {
   "cell_type": "markdown",
   "metadata": {},
   "source": [
    "Больше всего игр издавалось в период с 2007 года по 2011 год. В 2016 году наблюдается рост числа выпущенных игр.  \n",
    "Пик в период с 2007 года по 2011 год можно объяснить тем, что в начале этого периода поступили в продажу крайне популярные игровые консоли PlayStation3 (PS3) и Xbox 360.  \n",
    "\n",
    "Больше всего нас интересует период начинающийся с 2013 года. Примерно в то время вышли консоли новейшего (с точки зрения датасета) консоли."
   ]
  },
  {
   "cell_type": "markdown",
   "metadata": {},
   "source": [
    "Проанализируем изменение количества продаж по платформам с течением времени."
   ]
  },
  {
   "cell_type": "code",
   "execution_count": 18,
   "metadata": {},
   "outputs": [],
   "source": [
    "top_10_popular_platforms = list(games.groupby('platform')['total_sales'].sum().sort_values(ascending=False).head(10).index)"
   ]
  },
  {
   "cell_type": "code",
   "execution_count": 19,
   "metadata": {
    "scrolled": false
   },
   "outputs": [
    {
     "data": {
      "image/png": "[encoded data removed]",
      "text/plain": [
       "<Figure size 720x504 with 1 Axes>"
      ]
     },
     "metadata": {
      "needs_background": "light"
     },
     "output_type": "display_data"
    }
   ],
   "source": [
    "games[games['platform'].isin(top_10_popular_platforms)].pivot_table(\n",
    "    index='platform', \n",
    "    columns='release_year', \n",
    "    values='total_sales', \n",
    "    aggfunc='sum'\n",
    ").fillna(0).T.plot(grid=True, figsize=(10, 7))\n",
    "plt.xlabel('Год')\n",
    "plt.ylabel('Количество продаж, млн. штук')\n",
    "plt.title('Количество продаж по платформам')\n",
    "plt.show()"
   ]
  },
  {
   "cell_type": "markdown",
   "metadata": {},
   "source": [
    "Обратим внимание на графики продаж игр для игровых приставок PlayStation (ps, ps2, ps3, ps4). По их графикам видно, что между началами продаж игр на каждую из этих консолей проходит примерно 5-7 лет.  \n",
    "Похожая картина наблдюдается для приставок серии Xbox.  \n",
    "\n",
    "**Среднее время жизни консолей** - 5-7 лет."
   ]
  },
  {
   "cell_type": "markdown",
   "metadata": {},
   "source": [
    "Важная задача - выбрать **актуальный период**. Это такой период, данные за который могут помочь построить прогноз на 2017 год. В качестве актуального периода выберем период, соответствующий периоду популярности платформ, современных на 2016 год.  \n",
    "Актуальный период: с 2012-2013 года по 2017-2020 год.  \n",
    "\n",
    "Возьмем срез, содержащий только актуальные для нашего исследования данные."
   ]
  },
  {
   "cell_type": "code",
   "execution_count": 20,
   "metadata": {},
   "outputs": [],
   "source": [
    "actual_games = games[games['release_year'] >= 2012]"
   ]
  },
  {
   "cell_type": "markdown",
   "metadata": {},
   "source": [
    "Для актуального периода построим графики количества продаж игр для каждой платформы."
   ]
  },
  {
   "cell_type": "code",
   "execution_count": 21,
   "metadata": {},
   "outputs": [
    {
     "data": {
      "image/png": "[encoded data removed]",
      "text/plain": [
       "<Figure size 720x504 with 1 Axes>"
      ]
     },
     "metadata": {
      "needs_background": "light"
     },
     "output_type": "display_data"
    }
   ],
   "source": [
    "actual_games.pivot_table(\n",
    "    index='platform', \n",
    "    columns='release_year', \n",
    "    values='total_sales', \n",
    "    aggfunc='sum'\n",
    ").fillna(0).T.plot(grid=True, figsize=(10, 7))\n",
    "plt.xlabel('Год')\n",
    "plt.ylabel('Количество продаж, млн. штук')\n",
    "plt.title('Количество продаж по платформам')\n",
    "plt.show()"
   ]
  },
  {
   "cell_type": "markdown",
   "metadata": {},
   "source": [
    "Можно выделить группу платформ, популярность которых стремится к нулю. На них точно не стоит делать ставку.  \n",
    "Стоит выделить 3 платформы, которые популярнее остальных. Это PlayStation4 (ps4), Xbox One (xone), 3DS (3ds). При чем PlayStation4 гораздо популярнее всех остальных.  \n",
    "\n",
    "Платформа 3DS отличается от остальных, так как она является портативной. Данный тип платформ не поддерживает многие игры.\n",
    "\n",
    "Нельзя забывать и про платформу pc (Персональные компьютеры). Эта платформа менее популярна, чем консоли, но она популярная всегда, в отличии от разных поколений консолей.  \n",
    "\n",
    "Заметно, что количество продаж снижается для каждой платформы. Это связано с тем, что 2016 год уже близок к концу эпохи консолей данного поколения. И многие издатели уже ориентируются на консоли следующего поколения.  \n",
    "\n",
    "4 платформы, на которые стоит ориентироваться: PlayStation4, Xbox One, 3DS, PC. "
   ]
  },
  {
   "cell_type": "markdown",
   "metadata": {},
   "source": [
    "Построим boxplot'ы продаж по каждой из платформ."
   ]
  },
  {
   "cell_type": "code",
   "execution_count": 22,
   "metadata": {},
   "outputs": [
    {
     "data": {
      "image/png": "[encoded data removed]",
      "text/plain": [
       "<Figure size 1080x360 with 1 Axes>"
      ]
     },
     "metadata": {
      "needs_background": "light"
     },
     "output_type": "display_data"
    }
   ],
   "source": [
    "import warnings\n",
    "warnings.filterwarnings('ignore')\n",
    "\n",
    "top_10_popular_platforms = list(games.groupby('platform')['total_sales'].sum().sort_values(ascending=False).head(10).index)\n",
    "\n",
    "games[games['platform'].isin(top_10_popular_platforms)].boxplot('total_sales', by='platform', figsize=(15, 5))\n",
    "plt.ylim(0, 6)\n",
    "plt.xlabel('Платформа')\n",
    "plt.ylabel('Количество продаж, млн. штук')\n",
    "plt.title('Глобальные продажи игр в разбивке по платформам')\n",
    "plt.show()"
   ]
  },
  {
   "cell_type": "markdown",
   "metadata": {},
   "source": [
    "На графике представлены 10 самых популярных платформ.  \n",
    "В отдельную группу можно вынести платформы ps, ps2, ps3, ps4, wii и x360. Игры для этих платформ покупаются достаточно хорошо. У этих платформ большое количество выбросов, что говорит нам о наличии большого количества крайне популярных игр.  \n",
    "Отдельного упоминания заслуживают мобильные игровые платформы (ds, gba и psp). Тот факт, что данные платформы попали в топ-10 популярных платформ, говорит нам о том, что мобильный гейминг - живой сегмент. Хотя многие думают иначе."
   ]
  },
  {
   "cell_type": "markdown",
   "metadata": {},
   "source": [
    "Оценим влияние оценок критиков и пользователей на продажи. Посмотрим корреляцию на примере платформы PlayStation4 (ps4). Построим диаграмму рассеяния и таблицу корреляции.  "
   ]
  },
  {
   "cell_type": "markdown",
   "metadata": {},
   "source": [
    "Возьмем срез, отбросив неопределенные значения. Разница в количестве пропусков в столбцах с оценками небольшая, поэтому можно можно отбросить строки, в которых пропущена хотя бы одна из оценок."
   ]
  },
  {
   "cell_type": "code",
   "execution_count": 23,
   "metadata": {},
   "outputs": [],
   "source": [
    "actual_games_not_nan = actual_games[actual_games['critics_score'].notna() & actual_games['users_score'].notna()]"
   ]
  },
  {
   "cell_type": "code",
   "execution_count": 24,
   "metadata": {
    "scrolled": true
   },
   "outputs": [
    {
     "data": {
      "image/png": "[encoded data removed]",
      "text/plain": [
       "<Figure size 648x360 with 1 Axes>"
      ]
     },
     "metadata": {
      "needs_background": "light"
     },
     "output_type": "display_data"
    }
   ],
   "source": [
    "actual_games_not_nan[actual_games['platform'] == 'ps4'].plot(kind='scatter', x='critics_score', y='total_sales', alpha=0.3, figsize=(9, 5))\n",
    "plt.xlabel('Оценка критиков')\n",
    "plt.ylabel('Количество продаж, млн. штук')\n",
    "plt.title('Диаграмма рассеяния оценки критиков-количество продаж')\n",
    "plt.show()"
   ]
  },
  {
   "cell_type": "code",
   "execution_count": 25,
   "metadata": {},
   "outputs": [
    {
     "data": {
      "image/png": "[encoded data removed]",
      "text/plain": [
       "<Figure size 648x360 with 1 Axes>"
      ]
     },
     "metadata": {
      "needs_background": "light"
     },
     "output_type": "display_data"
    }
   ],
   "source": [
    "actual_games_not_nan[actual_games['platform'] == 'ps4'].plot(kind='scatter', x='users_score', y='total_sales', alpha=0.3, figsize=(9, 5))\n",
    "plt.xlabel('Оценка пользователей')\n",
    "plt.ylabel('Количество продаж, млн. штук')\n",
    "plt.title('Диаграмма рассеяния оценки пользователей-количество продаж')\n",
    "plt.show()"
   ]
  },
  {
   "cell_type": "code",
   "execution_count": 26,
   "metadata": {},
   "outputs": [
    {
     "name": "stdout",
     "output_type": "stream",
     "text": [
      "Таблица корреляции параметра total_sales с параметрами users_score и critics_score для платформы ps4\n"
     ]
    },
    {
     "data": {
      "text/html": [
       "<div>\n",
       "<style scoped>\n",
       "    .dataframe tbody tr th:only-of-type {\n",
       "        vertical-align: middle;\n",
       "    }\n",
       "\n",
       "    .dataframe tbody tr th {\n",
       "        vertical-align: top;\n",
       "    }\n",
       "\n",
       "    .dataframe thead th {\n",
       "        text-align: right;\n",
       "    }\n",
       "</style>\n",
       "<table border=\"1\" class=\"dataframe\">\n",
       "  <thead>\n",
       "    <tr style=\"text-align: right;\">\n",
       "      <th></th>\n",
       "      <th>param</th>\n",
       "      <th>total_sales</th>\n",
       "    </tr>\n",
       "  </thead>\n",
       "  <tbody>\n",
       "    <tr>\n",
       "      <td>0</td>\n",
       "      <td>critics_score</td>\n",
       "      <td>0.405223</td>\n",
       "    </tr>\n",
       "    <tr>\n",
       "      <td>1</td>\n",
       "      <td>users_score</td>\n",
       "      <td>-0.032923</td>\n",
       "    </tr>\n",
       "  </tbody>\n",
       "</table>\n",
       "</div>"
      ],
      "text/plain": [
       "           param  total_sales\n",
       "0  critics_score     0.405223\n",
       "1    users_score    -0.032923"
      ]
     },
     "execution_count": 26,
     "metadata": {},
     "output_type": "execute_result"
    }
   ],
   "source": [
    "print('Таблица корреляции параметра total_sales с параметрами users_score и critics_score для платформы ps4')\n",
    "corr_table = pd.DataFrame(\n",
    "    actual_games_not_nan[actual_games_not_nan['platform'] == 'ps4'].loc[:, ['critics_score', 'users_score', 'total_sales']]\n",
    "    .corr()['total_sales']\n",
    ").reset_index().loc[0:1]\n",
    "corr_table.set_axis(['param', 'total_sales'], axis='columns', inplace=True)\n",
    "corr_table"
   ]
  },
  {
   "cell_type": "markdown",
   "metadata": {},
   "source": [
    "2 факта:\n",
    "- Влияние оценок критиков на продажи игры на платформе PS3 гораздо сильнее, чем влияние оценок пользователей\n",
    "- Влияние оценок критиков всё равно не очень большое  \n",
    "\n",
    "Первый факт можно объяснить тем, что пользователь, который думает купить ли ему какую-то игру или нет, скорее будет доверять мнению критика, чем другого пользователя.  \n",
    "Второй факт объясняется тем, что мнение критиков всё равно субъективно. Часто бывает, что на мнение критиков сильно влияют компании, выпускающие игры.  \n",
    "\n",
    "Если говорить об оценках критиков, то можно сделать главный вывод: игра с плохими оценками точно не будет популярна."
   ]
  },
  {
   "cell_type": "markdown",
   "metadata": {},
   "source": [
    "Посмотрим на коэффициенты корреляции между исследуемыми параметрами для всех платформ."
   ]
  },
  {
   "cell_type": "code",
   "execution_count": 27,
   "metadata": {},
   "outputs": [
    {
     "name": "stdout",
     "output_type": "stream",
     "text": [
      "Таблица корреляции параметра total_sales с параметрами users_score и critics_score для всех платформ\n"
     ]
    },
    {
     "data": {
      "text/html": [
       "<div>\n",
       "<style scoped>\n",
       "    .dataframe tbody tr th:only-of-type {\n",
       "        vertical-align: middle;\n",
       "    }\n",
       "\n",
       "    .dataframe tbody tr th {\n",
       "        vertical-align: top;\n",
       "    }\n",
       "\n",
       "    .dataframe thead th {\n",
       "        text-align: right;\n",
       "    }\n",
       "</style>\n",
       "<table border=\"1\" class=\"dataframe\">\n",
       "  <thead>\n",
       "    <tr style=\"text-align: right;\">\n",
       "      <th></th>\n",
       "      <th>param</th>\n",
       "      <th>total_sales</th>\n",
       "    </tr>\n",
       "  </thead>\n",
       "  <tbody>\n",
       "    <tr>\n",
       "      <td>0</td>\n",
       "      <td>critics_score</td>\n",
       "      <td>0.307748</td>\n",
       "    </tr>\n",
       "    <tr>\n",
       "      <td>1</td>\n",
       "      <td>users_score</td>\n",
       "      <td>0.002682</td>\n",
       "    </tr>\n",
       "  </tbody>\n",
       "</table>\n",
       "</div>"
      ],
      "text/plain": [
       "           param  total_sales\n",
       "0  critics_score     0.307748\n",
       "1    users_score     0.002682"
      ]
     },
     "execution_count": 27,
     "metadata": {},
     "output_type": "execute_result"
    }
   ],
   "source": [
    "print('Таблица корреляции параметра total_sales с параметрами users_score и critics_score для всех платформ')\n",
    "corr_table = pd.DataFrame(\n",
    "    actual_games_not_nan.loc[:, ['critics_score', 'users_score', 'total_sales']]\n",
    "    .corr()['total_sales']\n",
    ").reset_index().loc[0:1]\n",
    "corr_table.set_axis(['param', 'total_sales'], axis='columns', inplace=True)\n",
    "corr_table"
   ]
  },
  {
   "cell_type": "markdown",
   "metadata": {},
   "source": [
    "Влияние оценок в общем ниже, чем для платформы ps4, однако разница в уровне влияния между пользовательскими оценками и оценками критиков сохраняется."
   ]
  },
  {
   "cell_type": "markdown",
   "metadata": {},
   "source": [
    "Посмотрим на **распределение игр по жанрам**. Составим таблицу, построим круговую диаграмму суммарного количества проданных игр каждого жанра и построим столбчатую диаграмму медианного количества проданных игр каждого жанра."
   ]
  },
  {
   "cell_type": "code",
   "execution_count": 28,
   "metadata": {
    "scrolled": false
   },
   "outputs": [
    {
     "data": {
      "text/html": [
       "<div>\n",
       "<style scoped>\n",
       "    .dataframe tbody tr th:only-of-type {\n",
       "        vertical-align: middle;\n",
       "    }\n",
       "\n",
       "    .dataframe tbody tr th {\n",
       "        vertical-align: top;\n",
       "    }\n",
       "\n",
       "    .dataframe thead th {\n",
       "        text-align: right;\n",
       "    }\n",
       "</style>\n",
       "<table border=\"1\" class=\"dataframe\">\n",
       "  <thead>\n",
       "    <tr style=\"text-align: right;\">\n",
       "      <th></th>\n",
       "      <th>genre</th>\n",
       "      <th>total_sales_sum</th>\n",
       "      <th>total_sales_median</th>\n",
       "    </tr>\n",
       "  </thead>\n",
       "  <tbody>\n",
       "    <tr>\n",
       "      <td>0</td>\n",
       "      <td>action</td>\n",
       "      <td>389.98</td>\n",
       "      <td>0.110</td>\n",
       "    </tr>\n",
       "    <tr>\n",
       "      <td>1</td>\n",
       "      <td>adventure</td>\n",
       "      <td>26.62</td>\n",
       "      <td>0.030</td>\n",
       "    </tr>\n",
       "    <tr>\n",
       "      <td>2</td>\n",
       "      <td>fighting</td>\n",
       "      <td>40.02</td>\n",
       "      <td>0.130</td>\n",
       "    </tr>\n",
       "    <tr>\n",
       "      <td>3</td>\n",
       "      <td>misc</td>\n",
       "      <td>77.37</td>\n",
       "      <td>0.120</td>\n",
       "    </tr>\n",
       "    <tr>\n",
       "      <td>4</td>\n",
       "      <td>platform</td>\n",
       "      <td>55.42</td>\n",
       "      <td>0.190</td>\n",
       "    </tr>\n",
       "    <tr>\n",
       "      <td>5</td>\n",
       "      <td>puzzle</td>\n",
       "      <td>4.67</td>\n",
       "      <td>0.040</td>\n",
       "    </tr>\n",
       "    <tr>\n",
       "      <td>6</td>\n",
       "      <td>racing</td>\n",
       "      <td>47.01</td>\n",
       "      <td>0.120</td>\n",
       "    </tr>\n",
       "    <tr>\n",
       "      <td>7</td>\n",
       "      <td>role-playing</td>\n",
       "      <td>177.97</td>\n",
       "      <td>0.135</td>\n",
       "    </tr>\n",
       "    <tr>\n",
       "      <td>8</td>\n",
       "      <td>shooter</td>\n",
       "      <td>267.47</td>\n",
       "      <td>0.380</td>\n",
       "    </tr>\n",
       "    <tr>\n",
       "      <td>9</td>\n",
       "      <td>simulation</td>\n",
       "      <td>32.93</td>\n",
       "      <td>0.110</td>\n",
       "    </tr>\n",
       "    <tr>\n",
       "      <td>10</td>\n",
       "      <td>sports</td>\n",
       "      <td>158.63</td>\n",
       "      <td>0.215</td>\n",
       "    </tr>\n",
       "    <tr>\n",
       "      <td>11</td>\n",
       "      <td>strategy</td>\n",
       "      <td>12.28</td>\n",
       "      <td>0.070</td>\n",
       "    </tr>\n",
       "  </tbody>\n",
       "</table>\n",
       "</div>"
      ],
      "text/plain": [
       "           genre  total_sales_sum  total_sales_median\n",
       "0         action           389.98               0.110\n",
       "1      adventure            26.62               0.030\n",
       "2       fighting            40.02               0.130\n",
       "3           misc            77.37               0.120\n",
       "4       platform            55.42               0.190\n",
       "5         puzzle             4.67               0.040\n",
       "6         racing            47.01               0.120\n",
       "7   role-playing           177.97               0.135\n",
       "8        shooter           267.47               0.380\n",
       "9     simulation            32.93               0.110\n",
       "10        sports           158.63               0.215\n",
       "11      strategy            12.28               0.070"
      ]
     },
     "execution_count": 28,
     "metadata": {},
     "output_type": "execute_result"
    }
   ],
   "source": [
    "actual_games_genres = actual_games.pivot_table(index=['genre'], values='total_sales', aggfunc=['sum', 'median']).reset_index()\n",
    "actual_games_genres.set_axis(['genre','total_sales_sum', 'total_sales_median'], axis = 'columns')\n",
    "actual_games_genres"
   ]
  },
  {
   "cell_type": "code",
   "execution_count": 30,
   "metadata": {},
   "outputs": [
    {
     "data": {
      "image/png": "[encoded data removed]",
      "text/plain": [
       "<Figure size 1440x576 with 2 Axes>"
      ]
     },
     "metadata": {
      "needs_background": "light"
     },
     "output_type": "display_data"
    }
   ],
   "source": [
    "fig, axes = plt.subplots(1, 2, figsize=(20, 8))\n",
    "\n",
    "for ax, aggfunc in zip(axes, ['sum', 'median']):\n",
    "    column = 'total_sales_' + aggfunc\n",
    "    actual_games_genres = actual_games_genres.sort_values(by=column, ascending=False).reset_index(drop=True)\n",
    "    \n",
    "    plot_labels = list(actual_games_genres.loc[:3, 'genre'])\n",
    "    plot_labels.append('other')\n",
    "    \n",
    "    plot_data = list(actual_games_genres.loc[:3, column])\n",
    "    \n",
    "    if aggfunc == 'sum':\n",
    "        plot_data.append(actual_games_genres.loc[4:, column].sum())\n",
    "        ax.pie(x=plot_data, labels=plot_labels, autopct='%1.1f%%')\n",
    "        ax.set_title('Круговая диаграмма количества проданных игр по жанрам')\n",
    "    else:\n",
    "        plot_data.append(actual_games_genres.loc[4:, column].median())\n",
    "        ax.bar(plot_labels, plot_data, color=['tab:orange', 'tab:red', 'tab:olive', 'tab:green', 'tab:purple'])\n",
    "        ax.set_title('Столбчатая диаграмма медианного количества проданных игр по жанрам')\n",
    "        ax.set_xlabel('Название платформы')\n",
    "        ax.set_ylabel('Медианное количество проданных игр, млн. штук')\n",
    "        ax.grid()\n",
    "\n",
    "fig.show()"
   ]
  },
  {
   "cell_type": "markdown",
   "metadata": {},
   "source": [
    "По суммарному количеству проданных игр лидируют жанры Action, Shooter, Role-playing и Sports. Это говорит нам о популярности жанров.  \n",
    "\n",
    "Однако на столбчатой диаграмме видно, что хоть жанр Shooter и уступает в популярности, игры данного жанра в среднем продаются гораздо лучше игр жанра Action (игры данного жанра даже не попали в топ-4).  \n",
    "\n",
    "В контексте нашей задачи (планирование кампании на 2017 год) стоит руководствоваться именно медианными продажами. Игра жанра Shooter или Sports при прочих равных принесет большее количество продаж."
   ]
  },
  {
   "cell_type": "markdown",
   "metadata": {},
   "source": [
    "#### Вывод\n",
    "\n",
    "1. Больше всего игр издавалось в период с 2007 года по 2011 год\n",
    "2. Период устаревания консолей - 5-7 лет\n",
    "3. Самые перспективные платформы: PlayStation4 (ps4), Xbox One (xone), 3DS (3ds) и PC (pc)\n",
    "4. Влияние оценок критиков на продажи не очень велико. Оценки пользователей практически не влияют на продажи\n",
    "5. 4 самых популярных жанра: action, shooter, role-playing и sports.  \n",
    "6. 4 жанра, игры в которых в среднем продаются лучше: shooter, sports, platform и role-playing.\n",
    "\n",
    "Для упрощения восприятия была построена соответствующая визуализация."
   ]
  },
  {
   "cell_type": "markdown",
   "metadata": {},
   "source": [
    "### Портрет пользователя для каждого региона\n",
    "\n",
    "Рассматриваются 3 региона:\n",
    "- North America (Северная Америка)\n",
    "- Europe (Европа)\n",
    "- Japan (Япония)\n",
    "\n",
    "Необходимость выделения регионов возникает из-за разных игровых предпочтений пользователей из разных регионов.  \n",
    "\n",
    "Для пользователей каждого региона определим:\n",
    "- Топ-5 популярных платформ\n",
    "- Топ-5 популярных жанров\n",
    "- Влияние рейтинга на продажи  \n",
    "\n",
    "Составим функции для автоматизации."
   ]
  },
  {
   "cell_type": "code",
   "execution_count": 31,
   "metadata": {},
   "outputs": [],
   "source": [
    "def top_n_popular(column, region, n):\n",
    "    return list(actual_games.groupby(column)[region+'_sales'].sum().sort_values(ascending=False).head(n).index)"
   ]
  },
  {
   "cell_type": "code",
   "execution_count": 32,
   "metadata": {},
   "outputs": [
    {
     "name": "stdout",
     "output_type": "stream",
     "text": [
      "Топ-5 популярных платформ в регионе na ['x360', 'ps4', 'ps3', 'xone', '3ds']\n",
      "Топ-5 популярных платформ в регионе eu ['ps4', 'ps3', 'x360', 'xone', '3ds']\n",
      "Топ-5 популярных платформ в регионе jp ['3ds', 'ps3', 'psv', 'ps4', 'wiiu']\n",
      "Топ-5 популярных жанров в регионе na ['action', 'shooter', 'sports', 'role-playing', 'misc']\n",
      "Топ-5 популярных жанров в регионе eu ['action', 'shooter', 'sports', 'role-playing', 'racing']\n",
      "Топ-5 популярных жанров в регионе jp ['role-playing', 'action', 'misc', 'simulation', 'fighting']\n"
     ]
    }
   ],
   "source": [
    "for column in ['platform', 'genre']:\n",
    "    for region in ['na', 'eu', 'jp']:\n",
    "        print(f'Топ-5 популярных {\"платформ\" if column == \"platform\" else \"жанров\"} в регионе {region} {top_n_popular(column, region, 5)}')"
   ]
  },
  {
   "cell_type": "markdown",
   "metadata": {},
   "source": [
    "Видно, что между пользователями из Северной Америки и Европы минимальные различия. А вот предпочтения пользователей из Японии отличаются достаточно сильно. Видимо, самобытность Японской культуры находит отражение и в игровой индустрии.  \n",
    "\n",
    "Оценим влияние возрастного рейтинга на продажи игр.  \n",
    "Построим диаграмму, отображающую количество проданных игр того или иного рейтинга для каждого региона."
   ]
  },
  {
   "cell_type": "code",
   "execution_count": 33,
   "metadata": {
    "scrolled": true
   },
   "outputs": [
    {
     "data": {
      "image/png": "[encoded data removed]",
      "text/plain": [
       "<Figure size 864x360 with 1 Axes>"
      ]
     },
     "metadata": {
      "needs_background": "light"
     },
     "output_type": "display_data"
    }
   ],
   "source": [
    "actual_games.groupby('rating')[['na_sales', 'eu_sales', 'jp_sales']].sum().T.plot(kind='bar', figsize=(12, 5), grid=True)\n",
    "plt.xticks(rotation=0)\n",
    "plt.xlabel('Регион (Северная Америка, Европа, Япония)')\n",
    "plt.ylabel('Количество продаж, млн. штук')\n",
    "plt.title('Количество продаж каждого рейтинга в каждом из 3-ёх регионов')\n",
    "plt.show()"
   ]
  },
  {
   "cell_type": "markdown",
   "metadata": {},
   "source": [
    "Cокращения названий возрастных групп:\n",
    "- e - Everyone (6+)\n",
    "- e10+ - Everyone 10 and older (10+)\n",
    "- t - Teen (13+)\n",
    "- m - Mature (17+)"
   ]
  },
  {
   "cell_type": "markdown",
   "metadata": {},
   "source": [
    "В Европе и Америке больше всего продаются игры самой строгой возрастной группой из представленных (m - Mature 17+). А в Японии в основном покупаются игры с неопределенным рейтингом. Среди определенных рейтингов преобладают игры с низким возрастным рейтингом.  \n",
    "\n",
    "Построим таблицу коэффициентов корреляции. Сокращения названий возрастных групп заменим на числа, соответствующие возрасту группы. Это необходимо для нахождения коэффициентов корреляции."
   ]
  },
  {
   "cell_type": "code",
   "execution_count": 34,
   "metadata": {
    "scrolled": true
   },
   "outputs": [
    {
     "data": {
      "text/html": [
       "<div>\n",
       "<style scoped>\n",
       "    .dataframe tbody tr th:only-of-type {\n",
       "        vertical-align: middle;\n",
       "    }\n",
       "\n",
       "    .dataframe tbody tr th {\n",
       "        vertical-align: top;\n",
       "    }\n",
       "\n",
       "    .dataframe thead th {\n",
       "        text-align: right;\n",
       "    }\n",
       "</style>\n",
       "<table border=\"1\" class=\"dataframe\">\n",
       "  <thead>\n",
       "    <tr style=\"text-align: right;\">\n",
       "      <th></th>\n",
       "      <th>index</th>\n",
       "      <th>eu_sales</th>\n",
       "      <th>na_sales</th>\n",
       "      <th>jp_sales</th>\n",
       "    </tr>\n",
       "  </thead>\n",
       "  <tbody>\n",
       "    <tr>\n",
       "      <td>3</td>\n",
       "      <td>rating_corr</td>\n",
       "      <td>0.062848</td>\n",
       "      <td>0.093393</td>\n",
       "      <td>-0.03939</td>\n",
       "    </tr>\n",
       "  </tbody>\n",
       "</table>\n",
       "</div>"
      ],
      "text/plain": [
       "         index  eu_sales  na_sales  jp_sales\n",
       "3  rating_corr  0.062848  0.093393  -0.03939"
      ]
     },
     "execution_count": 34,
     "metadata": {},
     "output_type": "execute_result"
    }
   ],
   "source": [
    "actual_games_rating_corr = actual_games[actual_games['rating'] != 'рейтинг не определен']\n",
    "\n",
    "actual_games_rating_corr['rating_corr'] = actual_games_rating_corr['rating']\n",
    "\n",
    "actual_games_rating_corr['rating_corr'].replace({'e': 6, 'e10+': 10, 't': 13, 'm': 17}, inplace=True)\n",
    "\n",
    "actual_games_rating_corr[['eu_sales', 'na_sales', 'jp_sales', 'rating_corr']].corr().reset_index().loc[3:3, 'index':'jp_sales']"
   ]
  },
  {
   "cell_type": "markdown",
   "metadata": {},
   "source": [
    "Возрастной рейтинг практически не влияет на количество продаж."
   ]
  },
  {
   "cell_type": "markdown",
   "metadata": {},
   "source": [
    "#### Вывод\n",
    "\n",
    "Портреты пользователей из Северной Америки и Европы практически не различаются. Портрет пользователей из Японии отличается достаточно сильно.  \n",
    "Предпочтения платформ в порядке уменьшения популярности:\n",
    "- Список популярных платформ в Европе: ps4, ps3, x360, xone, 3ds\n",
    "- Список популярных платформ в Северной Америке: x360, ps4, ps3, xone, 3ds\n",
    "- Список популярных платформ в Японии: 3ds, ps3, psv, ps4, wiiu.\n",
    "\n",
    "Предпочтения жанров в порядке уменьшения популярности:\n",
    "- Список популярных жанров в Европе: action, shooter, sports, role-playing, racing\n",
    "- Список популярных жанров в Северной Америке: action, shooter, sports, role-playing, misc\n",
    "- Список популярных жанров в Японии: role-playing, action, misc, simulation, fighting  \n",
    "\n",
    "Возрастная категория практически не влияет на продажи игр."
   ]
  },
  {
   "cell_type": "markdown",
   "metadata": {},
   "source": [
    "#### Проверка гипотез\n",
    "\n",
    "Необходимо проверить следующие гипотезы:\n",
    "- Средние пользовательские рейтинги платформ Xbox One и PC одинаковые\n",
    "- Средние пользовательские рейтинги жанров Action и Sports разные\n",
    "\n",
    "В обоих случаях будем используется метод scipy.stats.ttest_ind(), так как он используется для проверки равенства средных двух выборок одной генеральной совокупности.  \n",
    "Также в обоих случаях будем проверять двухсторонние гипотезы, так как нам важно проверить только равенство/неравенство.\n",
    "\n",
    "Зададим критический уровень статистической значимости равный 0.05, так как в данном случае нет оснований для изменения этого параметра, так как наши исследования не обладают какой-то критической важностью.  \n",
    "\n",
    "Для удоства создадим функцию проверки гипотез.\n",
    "\n",
    "Начнем с первой гипотезы. Сформируем основную и альтернативную гипотезы.  \n",
    "\n",
    "**H0** - Средние пользовательские рейтинги платформ Xbox One и PC одинаковые.  \n",
    "**Н1** - Средние пользовательские рейтинги платформ Xbox One и PC различаются.  "
   ]
  },
  {
   "cell_type": "markdown",
   "metadata": {},
   "source": [
    "Создадим функцию."
   ]
  },
  {
   "cell_type": "code",
   "execution_count": 35,
   "metadata": {},
   "outputs": [],
   "source": [
    "def check_hyp(sample_1, sample_2, equal_var=False, alpha=0.05):\n",
    "    print(f'Среднее значение первой выборки: {sample_1.mean():.2f}')\n",
    "    print(f'Среднее значение второй выборки: {sample_2.mean():.2f}')\n",
    "    \n",
    "    results = st.ttest_ind(sample_1, sample_2, equal_var=equal_var)\n",
    "\n",
    "    print('p-значение:', results.pvalue)\n",
    "\n",
    "    if (results.pvalue < alpha):\n",
    "        print(\"Отвергаем нулевую гипотезу\")\n",
    "    else:\n",
    "        print(\"Не получилось отвергнуть нулевую гипотезу\")"
   ]
  },
  {
   "cell_type": "markdown",
   "metadata": {},
   "source": [
    "Сформируем выборки."
   ]
  },
  {
   "cell_type": "code",
   "execution_count": 36,
   "metadata": {},
   "outputs": [],
   "source": [
    "xbox_scores = actual_games.loc[(actual_games['platform'] == 'xone'), 'users_score'].dropna()\n",
    "pc_scores = actual_games.loc[(actual_games['platform'] == 'pc'), 'users_score'].dropna()"
   ]
  },
  {
   "cell_type": "markdown",
   "metadata": {},
   "source": [
    "Проведем проверку. Выборки достаточно велики, поэтому оставим параметр equal_var равным False."
   ]
  },
  {
   "cell_type": "code",
   "execution_count": 37,
   "metadata": {},
   "outputs": [
    {
     "name": "stdout",
     "output_type": "stream",
     "text": [
      "Среднее значение первой выборки: 6.52\n",
      "Среднее значение второй выборки: 6.43\n",
      "p-значение: 0.5489537965134912\n",
      "Не получилось отвергнуть нулевую гипотезу\n"
     ]
    }
   ],
   "source": [
    "check_hyp(xbox_scores, pc_scores)"
   ]
  },
  {
   "cell_type": "markdown",
   "metadata": {},
   "source": [
    "Возможности отвергуть нулевую гипотезу нет. Видимо, пользовательские оценки игр на платформах Xbox One и PC одинаковы. А разницу между ними считаем случайной."
   ]
  },
  {
   "cell_type": "markdown",
   "metadata": {},
   "source": [
    "Проверим вторую гипотезу. Сформируем основную и альтернативную гипотезы.  \n",
    "\n",
    "**H0** - Средние пользовательские рейтинги жанров Action и Sports одинаковы.  \n",
    "**Н1** - Средние пользовательские рейтинги жанров Action и Sports различаются.  \n",
    "\n",
    "Сформируем выборки."
   ]
  },
  {
   "cell_type": "code",
   "execution_count": 38,
   "metadata": {},
   "outputs": [],
   "source": [
    "action_scores = actual_games.loc[(actual_games['genre'] == 'action'), 'users_score'].dropna()\n",
    "sports_scores = actual_games.loc[(actual_games['genre'] == 'sports'), 'users_score'].dropna()"
   ]
  },
  {
   "cell_type": "markdown",
   "metadata": {},
   "source": [
    "Проведем проверку. Выборки достаточно велики, поэтому оставим параметр equal_var равным False."
   ]
  },
  {
   "cell_type": "code",
   "execution_count": 39,
   "metadata": {},
   "outputs": [
    {
     "name": "stdout",
     "output_type": "stream",
     "text": [
      "Среднее значение первой выборки: 6.83\n",
      "Среднее значение второй выборки: 5.46\n",
      "p-значение: 4.24307776572644e-20\n",
      "Отвергаем нулевую гипотезу\n"
     ]
    }
   ],
   "source": [
    "check_hyp(action_scores, sports_scores)"
   ]
  },
  {
   "cell_type": "markdown",
   "metadata": {},
   "source": [
    "Нулевую гипотезу отвергаем. Следовательно, гипотеза о том, что средние пользовательские оценки жанров action и sports различаются, подтвеждается."
   ]
  },
  {
   "cell_type": "markdown",
   "metadata": {},
   "source": [
    "#### Вывод\n",
    "\n",
    "Проверялись 2 гипотезы:\n",
    "- Средние пользовательские рейтинги платформ Xbox One и PC одинаковые\n",
    "- Средние пользовательские рейтинги жанров Action и Sports разные\n",
    "\n",
    "Обе гипотезы были приняты.  \n",
    "\n",
    "Для проверки использовался метод scipy.stats.ttest_ind(), обе гипотезы были двухсторонними. Параметр equal_var установили в False, так как на больших выборках результаты работы метода scipy.stats.ttest_ind() практически не зависят от значения параметра equal_var.  \n",
    "Критический уровень статистической значимости установили в 0.05."
   ]
  },
  {
   "cell_type": "markdown",
   "metadata": {},
   "source": [
    "### Общий вывод\n",
    "\n",
    "Была проведена подготовка данных:\n",
    "- Удалены строки-мусор\n",
    "- Значения 'tbd' столбца users_score были заменены на NaN\n",
    "- Пропуски в возрастном рейтинге заменены на 'рейтинг не определен'\n",
    "- Все текстовые значения всех столбцов переведены в нижний регистр\n",
    "- Отредактированы названя столбцов  \n",
    "- Был добавлен столбец total_sales, содержащий суммарные продажи игры\n",
    "\n",
    "Исследовательский анализ показал:\n",
    "- Больше всего игр издавалось в период с 2007 года по 2011 год\n",
    "- Период устаревания консолей - 5-7 лет\n",
    "- Самые перспективные платформы: PlayStation4 (ps4), Xbox One (xone), 3DS (3ds) и PC (pc)\n",
    "- Влияние оценок критиков на продажи не очень велико. Оценки пользователей практически не влияют на продажи\n",
    "- 4 самых популярных жанра: action, shooter, role-playing и sports.  \n",
    "\n",
    "Жанровые предпочтения и предпочтения платформ пользователей из Северной Америки и Европы практически не различаются. Предпочтения пользователей из Японии отличаются достаточно сильно.  \n",
    "Возрастной рейтинг не влияет на продажи игр.  \n",
    "\n",
    "Проверялись 2 гипотезы: \n",
    "- Средние пользовательские рейтинги платформ Xbox One и PC одинаковые  \n",
    "- Средние пользовательские рейтинги жанров Action и Sports разные  \n",
    "Обе гипотезы были прняты.  "
   ]
  },
  {
   "cell_type": "markdown",
   "metadata": {},
   "source": [
    "**Рекомендации** по планированию кампании на 2017 год:  \n",
    "Между европейским и северо-американским регионом практически нет различий. Американский рынок немного больше."
   ]
  },
  {
   "cell_type": "code",
   "execution_count": 40,
   "metadata": {
    "scrolled": true
   },
   "outputs": [
    {
     "name": "stdout",
     "output_type": "stream",
     "text": [
      "Американский рынок больше на 16.60%\n"
     ]
    }
   ],
   "source": [
    "print(f'Американский рынок больше на {actual_games[\"na_sales\"].sum() / actual_games[\"eu_sales\"].sum() - 1:.2%}')"
   ]
  },
  {
   "cell_type": "markdown",
   "metadata": {},
   "source": [
    "Основные отличия между этими рынками - предпочтения в спортивных играх. В Америке любят Американский футбол и Хоккей, а в Европе футбол.  \n",
    "\n",
    "На этих рынках стоит ориентироваться на игры жанра Action, Shooter, Sports и Role-playing.  \n",
    "Среди платформ надо ориентироваться на консоли последнего поколения (PS4, Xbox One), мобильную платформу 3DS и на персональные компьютеры PC.  \n",
    "Возрастная категория не станет препятствием."
   ]
  },
  {
   "cell_type": "markdown",
   "metadata": {},
   "source": [
    "**Японский рынок** сильно отличается от Западного."
   ]
  },
  {
   "cell_type": "markdown",
   "metadata": {},
   "source": [
    "Тут стоит ориентироваться на игры жанра Role-playing, Action, Misc, Simulation, Fighting.  \n",
    "В Японии сильно развиты мобильные игровые платформы, поэтому нельзя обходить вниманием платформы 3DS, PSV и WIIU. Платформа PS4 достаточно популярна.  \n",
    "В Японии может помешать возрастной рейтинг. Там плохо покупают игры с высоким возрастным рейтингом."
   ]
  }
 ],
 "metadata": {
  "kernelspec": {
   "display_name": "Python 3",
   "language": "python",
   "name": "python3"
  },
  "language_info": {
   "codemirror_mode": {
    "name": "ipython",
    "version": 3
   },
   "file_extension": ".py",
   "mimetype": "text/x-python",
   "name": "python",
   "nbconvert_exporter": "python",
   "pygments_lexer": "ipython3",
   "version": "3.8.3"
  },
  "toc": {
   "base_numbering": 1,
   "nav_menu": {},
   "number_sections": false,
   "sideBar": true,
   "skip_h1_title": true,
   "title_cell": "Table of Contents",
   "title_sidebar": "Contents",
   "toc_cell": false,
   "toc_position": {},
   "toc_section_display": true,
   "toc_window_display": false
  }
 },
 "nbformat": 4,
 "nbformat_minor": 2
}
