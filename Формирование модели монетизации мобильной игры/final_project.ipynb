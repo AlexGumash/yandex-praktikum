{
 "cells": [
  {
   "cell_type": "markdown",
   "metadata": {},
   "source": [
    "Ссылка на дашборд: https://public.tableau.com/app/profile/alex3587/viz/SpaceBro_16271336593410/SpaceBroDashboard?publish=yes  \n",
    "Ссылка на презентацию: https://disk.yandex.ru/i/TDSfJ4eddkeLQA"
   ]
  },
  {
   "cell_type": "markdown",
   "metadata": {},
   "source": [
    "# Формирование модели монетизации мобильной игры\n",
    "\n",
    "**Цель проекта** - сформировать модель монетизации мобильной игры \"Космические братья\". Нужно определить оптимальный момент для начала показа рекламы, а также частоту показа рекламы.  \n",
    "\n",
    "**Задачи проекта**:\n",
    "- Исследование данных\n",
    "- Исследование влияния событий на совершение целевого действия (завершение первого уровня)\n",
    "- Формирование модели монетизации\n",
    "- Проверка гипотез\n",
    "\n",
    "**Описание данных**:\n",
    "\n",
    "*game_actions:*  \n",
    "- event_datetime - время события\n",
    "- event - тип события\n",
    "- building_type - тип здания\n",
    "- user_id - идентификатор пользователя\n",
    "- project_type - тип реализованного проекта\n",
    "\n",
    "*ad_cost:*  \n",
    "- day - день, в который был совершен клик по объявлению\n",
    "- source - источник трафика\n",
    "- cost - стоимость кликов  \n",
    "\n",
    "*user_source:*  \n",
    "- user_id - идентификатор пользователя\n",
    "- source - источников, с которого пришёл пользователь, установивший приложение\n",
    "\n",
    "**Содержание**:\n",
    "1. <a href=\"#Импорт-библиотек-и-загрузка-данных\">Импорт библиотек и загрузка данных</a>\n",
    "2. <a href=\"#Изучение-стратегий-игроков\">Изучение стратегий игроков</a>\n",
    "3. <a href=\"#Исследовательский-анализ-данных\">Исследовательский анализ данных</a>\n",
    "4. <a href=\"#Исследования-влияния-событий-на-совершение-целевого-действия\">Исследования влияния событий на совершение целевого действия</a>\n",
    "5. <a href=\"#Проверка-гипотез\">Проверка гипотез</a>\n",
    "6. <a href=\"#Итоговый-вывод\">Итоговый вывод</a>"
   ]
  },
  {
   "cell_type": "markdown",
   "metadata": {},
   "source": [
    "### Импорт библиотек и загрузка данных"
   ]
  },
  {
   "cell_type": "markdown",
   "metadata": {},
   "source": [
    "Импортируем необходимые библиотеки"
   ]
  },
  {
   "cell_type": "code",
   "execution_count": 1,
   "metadata": {},
   "outputs": [],
   "source": [
    "import pandas as pd\n",
    "import seaborn as sns\n",
    "import matplotlib.pyplot as plt\n",
    "import numpy as np\n",
    "import datetime\n",
    "from scipy.stats import levene\n",
    "from scipy import stats as st\n",
    "import math as mth\n",
    "import statsmodels.stats.multitest as smt\n",
    "from termcolor import colored"
   ]
  },
  {
   "cell_type": "code",
   "execution_count": 2,
   "metadata": {},
   "outputs": [],
   "source": [
    "sns.set_style('whitegrid')"
   ]
  },
  {
   "cell_type": "markdown",
   "metadata": {},
   "source": [
    "Загрузим исходные данные"
   ]
  },
  {
   "cell_type": "code",
   "execution_count": 3,
   "metadata": {},
   "outputs": [],
   "source": [
    "game_actions = pd.read_csv('/datasets/game_actions.csv')\n",
    "game_actions.name = 'Game actions'\n",
    "\n",
    "ad_costs = pd.read_csv('/datasets/ad_costs.csv')\n",
    "ad_costs.name = 'Advertisment costs'\n",
    "\n",
    "user_source = pd.read_csv('/datasets/user_source.csv')\n",
    "user_source.name = 'User source'"
   ]
  },
  {
   "cell_type": "markdown",
   "metadata": {},
   "source": [
    "Создадим функцию для быстрого и удобного знакомства с данными"
   ]
  },
  {
   "cell_type": "code",
   "execution_count": 4,
   "metadata": {},
   "outputs": [],
   "source": [
    "def first_look(df, sample_size=5):\n",
    "    print(f'\\nДатафрейм {df.name}:')\n",
    "    display(df.sample(sample_size))\n",
    "    df.info()\n",
    "    \n",
    "    na_count = df.isna().sum()\n",
    "    duplicates_count = df.duplicated().sum()\n",
    "    \n",
    "    print('\\nКоличество пропусков в столбцах:')\n",
    "    print(na_count)\n",
    "    print('\\nКоличество дубликатов: ', duplicates_count)\n",
    "    print('----------------------------------')"
   ]
  },
  {
   "cell_type": "markdown",
   "metadata": {},
   "source": [
    "Взглянем на данные"
   ]
  },
  {
   "cell_type": "code",
   "execution_count": 5,
   "metadata": {},
   "outputs": [
    {
     "name": "stdout",
     "output_type": "stream",
     "text": [
      "\n",
      "Датафрейм Game actions:\n"
     ]
    },
    {
     "data": {
      "text/html": [
       "<div>\n",
       "<style scoped>\n",
       "    .dataframe tbody tr th:only-of-type {\n",
       "        vertical-align: middle;\n",
       "    }\n",
       "\n",
       "    .dataframe tbody tr th {\n",
       "        vertical-align: top;\n",
       "    }\n",
       "\n",
       "    .dataframe thead th {\n",
       "        text-align: right;\n",
       "    }\n",
       "</style>\n",
       "<table border=\"1\" class=\"dataframe\">\n",
       "  <thead>\n",
       "    <tr style=\"text-align: right;\">\n",
       "      <th></th>\n",
       "      <th>event_datetime</th>\n",
       "      <th>event</th>\n",
       "      <th>building_type</th>\n",
       "      <th>user_id</th>\n",
       "      <th>project_type</th>\n",
       "    </tr>\n",
       "  </thead>\n",
       "  <tbody>\n",
       "    <tr>\n",
       "      <td>2911</td>\n",
       "      <td>2020-05-04 08:53:26</td>\n",
       "      <td>building</td>\n",
       "      <td>assembly_shop</td>\n",
       "      <td>790c6c30-a30f-4491-87c5-ca767290ac6c</td>\n",
       "      <td>NaN</td>\n",
       "    </tr>\n",
       "    <tr>\n",
       "      <td>77004</td>\n",
       "      <td>2020-05-10 21:54:58</td>\n",
       "      <td>building</td>\n",
       "      <td>spaceport</td>\n",
       "      <td>644ada9f-65ef-4a79-8c20-1379248292e5</td>\n",
       "      <td>NaN</td>\n",
       "    </tr>\n",
       "    <tr>\n",
       "      <td>96577</td>\n",
       "      <td>2020-05-13 06:23:22</td>\n",
       "      <td>building</td>\n",
       "      <td>research_center</td>\n",
       "      <td>c8264dd1-9119-4e03-b37b-71319f9647a7</td>\n",
       "      <td>NaN</td>\n",
       "    </tr>\n",
       "    <tr>\n",
       "      <td>105386</td>\n",
       "      <td>2020-05-14 11:11:38</td>\n",
       "      <td>building</td>\n",
       "      <td>spaceport</td>\n",
       "      <td>c37a8de8-fb8e-4a95-885e-a6b527212eb5</td>\n",
       "      <td>NaN</td>\n",
       "    </tr>\n",
       "    <tr>\n",
       "      <td>132781</td>\n",
       "      <td>2020-05-22 09:44:26</td>\n",
       "      <td>building</td>\n",
       "      <td>spaceport</td>\n",
       "      <td>2d0f30db-21e3-4f51-8bb8-7f0f77d04774</td>\n",
       "      <td>NaN</td>\n",
       "    </tr>\n",
       "  </tbody>\n",
       "</table>\n",
       "</div>"
      ],
      "text/plain": [
       "             event_datetime     event    building_type  \\\n",
       "2911    2020-05-04 08:53:26  building    assembly_shop   \n",
       "77004   2020-05-10 21:54:58  building        spaceport   \n",
       "96577   2020-05-13 06:23:22  building  research_center   \n",
       "105386  2020-05-14 11:11:38  building        spaceport   \n",
       "132781  2020-05-22 09:44:26  building        spaceport   \n",
       "\n",
       "                                     user_id project_type  \n",
       "2911    790c6c30-a30f-4491-87c5-ca767290ac6c          NaN  \n",
       "77004   644ada9f-65ef-4a79-8c20-1379248292e5          NaN  \n",
       "96577   c8264dd1-9119-4e03-b37b-71319f9647a7          NaN  \n",
       "105386  c37a8de8-fb8e-4a95-885e-a6b527212eb5          NaN  \n",
       "132781  2d0f30db-21e3-4f51-8bb8-7f0f77d04774          NaN  "
      ]
     },
     "metadata": {},
     "output_type": "display_data"
    },
    {
     "name": "stdout",
     "output_type": "stream",
     "text": [
      "<class 'pandas.core.frame.DataFrame'>\n",
      "RangeIndex: 135640 entries, 0 to 135639\n",
      "Data columns (total 5 columns):\n",
      "event_datetime    135640 non-null object\n",
      "event             135640 non-null object\n",
      "building_type     127957 non-null object\n",
      "user_id           135640 non-null object\n",
      "project_type      1866 non-null object\n",
      "dtypes: object(5)\n",
      "memory usage: 5.2+ MB\n",
      "\n",
      "Количество пропусков в столбцах:\n",
      "event_datetime         0\n",
      "event                  0\n",
      "building_type       7683\n",
      "user_id                0\n",
      "project_type      133774\n",
      "dtype: int64\n",
      "\n",
      "Количество дубликатов:  1\n",
      "----------------------------------\n",
      "\n",
      "Датафрейм Advertisment costs:\n"
     ]
    },
    {
     "data": {
      "text/html": [
       "<div>\n",
       "<style scoped>\n",
       "    .dataframe tbody tr th:only-of-type {\n",
       "        vertical-align: middle;\n",
       "    }\n",
       "\n",
       "    .dataframe tbody tr th {\n",
       "        vertical-align: top;\n",
       "    }\n",
       "\n",
       "    .dataframe thead th {\n",
       "        text-align: right;\n",
       "    }\n",
       "</style>\n",
       "<table border=\"1\" class=\"dataframe\">\n",
       "  <thead>\n",
       "    <tr style=\"text-align: right;\">\n",
       "      <th></th>\n",
       "      <th>source</th>\n",
       "      <th>day</th>\n",
       "      <th>cost</th>\n",
       "    </tr>\n",
       "  </thead>\n",
       "  <tbody>\n",
       "    <tr>\n",
       "      <td>8</td>\n",
       "      <td>instagram_new_adverts</td>\n",
       "      <td>2020-05-04</td>\n",
       "      <td>502.925451</td>\n",
       "    </tr>\n",
       "    <tr>\n",
       "      <td>20</td>\n",
       "      <td>yandex_direct</td>\n",
       "      <td>2020-05-09</td>\n",
       "      <td>42.779505</td>\n",
       "    </tr>\n",
       "    <tr>\n",
       "      <td>19</td>\n",
       "      <td>yandex_direct</td>\n",
       "      <td>2020-05-08</td>\n",
       "      <td>62.961630</td>\n",
       "    </tr>\n",
       "    <tr>\n",
       "      <td>2</td>\n",
       "      <td>facebook_ads</td>\n",
       "      <td>2020-05-05</td>\n",
       "      <td>260.185754</td>\n",
       "    </tr>\n",
       "    <tr>\n",
       "      <td>6</td>\n",
       "      <td>facebook_ads</td>\n",
       "      <td>2020-05-09</td>\n",
       "      <td>38.723350</td>\n",
       "    </tr>\n",
       "  </tbody>\n",
       "</table>\n",
       "</div>"
      ],
      "text/plain": [
       "                   source         day        cost\n",
       "8   instagram_new_adverts  2020-05-04  502.925451\n",
       "20          yandex_direct  2020-05-09   42.779505\n",
       "19          yandex_direct  2020-05-08   62.961630\n",
       "2            facebook_ads  2020-05-05  260.185754\n",
       "6            facebook_ads  2020-05-09   38.723350"
      ]
     },
     "metadata": {},
     "output_type": "display_data"
    },
    {
     "name": "stdout",
     "output_type": "stream",
     "text": [
      "<class 'pandas.core.frame.DataFrame'>\n",
      "RangeIndex: 28 entries, 0 to 27\n",
      "Data columns (total 3 columns):\n",
      "source    28 non-null object\n",
      "day       28 non-null object\n",
      "cost      28 non-null float64\n",
      "dtypes: float64(1), object(2)\n",
      "memory usage: 800.0+ bytes\n",
      "\n",
      "Количество пропусков в столбцах:\n",
      "source    0\n",
      "day       0\n",
      "cost      0\n",
      "dtype: int64\n",
      "\n",
      "Количество дубликатов:  0\n",
      "----------------------------------\n",
      "\n",
      "Датафрейм User source:\n"
     ]
    },
    {
     "data": {
      "text/html": [
       "<div>\n",
       "<style scoped>\n",
       "    .dataframe tbody tr th:only-of-type {\n",
       "        vertical-align: middle;\n",
       "    }\n",
       "\n",
       "    .dataframe tbody tr th {\n",
       "        vertical-align: top;\n",
       "    }\n",
       "\n",
       "    .dataframe thead th {\n",
       "        text-align: right;\n",
       "    }\n",
       "</style>\n",
       "<table border=\"1\" class=\"dataframe\">\n",
       "  <thead>\n",
       "    <tr style=\"text-align: right;\">\n",
       "      <th></th>\n",
       "      <th>user_id</th>\n",
       "      <th>source</th>\n",
       "    </tr>\n",
       "  </thead>\n",
       "  <tbody>\n",
       "    <tr>\n",
       "      <td>11270</td>\n",
       "      <td>d5c3fad5-5a12-4f1c-855e-eaf08bc2f4fa</td>\n",
       "      <td>instagram_new_adverts</td>\n",
       "    </tr>\n",
       "    <tr>\n",
       "      <td>11605</td>\n",
       "      <td>db2213d2-392c-4c60-8a6f-a7a0b9f4d927</td>\n",
       "      <td>facebook_ads</td>\n",
       "    </tr>\n",
       "    <tr>\n",
       "      <td>5478</td>\n",
       "      <td>66345c2e-e93e-4859-98d2-ebbd377f2e21</td>\n",
       "      <td>yandex_direct</td>\n",
       "    </tr>\n",
       "    <tr>\n",
       "      <td>2208</td>\n",
       "      <td>27effca9-efae-43de-910f-2c1e56c9bb7a</td>\n",
       "      <td>yandex_direct</td>\n",
       "    </tr>\n",
       "    <tr>\n",
       "      <td>13492</td>\n",
       "      <td>fe5cbe12-8675-4761-b45f-3fbe413b2689</td>\n",
       "      <td>yandex_direct</td>\n",
       "    </tr>\n",
       "  </tbody>\n",
       "</table>\n",
       "</div>"
      ],
      "text/plain": [
       "                                    user_id                 source\n",
       "11270  d5c3fad5-5a12-4f1c-855e-eaf08bc2f4fa  instagram_new_adverts\n",
       "11605  db2213d2-392c-4c60-8a6f-a7a0b9f4d927           facebook_ads\n",
       "5478   66345c2e-e93e-4859-98d2-ebbd377f2e21          yandex_direct\n",
       "2208   27effca9-efae-43de-910f-2c1e56c9bb7a          yandex_direct\n",
       "13492  fe5cbe12-8675-4761-b45f-3fbe413b2689          yandex_direct"
      ]
     },
     "metadata": {},
     "output_type": "display_data"
    },
    {
     "name": "stdout",
     "output_type": "stream",
     "text": [
      "<class 'pandas.core.frame.DataFrame'>\n",
      "RangeIndex: 13576 entries, 0 to 13575\n",
      "Data columns (total 2 columns):\n",
      "user_id    13576 non-null object\n",
      "source     13576 non-null object\n",
      "dtypes: object(2)\n",
      "memory usage: 212.2+ KB\n",
      "\n",
      "Количество пропусков в столбцах:\n",
      "user_id    0\n",
      "source     0\n",
      "dtype: int64\n",
      "\n",
      "Количество дубликатов:  0\n",
      "----------------------------------\n"
     ]
    }
   ],
   "source": [
    "for df in [game_actions, ad_costs, user_source]:\n",
    "    first_look(df)"
   ]
  },
  {
   "cell_type": "markdown",
   "metadata": {},
   "source": [
    "**Выводы**  \n",
    "game_actions:\n",
    "- Пропуски в столбце *building_type* означают, что событие было не *building*\n",
    "- Пропуски в столбце *project_type* означают, что событие было не *project*\n",
    "- Переименовать столбец *event* в *event_type*\n",
    "- Посмотреть на единственный дубликат\n",
    "- Сменить тип столбца *event_datetime* на дату\n",
    "\n",
    "ad_costs:\n",
    "- Сменить тип столбца *day* на дату"
   ]
  },
  {
   "cell_type": "markdown",
   "metadata": {},
   "source": [
    "Переименуем столбец."
   ]
  },
  {
   "cell_type": "code",
   "execution_count": 6,
   "metadata": {},
   "outputs": [],
   "source": [
    "game_actions.rename(columns={'event': 'event_type'}, inplace=True)"
   ]
  },
  {
   "cell_type": "markdown",
   "metadata": {},
   "source": [
    "Взглянем на дубликаты."
   ]
  },
  {
   "cell_type": "code",
   "execution_count": 7,
   "metadata": {},
   "outputs": [
    {
     "data": {
      "text/html": [
       "<div>\n",
       "<style scoped>\n",
       "    .dataframe tbody tr th:only-of-type {\n",
       "        vertical-align: middle;\n",
       "    }\n",
       "\n",
       "    .dataframe tbody tr th {\n",
       "        vertical-align: top;\n",
       "    }\n",
       "\n",
       "    .dataframe thead th {\n",
       "        text-align: right;\n",
       "    }\n",
       "</style>\n",
       "<table border=\"1\" class=\"dataframe\">\n",
       "  <thead>\n",
       "    <tr style=\"text-align: right;\">\n",
       "      <th></th>\n",
       "      <th>event_datetime</th>\n",
       "      <th>event_type</th>\n",
       "      <th>building_type</th>\n",
       "      <th>user_id</th>\n",
       "      <th>project_type</th>\n",
       "    </tr>\n",
       "  </thead>\n",
       "  <tbody>\n",
       "    <tr>\n",
       "      <td>74890</td>\n",
       "      <td>2020-05-10 18:41:56</td>\n",
       "      <td>building</td>\n",
       "      <td>research_center</td>\n",
       "      <td>c9af55d2-b0ae-4bb4-b3d5-f32aa9ac03af</td>\n",
       "      <td>NaN</td>\n",
       "    </tr>\n",
       "    <tr>\n",
       "      <td>74891</td>\n",
       "      <td>2020-05-10 18:41:56</td>\n",
       "      <td>building</td>\n",
       "      <td>research_center</td>\n",
       "      <td>c9af55d2-b0ae-4bb4-b3d5-f32aa9ac03af</td>\n",
       "      <td>NaN</td>\n",
       "    </tr>\n",
       "  </tbody>\n",
       "</table>\n",
       "</div>"
      ],
      "text/plain": [
       "            event_datetime event_type    building_type  \\\n",
       "74890  2020-05-10 18:41:56   building  research_center   \n",
       "74891  2020-05-10 18:41:56   building  research_center   \n",
       "\n",
       "                                    user_id project_type  \n",
       "74890  c9af55d2-b0ae-4bb4-b3d5-f32aa9ac03af          NaN  \n",
       "74891  c9af55d2-b0ae-4bb4-b3d5-f32aa9ac03af          NaN  "
      ]
     },
     "execution_count": 7,
     "metadata": {},
     "output_type": "execute_result"
    }
   ],
   "source": [
    "game_actions[game_actions.duplicated(keep=False)]"
   ]
  },
  {
   "cell_type": "markdown",
   "metadata": {},
   "source": [
    "Похоже на обычный дубликат. Ну или игрок с указанным событием умудрился построить 2 одинаковых здания за одну секунду. Удалим дубликат."
   ]
  },
  {
   "cell_type": "code",
   "execution_count": 8,
   "metadata": {},
   "outputs": [],
   "source": [
    "game_actions.drop_duplicates(keep='first', inplace=True)"
   ]
  },
  {
   "cell_type": "markdown",
   "metadata": {},
   "source": [
    "Сменим типы столбцов."
   ]
  },
  {
   "cell_type": "code",
   "execution_count": 9,
   "metadata": {},
   "outputs": [],
   "source": [
    "game_actions['event_datetime'] = pd.to_datetime(game_actions['event_datetime'])\n",
    "ad_costs['day'] = pd.to_datetime(ad_costs['day'])"
   ]
  },
  {
   "cell_type": "markdown",
   "metadata": {},
   "source": [
    "**Предобработка завершена**"
   ]
  },
  {
   "cell_type": "markdown",
   "metadata": {},
   "source": [
    "### Изучение стратегий игроков"
   ]
  },
  {
   "cell_type": "markdown",
   "metadata": {},
   "source": [
    "Для начала разберемся со стратегиями игроков. Итогом этой деятельности будет датафрейм, устанавливающий соответствие *id* игрока и его стратегии.  \n",
    "Под стратегией понимается способ завершения первого уровня.  \n",
    "\n",
    "Возможные стратегии:\n",
    "- Завершение уровня победой над игроком\n",
    "- Завершение уровня реализацией проекта  \n",
    "\n",
    "Так же стоит выделить тех игроков, которые в игре что-то делали, но уровень не завершили.  \n",
    "\n",
    "Выделим тех игроков, которые завершили проект. События *project* и *finished_stage_1* для каждого игрока могут наступать только единожды, поэтому нет необходимости выделять уникальные *user_id*."
   ]
  },
  {
   "cell_type": "code",
   "execution_count": 10,
   "metadata": {},
   "outputs": [
    {
     "data": {
      "text/plain": [
       "1866"
      ]
     },
     "execution_count": 10,
     "metadata": {},
     "output_type": "execute_result"
    }
   ],
   "source": [
    "project_finished = game_actions.loc[game_actions['event_type'] == 'project']['user_id']\n",
    "project_finished.shape[0]"
   ]
  },
  {
   "cell_type": "markdown",
   "metadata": {},
   "source": [
    "Выделим всех, кто завершил первый уровень."
   ]
  },
  {
   "cell_type": "code",
   "execution_count": 11,
   "metadata": {},
   "outputs": [
    {
     "data": {
      "text/plain": [
       "5817"
      ]
     },
     "execution_count": 11,
     "metadata": {},
     "output_type": "execute_result"
    }
   ],
   "source": [
    "finished_stage_1 = game_actions.loc[game_actions['event_type'] == 'finished_stage_1']['user_id']\n",
    "finished_stage_1.shape[0]"
   ]
  },
  {
   "cell_type": "markdown",
   "metadata": {},
   "source": [
    "Составим список игроков, завершивших первый уровень реализацией проекта."
   ]
  },
  {
   "cell_type": "code",
   "execution_count": 12,
   "metadata": {},
   "outputs": [
    {
     "data": {
      "text/plain": [
       "1866"
      ]
     },
     "execution_count": 12,
     "metadata": {},
     "output_type": "execute_result"
    }
   ],
   "source": [
    "finished_stage_1_by_project = finished_stage_1[finished_stage_1.isin(project_finished)]\n",
    "finished_stage_1_by_project.shape[0]"
   ]
  },
  {
   "cell_type": "markdown",
   "metadata": {},
   "source": [
    "Составим список игроков, завершивших первый уровень победой над другим игроком. Это те пользователи, которые завершили первый уровень, но не реализовывали проект."
   ]
  },
  {
   "cell_type": "code",
   "execution_count": 13,
   "metadata": {},
   "outputs": [
    {
     "data": {
      "text/plain": [
       "3951"
      ]
     },
     "execution_count": 13,
     "metadata": {},
     "output_type": "execute_result"
    }
   ],
   "source": [
    "finished_stage_1_by_win = finished_stage_1[~finished_stage_1.isin(project_finished)]\n",
    "finished_stage_1_by_win.shape[0]"
   ]
  },
  {
   "cell_type": "markdown",
   "metadata": {},
   "source": [
    "Найдем игроков, которые не завершили первый уровень."
   ]
  },
  {
   "cell_type": "code",
   "execution_count": 14,
   "metadata": {},
   "outputs": [
    {
     "data": {
      "text/plain": [
       "7759"
      ]
     },
     "execution_count": 14,
     "metadata": {},
     "output_type": "execute_result"
    }
   ],
   "source": [
    "not_finished_stage_1 = game_actions[~game_actions['user_id'].isin(finished_stage_1)]['user_id'].unique()\n",
    "not_finished_stage_1.shape[0]"
   ]
  },
  {
   "cell_type": "markdown",
   "metadata": {},
   "source": [
    "**Зафиксируем**:\n",
    "- Всего уникальных игроков, совершивших события: 13576\n",
    "- Завершили первый уровень: 5817 (43%)\n",
    "    - Победой над игроком: 3951 (68% от завершивших первый уровень)\n",
    "    - Реализацией проекта: 1866 (32% от завершивших первый уровень)\n",
    "- Не завершили первый уровень: 7759 (57%)\n",
    "- Все игроки строили объекты"
   ]
  },
  {
   "cell_type": "markdown",
   "metadata": {},
   "source": [
    "Создадим датафрейм."
   ]
  },
  {
   "cell_type": "code",
   "execution_count": 15,
   "metadata": {
    "scrolled": true
   },
   "outputs": [
    {
     "data": {
      "text/html": [
       "<div>\n",
       "<style scoped>\n",
       "    .dataframe tbody tr th:only-of-type {\n",
       "        vertical-align: middle;\n",
       "    }\n",
       "\n",
       "    .dataframe tbody tr th {\n",
       "        vertical-align: top;\n",
       "    }\n",
       "\n",
       "    .dataframe thead th {\n",
       "        text-align: right;\n",
       "    }\n",
       "</style>\n",
       "<table border=\"1\" class=\"dataframe\">\n",
       "  <thead>\n",
       "    <tr style=\"text-align: right;\">\n",
       "      <th></th>\n",
       "      <th>user_id</th>\n",
       "      <th>strategy</th>\n",
       "    </tr>\n",
       "  </thead>\n",
       "  <tbody>\n",
       "    <tr>\n",
       "      <td>0</td>\n",
       "      <td>55e92310-cb8e-4754-b622-597e124b03de</td>\n",
       "      <td>not_finished</td>\n",
       "    </tr>\n",
       "    <tr>\n",
       "      <td>1</td>\n",
       "      <td>c07b1c10-f477-44dc-81dc-ec82254b1347</td>\n",
       "      <td>project</td>\n",
       "    </tr>\n",
       "    <tr>\n",
       "      <td>2</td>\n",
       "      <td>6edd42cc-e753-4ff6-a947-2107cd560710</td>\n",
       "      <td>win</td>\n",
       "    </tr>\n",
       "    <tr>\n",
       "      <td>3</td>\n",
       "      <td>92c69003-d60a-444a-827f-8cc51bf6bf4c</td>\n",
       "      <td>not_finished</td>\n",
       "    </tr>\n",
       "    <tr>\n",
       "      <td>4</td>\n",
       "      <td>cdc6bb92-0ccb-4490-9866-ef142f09139d</td>\n",
       "      <td>win</td>\n",
       "    </tr>\n",
       "  </tbody>\n",
       "</table>\n",
       "</div>"
      ],
      "text/plain": [
       "                                user_id      strategy\n",
       "0  55e92310-cb8e-4754-b622-597e124b03de  not_finished\n",
       "1  c07b1c10-f477-44dc-81dc-ec82254b1347       project\n",
       "2  6edd42cc-e753-4ff6-a947-2107cd560710           win\n",
       "3  92c69003-d60a-444a-827f-8cc51bf6bf4c  not_finished\n",
       "4  cdc6bb92-0ccb-4490-9866-ef142f09139d           win"
      ]
     },
     "execution_count": 15,
     "metadata": {},
     "output_type": "execute_result"
    }
   ],
   "source": [
    "strategies = pd.DataFrame(game_actions['user_id'].unique(), columns=['user_id'])\n",
    "strategies['strategy'] = 'not_finished'\n",
    "strategies.loc[strategies['user_id'].isin(finished_stage_1_by_win), 'strategy'] = 'win'\n",
    "strategies.loc[strategies['user_id'].isin(finished_stage_1_by_project), 'strategy'] = 'project'\n",
    "strategies.head(5)"
   ]
  },
  {
   "cell_type": "code",
   "execution_count": 16,
   "metadata": {},
   "outputs": [],
   "source": [
    "game_actions = game_actions.merge(strategies, how='left', on='user_id')"
   ]
  },
  {
   "cell_type": "markdown",
   "metadata": {},
   "source": [
    "### Исследовательский анализ данных"
   ]
  },
  {
   "cell_type": "markdown",
   "metadata": {},
   "source": [
    "Для каждой стратегии построим распределение количества построенных объектов на одного игрока."
   ]
  },
  {
   "cell_type": "code",
   "execution_count": 17,
   "metadata": {},
   "outputs": [],
   "source": [
    "actions_grouped_by_user = game_actions[\n",
    "    game_actions['event_type'] == 'building'\n",
    "].groupby(['user_id', 'strategy'])[['event_type']].count().reset_index()\n",
    "\n",
    "actions_grouped_by_user.columns = ['user_id', 'strategy', 'events_count']"
   ]
  },
  {
   "cell_type": "code",
   "execution_count": 18,
   "metadata": {
    "scrolled": true
   },
   "outputs": [
    {
     "data": {
      "image/png": "[encoded data removed]",
      "text/plain": [
       "<Figure size 1440x360 with 3 Axes>"
      ]
     },
     "metadata": {},
     "output_type": "display_data"
    }
   ],
   "source": [
    "fig, axes = plt.subplots(1, 3, figsize=(20, 5))\n",
    "fig.suptitle(f'Распределение количества построенных объектов на одного пользователя', fontsize=14)\n",
    "\n",
    "for ax, strategy in zip(axes, strategies['strategy']):\n",
    "    ax.set_title(f'Стратегия: {strategy}')\n",
    "    ax.set_xlabel('Количество событий')\n",
    "    sns.distplot(\n",
    "        actions_grouped_by_user[actions_grouped_by_user['strategy'] == strategy]['events_count'], ax=ax)\n"
   ]
  },
  {
   "cell_type": "markdown",
   "metadata": {},
   "source": [
    "- Те, кто не закончил первый уровень в среднем строят меньше объектов, чем игроки, завершившие его\n",
    "- Игроки, реализовавшие проект, в среднем строят больше всех объектов. При чем минимальное количество объектов, которое нужно построить для реализации проекта - 10\n",
    "- Игроки, победившие своего противника, строят среднее количество объектов"
   ]
  },
  {
   "cell_type": "markdown",
   "metadata": {},
   "source": [
    "Узнаем сколько объектов разных типов было построено."
   ]
  },
  {
   "cell_type": "code",
   "execution_count": 19,
   "metadata": {},
   "outputs": [
    {
     "data": {
      "text/html": [
       "<div>\n",
       "<style scoped>\n",
       "    .dataframe tbody tr th:only-of-type {\n",
       "        vertical-align: middle;\n",
       "    }\n",
       "\n",
       "    .dataframe tbody tr th {\n",
       "        vertical-align: top;\n",
       "    }\n",
       "\n",
       "    .dataframe thead th {\n",
       "        text-align: right;\n",
       "    }\n",
       "</style>\n",
       "<table border=\"1\" class=\"dataframe\">\n",
       "  <thead>\n",
       "    <tr style=\"text-align: right;\">\n",
       "      <th></th>\n",
       "      <th>building_type</th>\n",
       "      <th>count</th>\n",
       "    </tr>\n",
       "  </thead>\n",
       "  <tbody>\n",
       "    <tr>\n",
       "      <td>0</td>\n",
       "      <td>assembly_shop</td>\n",
       "      <td>54494</td>\n",
       "    </tr>\n",
       "    <tr>\n",
       "      <td>1</td>\n",
       "      <td>research_center</td>\n",
       "      <td>14137</td>\n",
       "    </tr>\n",
       "    <tr>\n",
       "      <td>2</td>\n",
       "      <td>spaceport</td>\n",
       "      <td>59325</td>\n",
       "    </tr>\n",
       "  </tbody>\n",
       "</table>\n",
       "</div>"
      ],
      "text/plain": [
       "     building_type  count\n",
       "0    assembly_shop  54494\n",
       "1  research_center  14137\n",
       "2        spaceport  59325"
      ]
     },
     "execution_count": 19,
     "metadata": {},
     "output_type": "execute_result"
    }
   ],
   "source": [
    "actions_grouped_by_building_type = game_actions.groupby('building_type')['event_type'].count().reset_index()\n",
    "actions_grouped_by_building_type.columns = ['building_type', 'count']\n",
    "\n",
    "actions_grouped_by_building_type"
   ]
  },
  {
   "cell_type": "markdown",
   "metadata": {},
   "source": [
    "Построим столбчатую диаграмму."
   ]
  },
  {
   "cell_type": "code",
   "execution_count": 20,
   "metadata": {},
   "outputs": [
    {
     "data": {
      "image/png": "[encoded data removed]",
      "text/plain": [
       "<Figure size 432x360 with 1 Axes>"
      ]
     },
     "metadata": {},
     "output_type": "display_data"
    }
   ],
   "source": [
    "plt.figure(figsize=(6, 5))\n",
    "sns.barplot(x=actions_grouped_by_building_type['building_type'], y=actions_grouped_by_building_type['count'])\n",
    "plt.title('Количество построенных типов строений')\n",
    "plt.xlabel('Тип строения')\n",
    "plt.ylabel('Количество, штук')\n",
    "\n",
    "for x, y in zip(range(len(actions_grouped_by_building_type['building_type'])), actions_grouped_by_building_type['count']):\n",
    "    plt.annotate(y, (x,y), textcoords=\"offset points\", xytext=(0,-15), ha='center', color='white', fontsize=12)\n",
    "    \n",
    "plt.show()"
   ]
  },
  {
   "cell_type": "markdown",
   "metadata": {},
   "source": [
    "Диаграмма говорит сама за себя: *assemply_shop* и *spaceport* были простроены примерно одинаковое количество раз, а *research_center* строят гораздо реже.  \n",
    "\n",
    "Изучим распределение количества событий по дням"
   ]
  },
  {
   "cell_type": "code",
   "execution_count": 21,
   "metadata": {},
   "outputs": [],
   "source": [
    "game_actions['event_day'] = game_actions['event_datetime'].dt.date\n",
    "\n",
    "actions_grouped_by_date = game_actions.groupby(['event_day'])[['user_id']].count().reset_index()\n",
    "actions_grouped_by_date.columns = ['event_day', 'events_count']"
   ]
  },
  {
   "cell_type": "code",
   "execution_count": 22,
   "metadata": {},
   "outputs": [
    {
     "data": {
      "image/png": "[encoded data removed]",
      "text/plain": [
       "<Figure size 576x360 with 1 Axes>"
      ]
     },
     "metadata": {},
     "output_type": "display_data"
    }
   ],
   "source": [
    "plt.figure(figsize=(8, 5))\n",
    "sns.barplot(x=actions_grouped_by_date['event_day'], y=actions_grouped_by_date['events_count'], color=None)\n",
    "plt.xticks(\n",
    "    ticks=[x+1 for x in range(0, len(actions_grouped_by_date['event_day']), 2)], \n",
    "    labels=actions_grouped_by_date['event_day'][0::2], \n",
    "    rotation=-45\n",
    ")\n",
    "plt.title('Распределение количества событий по дням')\n",
    "plt.xlabel('Дата')\n",
    "plt.ylabel('Количество событий, штук')\n",
    "plt.show()"
   ]
  },
  {
   "cell_type": "markdown",
   "metadata": {},
   "source": [
    "До 10-го мая количество событий растёт, а с 11-го мая количество событий уменьшается, практически достигая нуля 5-го июня. Причины:  \n",
    "- До 10-го числа игра рекламируется, что обеспечивает активный приток новых игроков\n",
    "- В начале первого уровня наверняка строительство объектов идет более активно, чем ближе к его концу\n",
    "- Уже в районе 10-го числа начинают появляться игроки, которые уже завершили первый уровень  \n",
    "\n",
    "Изучим распределение стоимости кликов по рекламе нашей игры по дням."
   ]
  },
  {
   "cell_type": "code",
   "execution_count": 23,
   "metadata": {},
   "outputs": [],
   "source": [
    "ad_costs_grouped_by_day = ad_costs.groupby(['day', 'source'])[['cost']].sum().reset_index()\n",
    "ad_costs_grouped_by_day.columns = ['day', 'source', 'costs']\n",
    "ad_costs_grouped_by_day['day'] = ad_costs_grouped_by_day['day'].dt.date"
   ]
  },
  {
   "cell_type": "code",
   "execution_count": 24,
   "metadata": {},
   "outputs": [
    {
     "data": {
      "image/png": "[encoded data removed]",
      "text/plain": [
       "<Figure size 576x360 with 1 Axes>"
      ]
     },
     "metadata": {},
     "output_type": "display_data"
    }
   ],
   "source": [
    "plt.figure(figsize=(8, 5))\n",
    "sns.barplot(x=ad_costs_grouped_by_day['day'], y=ad_costs_grouped_by_day['costs'], hue=ad_costs_grouped_by_day['source'])\n",
    "plt.xticks(ticks=[x for x in range(0, len(ad_costs_grouped_by_day['day'].unique()))], rotation=-45)\n",
    "plt.title('Распределение стоимости кликов по объявлениям по дням')\n",
    "plt.xlabel('Дата')\n",
    "plt.ylabel('Суммарная стоимость кликов')\n",
    "plt.show()"
   ]
  },
  {
   "cell_type": "markdown",
   "metadata": {},
   "source": [
    "С каждым днём суммарная стоимость кликов падает, однако пропорции между маркетинговыми источниками сохраняются.  \n",
    "- Затраты на источники *facebook_ads*, *instagram_new_adverts* и *yandex_direct* примерно одинаковы\n",
    "- Затраты на источник *youtube_channel_reklama* примерно вдвое меньше, чем затраты на остальные источники\n",
    "\n",
    "Изучим сколько людей пришли к нам из каждого источника."
   ]
  },
  {
   "cell_type": "code",
   "execution_count": 25,
   "metadata": {},
   "outputs": [
    {
     "data": {
      "text/html": [
       "<div>\n",
       "<style scoped>\n",
       "    .dataframe tbody tr th:only-of-type {\n",
       "        vertical-align: middle;\n",
       "    }\n",
       "\n",
       "    .dataframe tbody tr th {\n",
       "        vertical-align: top;\n",
       "    }\n",
       "\n",
       "    .dataframe thead th {\n",
       "        text-align: right;\n",
       "    }\n",
       "</style>\n",
       "<table border=\"1\" class=\"dataframe\">\n",
       "  <thead>\n",
       "    <tr style=\"text-align: right;\">\n",
       "      <th></th>\n",
       "      <th>source</th>\n",
       "      <th>users_count</th>\n",
       "    </tr>\n",
       "  </thead>\n",
       "  <tbody>\n",
       "    <tr>\n",
       "      <td>0</td>\n",
       "      <td>facebook_ads</td>\n",
       "      <td>2726</td>\n",
       "    </tr>\n",
       "    <tr>\n",
       "      <td>1</td>\n",
       "      <td>instagram_new_adverts</td>\n",
       "      <td>3347</td>\n",
       "    </tr>\n",
       "    <tr>\n",
       "      <td>2</td>\n",
       "      <td>yandex_direct</td>\n",
       "      <td>4817</td>\n",
       "    </tr>\n",
       "    <tr>\n",
       "      <td>3</td>\n",
       "      <td>youtube_channel_reklama</td>\n",
       "      <td>2686</td>\n",
       "    </tr>\n",
       "  </tbody>\n",
       "</table>\n",
       "</div>"
      ],
      "text/plain": [
       "                    source  users_count\n",
       "0             facebook_ads         2726\n",
       "1    instagram_new_adverts         3347\n",
       "2            yandex_direct         4817\n",
       "3  youtube_channel_reklama         2686"
      ]
     },
     "execution_count": 25,
     "metadata": {},
     "output_type": "execute_result"
    }
   ],
   "source": [
    "user_source_grouped = user_source.groupby('source')[['user_id']].count().reset_index()\n",
    "user_source_grouped.columns = ['source', 'users_count']\n",
    "user_source_grouped"
   ]
  },
  {
   "cell_type": "code",
   "execution_count": 26,
   "metadata": {
    "scrolled": true
   },
   "outputs": [
    {
     "data": {
      "image/png": "[encoded data removed]",
      "text/plain": [
       "<Figure size 576x360 with 1 Axes>"
      ]
     },
     "metadata": {},
     "output_type": "display_data"
    }
   ],
   "source": [
    "plt.figure(figsize=(8, 5))\n",
    "sns.barplot(x=user_source_grouped['source'], y=user_source_grouped['users_count'])\n",
    "plt.title('Количество пользователей, пришедших из каждого источника')\n",
    "plt.xlabel('Источник')\n",
    "plt.ylabel('Количество пришедших пользователей')\n",
    "\n",
    "for x, y in zip(range(len(user_source_grouped['source'])), user_source_grouped['users_count']):\n",
    "    plt.annotate(y, (x,y), textcoords=\"offset points\", xytext=(0,-15), ha='center', color='white', fontsize=12)\n",
    "\n",
    "plt.show()"
   ]
  },
  {
   "cell_type": "markdown",
   "metadata": {},
   "source": [
    "Больше всего новых пользователей принесла реклама в *yandex_direct*. Удивительно, что источники *facebook_ads* и *youtube_channel_reklama* принесли примерно одинаковое количество пользователей, не смотря на сильно отличающиеся вложения.  \n",
    "\n",
    "Вычислим среднюю стоимость привлечения одного нового пользователя из каждого источника."
   ]
  },
  {
   "cell_type": "code",
   "execution_count": 27,
   "metadata": {},
   "outputs": [
    {
     "data": {
      "text/html": [
       "<div>\n",
       "<style scoped>\n",
       "    .dataframe tbody tr th:only-of-type {\n",
       "        vertical-align: middle;\n",
       "    }\n",
       "\n",
       "    .dataframe tbody tr th {\n",
       "        vertical-align: top;\n",
       "    }\n",
       "\n",
       "    .dataframe thead th {\n",
       "        text-align: right;\n",
       "    }\n",
       "</style>\n",
       "<table border=\"1\" class=\"dataframe\">\n",
       "  <thead>\n",
       "    <tr style=\"text-align: right;\">\n",
       "      <th></th>\n",
       "      <th>source</th>\n",
       "      <th>users_count</th>\n",
       "      <th>cost</th>\n",
       "      <th>per_user</th>\n",
       "    </tr>\n",
       "  </thead>\n",
       "  <tbody>\n",
       "    <tr>\n",
       "      <td>0</td>\n",
       "      <td>facebook_ads</td>\n",
       "      <td>2726</td>\n",
       "      <td>2140.904643</td>\n",
       "      <td>0.785365</td>\n",
       "    </tr>\n",
       "    <tr>\n",
       "      <td>1</td>\n",
       "      <td>instagram_new_adverts</td>\n",
       "      <td>3347</td>\n",
       "      <td>2161.441691</td>\n",
       "      <td>0.645785</td>\n",
       "    </tr>\n",
       "    <tr>\n",
       "      <td>2</td>\n",
       "      <td>yandex_direct</td>\n",
       "      <td>4817</td>\n",
       "      <td>2233.111449</td>\n",
       "      <td>0.463590</td>\n",
       "    </tr>\n",
       "    <tr>\n",
       "      <td>3</td>\n",
       "      <td>youtube_channel_reklama</td>\n",
       "      <td>2686</td>\n",
       "      <td>1068.119204</td>\n",
       "      <td>0.397662</td>\n",
       "    </tr>\n",
       "  </tbody>\n",
       "</table>\n",
       "</div>"
      ],
      "text/plain": [
       "                    source  users_count         cost  per_user\n",
       "0             facebook_ads         2726  2140.904643  0.785365\n",
       "1    instagram_new_adverts         3347  2161.441691  0.645785\n",
       "2            yandex_direct         4817  2233.111449  0.463590\n",
       "3  youtube_channel_reklama         2686  1068.119204  0.397662"
      ]
     },
     "execution_count": 27,
     "metadata": {},
     "output_type": "execute_result"
    }
   ],
   "source": [
    "cost_per_user = user_source_grouped.merge(\n",
    "    ad_costs.groupby('source')[['cost']].sum().reset_index(), \n",
    "    how='inner', on='source'\n",
    ")\n",
    "cost_per_user['per_user'] = cost_per_user['cost'] / cost_per_user['users_count']\n",
    "cost_per_user"
   ]
  },
  {
   "cell_type": "code",
   "execution_count": 28,
   "metadata": {
    "scrolled": false
   },
   "outputs": [
    {
     "data": {
      "image/png": "[encoded data removed]",
      "text/plain": [
       "<Figure size 576x360 with 1 Axes>"
      ]
     },
     "metadata": {},
     "output_type": "display_data"
    }
   ],
   "source": [
    "plt.figure(figsize=(8, 5))\n",
    "sns.barplot(x=cost_per_user['source'], y=cost_per_user['per_user'])\n",
    "plt.title('Средние затраты на привлечение одного нового игрока из каждого источника')\n",
    "plt.xlabel('Источник')\n",
    "plt.ylabel('Затраты на одного нового игрока')\n",
    "\n",
    "for x, y in zip(range(len(cost_per_user['source'])), cost_per_user['per_user']):\n",
    "    plt.annotate(f'{y:.2f}', (x,y), textcoords=\"offset points\", xytext=(0,-15), ha='center', color='white', fontsize=12)\n",
    "\n",
    "plt.show()"
   ]
  },
  {
   "cell_type": "markdown",
   "metadata": {},
   "source": [
    "Лучше всего по показателю \"средние затраты на привлечение одного пользователя\" работает реклама в источниках *yandex_direct* и *youtube_channel_reklama*."
   ]
  },
  {
   "cell_type": "markdown",
   "metadata": {},
   "source": [
    "### Исследования влияния событий на совершение целевого действия  \n",
    "\n",
    "Целевое событие - завершение первого уровня. Исследуем группы пользователей с разными стратегиями. Посмотрим на то, кто сколько каких объектов строит в среднем."
   ]
  },
  {
   "cell_type": "code",
   "execution_count": 29,
   "metadata": {},
   "outputs": [
    {
     "data": {
      "text/html": [
       "<div>\n",
       "<style scoped>\n",
       "    .dataframe tbody tr th:only-of-type {\n",
       "        vertical-align: middle;\n",
       "    }\n",
       "\n",
       "    .dataframe tbody tr th {\n",
       "        vertical-align: top;\n",
       "    }\n",
       "\n",
       "    .dataframe thead th {\n",
       "        text-align: right;\n",
       "    }\n",
       "</style>\n",
       "<table border=\"1\" class=\"dataframe\">\n",
       "  <thead>\n",
       "    <tr style=\"text-align: right;\">\n",
       "      <th></th>\n",
       "      <th>strategy</th>\n",
       "      <th>building_type</th>\n",
       "      <th>events_count</th>\n",
       "      <th>unique_users_count</th>\n",
       "      <th>avg_events</th>\n",
       "    </tr>\n",
       "  </thead>\n",
       "  <tbody>\n",
       "    <tr>\n",
       "      <td>0</td>\n",
       "      <td>not_finished</td>\n",
       "      <td>assembly_shop</td>\n",
       "      <td>29080</td>\n",
       "      <td>7759</td>\n",
       "      <td>3.747906</td>\n",
       "    </tr>\n",
       "    <tr>\n",
       "      <td>1</td>\n",
       "      <td>not_finished</td>\n",
       "      <td>research_center</td>\n",
       "      <td>6685</td>\n",
       "      <td>3463</td>\n",
       "      <td>1.930407</td>\n",
       "    </tr>\n",
       "    <tr>\n",
       "      <td>2</td>\n",
       "      <td>not_finished</td>\n",
       "      <td>spaceport</td>\n",
       "      <td>31405</td>\n",
       "      <td>7471</td>\n",
       "      <td>4.203587</td>\n",
       "    </tr>\n",
       "    <tr>\n",
       "      <td>3</td>\n",
       "      <td>project</td>\n",
       "      <td>assembly_shop</td>\n",
       "      <td>9116</td>\n",
       "      <td>1866</td>\n",
       "      <td>4.885316</td>\n",
       "    </tr>\n",
       "    <tr>\n",
       "      <td>4</td>\n",
       "      <td>project</td>\n",
       "      <td>research_center</td>\n",
       "      <td>3697</td>\n",
       "      <td>1866</td>\n",
       "      <td>1.981243</td>\n",
       "    </tr>\n",
       "    <tr>\n",
       "      <td>5</td>\n",
       "      <td>project</td>\n",
       "      <td>spaceport</td>\n",
       "      <td>10788</td>\n",
       "      <td>1866</td>\n",
       "      <td>5.781350</td>\n",
       "    </tr>\n",
       "    <tr>\n",
       "      <td>6</td>\n",
       "      <td>win</td>\n",
       "      <td>assembly_shop</td>\n",
       "      <td>16298</td>\n",
       "      <td>3951</td>\n",
       "      <td>4.125032</td>\n",
       "    </tr>\n",
       "    <tr>\n",
       "      <td>7</td>\n",
       "      <td>win</td>\n",
       "      <td>research_center</td>\n",
       "      <td>3755</td>\n",
       "      <td>2342</td>\n",
       "      <td>1.603330</td>\n",
       "    </tr>\n",
       "    <tr>\n",
       "      <td>8</td>\n",
       "      <td>win</td>\n",
       "      <td>spaceport</td>\n",
       "      <td>17132</td>\n",
       "      <td>3894</td>\n",
       "      <td>4.399589</td>\n",
       "    </tr>\n",
       "  </tbody>\n",
       "</table>\n",
       "</div>"
      ],
      "text/plain": [
       "       strategy    building_type  events_count  unique_users_count  avg_events\n",
       "0  not_finished    assembly_shop         29080                7759    3.747906\n",
       "1  not_finished  research_center          6685                3463    1.930407\n",
       "2  not_finished        spaceport         31405                7471    4.203587\n",
       "3       project    assembly_shop          9116                1866    4.885316\n",
       "4       project  research_center          3697                1866    1.981243\n",
       "5       project        spaceport         10788                1866    5.781350\n",
       "6           win    assembly_shop         16298                3951    4.125032\n",
       "7           win  research_center          3755                2342    1.603330\n",
       "8           win        spaceport         17132                3894    4.399589"
      ]
     },
     "execution_count": 29,
     "metadata": {},
     "output_type": "execute_result"
    }
   ],
   "source": [
    "actions_grouped_by_strategy = game_actions[\n",
    "    game_actions['event_type'] == 'building'\n",
    "].groupby(['strategy', 'building_type'])[['event_type', 'user_id']].agg(\n",
    "    {'event_type':'count', 'user_id':'nunique'}\n",
    ").reset_index()\n",
    "actions_grouped_by_strategy.columns = ['strategy', 'building_type', 'events_count', 'unique_users_count']\n",
    "actions_grouped_by_strategy['avg_events'] = actions_grouped_by_strategy['events_count'] / actions_grouped_by_strategy['unique_users_count']\n",
    "actions_grouped_by_strategy"
   ]
  },
  {
   "cell_type": "code",
   "execution_count": 30,
   "metadata": {},
   "outputs": [
    {
     "data": {
      "image/png": "[encoded data removed]",
      "text/plain": [
       "<Figure size 576x360 with 1 Axes>"
      ]
     },
     "metadata": {},
     "output_type": "display_data"
    }
   ],
   "source": [
    "plt.figure(figsize=(8, 5))\n",
    "\n",
    "sns.barplot(\n",
    "    x=actions_grouped_by_strategy['strategy'], \n",
    "    y=actions_grouped_by_strategy['avg_events'], \n",
    "    hue=actions_grouped_by_strategy['building_type']\n",
    ")\n",
    "\n",
    "plt.title('Среднее количество объектов разных типов, построенных игроками разных стратегий')\n",
    "plt.xlabel('Стратегия')\n",
    "plt.ylabel('Среднее количество объектов')\n",
    "\n",
    "plt.show()"
   ]
  },
  {
   "cell_type": "markdown",
   "metadata": {},
   "source": [
    "Судя по диаграмме, для реализации проекта требуется большее количество объектов всех типов, чем для победы над другим игроком.  \n",
    "Определим параметры показа рекламы, при которых достигается окупаемость маркетинговых вложений.  \n",
    "Параметры:\n",
    "- ad_cost_per_1000 - стоимость 1000 показов рекламы\n",
    "- ad_rate - процент экранов с выбором типа объекта, на которых будут показывать рекламу\n",
    "- ad_begin - номер объекта, начиная с которого будет показываться реклама"
   ]
  },
  {
   "cell_type": "code",
   "execution_count": 38,
   "metadata": {},
   "outputs": [],
   "source": [
    "# Функция, которая при помощи когорт осуществляет расчет ROMI\n",
    "\n",
    "def calculate_payback(game_actions, ad_costs, ad_cost_per_1000, ad_rate, ad_begin):\n",
    "    ad_profit = game_actions[game_actions['event_type'] == 'building'][['user_id', 'event_day', 'strategy']]\n",
    "    ad_profit['ad_profit'] = (ad_cost_per_1000 / 1000) * ad_rate\n",
    "    \n",
    "    builders_count = game_actions[game_actions['event_type'] == 'building']['user_id'].nunique()\n",
    "    \n",
    "    part = 1 - builders_count * ad_begin / game_actions[game_actions['event_type'] == 'building'].shape[0]\n",
    "    \n",
    "    ad_profit = ad_profit.sample(frac = part)\n",
    "    \n",
    "    daily_ad_costs = ad_costs.groupby('day')['cost'].sum().reset_index()\n",
    "    daily_ad_costs.columns = ['day', 'costs_sum']\n",
    "    daily_ad_costs['day'] = daily_ad_costs['day'] + datetime.timedelta(days=1)\n",
    "    \n",
    "    first_actions = ad_profit.groupby('user_id').agg({'event_day': 'min'}).reset_index()\n",
    "    first_actions.columns = ['user_id', 'first_action_day']\n",
    "    \n",
    "    cohort_sizes = (\n",
    "        first_actions.groupby('first_action_day')\n",
    "        .agg({'user_id': 'nunique'})\n",
    "        .reset_index()\n",
    "    )\n",
    "    cohort_sizes.columns = ['first_action_day', 'n_buyers']\n",
    "    \n",
    "    ad_profit = pd.merge(ad_profit, first_actions, on='user_id')\n",
    "    \n",
    "    cohorts = (\n",
    "        ad_profit.groupby(['first_action_day', 'event_day'])\n",
    "        .agg({'ad_profit': 'sum'})\n",
    "        .reset_index()\n",
    "    )\n",
    "    \n",
    "    report = pd.merge(cohort_sizes, cohorts, on='first_action_day')\n",
    "    report['age'] = (\n",
    "        report['event_day'] - report['first_action_day']\n",
    "    ) / np.timedelta64(1, 'D')\n",
    "    report['age'] = report['age'].round().astype('int')\n",
    "    report['ltv'] = report['ad_profit'] / report['n_buyers']\n",
    "    report['first_action_day'] = pd.to_datetime(report['first_action_day'])\n",
    "    \n",
    "    report = report.merge(daily_ad_costs, how='left', left_on='first_action_day', right_on='day')\n",
    "    report['cac'] = report['costs_sum'] / report['n_buyers']\n",
    "    report['romi'] = report['ltv'] / report['cac']\n",
    "    \n",
    "    output = report.pivot_table(\n",
    "        index='first_action_day', columns='age', values='romi', aggfunc='mean'\n",
    "    )\n",
    "    \n",
    "    return (pd.DataFrame(output.cumsum(axis=1).mean(axis=0)), report)"
   ]
  },
  {
   "cell_type": "markdown",
   "metadata": {},
   "source": [
    "Ниже исследуются комбинации параметров *ad_rate* и *ad_begin* в следующих диапазонах:\n",
    "- ad_rate от 0.1 до 1\n",
    "- ad_begin от 0 до 6"
   ]
  },
  {
   "cell_type": "code",
   "execution_count": 39,
   "metadata": {
    "scrolled": false
   },
   "outputs": [
    {
     "name": "stdout",
     "output_type": "stream",
     "text": [
      "ad_rate=0.1, ad_begin=0: не окупается\n",
      "ad_rate=0.1, ad_begin=1: не окупается\n",
      "ad_rate=0.1, ad_begin=2: не окупается\n",
      "ad_rate=0.1, ad_begin=3: не окупается\n",
      "ad_rate=0.1, ad_begin=4: не окупается\n",
      "ad_rate=0.1, ad_begin=5: не окупается\n",
      "ad_rate=0.1, ad_begin=6: не окупается\n",
      "ad_rate=0.2, ad_begin=0: не окупается\n",
      "ad_rate=0.2, ad_begin=1: не окупается\n",
      "ad_rate=0.2, ad_begin=2: не окупается\n",
      "ad_rate=0.2, ad_begin=3: не окупается\n",
      "ad_rate=0.2, ad_begin=4: не окупается\n",
      "ad_rate=0.2, ad_begin=5: не окупается\n",
      "ad_rate=0.2, ad_begin=6: не окупается\n",
      "ad_rate=0.3, ad_begin=0: не окупается\n",
      "ad_rate=0.3, ad_begin=1: не окупается\n",
      "ad_rate=0.3, ad_begin=2: не окупается\n",
      "ad_rate=0.3, ad_begin=3: не окупается\n",
      "ad_rate=0.3, ad_begin=4: не окупается\n",
      "ad_rate=0.3, ad_begin=5: не окупается\n",
      "ad_rate=0.3, ad_begin=6: не окупается\n",
      "\n",
      "            ad_rate=0.4, ad_begin=0: \n",
      "            payback age= 31, \n",
      "            max_romi=1.028,\n",
      "            max_romi_age=31\n",
      "ad_rate=0.4, ad_begin=1: не окупается\n",
      "ad_rate=0.4, ad_begin=2: не окупается\n",
      "ad_rate=0.4, ad_begin=3: не окупается\n",
      "ad_rate=0.4, ad_begin=4: не окупается\n",
      "ad_rate=0.4, ad_begin=5: не окупается\n",
      "ad_rate=0.4, ad_begin=6: не окупается\n",
      "\n",
      "            ad_rate=0.5, ad_begin=0: \n",
      "            payback age= 18, \n",
      "            max_romi=1.285,\n",
      "            max_romi_age=31\n",
      "\n",
      "            ad_rate=0.5, ad_begin=1: \n",
      "            payback age= 24, \n",
      "            max_romi=1.071,\n",
      "            max_romi_age=30\n",
      "ad_rate=0.5, ad_begin=2: не окупается\n",
      "ad_rate=0.5, ad_begin=3: не окупается\n",
      "ad_rate=0.5, ad_begin=4: не окупается\n",
      "ad_rate=0.5, ad_begin=5: не окупается\n",
      "ad_rate=0.5, ad_begin=6: не окупается\n",
      "\n",
      "            ad_rate=0.6, ad_begin=0: \n",
      "            payback age= 9, \n",
      "            max_romi=1.542,\n",
      "            max_romi_age=31\n",
      "\n",
      "            ad_rate=0.6, ad_begin=1: \n",
      "            payback age= 10, \n",
      "            max_romi=1.290,\n",
      "            max_romi_age=31\n",
      "\n",
      "            ad_rate=0.6, ad_begin=2: \n",
      "            payback age= 11, \n",
      "            max_romi=1.202,\n",
      "            max_romi_age=29\n",
      "\n",
      "            ad_rate=0.6, ad_begin=3: \n",
      "            payback age= 12, \n",
      "            max_romi=1.091,\n",
      "            max_romi_age=30\n",
      "ad_rate=0.6, ad_begin=4: не окупается\n",
      "ad_rate=0.6, ad_begin=5: не окупается\n",
      "ad_rate=0.6, ad_begin=6: не окупается\n",
      "\n",
      "            ad_rate=0.7, ad_begin=0: \n",
      "            payback age= 7, \n",
      "            max_romi=1.799,\n",
      "            max_romi_age=31\n",
      "\n",
      "            ad_rate=0.7, ad_begin=1: \n",
      "            payback age= 7, \n",
      "            max_romi=1.508,\n",
      "            max_romi_age=31\n",
      "\n",
      "            ad_rate=0.7, ad_begin=2: \n",
      "            payback age= 8, \n",
      "            max_romi=1.348,\n",
      "            max_romi_age=28\n",
      "\n",
      "            ad_rate=0.7, ad_begin=3: \n",
      "            payback age= 8, \n",
      "            max_romi=1.219,\n",
      "            max_romi_age=21\n",
      "\n",
      "            ad_rate=0.7, ad_begin=4: \n",
      "            payback age= 10, \n",
      "            max_romi=1.124,\n",
      "            max_romi_age=21\n",
      "\n",
      "            ad_rate=0.7, ad_begin=5: \n",
      "            payback age= 12, \n",
      "            max_romi=1.043,\n",
      "            max_romi_age=22\n",
      "ad_rate=0.7, ad_begin=6: не окупается\n",
      "\n",
      "            ad_rate=0.8, ad_begin=0: \n",
      "            payback age= 6, \n",
      "            max_romi=2.056,\n",
      "            max_romi_age=31\n",
      "\n",
      "            ad_rate=0.8, ad_begin=1: \n",
      "            payback age= 6, \n",
      "            max_romi=1.719,\n",
      "            max_romi_age=30\n",
      "\n",
      "            ad_rate=0.8, ad_begin=2: \n",
      "            payback age= 6, \n",
      "            max_romi=1.521,\n",
      "            max_romi_age=27\n",
      "\n",
      "            ad_rate=0.8, ad_begin=3: \n",
      "            payback age= 6, \n",
      "            max_romi=1.404,\n",
      "            max_romi_age=23\n",
      "\n",
      "            ad_rate=0.8, ad_begin=4: \n",
      "            payback age= 7, \n",
      "            max_romi=1.439,\n",
      "            max_romi_age=28\n",
      "\n",
      "            ad_rate=0.8, ad_begin=5: \n",
      "            payback age= 8, \n",
      "            max_romi=1.209,\n",
      "            max_romi_age=21\n",
      "\n",
      "            ad_rate=0.8, ad_begin=6: \n",
      "            payback age= 12, \n",
      "            max_romi=1.038,\n",
      "            max_romi_age=21\n",
      "\n",
      "            ad_rate=0.9, ad_begin=0: \n",
      "            payback age= 5, \n",
      "            max_romi=2.313,\n",
      "            max_romi_age=31\n",
      "\n",
      "            ad_rate=0.9, ad_begin=1: \n",
      "            payback age= 5, \n",
      "            max_romi=1.930,\n",
      "            max_romi_age=30\n",
      "\n",
      "            ad_rate=0.9, ad_begin=2: \n",
      "            payback age= 5, \n",
      "            max_romi=1.764,\n",
      "            max_romi_age=30\n",
      "\n",
      "            ad_rate=0.9, ad_begin=3: \n",
      "            payback age= 5, \n",
      "            max_romi=1.587,\n",
      "            max_romi_age=20\n",
      "\n",
      "            ad_rate=0.9, ad_begin=4: \n",
      "            payback age= 6, \n",
      "            max_romi=1.645,\n",
      "            max_romi_age=29\n",
      "\n",
      "            ad_rate=0.9, ad_begin=5: \n",
      "            payback age= 6, \n",
      "            max_romi=1.347,\n",
      "            max_romi_age=23\n",
      "\n",
      "            ad_rate=0.9, ad_begin=6: \n",
      "            payback age= 8, \n",
      "            max_romi=1.392,\n",
      "            max_romi_age=25\n",
      "\n",
      "            ad_rate=1.0, ad_begin=0: \n",
      "            payback age= 4, \n",
      "            max_romi=2.570,\n",
      "            max_romi_age=31\n",
      "\n",
      "            ad_rate=1.0, ad_begin=1: \n",
      "            payback age= 4, \n",
      "            max_romi=2.144,\n",
      "            max_romi_age=30\n",
      "\n",
      "            ad_rate=1.0, ad_begin=2: \n",
      "            payback age= 4, \n",
      "            max_romi=2.003,\n",
      "            max_romi_age=28\n",
      "\n",
      "            ad_rate=1.0, ad_begin=3: \n",
      "            payback age= 5, \n",
      "            max_romi=1.885,\n",
      "            max_romi_age=29\n",
      "\n",
      "            ad_rate=1.0, ad_begin=4: \n",
      "            payback age= 5, \n",
      "            max_romi=1.628,\n",
      "            max_romi_age=21\n",
      "\n",
      "            ad_rate=1.0, ad_begin=5: \n",
      "            payback age= 5, \n",
      "            max_romi=1.582,\n",
      "            max_romi_age=28\n",
      "\n",
      "            ad_rate=1.0, ad_begin=6: \n",
      "            payback age= 6, \n",
      "            max_romi=1.435,\n",
      "            max_romi_age=28\n"
     ]
    }
   ],
   "source": [
    "for ad_rate in [x / 10 for x in range(1, 11)]:\n",
    "    for ad_begin in range(7):\n",
    "        payback_period, _ = calculate_payback(game_actions, ad_costs, 140, ad_rate, ad_begin)\n",
    "        payback_period = payback_period.reset_index()\n",
    "        payback_period.columns = ['age','romi']\n",
    "        payback_period = payback_period[payback_period[\"romi\"] > 1]\n",
    "        if payback_period.shape[0] != 0:\n",
    "            print(\n",
    "                f'''\n",
    "            ad_rate={ad_rate}, ad_begin={ad_begin}: \n",
    "            payback age= {payback_period.iloc[0]['age'].astype('int')}, \n",
    "            max_romi={payback_period['romi'].max():.3f},\n",
    "            max_romi_age={payback_period[payback_period['romi'] == payback_period['romi'].max()]['age'].values[0]}'''\n",
    "                 )\n",
    "        else:\n",
    "            print(f'ad_rate={ad_rate}, ad_begin={ad_begin}: не окупается')"
   ]
  },
  {
   "cell_type": "markdown",
   "metadata": {},
   "source": [
    "*payback_age* показывает день, на который окупаются маркетинговые затраты;  \n",
    "*max_romi* показывает максимальное значение ROMI для данной комбинации параметров;  \n",
    "*max_romi_age* показывает день, на который достигается максимальное значение ROMI.  \n",
    "\n",
    "Общая тенденция: чем более агрессивная реклама (показывается при каждой постройке объекта, начиная с первого), тем быстрее окупится реклама и тем больше будет конечный ROMI. Однако в таком случае велика вероятность потерять лояльность игроков, утомив их рекламой.  \n",
    "\n",
    "Если есть определенный уровень ROMI, который необходимо достигнуть, то по выводу выше можно понять какое сочетание параметров стоит использовать.  \n",
    "\n",
    "Для того, чтобы выявить влияние выбранных параметров показа рекламы на лояльность игроков, необходимо провести несколько A/B-тестов."
   ]
  },
  {
   "cell_type": "markdown",
   "metadata": {},
   "source": [
    "Изучим время, которое прошло между первым и последним событием каждого игрока. На всякий случай обратим внимание и на игроков, которые не завершили первый уровень.  \n",
    "\n",
    "Последнее событие каждого завершившего первый уровень игрока - *finished_stage_1*. Для игроков, не завершивших первый уровень, учитывается время между первым и последним событием."
   ]
  },
  {
   "cell_type": "code",
   "execution_count": 40,
   "metadata": {},
   "outputs": [
    {
     "data": {
      "text/html": [
       "<div>\n",
       "<style scoped>\n",
       "    .dataframe tbody tr th:only-of-type {\n",
       "        vertical-align: middle;\n",
       "    }\n",
       "\n",
       "    .dataframe tbody tr th {\n",
       "        vertical-align: top;\n",
       "    }\n",
       "\n",
       "    .dataframe thead th {\n",
       "        text-align: right;\n",
       "    }\n",
       "</style>\n",
       "<table border=\"1\" class=\"dataframe\">\n",
       "  <thead>\n",
       "    <tr style=\"text-align: right;\">\n",
       "      <th></th>\n",
       "      <th>user_id</th>\n",
       "      <th>strategy</th>\n",
       "      <th>first_event_dt</th>\n",
       "      <th>last_event_dt</th>\n",
       "      <th>delta_dt</th>\n",
       "      <th>delta_int</th>\n",
       "    </tr>\n",
       "  </thead>\n",
       "  <tbody>\n",
       "    <tr>\n",
       "      <td>0</td>\n",
       "      <td>0001f83c-c6ac-4621-b7f0-8a28b283ac30</td>\n",
       "      <td>not_finished</td>\n",
       "      <td>2020-05-06 01:07:37</td>\n",
       "      <td>2020-05-20 11:26:06</td>\n",
       "      <td>14 days 10:18:29</td>\n",
       "      <td>1246709000000000</td>\n",
       "    </tr>\n",
       "    <tr>\n",
       "      <td>1</td>\n",
       "      <td>00151b4f-ba38-44a8-a650-d7cf130a0105</td>\n",
       "      <td>not_finished</td>\n",
       "      <td>2020-05-06 03:09:12</td>\n",
       "      <td>2020-05-18 10:46:52</td>\n",
       "      <td>12 days 07:37:40</td>\n",
       "      <td>1064260000000000</td>\n",
       "    </tr>\n",
       "    <tr>\n",
       "      <td>2</td>\n",
       "      <td>001aaea6-3d14-43f1-8ca8-7f48820f17aa</td>\n",
       "      <td>not_finished</td>\n",
       "      <td>2020-05-05 18:08:52</td>\n",
       "      <td>2020-05-14 09:21:27</td>\n",
       "      <td>8 days 15:12:35</td>\n",
       "      <td>745955000000000</td>\n",
       "    </tr>\n",
       "    <tr>\n",
       "      <td>3</td>\n",
       "      <td>001d39dc-366c-4021-9604-6a3b9ff01e25</td>\n",
       "      <td>win</td>\n",
       "      <td>2020-05-05 21:02:05</td>\n",
       "      <td>2020-05-12 07:40:47</td>\n",
       "      <td>6 days 10:38:42</td>\n",
       "      <td>556722000000000</td>\n",
       "    </tr>\n",
       "    <tr>\n",
       "      <td>4</td>\n",
       "      <td>002f508f-67b6-479f-814b-b05f00d4e995</td>\n",
       "      <td>not_finished</td>\n",
       "      <td>2020-05-05 13:49:58</td>\n",
       "      <td>2020-05-22 02:46:45</td>\n",
       "      <td>16 days 12:56:47</td>\n",
       "      <td>1429007000000000</td>\n",
       "    </tr>\n",
       "  </tbody>\n",
       "</table>\n",
       "</div>"
      ],
      "text/plain": [
       "                                user_id      strategy      first_event_dt  \\\n",
       "0  0001f83c-c6ac-4621-b7f0-8a28b283ac30  not_finished 2020-05-06 01:07:37   \n",
       "1  00151b4f-ba38-44a8-a650-d7cf130a0105  not_finished 2020-05-06 03:09:12   \n",
       "2  001aaea6-3d14-43f1-8ca8-7f48820f17aa  not_finished 2020-05-05 18:08:52   \n",
       "3  001d39dc-366c-4021-9604-6a3b9ff01e25           win 2020-05-05 21:02:05   \n",
       "4  002f508f-67b6-479f-814b-b05f00d4e995  not_finished 2020-05-05 13:49:58   \n",
       "\n",
       "        last_event_dt         delta_dt         delta_int  \n",
       "0 2020-05-20 11:26:06 14 days 10:18:29  1246709000000000  \n",
       "1 2020-05-18 10:46:52 12 days 07:37:40  1064260000000000  \n",
       "2 2020-05-14 09:21:27  8 days 15:12:35   745955000000000  \n",
       "3 2020-05-12 07:40:47  6 days 10:38:42   556722000000000  \n",
       "4 2020-05-22 02:46:45 16 days 12:56:47  1429007000000000  "
      ]
     },
     "execution_count": 40,
     "metadata": {},
     "output_type": "execute_result"
    }
   ],
   "source": [
    "time_of_play = game_actions.groupby(['user_id', 'strategy'])['event_datetime'].agg(['first', 'last']).reset_index()\n",
    "time_of_play.columns = ['user_id', 'strategy', 'first_event_dt', 'last_event_dt']\n",
    "time_of_play['delta_dt'] = time_of_play['last_event_dt'] - time_of_play['first_event_dt']\n",
    "time_of_play['delta_int'] = time_of_play['delta_dt'].astype(np.int64)\n",
    "time_of_play.head(5)"
   ]
  },
  {
   "cell_type": "code",
   "execution_count": 41,
   "metadata": {},
   "outputs": [
    {
     "data": {
      "image/png": "[encoded data removed]",
      "text/plain": [
       "<Figure size 576x360 with 1 Axes>"
      ]
     },
     "metadata": {},
     "output_type": "display_data"
    }
   ],
   "source": [
    "plt.figure(figsize=(8, 5))\n",
    "sns.violinplot(x=time_of_play['strategy'], y=time_of_play['delta_dt'].astype('timedelta64[D]'))\n",
    "plt.title('Количество дней, прошедшее между первым и последним событием')\n",
    "plt.xlabel('Стратегия')\n",
    "plt.ylabel('Количество дней, штук')\n",
    "\n",
    "plt.show()"
   ]
  },
  {
   "cell_type": "markdown",
   "metadata": {},
   "source": [
    "Выводы:\n",
    "- Распределения близки к нормальным, но у всех стратегий есть тяжелые правые хвосты\n",
    "- Дисперсии выборок сильно различаются\n",
    "- Некоторые игроки одержали победу над своим противником практически сразу\n",
    "- Для завершения проекта требовалось минимум 4 дня\n",
    "- Игроки, не завершившие первый уровень, всё равно проводили в игре достаточно много времени с точки зрения разности между первым и последним событием  "
   ]
  },
  {
   "cell_type": "markdown",
   "metadata": {},
   "source": [
    "### Проверка гипотез\n",
    "\n",
    "Проверим гипотезу различия времени прохождения уровня между пользователями, которые заканчивают уровень через реализацию проекта, и пользователями, которые заканчивают уровень победой над другим игроком.  \n",
    "Сформируем нулевую и альтернативную гипотезы:\n",
    "- H0 - различий нет\n",
    "- H1 - различия есть  \n",
    "\n",
    "Для проверки различия средних значений двух выборок подходит метод scipy.stats.ttest_ind(), проверять будем двухстороннюю гипотезу.  \n",
    "\n",
    "Вычислим среднее время между первым и последним событием.  "
   ]
  },
  {
   "cell_type": "code",
   "execution_count": 42,
   "metadata": {},
   "outputs": [
    {
     "data": {
      "text/html": [
       "<div>\n",
       "<style scoped>\n",
       "    .dataframe tbody tr th:only-of-type {\n",
       "        vertical-align: middle;\n",
       "    }\n",
       "\n",
       "    .dataframe tbody tr th {\n",
       "        vertical-align: top;\n",
       "    }\n",
       "\n",
       "    .dataframe thead th {\n",
       "        text-align: right;\n",
       "    }\n",
       "</style>\n",
       "<table border=\"1\" class=\"dataframe\">\n",
       "  <thead>\n",
       "    <tr style=\"text-align: right;\">\n",
       "      <th></th>\n",
       "      <th>strategy</th>\n",
       "      <th>delta_int</th>\n",
       "      <th>delta_dt</th>\n",
       "    </tr>\n",
       "  </thead>\n",
       "  <tbody>\n",
       "    <tr>\n",
       "      <td>0</td>\n",
       "      <td>not_finished</td>\n",
       "      <td>8.456983e+14</td>\n",
       "      <td>9 days 18:54:58.255445</td>\n",
       "    </tr>\n",
       "    <tr>\n",
       "      <td>1</td>\n",
       "      <td>project</td>\n",
       "      <td>1.162849e+15</td>\n",
       "      <td>13 days 11:00:49.135048</td>\n",
       "    </tr>\n",
       "    <tr>\n",
       "      <td>2</td>\n",
       "      <td>win</td>\n",
       "      <td>9.594241e+14</td>\n",
       "      <td>11 days 02:30:24.076183</td>\n",
       "    </tr>\n",
       "  </tbody>\n",
       "</table>\n",
       "</div>"
      ],
      "text/plain": [
       "       strategy     delta_int                delta_dt\n",
       "0  not_finished  8.456983e+14  9 days 18:54:58.255445\n",
       "1       project  1.162849e+15 13 days 11:00:49.135048\n",
       "2           win  9.594241e+14 11 days 02:30:24.076183"
      ]
     },
     "execution_count": 42,
     "metadata": {},
     "output_type": "execute_result"
    }
   ],
   "source": [
    "delta_grouped_by_strategy = time_of_play.groupby('strategy')['delta_int'].mean().reset_index()\n",
    "delta_grouped_by_strategy.columns = ['strategy', 'delta_int']\n",
    "delta_grouped_by_strategy['delta_dt'] = pd.to_timedelta(delta_grouped_by_strategy['delta_int'])\n",
    "delta_grouped_by_strategy"
   ]
  },
  {
   "cell_type": "markdown",
   "metadata": {},
   "source": [
    "Разница видна, однако значима ли она?  \n",
    "\n",
    "Сформируем выборки."
   ]
  },
  {
   "cell_type": "code",
   "execution_count": 43,
   "metadata": {},
   "outputs": [],
   "source": [
    "delta_project = time_of_play[time_of_play['strategy'] == 'project']['delta_int']\n",
    "delta_win = time_of_play[time_of_play['strategy'] == 'win']['delta_int']"
   ]
  },
  {
   "cell_type": "markdown",
   "metadata": {},
   "source": [
    "Параметр *alpha* установим в 0.05. Выборки имеют разные дисперсии, поэтому параметр *equal_var* равен False."
   ]
  },
  {
   "cell_type": "code",
   "execution_count": 44,
   "metadata": {},
   "outputs": [
    {
     "name": "stdout",
     "output_type": "stream",
     "text": [
      "p-значение: 5.708058235070199e-107\n",
      "Отвергаем нулевую гипотезу\n"
     ]
    }
   ],
   "source": [
    "alpha = 0.05\n",
    "\n",
    "results = st.ttest_ind(delta_project, delta_win, equal_var=False)\n",
    "\n",
    "print('p-значение:', results.pvalue)\n",
    "\n",
    "if (results.pvalue < alpha):\n",
    "    print(\"Отвергаем нулевую гипотезу\")\n",
    "else:\n",
    "    print(\"Не получилось отвергнуть нулевую гипотезу\")"
   ]
  },
  {
   "cell_type": "markdown",
   "metadata": {},
   "source": [
    "p-value крайне мало, что даёт основания отвергнуть нулевую гипотезу в пользу альтернативной. **Разница** во времени прохождения уровня между пользователями, которые заканчивают уровень через реализацию проекта, и пользователями, которые заканчивают уровень победой над другим игроком, **есть**."
   ]
  },
  {
   "cell_type": "markdown",
   "metadata": {},
   "source": [
    "Проверим еще одну гипотезу.\n",
    "Гипотеза: доли пользователей, закончивших первый уровень, не различаются в зависимости от источника, из которого пришел пользователь.  \n",
    "- H0 - доли не различаются\n",
    "- H1 - доли различаются\n",
    "\n",
    "Для проверки долей воспользуемся z-тестом.\n",
    "\n",
    "Сформируем выборки."
   ]
  },
  {
   "cell_type": "code",
   "execution_count": 45,
   "metadata": {},
   "outputs": [],
   "source": [
    "user_source_strategy = user_source.merge(strategies, how='left', on='user_id')"
   ]
  },
  {
   "cell_type": "code",
   "execution_count": 46,
   "metadata": {},
   "outputs": [],
   "source": [
    "fb_source = user_source_strategy[user_source_strategy['source'] == 'facebook_ads']\n",
    "yandex_source = user_source_strategy[user_source_strategy['source'] == 'yandex_direct']\n",
    "youtube_source = user_source_strategy[user_source_strategy['source'] == 'youtube_channel_reklama']\n",
    "inst_source = user_source_strategy[user_source_strategy['source'] == 'instagram_new_adverts']"
   ]
  },
  {
   "cell_type": "markdown",
   "metadata": {},
   "source": [
    "Используем созданную в других проектах функцию для проведения z-тестов."
   ]
  },
  {
   "cell_type": "code",
   "execution_count": 47,
   "metadata": {},
   "outputs": [],
   "source": [
    "def z_test(sample_1, sample_2):\n",
    "    \n",
    "    # Список с количеством уникальных пользователей в каждой группе\n",
    "    trials = [sample_1['user_id'].nunique(), sample_2['user_id'].nunique()]\n",
    "    \n",
    "    # Список с количеством уникальных пользователей в каждой группе, прошедших первый уровень\n",
    "    successes = [\n",
    "        sample_1[sample_1['strategy'] != 'not_finished']['user_id'].nunique(), \n",
    "        sample_2[sample_2['strategy'] != 'not_finished']['user_id'].nunique()\n",
    "    ]\n",
    "    \n",
    "    success_rates = [successes[0] / trials[0], successes[1] / trials[1]]\n",
    "    \n",
    "    combined_success_rate = sum(successes) / sum(trials)\n",
    "    \n",
    "    difference = success_rates[0] - success_rates[1]\n",
    "    \n",
    "    z_value = difference / mth.sqrt(combined_success_rate * (1 - combined_success_rate) * (1 / trials[0] + 1 / trials[1]))\n",
    "    \n",
    "    distr = st.norm(0, 1)\n",
    "    \n",
    "    p_value = (1 - distr.cdf(abs(z_value))) * 2\n",
    "    \n",
    "    return p_value, success_rates"
   ]
  },
  {
   "cell_type": "markdown",
   "metadata": {},
   "source": [
    "Для каждой пары источников проведем z-тест для выявления различий в долях игроков, прошедших первый уровень.  \n",
    "Так как выполняется множественное сравнение, необходимо скорректировать p_value или параметр alpha. В данном случае при помощи метода smt.multipletests() были скорректированы полученные p_value."
   ]
  },
  {
   "cell_type": "code",
   "execution_count": 48,
   "metadata": {},
   "outputs": [
    {
     "name": "stdout",
     "output_type": "stream",
     "text": [
      "Success rates for Facebook-Yandex: 42.19%, 42.39%\n",
      "p-value: 1.000\n",
      "\u001b[32mНе получилось отвергнуть нулевую гипотезу:\u001b[0m нет оснований считать доли разными\n",
      "\n",
      "Success rates for Facebook-Youtube: 42.19%, 43.15%\n",
      "p-value: 1.000\n",
      "\u001b[32mНе получилось отвергнуть нулевую гипотезу:\u001b[0m нет оснований считать доли разными\n",
      "\n",
      "Success rates for Facebook-Instagram: 42.19%, 43.80%\n",
      "p-value: 1.000\n",
      "\u001b[32mНе получилось отвергнуть нулевую гипотезу:\u001b[0m нет оснований считать доли разными\n",
      "\n",
      "Success rates for Yandex-Youtube: 42.39%, 43.15%\n",
      "p-value: 1.000\n",
      "\u001b[32mНе получилось отвергнуть нулевую гипотезу:\u001b[0m нет оснований считать доли разными\n",
      "\n",
      "Success rates for Yandex-Instagram: 42.39%, 43.80%\n",
      "p-value: 1.000\n",
      "\u001b[32mНе получилось отвергнуть нулевую гипотезу:\u001b[0m нет оснований считать доли разными\n",
      "\n",
      "Success rates for Youtube-Instagram: 43.15%, 43.80%\n",
      "p-value: 1.000\n",
      "\u001b[32mНе получилось отвергнуть нулевую гипотезу:\u001b[0m нет оснований считать доли разными\n",
      "\n"
     ]
    }
   ],
   "source": [
    "samples_pairs = [\n",
    "    (fb_source, yandex_source, 'Facebook', 'Yandex'),\n",
    "    (fb_source, youtube_source, 'Facebook', 'Youtube'),\n",
    "    (fb_source, inst_source, 'Facebook', 'Instagram'),\n",
    "    (yandex_source, youtube_source, 'Yandex', 'Youtube'),\n",
    "    (yandex_source, inst_source, 'Yandex', 'Instagram'),\n",
    "    (youtube_source, inst_source, 'Youtube', 'Instagram')\n",
    "]\n",
    "\n",
    "p_values = []\n",
    "successes_rates = []\n",
    "for sample_1, sample_2, name_1, name_2 in samples_pairs:\n",
    "    \n",
    "    p_value, success_rates = z_test(sample_1, sample_2)\n",
    "    \n",
    "    p_values.append(p_value)\n",
    "    successes_rates.append((success_rates, f'{name_1}-{name_2}'))\n",
    "    \n",
    "p_values_corrected = smt.multipletests(p_values, alpha=0.05, method='holm')\n",
    "\n",
    "alpha = 0.05\n",
    "\n",
    "for p_value, success_rates in zip(p_values_corrected[1], successes_rates):\n",
    "    print(f'Success rates for {success_rates[1]}: {success_rates[0][0]:.2%}, {success_rates[0][1]:.2%}')\n",
    "    print(f'p-value: {p_value:.3f}')\n",
    "    if p_value < alpha:\n",
    "        print(colored('Отвергаем нулевую гипотезу:', 'red'), 'между долями есть значимая разница')\n",
    "    else:\n",
    "        print(colored('Не получилось отвергнуть нулевую гипотезу:', 'green'), 'нет оснований считать доли разными')\n",
    "    print()"
   ]
  },
  {
   "cell_type": "markdown",
   "metadata": {},
   "source": [
    "Как видно, доли действительно очень близки. Ни для одной пары источников нулевая гипотеза не была отвергнута."
   ]
  },
  {
   "cell_type": "markdown",
   "metadata": {},
   "source": [
    "### Итоговый вывод\n",
    "\n",
    "- Первый уровень завершили: 5817 игроков (43%)\n",
    "    - Победой над игроком: 3951 (68% от завершивших первый уровень)\n",
    "    - Реализацией проекта: 1866 (32% от завершивших первый уровень)\n",
    "- Не завершили первый уровень: 7759 (57%)\n",
    "\n",
    "Стратегия \"победа над другим игроком\" более выгодная, так как требует постройки меньшего количества объектов. По этой причине её выбрало большинство пользователей, завершивших первый уровень.\n",
    "\n",
    "Затраты на рекламу в источниках:\n",
    "- Затраты на источники facebook_ads, instagram_new_adverts и yandex_direct примерно одинаковы\n",
    "- Затраты на источник youtube_channel_reklama примерно вдвое меньше, чем затраты на остальные источники  \n",
    "\n",
    "Стоит обратить внимание на рекламу в источниках *youtube_channel_reklama* и *yandex_direct*, так как эти источники наиболее эффективные. Средние затраты на привлечение одного пользователя:\n",
    "- youtube_channel_reklama: 0.40\n",
    "- yandex_direct: 0.46\n",
    "- instagram_new_adverts: 0.65\n",
    "- facebook_ads: 0.79  \n",
    "\n",
    "Время, проведенное в игре, до завершения первого уровня:\n",
    "- Игроки тратили от 0 до 30 дней\n",
    "- В среднем первый уровень требовал 10-ти дней игры\n",
    "- Некоторые игроки одержали победу над своим противником практически сразу\n",
    "- Для завершения проекта требовалось минимум 4 дня\n",
    "- Игроки, не завершившие первый уровень, всё равно проводили в игре достаточно много времени с точки зрения разности между первым и последним событием  \n",
    "\n",
    "Модель монетизации (если 1000 показов рекламы стоит 140 у.е.):\n",
    "- Если показывать рекламу на 3-ёх экранах постройки объектов из 10-ти и реже, то маркетинговые затраты не окупаются\n",
    "- Если показывать рекламу на 8-и экранах постройки объектов из 10-ти и чаще, то маркетинговые затраты окупаются в любом случае\n",
    "- Окупаемость в остальных случаях зависит от сочетания параметров *частота показа рекламы* и *номер экрана постройки, с которого начинать показывать рекламу*  \n",
    "\n",
    "Проверка гипотез:\n",
    "- Разница во времени, требуемом для завершения первого уровня, между стратегиями *win* и *project* составляет 2 дня и 7 с половиной часов в пользу стратегии *win*. Проверка гипотез показала, что данная разница статистически значима, что объясняет выбор игроков в пользу стратегии *win*\n",
    "- Доли пользователей, закончивших первый уровень, **не различаются** в зависимости от источника, из которого пришел пользователь. Это, а также тот факт, что некоторые источники более эффективны, наталкивают на мысль о перераспределении бюджета в пользу более эффективных источников"
   ]
  }
 ],
 "metadata": {
  "ExecuteTimeLog": [
   {
    "duration": 539,
    "start_time": "2021-07-13T10:32:45.675Z"
   },
   {
    "duration": 184,
    "start_time": "2021-07-13T10:33:13.046Z"
   },
   {
    "duration": 4,
    "start_time": "2021-07-13T10:33:14.385Z"
   },
   {
    "duration": 2389,
    "start_time": "2021-07-13T10:33:51.065Z"
   },
   {
    "duration": -1545,
    "start_time": "2021-07-13T10:33:55.001Z"
   },
   {
    "duration": 220,
    "start_time": "2021-07-13T10:34:45.412Z"
   },
   {
    "duration": 4,
    "start_time": "2021-07-13T10:34:46.792Z"
   },
   {
    "duration": 1278,
    "start_time": "2021-07-13T10:35:43.461Z"
   },
   {
    "duration": 216,
    "start_time": "2021-07-13T10:35:55.468Z"
   },
   {
    "duration": 4,
    "start_time": "2021-07-13T10:35:57.205Z"
   },
   {
    "duration": 144,
    "start_time": "2021-07-13T10:36:23.576Z"
   },
   {
    "duration": 11,
    "start_time": "2021-07-13T10:58:07.925Z"
   },
   {
    "duration": 274,
    "start_time": "2021-07-13T10:58:22.652Z"
   },
   {
    "duration": 714,
    "start_time": "2021-07-13T10:58:28.715Z"
   },
   {
    "duration": 70,
    "start_time": "2021-07-13T10:58:44.838Z"
   },
   {
    "duration": 418,
    "start_time": "2021-07-13T10:59:01.993Z"
   },
   {
    "duration": 103,
    "start_time": "2021-07-13T11:00:13.688Z"
   },
   {
    "duration": 63,
    "start_time": "2021-07-13T11:01:02.072Z"
   },
   {
    "duration": 72,
    "start_time": "2021-07-13T11:03:19.496Z"
   },
   {
    "duration": 31,
    "start_time": "2021-07-13T11:04:50.554Z"
   },
   {
    "duration": 8,
    "start_time": "2021-07-13T11:28:36.400Z"
   },
   {
    "duration": 19,
    "start_time": "2021-07-13T11:29:06.953Z"
   },
   {
    "duration": 21,
    "start_time": "2021-07-13T11:29:43.681Z"
   },
   {
    "duration": 17,
    "start_time": "2021-07-13T11:29:48.409Z"
   },
   {
    "duration": 18,
    "start_time": "2021-07-13T11:30:04.521Z"
   },
   {
    "duration": 12,
    "start_time": "2021-07-13T11:32:14.198Z"
   },
   {
    "duration": 10,
    "start_time": "2021-07-13T11:33:10.865Z"
   },
   {
    "duration": 15,
    "start_time": "2021-07-13T11:34:28.028Z"
   },
   {
    "duration": 13,
    "start_time": "2021-07-13T11:34:44.253Z"
   },
   {
    "duration": 13,
    "start_time": "2021-07-13T11:34:56.479Z"
   },
   {
    "duration": 13,
    "start_time": "2021-07-13T11:35:09.437Z"
   },
   {
    "duration": 10,
    "start_time": "2021-07-13T11:36:26.379Z"
   },
   {
    "duration": 15,
    "start_time": "2021-07-13T11:38:08.135Z"
   },
   {
    "duration": 12,
    "start_time": "2021-07-13T11:38:40.018Z"
   },
   {
    "duration": 6,
    "start_time": "2021-07-13T11:38:55.664Z"
   },
   {
    "duration": 9,
    "start_time": "2021-07-13T11:39:01.022Z"
   },
   {
    "duration": 38,
    "start_time": "2021-07-13T11:40:54.216Z"
   },
   {
    "duration": 29,
    "start_time": "2021-07-13T11:41:12.225Z"
   },
   {
    "duration": 26,
    "start_time": "2021-07-13T11:42:28.246Z"
   },
   {
    "duration": 28,
    "start_time": "2021-07-13T11:43:28.126Z"
   },
   {
    "duration": 284,
    "start_time": "2021-07-13T11:43:54.063Z"
   },
   {
    "duration": 28,
    "start_time": "2021-07-13T11:43:58.507Z"
   },
   {
    "duration": 10,
    "start_time": "2021-07-13T11:45:36.546Z"
   },
   {
    "duration": 5,
    "start_time": "2021-07-13T11:45:59.884Z"
   },
   {
    "duration": 9,
    "start_time": "2021-07-13T11:46:08.410Z"
   },
   {
    "duration": 11,
    "start_time": "2021-07-13T11:47:15.948Z"
   },
   {
    "duration": 11,
    "start_time": "2021-07-13T11:53:13.726Z"
   },
   {
    "duration": 9,
    "start_time": "2021-07-13T12:00:27.043Z"
   },
   {
    "duration": 12,
    "start_time": "2021-07-13T12:02:24.730Z"
   },
   {
    "duration": 3853,
    "start_time": "2021-07-13T12:02:27.457Z"
   },
   {
    "duration": 8,
    "start_time": "2021-07-13T12:02:38.049Z"
   },
   {
    "duration": 7,
    "start_time": "2021-07-13T12:02:56.431Z"
   },
   {
    "duration": 10,
    "start_time": "2021-07-13T12:03:28.269Z"
   },
   {
    "duration": 11,
    "start_time": "2021-07-13T12:03:32.371Z"
   },
   {
    "duration": 11,
    "start_time": "2021-07-13T12:04:03.592Z"
   },
   {
    "duration": 11,
    "start_time": "2021-07-13T12:04:03.810Z"
   },
   {
    "duration": 6,
    "start_time": "2021-07-13T12:04:04.552Z"
   },
   {
    "duration": 6,
    "start_time": "2021-07-13T12:04:13.668Z"
   },
   {
    "duration": 28,
    "start_time": "2021-07-13T12:04:18.559Z"
   },
   {
    "duration": 8,
    "start_time": "2021-07-13T12:04:36.985Z"
   },
   {
    "duration": 7,
    "start_time": "2021-07-13T12:04:47.180Z"
   },
   {
    "duration": 6,
    "start_time": "2021-07-13T12:05:13.249Z"
   },
   {
    "duration": 6,
    "start_time": "2021-07-13T12:05:13.785Z"
   },
   {
    "duration": 347,
    "start_time": "2021-07-13T12:12:32.701Z"
   },
   {
    "duration": 26,
    "start_time": "2021-07-13T12:13:01.745Z"
   },
   {
    "duration": 24,
    "start_time": "2021-07-13T12:13:17.105Z"
   },
   {
    "duration": 24,
    "start_time": "2021-07-13T12:13:26.358Z"
   },
   {
    "duration": 25,
    "start_time": "2021-07-13T12:14:03.757Z"
   },
   {
    "duration": 25,
    "start_time": "2021-07-13T12:14:53.638Z"
   },
   {
    "duration": 28,
    "start_time": "2021-07-13T12:15:03.210Z"
   },
   {
    "duration": 30,
    "start_time": "2021-07-13T12:15:09.272Z"
   },
   {
    "duration": 24,
    "start_time": "2021-07-13T12:15:14.840Z"
   },
   {
    "duration": 17,
    "start_time": "2021-07-13T12:15:18.517Z"
   },
   {
    "duration": 20,
    "start_time": "2021-07-13T12:46:17.242Z"
   },
   {
    "duration": 16,
    "start_time": "2021-07-13T12:46:42.438Z"
   },
   {
    "duration": 6653,
    "start_time": "2021-07-13T12:48:54.602Z"
   },
   {
    "duration": 20,
    "start_time": "2021-07-13T12:49:27.261Z"
   },
   {
    "duration": 25,
    "start_time": "2021-07-13T12:49:32.228Z"
   },
   {
    "duration": 29,
    "start_time": "2021-07-13T12:50:01.855Z"
   },
   {
    "duration": 26,
    "start_time": "2021-07-13T12:50:08.070Z"
   },
   {
    "duration": 586,
    "start_time": "2021-07-15T07:10:49.544Z"
   },
   {
    "duration": 235,
    "start_time": "2021-07-15T07:10:50.131Z"
   },
   {
    "duration": 3,
    "start_time": "2021-07-15T07:10:50.368Z"
   },
   {
    "duration": 159,
    "start_time": "2021-07-15T07:10:50.373Z"
   },
   {
    "duration": 22,
    "start_time": "2021-07-15T07:10:50.533Z"
   },
   {
    "duration": 78,
    "start_time": "2021-07-15T07:10:50.557Z"
   },
   {
    "duration": 77,
    "start_time": "2021-07-15T07:10:50.637Z"
   },
   {
    "duration": 49,
    "start_time": "2021-07-15T07:10:50.717Z"
   },
   {
    "duration": 10,
    "start_time": "2021-07-15T07:10:50.768Z"
   },
   {
    "duration": 20,
    "start_time": "2021-07-15T07:10:50.780Z"
   },
   {
    "duration": 9,
    "start_time": "2021-07-15T07:10:50.801Z"
   },
   {
    "duration": 21,
    "start_time": "2021-07-15T07:10:50.811Z"
   },
   {
    "duration": 45,
    "start_time": "2021-07-15T07:10:50.834Z"
   },
   {
    "duration": 6,
    "start_time": "2021-07-15T07:10:50.880Z"
   },
   {
    "duration": 7,
    "start_time": "2021-07-15T07:10:50.888Z"
   },
   {
    "duration": 29,
    "start_time": "2021-07-15T07:10:50.896Z"
   },
   {
    "duration": 45,
    "start_time": "2021-07-15T07:10:50.926Z"
   },
   {
    "duration": 33,
    "start_time": "2021-07-15T07:13:30.672Z"
   },
   {
    "duration": 33,
    "start_time": "2021-07-15T07:14:20.552Z"
   },
   {
    "duration": 126,
    "start_time": "2021-07-15T07:15:10.569Z"
   },
   {
    "duration": 135,
    "start_time": "2021-07-15T07:16:54.504Z"
   },
   {
    "duration": 11,
    "start_time": "2021-07-15T07:21:01.111Z"
   },
   {
    "duration": 9,
    "start_time": "2021-07-15T07:21:06.896Z"
   },
   {
    "duration": 414,
    "start_time": "2021-07-15T07:24:25.943Z"
   },
   {
    "duration": 18,
    "start_time": "2021-07-15T07:25:02.037Z"
   },
   {
    "duration": 21,
    "start_time": "2021-07-15T07:25:20.825Z"
   },
   {
    "duration": 133,
    "start_time": "2021-07-15T07:25:22.064Z"
   },
   {
    "duration": 45,
    "start_time": "2021-07-15T07:28:37.617Z"
   },
   {
    "duration": 258,
    "start_time": "2021-07-15T07:28:44.831Z"
   },
   {
    "duration": 433,
    "start_time": "2021-07-15T07:29:37.136Z"
   },
   {
    "duration": 322,
    "start_time": "2021-07-15T07:30:06.433Z"
   },
   {
    "duration": 259,
    "start_time": "2021-07-15T07:30:11.155Z"
   },
   {
    "duration": 203,
    "start_time": "2021-07-15T07:30:42.872Z"
   },
   {
    "duration": 234,
    "start_time": "2021-07-15T07:30:50.694Z"
   },
   {
    "duration": 204,
    "start_time": "2021-07-15T07:31:03.871Z"
   },
   {
    "duration": 242,
    "start_time": "2021-07-15T07:31:10.289Z"
   },
   {
    "duration": 3,
    "start_time": "2021-07-15T07:31:38.409Z"
   },
   {
    "duration": 468,
    "start_time": "2021-07-15T07:31:42.317Z"
   },
   {
    "duration": 300,
    "start_time": "2021-07-15T07:32:08.293Z"
   },
   {
    "duration": 580,
    "start_time": "2021-07-15T07:32:20.907Z"
   },
   {
    "duration": 319,
    "start_time": "2021-07-15T07:32:25.657Z"
   },
   {
    "duration": 46,
    "start_time": "2021-07-15T07:41:10.452Z"
   },
   {
    "duration": 61,
    "start_time": "2021-07-15T07:41:18.028Z"
   },
   {
    "duration": 44,
    "start_time": "2021-07-15T07:42:58.143Z"
   },
   {
    "duration": 389,
    "start_time": "2021-07-15T07:46:23.145Z"
   },
   {
    "duration": 3,
    "start_time": "2021-07-15T07:46:41.724Z"
   },
   {
    "duration": 44,
    "start_time": "2021-07-15T07:46:49.194Z"
   },
   {
    "duration": 747,
    "start_time": "2021-07-15T07:46:50.356Z"
   },
   {
    "duration": 780,
    "start_time": "2021-07-15T07:47:10.360Z"
   },
   {
    "duration": 813,
    "start_time": "2021-07-15T07:47:50.134Z"
   },
   {
    "duration": 749,
    "start_time": "2021-07-15T07:48:01.017Z"
   },
   {
    "duration": 816,
    "start_time": "2021-07-15T07:48:13.680Z"
   },
   {
    "duration": 919,
    "start_time": "2021-07-15T07:49:19.964Z"
   },
   {
    "duration": 1021,
    "start_time": "2021-07-15T07:49:35.109Z"
   },
   {
    "duration": 907,
    "start_time": "2021-07-15T07:50:40.738Z"
   },
   {
    "duration": 150,
    "start_time": "2021-07-15T07:51:54.251Z"
   },
   {
    "duration": 142,
    "start_time": "2021-07-15T09:12:23.387Z"
   },
   {
    "duration": 156,
    "start_time": "2021-07-15T09:13:30.330Z"
   },
   {
    "duration": 166,
    "start_time": "2021-07-15T09:13:38.825Z"
   },
   {
    "duration": 34,
    "start_time": "2021-07-15T09:15:29.996Z"
   },
   {
    "duration": 227,
    "start_time": "2021-07-15T09:15:31.103Z"
   },
   {
    "duration": 26,
    "start_time": "2021-07-15T09:16:51.632Z"
   },
   {
    "duration": 164,
    "start_time": "2021-07-15T09:16:52.084Z"
   },
   {
    "duration": 155,
    "start_time": "2021-07-15T09:16:58.123Z"
   },
   {
    "duration": 165,
    "start_time": "2021-07-15T09:17:44.843Z"
   },
   {
    "duration": 314,
    "start_time": "2021-07-15T09:20:26.293Z"
   },
   {
    "duration": 16,
    "start_time": "2021-07-15T09:20:40.046Z"
   },
   {
    "duration": 16,
    "start_time": "2021-07-15T09:23:45.459Z"
   },
   {
    "duration": 44,
    "start_time": "2021-07-15T09:23:51.956Z"
   },
   {
    "duration": 94,
    "start_time": "2021-07-15T09:24:55.847Z"
   },
   {
    "duration": 330,
    "start_time": "2021-07-15T09:25:29.303Z"
   },
   {
    "duration": 326,
    "start_time": "2021-07-15T09:25:33.078Z"
   },
   {
    "duration": 426,
    "start_time": "2021-07-15T09:25:46.022Z"
   },
   {
    "duration": 78,
    "start_time": "2021-07-15T09:26:00.370Z"
   },
   {
    "duration": 350,
    "start_time": "2021-07-15T09:26:11.678Z"
   },
   {
    "duration": 471,
    "start_time": "2021-07-15T09:26:31.883Z"
   },
   {
    "duration": 335,
    "start_time": "2021-07-15T09:26:35.034Z"
   },
   {
    "duration": 73,
    "start_time": "2021-07-15T09:26:52.005Z"
   },
   {
    "duration": 75,
    "start_time": "2021-07-15T09:26:58.439Z"
   },
   {
    "duration": 743,
    "start_time": "2021-07-15T09:28:24.405Z"
   },
   {
    "duration": 1164,
    "start_time": "2021-07-15T09:29:45.806Z"
   },
   {
    "duration": 376,
    "start_time": "2021-07-15T09:32:39.313Z"
   },
   {
    "duration": 472,
    "start_time": "2021-07-15T09:35:03.295Z"
   },
   {
    "duration": 269,
    "start_time": "2021-07-15T09:35:29.908Z"
   },
   {
    "duration": 493,
    "start_time": "2021-07-15T09:35:42.473Z"
   },
   {
    "duration": 776,
    "start_time": "2021-07-15T09:36:48.816Z"
   },
   {
    "duration": 397,
    "start_time": "2021-07-15T09:38:04.064Z"
   },
   {
    "duration": 129,
    "start_time": "2021-07-15T09:38:27.725Z"
   },
   {
    "duration": 4231,
    "start_time": "2021-07-15T09:39:24.939Z"
   },
   {
    "duration": 85,
    "start_time": "2021-07-15T09:41:20.831Z"
   },
   {
    "duration": 761,
    "start_time": "2021-07-15T09:41:36.308Z"
   },
   {
    "duration": 63,
    "start_time": "2021-07-15T09:41:56.857Z"
   },
   {
    "duration": 456,
    "start_time": "2021-07-15T09:41:57.417Z"
   },
   {
    "duration": 461,
    "start_time": "2021-07-15T09:42:13.866Z"
   },
   {
    "duration": 610,
    "start_time": "2021-07-15T09:42:50.802Z"
   },
   {
    "duration": 66,
    "start_time": "2021-07-15T09:43:06.384Z"
   },
   {
    "duration": 272,
    "start_time": "2021-07-15T09:44:19.312Z"
   },
   {
    "duration": 285,
    "start_time": "2021-07-15T09:45:08.884Z"
   },
   {
    "duration": 278,
    "start_time": "2021-07-15T09:45:14.670Z"
   },
   {
    "duration": 445,
    "start_time": "2021-07-15T09:45:21.919Z"
   },
   {
    "duration": 115,
    "start_time": "2021-07-15T09:46:22.294Z"
   },
   {
    "duration": 560,
    "start_time": "2021-07-15T09:46:26.938Z"
   },
   {
    "duration": 167,
    "start_time": "2021-07-15T09:48:32.452Z"
   },
   {
    "duration": 371,
    "start_time": "2021-07-15T09:48:35.377Z"
   },
   {
    "duration": 11,
    "start_time": "2021-07-15T10:06:03.135Z"
   },
   {
    "duration": 6,
    "start_time": "2021-07-15T10:07:00.169Z"
   },
   {
    "duration": 9,
    "start_time": "2021-07-15T10:10:59.560Z"
   },
   {
    "duration": 13,
    "start_time": "2021-07-15T10:11:23.420Z"
   },
   {
    "duration": 12,
    "start_time": "2021-07-15T10:12:07.995Z"
   },
   {
    "duration": 13,
    "start_time": "2021-07-15T10:12:09.384Z"
   },
   {
    "duration": 9,
    "start_time": "2021-07-15T10:13:38.560Z"
   },
   {
    "duration": 96,
    "start_time": "2021-07-15T10:14:31.885Z"
   },
   {
    "duration": 320,
    "start_time": "2021-07-15T10:14:43.504Z"
   },
   {
    "duration": 352,
    "start_time": "2021-07-15T11:06:53.225Z"
   },
   {
    "duration": 527,
    "start_time": "2021-07-15T11:07:07.225Z"
   },
   {
    "duration": 397,
    "start_time": "2021-07-15T11:07:22.068Z"
   },
   {
    "duration": 328,
    "start_time": "2021-07-15T11:07:33.948Z"
   },
   {
    "duration": 295,
    "start_time": "2021-07-15T11:07:53.017Z"
   },
   {
    "duration": 282,
    "start_time": "2021-07-15T11:08:35.912Z"
   },
   {
    "duration": 409,
    "start_time": "2021-07-15T11:08:54.427Z"
   },
   {
    "duration": 314,
    "start_time": "2021-07-15T11:09:12.185Z"
   },
   {
    "duration": 338,
    "start_time": "2021-07-15T11:09:20.739Z"
   },
   {
    "duration": 705,
    "start_time": "2021-07-15T11:10:20.662Z"
   },
   {
    "duration": 603,
    "start_time": "2021-07-15T11:10:29.625Z"
   },
   {
    "duration": 12,
    "start_time": "2021-07-15T11:11:00.937Z"
   },
   {
    "duration": 497,
    "start_time": "2021-07-15T11:11:07.432Z"
   },
   {
    "duration": 305,
    "start_time": "2021-07-15T11:11:25.122Z"
   },
   {
    "duration": 387,
    "start_time": "2021-07-15T11:11:51.366Z"
   },
   {
    "duration": 372,
    "start_time": "2021-07-15T11:12:14.771Z"
   },
   {
    "duration": 287,
    "start_time": "2021-07-15T11:12:22.631Z"
   },
   {
    "duration": 4,
    "start_time": "2021-07-15T11:12:35.925Z"
   },
   {
    "duration": 18,
    "start_time": "2021-07-15T11:12:48.421Z"
   },
   {
    "duration": 308,
    "start_time": "2021-07-15T11:13:49.748Z"
   },
   {
    "duration": 325,
    "start_time": "2021-07-15T11:15:18.001Z"
   },
   {
    "duration": 356,
    "start_time": "2021-07-15T11:15:28.363Z"
   },
   {
    "duration": 10,
    "start_time": "2021-07-15T11:24:33.854Z"
   },
   {
    "duration": 7,
    "start_time": "2021-07-15T11:24:51.609Z"
   },
   {
    "duration": 11,
    "start_time": "2021-07-15T11:26:17.119Z"
   },
   {
    "duration": 188,
    "start_time": "2021-07-15T11:27:50.275Z"
   },
   {
    "duration": 204,
    "start_time": "2021-07-15T11:28:27.417Z"
   },
   {
    "duration": 204,
    "start_time": "2021-07-15T11:28:41.277Z"
   },
   {
    "duration": 208,
    "start_time": "2021-07-15T11:28:46.216Z"
   },
   {
    "duration": 206,
    "start_time": "2021-07-15T11:28:50.441Z"
   },
   {
    "duration": 199,
    "start_time": "2021-07-15T11:28:58.305Z"
   },
   {
    "duration": 172,
    "start_time": "2021-07-15T11:29:15.178Z"
   },
   {
    "duration": 1429,
    "start_time": "2021-07-15T11:31:52.708Z"
   },
   {
    "duration": 4,
    "start_time": "2021-07-15T11:31:54.141Z"
   },
   {
    "duration": 235,
    "start_time": "2021-07-15T11:31:54.148Z"
   },
   {
    "duration": 3,
    "start_time": "2021-07-15T11:31:54.385Z"
   },
   {
    "duration": 163,
    "start_time": "2021-07-15T11:31:54.390Z"
   },
   {
    "duration": 17,
    "start_time": "2021-07-15T11:31:54.555Z"
   },
   {
    "duration": 100,
    "start_time": "2021-07-15T11:31:54.574Z"
   },
   {
    "duration": 92,
    "start_time": "2021-07-15T11:31:54.677Z"
   },
   {
    "duration": 38,
    "start_time": "2021-07-15T11:31:54.771Z"
   },
   {
    "duration": 31,
    "start_time": "2021-07-15T11:31:54.811Z"
   },
   {
    "duration": 16,
    "start_time": "2021-07-15T11:31:54.844Z"
   },
   {
    "duration": 13,
    "start_time": "2021-07-15T11:31:54.862Z"
   },
   {
    "duration": 15,
    "start_time": "2021-07-15T11:31:54.876Z"
   },
   {
    "duration": 36,
    "start_time": "2021-07-15T11:31:54.893Z"
   },
   {
    "duration": 13,
    "start_time": "2021-07-15T11:31:54.931Z"
   },
   {
    "duration": 12,
    "start_time": "2021-07-15T11:31:54.946Z"
   },
   {
    "duration": 35,
    "start_time": "2021-07-15T11:31:54.959Z"
   },
   {
    "duration": 45,
    "start_time": "2021-07-15T11:31:54.996Z"
   },
   {
    "duration": 39,
    "start_time": "2021-07-15T11:31:55.044Z"
   },
   {
    "duration": 168,
    "start_time": "2021-07-15T11:31:55.085Z"
   },
   {
    "duration": 45,
    "start_time": "2021-07-15T11:31:55.255Z"
   },
   {
    "duration": 961,
    "start_time": "2021-07-15T11:31:55.302Z"
   },
   {
    "duration": 20,
    "start_time": "2021-07-15T11:31:56.266Z"
   },
   {
    "duration": 194,
    "start_time": "2021-07-15T11:31:56.288Z"
   },
   {
    "duration": 89,
    "start_time": "2021-07-15T11:31:56.484Z"
   },
   {
    "duration": 420,
    "start_time": "2021-07-15T11:31:56.575Z"
   },
   {
    "duration": 10,
    "start_time": "2021-07-15T11:31:56.997Z"
   },
   {
    "duration": 424,
    "start_time": "2021-07-15T11:31:57.009Z"
   },
   {
    "duration": 19,
    "start_time": "2021-07-15T11:31:57.434Z"
   },
   {
    "duration": 226,
    "start_time": "2021-07-15T11:31:57.456Z"
   },
   {
    "duration": 1085,
    "start_time": "2021-07-21T05:36:38.380Z"
   },
   {
    "duration": 3,
    "start_time": "2021-07-21T05:36:39.466Z"
   },
   {
    "duration": 225,
    "start_time": "2021-07-21T05:36:39.471Z"
   },
   {
    "duration": 4,
    "start_time": "2021-07-21T05:36:39.697Z"
   },
   {
    "duration": 154,
    "start_time": "2021-07-21T05:36:39.703Z"
   },
   {
    "duration": 15,
    "start_time": "2021-07-21T05:36:39.859Z"
   },
   {
    "duration": 90,
    "start_time": "2021-07-21T05:36:39.875Z"
   },
   {
    "duration": 88,
    "start_time": "2021-07-21T05:36:39.968Z"
   },
   {
    "duration": 39,
    "start_time": "2021-07-21T05:36:40.058Z"
   },
   {
    "duration": 12,
    "start_time": "2021-07-21T05:36:40.099Z"
   },
   {
    "duration": 38,
    "start_time": "2021-07-21T05:36:40.113Z"
   },
   {
    "duration": 6,
    "start_time": "2021-07-21T05:36:40.153Z"
   },
   {
    "duration": 7,
    "start_time": "2021-07-21T05:36:40.161Z"
   },
   {
    "duration": 35,
    "start_time": "2021-07-21T05:36:40.170Z"
   },
   {
    "duration": 8,
    "start_time": "2021-07-21T05:36:40.206Z"
   },
   {
    "duration": 32,
    "start_time": "2021-07-21T05:36:40.215Z"
   },
   {
    "duration": 26,
    "start_time": "2021-07-21T05:36:40.249Z"
   },
   {
    "duration": 28,
    "start_time": "2021-07-21T05:36:40.277Z"
   },
   {
    "duration": 59,
    "start_time": "2021-07-21T05:36:40.306Z"
   },
   {
    "duration": 154,
    "start_time": "2021-07-21T05:36:40.367Z"
   },
   {
    "duration": 51,
    "start_time": "2021-07-21T05:36:40.523Z"
   },
   {
    "duration": 855,
    "start_time": "2021-07-21T05:36:40.575Z"
   },
   {
    "duration": 26,
    "start_time": "2021-07-21T05:36:41.434Z"
   },
   {
    "duration": 180,
    "start_time": "2021-07-21T05:36:41.461Z"
   },
   {
    "duration": 70,
    "start_time": "2021-07-21T05:36:41.642Z"
   },
   {
    "duration": 395,
    "start_time": "2021-07-21T05:36:41.713Z"
   },
   {
    "duration": 10,
    "start_time": "2021-07-21T05:36:42.110Z"
   },
   {
    "duration": 383,
    "start_time": "2021-07-21T05:36:42.121Z"
   },
   {
    "duration": 10,
    "start_time": "2021-07-21T05:36:42.506Z"
   },
   {
    "duration": 203,
    "start_time": "2021-07-21T05:36:42.518Z"
   },
   {
    "duration": 13,
    "start_time": "2021-07-21T05:43:33.545Z"
   },
   {
    "duration": 390,
    "start_time": "2021-07-21T05:43:52.829Z"
   },
   {
    "duration": 17,
    "start_time": "2021-07-21T05:44:01.905Z"
   },
   {
    "duration": 52,
    "start_time": "2021-07-21T05:46:39.685Z"
   },
   {
    "duration": 42,
    "start_time": "2021-07-21T05:48:16.162Z"
   },
   {
    "duration": 137,
    "start_time": "2021-07-21T05:48:53.400Z"
   },
   {
    "duration": 137,
    "start_time": "2021-07-21T05:50:27.904Z"
   },
   {
    "duration": 198,
    "start_time": "2021-07-21T05:51:47.044Z"
   },
   {
    "duration": 215,
    "start_time": "2021-07-21T05:53:51.458Z"
   },
   {
    "duration": 54,
    "start_time": "2021-07-21T05:59:15.563Z"
   },
   {
    "duration": 714,
    "start_time": "2021-07-21T05:59:54.894Z"
   },
   {
    "duration": 48,
    "start_time": "2021-07-21T06:00:14.271Z"
   },
   {
    "duration": 50,
    "start_time": "2021-07-21T06:01:57.220Z"
   },
   {
    "duration": 45,
    "start_time": "2021-07-21T06:02:04.835Z"
   },
   {
    "duration": 697,
    "start_time": "2021-07-21T06:02:19.037Z"
   },
   {
    "duration": 45,
    "start_time": "2021-07-21T06:02:37.537Z"
   },
   {
    "duration": 52,
    "start_time": "2021-07-21T06:03:28.705Z"
   },
   {
    "duration": 48,
    "start_time": "2021-07-21T06:04:58.373Z"
   },
   {
    "duration": 49,
    "start_time": "2021-07-21T06:06:34.102Z"
   },
   {
    "duration": 50,
    "start_time": "2021-07-21T06:07:13.444Z"
   },
   {
    "duration": 277,
    "start_time": "2021-07-21T06:08:03.124Z"
   },
   {
    "duration": 3,
    "start_time": "2021-07-21T06:10:21.038Z"
   },
   {
    "duration": 53,
    "start_time": "2021-07-21T06:10:30.993Z"
   },
   {
    "duration": 53,
    "start_time": "2021-07-21T06:10:48.845Z"
   },
   {
    "duration": 8,
    "start_time": "2021-07-21T06:10:58.517Z"
   },
   {
    "duration": 11,
    "start_time": "2021-07-21T06:12:22.660Z"
   },
   {
    "duration": 139,
    "start_time": "2021-07-21T06:13:54.590Z"
   },
   {
    "duration": 8,
    "start_time": "2021-07-21T06:16:29.249Z"
   },
   {
    "duration": 7,
    "start_time": "2021-07-21T06:16:43.868Z"
   },
   {
    "duration": 9,
    "start_time": "2021-07-21T06:20:06.348Z"
   },
   {
    "duration": 9,
    "start_time": "2021-07-21T06:20:28.308Z"
   },
   {
    "duration": 33,
    "start_time": "2021-07-21T06:56:35.210Z"
   },
   {
    "duration": 1088,
    "start_time": "2021-07-21T06:56:45.925Z"
   },
   {
    "duration": 34,
    "start_time": "2021-07-21T06:58:56.887Z"
   },
   {
    "duration": 33,
    "start_time": "2021-07-21T06:59:06.928Z"
   },
   {
    "duration": 31,
    "start_time": "2021-07-21T06:59:27.675Z"
   },
   {
    "duration": 32,
    "start_time": "2021-07-21T06:59:58.346Z"
   },
   {
    "duration": 34,
    "start_time": "2021-07-21T07:00:12.912Z"
   },
   {
    "duration": 30,
    "start_time": "2021-07-21T07:00:22.183Z"
   },
   {
    "duration": 32,
    "start_time": "2021-07-21T07:00:26.855Z"
   },
   {
    "duration": 31,
    "start_time": "2021-07-21T07:01:09.301Z"
   },
   {
    "duration": 117,
    "start_time": "2021-07-21T07:03:13.273Z"
   },
   {
    "duration": 32,
    "start_time": "2021-07-21T07:34:42.867Z"
   },
   {
    "duration": 113,
    "start_time": "2021-07-21T07:34:45.679Z"
   },
   {
    "duration": 115,
    "start_time": "2021-07-21T07:38:17.322Z"
   },
   {
    "duration": 465,
    "start_time": "2021-07-21T07:43:27.897Z"
   },
   {
    "duration": 383,
    "start_time": "2021-07-21T07:43:41.790Z"
   },
   {
    "duration": 124,
    "start_time": "2021-07-21T07:44:22.419Z"
   },
   {
    "duration": 9,
    "start_time": "2021-07-21T07:45:22.823Z"
   },
   {
    "duration": 7,
    "start_time": "2021-07-21T07:47:23.946Z"
   },
   {
    "duration": 128,
    "start_time": "2021-07-21T07:47:25.721Z"
   },
   {
    "duration": 120,
    "start_time": "2021-07-21T07:49:55.179Z"
   },
   {
    "duration": 120,
    "start_time": "2021-07-21T07:50:04.725Z"
   },
   {
    "duration": 121,
    "start_time": "2021-07-21T07:50:11.800Z"
   },
   {
    "duration": 114,
    "start_time": "2021-07-21T07:50:44.683Z"
   },
   {
    "duration": 9,
    "start_time": "2021-07-21T07:50:59.543Z"
   },
   {
    "duration": 1117,
    "start_time": "2021-07-21T07:53:12.634Z"
   },
   {
    "duration": 1009,
    "start_time": "2021-07-21T07:53:18.445Z"
   },
   {
    "duration": 1135,
    "start_time": "2021-07-21T07:53:30.213Z"
   },
   {
    "duration": 277,
    "start_time": "2021-07-21T07:54:49.176Z"
   },
   {
    "duration": 15,
    "start_time": "2021-07-21T07:55:02.767Z"
   },
   {
    "duration": 14,
    "start_time": "2021-07-21T07:55:08.635Z"
   },
   {
    "duration": 47,
    "start_time": "2021-07-21T07:56:50.427Z"
   },
   {
    "duration": 1084,
    "start_time": "2021-07-21T07:58:51.545Z"
   },
   {
    "duration": 14,
    "start_time": "2021-07-21T07:59:00.220Z"
   },
   {
    "duration": 37,
    "start_time": "2021-07-21T07:59:23.549Z"
   },
   {
    "duration": 44,
    "start_time": "2021-07-21T08:00:20.058Z"
   },
   {
    "duration": 33,
    "start_time": "2021-07-21T08:00:32.637Z"
   },
   {
    "duration": 977,
    "start_time": "2021-07-21T08:00:41.159Z"
   },
   {
    "duration": 16,
    "start_time": "2021-07-21T08:00:44.440Z"
   },
   {
    "duration": 40,
    "start_time": "2021-07-21T08:00:45.593Z"
   },
   {
    "duration": 41,
    "start_time": "2021-07-21T08:00:57.831Z"
   },
   {
    "duration": 1147,
    "start_time": "2021-07-21T08:01:14.708Z"
   },
   {
    "duration": 3,
    "start_time": "2021-07-21T08:01:15.857Z"
   },
   {
    "duration": 226,
    "start_time": "2021-07-21T08:01:15.862Z"
   },
   {
    "duration": 3,
    "start_time": "2021-07-21T08:01:16.090Z"
   },
   {
    "duration": 155,
    "start_time": "2021-07-21T08:01:16.095Z"
   },
   {
    "duration": 15,
    "start_time": "2021-07-21T08:01:16.251Z"
   },
   {
    "duration": 84,
    "start_time": "2021-07-21T08:01:16.268Z"
   },
   {
    "duration": 87,
    "start_time": "2021-07-21T08:01:16.354Z"
   },
   {
    "duration": 37,
    "start_time": "2021-07-21T08:01:16.443Z"
   },
   {
    "duration": 11,
    "start_time": "2021-07-21T08:01:16.481Z"
   },
   {
    "duration": 10,
    "start_time": "2021-07-21T08:01:16.494Z"
   },
   {
    "duration": 6,
    "start_time": "2021-07-21T08:01:16.506Z"
   },
   {
    "duration": 29,
    "start_time": "2021-07-21T08:01:16.513Z"
   },
   {
    "duration": 35,
    "start_time": "2021-07-21T08:01:16.543Z"
   },
   {
    "duration": 6,
    "start_time": "2021-07-21T08:01:16.580Z"
   },
   {
    "duration": 8,
    "start_time": "2021-07-21T08:01:16.588Z"
   },
   {
    "duration": 45,
    "start_time": "2021-07-21T08:01:16.597Z"
   },
   {
    "duration": 27,
    "start_time": "2021-07-21T08:01:16.644Z"
   },
   {
    "duration": 34,
    "start_time": "2021-07-21T08:01:16.673Z"
   },
   {
    "duration": 78,
    "start_time": "2021-07-21T08:01:16.708Z"
   },
   {
    "duration": 838,
    "start_time": "2021-07-21T08:01:16.787Z"
   },
   {
    "duration": 26,
    "start_time": "2021-07-21T08:01:17.626Z"
   },
   {
    "duration": 174,
    "start_time": "2021-07-21T08:01:17.654Z"
   },
   {
    "duration": 75,
    "start_time": "2021-07-21T08:01:17.830Z"
   },
   {
    "duration": 380,
    "start_time": "2021-07-21T08:01:17.906Z"
   },
   {
    "duration": 10,
    "start_time": "2021-07-21T08:01:18.287Z"
   },
   {
    "duration": 391,
    "start_time": "2021-07-21T08:01:18.298Z"
   },
   {
    "duration": 10,
    "start_time": "2021-07-21T08:01:18.691Z"
   },
   {
    "duration": 197,
    "start_time": "2021-07-21T08:01:18.703Z"
   },
   {
    "duration": 12,
    "start_time": "2021-07-21T08:01:18.902Z"
   },
   {
    "duration": 161,
    "start_time": "2021-07-21T08:01:18.916Z"
   },
   {
    "duration": 229,
    "start_time": "2021-07-21T08:01:19.079Z"
   },
   {
    "duration": 35,
    "start_time": "2021-07-21T08:01:26.375Z"
   },
   {
    "duration": 1131,
    "start_time": "2021-07-21T08:01:43.799Z"
   },
   {
    "duration": 15,
    "start_time": "2021-07-21T08:01:46.971Z"
   },
   {
    "duration": 42,
    "start_time": "2021-07-21T08:01:50.551Z"
   },
   {
    "duration": 51,
    "start_time": "2021-07-21T08:01:56.463Z"
   },
   {
    "duration": 35,
    "start_time": "2021-07-21T08:02:04.300Z"
   },
   {
    "duration": 15,
    "start_time": "2021-07-21T08:03:06.113Z"
   },
   {
    "duration": 19,
    "start_time": "2021-07-21T08:04:12.983Z"
   },
   {
    "duration": 20,
    "start_time": "2021-07-21T08:08:46.014Z"
   },
   {
    "duration": 36,
    "start_time": "2021-07-21T08:09:49.443Z"
   },
   {
    "duration": 36,
    "start_time": "2021-07-21T08:10:44.038Z"
   },
   {
    "duration": 35,
    "start_time": "2021-07-21T08:10:54.217Z"
   },
   {
    "duration": 47,
    "start_time": "2021-07-21T08:11:15.470Z"
   },
   {
    "duration": 16,
    "start_time": "2021-07-21T08:11:25.483Z"
   },
   {
    "duration": 32,
    "start_time": "2021-07-21T08:11:30.245Z"
   },
   {
    "duration": 376,
    "start_time": "2021-07-21T08:16:32.673Z"
   },
   {
    "duration": 3,
    "start_time": "2021-07-21T08:16:49.560Z"
   },
   {
    "duration": 12,
    "start_time": "2021-07-21T08:16:59.607Z"
   },
   {
    "duration": 296,
    "start_time": "2021-07-21T08:18:02.456Z"
   },
   {
    "duration": 25,
    "start_time": "2021-07-21T08:18:33.732Z"
   },
   {
    "duration": 20,
    "start_time": "2021-07-21T08:18:34.390Z"
   },
   {
    "duration": 7011,
    "start_time": "2021-07-21T08:19:21.136Z"
   },
   {
    "duration": 26,
    "start_time": "2021-07-21T08:19:38.448Z"
   },
   {
    "duration": 1206,
    "start_time": "2021-07-21T08:19:57.344Z"
   },
   {
    "duration": 3,
    "start_time": "2021-07-21T08:19:58.552Z"
   },
   {
    "duration": 222,
    "start_time": "2021-07-21T08:19:58.559Z"
   },
   {
    "duration": 4,
    "start_time": "2021-07-21T08:19:58.784Z"
   },
   {
    "duration": 195,
    "start_time": "2021-07-21T08:19:58.790Z"
   },
   {
    "duration": 15,
    "start_time": "2021-07-21T08:19:58.987Z"
   },
   {
    "duration": 97,
    "start_time": "2021-07-21T08:19:59.004Z"
   },
   {
    "duration": 82,
    "start_time": "2021-07-21T08:19:59.103Z"
   },
   {
    "duration": 37,
    "start_time": "2021-07-21T08:19:59.187Z"
   },
   {
    "duration": 21,
    "start_time": "2021-07-21T08:19:59.226Z"
   },
   {
    "duration": 13,
    "start_time": "2021-07-21T08:19:59.249Z"
   },
   {
    "duration": 5,
    "start_time": "2021-07-21T08:19:59.264Z"
   },
   {
    "duration": 10,
    "start_time": "2021-07-21T08:19:59.271Z"
   },
   {
    "duration": 59,
    "start_time": "2021-07-21T08:19:59.283Z"
   },
   {
    "duration": 7,
    "start_time": "2021-07-21T08:19:59.343Z"
   },
   {
    "duration": 9,
    "start_time": "2021-07-21T08:19:59.351Z"
   },
   {
    "duration": 26,
    "start_time": "2021-07-21T08:19:59.361Z"
   },
   {
    "duration": 27,
    "start_time": "2021-07-21T08:19:59.389Z"
   },
   {
    "duration": 56,
    "start_time": "2021-07-21T08:19:59.417Z"
   },
   {
    "duration": 74,
    "start_time": "2021-07-21T08:19:59.475Z"
   },
   {
    "duration": 859,
    "start_time": "2021-07-21T08:19:59.551Z"
   },
   {
    "duration": 35,
    "start_time": "2021-07-21T08:20:00.411Z"
   },
   {
    "duration": 176,
    "start_time": "2021-07-21T08:20:00.447Z"
   },
   {
    "duration": 74,
    "start_time": "2021-07-21T08:20:00.624Z"
   },
   {
    "duration": 389,
    "start_time": "2021-07-21T08:20:00.700Z"
   },
   {
    "duration": 9,
    "start_time": "2021-07-21T08:20:01.091Z"
   },
   {
    "duration": 416,
    "start_time": "2021-07-21T08:20:01.103Z"
   },
   {
    "duration": 21,
    "start_time": "2021-07-21T08:20:01.521Z"
   },
   {
    "duration": 205,
    "start_time": "2021-07-21T08:20:01.544Z"
   },
   {
    "duration": 13,
    "start_time": "2021-07-21T08:20:01.750Z"
   },
   {
    "duration": 158,
    "start_time": "2021-07-21T08:20:01.764Z"
   },
   {
    "duration": 227,
    "start_time": "2021-07-21T08:20:01.924Z"
   },
   {
    "duration": 36,
    "start_time": "2021-07-21T08:20:02.153Z"
   },
   {
    "duration": 13,
    "start_time": "2021-07-21T08:20:02.191Z"
   },
   {
    "duration": 146,
    "start_time": "2021-07-21T08:20:02.205Z"
   },
   {
    "duration": 1022,
    "start_time": "2021-07-21T08:20:02.352Z"
   },
   {
    "duration": 14,
    "start_time": "2021-07-21T08:20:03.376Z"
   },
   {
    "duration": 58,
    "start_time": "2021-07-21T08:20:03.392Z"
   },
   {
    "duration": 51,
    "start_time": "2021-07-21T08:20:03.451Z"
   },
   {
    "duration": 38,
    "start_time": "2021-07-21T08:20:03.504Z"
   },
   {
    "duration": 24,
    "start_time": "2021-07-21T08:20:10.550Z"
   },
   {
    "duration": 51,
    "start_time": "2021-07-21T08:21:19.441Z"
   },
   {
    "duration": 6,
    "start_time": "2021-07-21T08:22:12.362Z"
   },
   {
    "duration": 6,
    "start_time": "2021-07-21T08:40:28.360Z"
   },
   {
    "duration": 7,
    "start_time": "2021-07-21T08:42:51.002Z"
   },
   {
    "duration": 1098,
    "start_time": "2021-07-21T08:43:04.360Z"
   },
   {
    "duration": 7,
    "start_time": "2021-07-21T08:43:11.146Z"
   },
   {
    "duration": 1091,
    "start_time": "2021-07-21T08:43:12.034Z"
   },
   {
    "duration": 7,
    "start_time": "2021-07-21T08:43:54.336Z"
   },
   {
    "duration": 7,
    "start_time": "2021-07-21T08:44:05.103Z"
   },
   {
    "duration": 1136,
    "start_time": "2021-07-21T08:44:05.942Z"
   },
   {
    "duration": 7,
    "start_time": "2021-07-21T08:47:44.989Z"
   },
   {
    "duration": 1122,
    "start_time": "2021-07-21T08:47:47.497Z"
   },
   {
    "duration": 7,
    "start_time": "2021-07-21T08:50:48.625Z"
   },
   {
    "duration": 1134,
    "start_time": "2021-07-21T08:50:49.325Z"
   },
   {
    "duration": 7,
    "start_time": "2021-07-21T08:51:27.598Z"
   },
   {
    "duration": 1273,
    "start_time": "2021-07-21T08:51:28.140Z"
   },
   {
    "duration": 8,
    "start_time": "2021-07-21T08:53:29.498Z"
   },
   {
    "duration": 1105,
    "start_time": "2021-07-21T08:53:30.441Z"
   },
   {
    "duration": 1177,
    "start_time": "2021-07-21T08:53:45.571Z"
   },
   {
    "duration": 1188,
    "start_time": "2021-07-21T08:53:53.884Z"
   },
   {
    "duration": 1154,
    "start_time": "2021-07-21T08:54:27.034Z"
   },
   {
    "duration": 1219,
    "start_time": "2021-07-21T08:54:57.437Z"
   },
   {
    "duration": 1162,
    "start_time": "2021-07-21T08:55:06.915Z"
   },
   {
    "duration": 11,
    "start_time": "2021-07-21T09:00:17.461Z"
   },
   {
    "duration": 1106,
    "start_time": "2021-07-21T09:00:18.691Z"
   },
   {
    "duration": 1125,
    "start_time": "2021-07-21T09:00:26.961Z"
   },
   {
    "duration": 9,
    "start_time": "2021-07-21T09:01:21.525Z"
   },
   {
    "duration": 1379,
    "start_time": "2021-07-21T09:01:22.915Z"
   },
   {
    "duration": 9,
    "start_time": "2021-07-21T09:03:46.984Z"
   },
   {
    "duration": 1345,
    "start_time": "2021-07-21T09:03:47.572Z"
   },
   {
    "duration": 10,
    "start_time": "2021-07-21T09:04:07.292Z"
   },
   {
    "duration": 1339,
    "start_time": "2021-07-21T09:04:07.758Z"
   },
   {
    "duration": 9,
    "start_time": "2021-07-21T09:04:44.728Z"
   },
   {
    "duration": 1361,
    "start_time": "2021-07-21T09:04:45.281Z"
   },
   {
    "duration": 8,
    "start_time": "2021-07-21T09:07:37.488Z"
   },
   {
    "duration": 1454,
    "start_time": "2021-07-21T09:07:38.235Z"
   },
   {
    "duration": 1449,
    "start_time": "2021-07-21T09:07:57.605Z"
   },
   {
    "duration": 1042,
    "start_time": "2021-07-21T09:08:10.058Z"
   },
   {
    "duration": 794,
    "start_time": "2021-07-21T09:08:20.610Z"
   },
   {
    "duration": 8,
    "start_time": "2021-07-21T09:08:43.849Z"
   },
   {
    "duration": 1473,
    "start_time": "2021-07-21T09:08:45.044Z"
   },
   {
    "duration": 7,
    "start_time": "2021-07-21T09:09:39.530Z"
   },
   {
    "duration": 1397,
    "start_time": "2021-07-21T09:09:40.864Z"
   },
   {
    "duration": 1254,
    "start_time": "2021-07-21T09:09:46.494Z"
   },
   {
    "duration": 1269,
    "start_time": "2021-07-21T09:10:37.840Z"
   },
   {
    "duration": 1356,
    "start_time": "2021-07-21T09:10:52.169Z"
   },
   {
    "duration": 1278,
    "start_time": "2021-07-21T09:11:00.495Z"
   },
   {
    "duration": 1294,
    "start_time": "2021-07-21T09:12:23.467Z"
   },
   {
    "duration": 8,
    "start_time": "2021-07-21T09:18:01.295Z"
   },
   {
    "duration": 580,
    "start_time": "2021-07-21T09:18:02.731Z"
   },
   {
    "duration": 18,
    "start_time": "2021-07-21T09:18:17.963Z"
   },
   {
    "duration": 9,
    "start_time": "2021-07-21T09:18:30.914Z"
   },
   {
    "duration": 1544,
    "start_time": "2021-07-21T09:18:30.925Z"
   },
   {
    "duration": 962,
    "start_time": "2021-07-21T09:18:50.995Z"
   },
   {
    "duration": 1370,
    "start_time": "2021-07-21T09:19:38.741Z"
   },
   {
    "duration": 11,
    "start_time": "2021-07-21T09:28:48.706Z"
   },
   {
    "duration": 1212,
    "start_time": "2021-07-21T09:28:49.104Z"
   },
   {
    "duration": 8,
    "start_time": "2021-07-21T09:29:22.345Z"
   },
   {
    "duration": 1190,
    "start_time": "2021-07-21T09:29:23.518Z"
   },
   {
    "duration": 8,
    "start_time": "2021-07-21T09:29:42.351Z"
   },
   {
    "duration": 1388,
    "start_time": "2021-07-21T09:29:43.328Z"
   },
   {
    "duration": 9,
    "start_time": "2021-07-21T09:29:57.306Z"
   },
   {
    "duration": 1967,
    "start_time": "2021-07-21T09:29:58.662Z"
   },
   {
    "duration": 8,
    "start_time": "2021-07-21T09:30:06.691Z"
   },
   {
    "duration": 1301,
    "start_time": "2021-07-21T09:30:08.661Z"
   },
   {
    "duration": 9,
    "start_time": "2021-07-21T09:30:20.694Z"
   },
   {
    "duration": 1234,
    "start_time": "2021-07-21T09:30:22.988Z"
   },
   {
    "duration": 8,
    "start_time": "2021-07-21T09:31:12.098Z"
   },
   {
    "duration": 1279,
    "start_time": "2021-07-21T09:31:13.381Z"
   },
   {
    "duration": 8,
    "start_time": "2021-07-21T09:31:37.047Z"
   },
   {
    "duration": 1198,
    "start_time": "2021-07-21T09:31:37.395Z"
   },
   {
    "duration": 8,
    "start_time": "2021-07-21T09:33:48.060Z"
   },
   {
    "duration": 1151,
    "start_time": "2021-07-21T09:33:48.600Z"
   },
   {
    "duration": 6293,
    "start_time": "2021-07-21T09:35:29.955Z"
   },
   {
    "duration": -91,
    "start_time": "2021-07-21T09:35:36.342Z"
   },
   {
    "duration": 8,
    "start_time": "2021-07-21T09:35:39.453Z"
   },
   {
    "duration": 6177,
    "start_time": "2021-07-21T09:35:42.083Z"
   },
   {
    "duration": 1104,
    "start_time": "2021-07-21T09:35:52.319Z"
   },
   {
    "duration": 1121,
    "start_time": "2021-07-21T09:36:06.689Z"
   },
   {
    "duration": 1391,
    "start_time": "2021-07-21T09:36:12.082Z"
   },
   {
    "duration": 1068,
    "start_time": "2021-07-21T09:36:21.460Z"
   },
   {
    "duration": 4624,
    "start_time": "2021-07-21T09:36:40.102Z"
   },
   {
    "duration": 1124,
    "start_time": "2021-07-21T09:37:46.122Z"
   },
   {
    "duration": 1144,
    "start_time": "2021-07-21T09:37:55.782Z"
   },
   {
    "duration": 1143,
    "start_time": "2021-07-21T09:38:03.150Z"
   },
   {
    "duration": 1098,
    "start_time": "2021-07-21T09:38:28.630Z"
   },
   {
    "duration": 1145,
    "start_time": "2021-07-21T09:38:36.598Z"
   },
   {
    "duration": 1204,
    "start_time": "2021-07-21T09:38:39.799Z"
   },
   {
    "duration": 1097,
    "start_time": "2021-07-21T09:38:42.169Z"
   },
   {
    "duration": 62685,
    "start_time": "2021-07-21T09:41:35.944Z"
   },
   {
    "duration": 36224,
    "start_time": "2021-07-21T09:42:45.520Z"
   },
   {
    "duration": 97,
    "start_time": "2021-07-21T09:43:56.535Z"
   },
   {
    "duration": 89,
    "start_time": "2021-07-21T09:44:14.382Z"
   },
   {
    "duration": 109,
    "start_time": "2021-07-21T09:44:31.003Z"
   },
   {
    "duration": 56538,
    "start_time": "2021-07-21T09:44:47.961Z"
   },
   {
    "duration": 7,
    "start_time": "2021-07-21T09:45:45.868Z"
   },
   {
    "duration": 1107,
    "start_time": "2021-07-21T09:46:05.505Z"
   },
   {
    "duration": 1240,
    "start_time": "2021-07-21T09:46:18.425Z"
   },
   {
    "duration": 1117,
    "start_time": "2021-07-21T09:46:40.198Z"
   },
   {
    "duration": 1107,
    "start_time": "2021-07-21T09:48:32.634Z"
   },
   {
    "duration": 8,
    "start_time": "2021-07-21T09:48:36.322Z"
   },
   {
    "duration": 1093,
    "start_time": "2021-07-21T09:48:37.184Z"
   },
   {
    "duration": 1225,
    "start_time": "2021-07-21T09:49:00.228Z"
   },
   {
    "duration": 1086,
    "start_time": "2021-07-21T09:49:10.857Z"
   },
   {
    "duration": 1175,
    "start_time": "2021-07-21T09:49:28.189Z"
   },
   {
    "duration": 99,
    "start_time": "2021-07-21T09:49:41.890Z"
   },
   {
    "duration": 1114,
    "start_time": "2021-07-21T09:49:49.500Z"
   },
   {
    "duration": 1096,
    "start_time": "2021-07-21T09:52:15.644Z"
   },
   {
    "duration": 1084,
    "start_time": "2021-07-21T09:54:29.173Z"
   },
   {
    "duration": 3,
    "start_time": "2021-07-21T09:54:30.259Z"
   },
   {
    "duration": 253,
    "start_time": "2021-07-21T09:54:30.264Z"
   },
   {
    "duration": 3,
    "start_time": "2021-07-21T09:54:30.519Z"
   },
   {
    "duration": 199,
    "start_time": "2021-07-21T09:54:30.524Z"
   },
   {
    "duration": 23,
    "start_time": "2021-07-21T09:54:30.725Z"
   },
   {
    "duration": 89,
    "start_time": "2021-07-21T09:54:30.750Z"
   },
   {
    "duration": 79,
    "start_time": "2021-07-21T09:54:30.840Z"
   },
   {
    "duration": 41,
    "start_time": "2021-07-21T09:54:30.922Z"
   },
   {
    "duration": 21,
    "start_time": "2021-07-21T09:54:30.965Z"
   },
   {
    "duration": 21,
    "start_time": "2021-07-21T09:54:30.988Z"
   },
   {
    "duration": 13,
    "start_time": "2021-07-21T09:54:31.011Z"
   },
   {
    "duration": 21,
    "start_time": "2021-07-21T09:54:31.026Z"
   },
   {
    "duration": 42,
    "start_time": "2021-07-21T09:54:31.049Z"
   },
   {
    "duration": 7,
    "start_time": "2021-07-21T09:54:31.092Z"
   },
   {
    "duration": 16,
    "start_time": "2021-07-21T09:54:31.100Z"
   },
   {
    "duration": 37,
    "start_time": "2021-07-21T09:54:31.118Z"
   },
   {
    "duration": 28,
    "start_time": "2021-07-21T09:54:31.156Z"
   },
   {
    "duration": 35,
    "start_time": "2021-07-21T09:54:31.185Z"
   },
   {
    "duration": 74,
    "start_time": "2021-07-21T09:54:31.221Z"
   },
   {
    "duration": 817,
    "start_time": "2021-07-21T09:54:31.297Z"
   },
   {
    "duration": 28,
    "start_time": "2021-07-21T09:54:32.116Z"
   },
   {
    "duration": 172,
    "start_time": "2021-07-21T09:54:32.146Z"
   },
   {
    "duration": 70,
    "start_time": "2021-07-21T09:54:32.320Z"
   },
   {
    "duration": 369,
    "start_time": "2021-07-21T09:54:32.392Z"
   },
   {
    "duration": 9,
    "start_time": "2021-07-21T09:54:32.763Z"
   },
   {
    "duration": 383,
    "start_time": "2021-07-21T09:54:32.775Z"
   },
   {
    "duration": 10,
    "start_time": "2021-07-21T09:54:33.160Z"
   },
   {
    "duration": 191,
    "start_time": "2021-07-21T09:54:33.172Z"
   },
   {
    "duration": 12,
    "start_time": "2021-07-21T09:54:33.364Z"
   },
   {
    "duration": 156,
    "start_time": "2021-07-21T09:54:33.377Z"
   },
   {
    "duration": 221,
    "start_time": "2021-07-21T09:54:33.535Z"
   },
   {
    "duration": 36,
    "start_time": "2021-07-21T09:54:33.758Z"
   },
   {
    "duration": 12,
    "start_time": "2021-07-21T09:54:33.796Z"
   },
   {
    "duration": 150,
    "start_time": "2021-07-21T09:54:33.809Z"
   },
   {
    "duration": 989,
    "start_time": "2021-07-21T09:54:33.961Z"
   },
   {
    "duration": 15,
    "start_time": "2021-07-21T09:54:34.952Z"
   },
   {
    "duration": 40,
    "start_time": "2021-07-21T09:54:34.969Z"
   },
   {
    "duration": 71,
    "start_time": "2021-07-21T09:54:35.011Z"
   },
   {
    "duration": 25,
    "start_time": "2021-07-21T09:54:35.083Z"
   },
   {
    "duration": 47,
    "start_time": "2021-07-21T09:54:35.110Z"
   },
   {
    "duration": 37,
    "start_time": "2021-07-21T09:54:35.158Z"
   },
   {
    "duration": 5,
    "start_time": "2021-07-21T09:54:35.197Z"
   },
   {
    "duration": 9,
    "start_time": "2021-07-21T09:54:40.053Z"
   },
   {
    "duration": 1160,
    "start_time": "2021-07-21T09:54:41.763Z"
   },
   {
    "duration": 2429,
    "start_time": "2021-07-21T09:54:50.733Z"
   },
   {
    "duration": 1359,
    "start_time": "2021-07-21T09:54:59.358Z"
   },
   {
    "duration": 1124,
    "start_time": "2021-07-21T09:55:15.362Z"
   },
   {
    "duration": 1109,
    "start_time": "2021-07-21T09:55:25.483Z"
   },
   {
    "duration": 1152,
    "start_time": "2021-07-21T09:55:47.601Z"
   },
   {
    "duration": 1418,
    "start_time": "2021-07-21T09:55:54.233Z"
   },
   {
    "duration": 1590,
    "start_time": "2021-07-21T09:56:01.447Z"
   },
   {
    "duration": 1108,
    "start_time": "2021-07-21T09:56:13.958Z"
   },
   {
    "duration": 1177,
    "start_time": "2021-07-21T09:56:32.965Z"
   },
   {
    "duration": 1365,
    "start_time": "2021-07-21T09:56:40.126Z"
   },
   {
    "duration": 1252,
    "start_time": "2021-07-21T09:56:46.341Z"
   },
   {
    "duration": 2186,
    "start_time": "2021-07-21T09:57:03.230Z"
   },
   {
    "duration": 1072,
    "start_time": "2021-07-21T09:57:11.793Z"
   },
   {
    "duration": 1215,
    "start_time": "2021-07-21T09:57:19.100Z"
   },
   {
    "duration": 1155,
    "start_time": "2021-07-21T09:57:35.220Z"
   },
   {
    "duration": 1125,
    "start_time": "2021-07-21T09:57:45.259Z"
   },
   {
    "duration": 89,
    "start_time": "2021-07-21T09:59:19.451Z"
   },
   {
    "duration": 45273,
    "start_time": "2021-07-21T09:59:30.149Z"
   },
   {
    "duration": 76077,
    "start_time": "2021-07-21T10:00:17.348Z"
   },
   {
    "duration": 110,
    "start_time": "2021-07-21T10:02:36.483Z"
   },
   {
    "duration": 1118,
    "start_time": "2021-07-21T10:02:44.262Z"
   },
   {
    "duration": 1183,
    "start_time": "2021-07-21T10:02:51.675Z"
   },
   {
    "duration": 1249,
    "start_time": "2021-07-21T10:03:06.032Z"
   },
   {
    "duration": 1107,
    "start_time": "2021-07-21T10:03:16.274Z"
   },
   {
    "duration": 1107,
    "start_time": "2021-07-21T10:03:31.012Z"
   },
   {
    "duration": 1106,
    "start_time": "2021-07-21T10:03:41.416Z"
   },
   {
    "duration": 1108,
    "start_time": "2021-07-21T10:03:46.401Z"
   },
   {
    "duration": 6318,
    "start_time": "2021-07-21T10:03:57.826Z"
   },
   {
    "duration": 1114,
    "start_time": "2021-07-21T10:04:11.313Z"
   },
   {
    "duration": 1157,
    "start_time": "2021-07-21T10:04:17.055Z"
   },
   {
    "duration": 91,
    "start_time": "2021-07-21T10:05:36.240Z"
   },
   {
    "duration": 1774,
    "start_time": "2021-07-21T10:05:50.707Z"
   },
   {
    "duration": 1475,
    "start_time": "2021-07-21T10:06:20.599Z"
   },
   {
    "duration": 1116,
    "start_time": "2021-07-21T10:06:26.691Z"
   },
   {
    "duration": 1502,
    "start_time": "2021-07-21T10:06:59.324Z"
   },
   {
    "duration": 1409,
    "start_time": "2021-07-21T10:07:06.498Z"
   },
   {
    "duration": 95,
    "start_time": "2021-07-21T10:07:35.589Z"
   },
   {
    "duration": 98,
    "start_time": "2021-07-21T10:07:51.275Z"
   },
   {
    "duration": 1434,
    "start_time": "2021-07-21T10:08:31.628Z"
   },
   {
    "duration": 1391,
    "start_time": "2021-07-21T10:09:01.189Z"
   },
   {
    "duration": 1447,
    "start_time": "2021-07-21T10:09:44.008Z"
   },
   {
    "duration": 1496,
    "start_time": "2021-07-21T10:10:08.074Z"
   },
   {
    "duration": 7128,
    "start_time": "2021-07-21T10:10:22.695Z"
   },
   {
    "duration": 1484,
    "start_time": "2021-07-21T10:10:36.719Z"
   },
   {
    "duration": 1725,
    "start_time": "2021-07-21T10:10:58.735Z"
   },
   {
    "duration": 1670,
    "start_time": "2021-07-21T10:11:23.381Z"
   },
   {
    "duration": 1301,
    "start_time": "2021-07-21T10:11:33.877Z"
   },
   {
    "duration": 1174,
    "start_time": "2021-07-21T10:11:41.567Z"
   },
   {
    "duration": 1125,
    "start_time": "2021-07-21T10:12:29.151Z"
   },
   {
    "duration": 1155,
    "start_time": "2021-07-21T10:12:36.057Z"
   },
   {
    "duration": 1101,
    "start_time": "2021-07-21T10:12:55.142Z"
   },
   {
    "duration": 85594,
    "start_time": "2021-07-21T10:15:12.094Z"
   },
   {
    "duration": 9578,
    "start_time": "2021-07-21T10:17:31.123Z"
   },
   {
    "duration": 92529,
    "start_time": "2021-07-21T10:18:03.572Z"
   },
   {
    "duration": 1122,
    "start_time": "2021-07-21T10:30:10.019Z"
   },
   {
    "duration": 3,
    "start_time": "2021-07-21T10:30:11.143Z"
   },
   {
    "duration": 223,
    "start_time": "2021-07-21T10:30:11.149Z"
   },
   {
    "duration": 3,
    "start_time": "2021-07-21T10:30:11.374Z"
   },
   {
    "duration": 148,
    "start_time": "2021-07-21T10:30:11.379Z"
   },
   {
    "duration": 24,
    "start_time": "2021-07-21T10:30:11.529Z"
   },
   {
    "duration": 73,
    "start_time": "2021-07-21T10:30:11.554Z"
   },
   {
    "duration": 84,
    "start_time": "2021-07-21T10:30:11.629Z"
   },
   {
    "duration": 45,
    "start_time": "2021-07-21T10:30:11.715Z"
   },
   {
    "duration": 12,
    "start_time": "2021-07-21T10:30:11.762Z"
   },
   {
    "duration": 14,
    "start_time": "2021-07-21T10:30:11.775Z"
   },
   {
    "duration": 6,
    "start_time": "2021-07-21T10:30:11.791Z"
   },
   {
    "duration": 8,
    "start_time": "2021-07-21T10:30:11.798Z"
   },
   {
    "duration": 55,
    "start_time": "2021-07-21T10:30:11.807Z"
   },
   {
    "duration": 7,
    "start_time": "2021-07-21T10:30:11.863Z"
   },
   {
    "duration": 7,
    "start_time": "2021-07-21T10:30:11.871Z"
   },
   {
    "duration": 27,
    "start_time": "2021-07-21T10:30:11.879Z"
   },
   {
    "duration": 46,
    "start_time": "2021-07-21T10:30:11.908Z"
   },
   {
    "duration": 32,
    "start_time": "2021-07-21T10:30:11.955Z"
   },
   {
    "duration": 73,
    "start_time": "2021-07-21T10:30:11.989Z"
   },
   {
    "duration": 832,
    "start_time": "2021-07-21T10:30:12.064Z"
   },
   {
    "duration": 20,
    "start_time": "2021-07-21T10:30:12.898Z"
   },
   {
    "duration": 175,
    "start_time": "2021-07-21T10:30:12.921Z"
   },
   {
    "duration": 76,
    "start_time": "2021-07-21T10:30:13.098Z"
   },
   {
    "duration": 384,
    "start_time": "2021-07-21T10:30:13.176Z"
   },
   {
    "duration": 10,
    "start_time": "2021-07-21T10:30:13.562Z"
   },
   {
    "duration": 396,
    "start_time": "2021-07-21T10:30:13.574Z"
   },
   {
    "duration": 10,
    "start_time": "2021-07-21T10:30:13.972Z"
   },
   {
    "duration": 196,
    "start_time": "2021-07-21T10:30:13.983Z"
   },
   {
    "duration": 12,
    "start_time": "2021-07-21T10:30:14.180Z"
   },
   {
    "duration": 157,
    "start_time": "2021-07-21T10:30:14.193Z"
   },
   {
    "duration": 224,
    "start_time": "2021-07-21T10:30:14.352Z"
   },
   {
    "duration": 8,
    "start_time": "2021-07-21T10:30:14.577Z"
   },
   {
    "duration": 8402,
    "start_time": "2021-07-21T10:30:14.586Z"
   },
   {
    "duration": -106,
    "start_time": "2021-07-21T10:30:23.096Z"
   },
   {
    "duration": -109,
    "start_time": "2021-07-21T10:30:23.100Z"
   },
   {
    "duration": -112,
    "start_time": "2021-07-21T10:30:23.104Z"
   },
   {
    "duration": -116,
    "start_time": "2021-07-21T10:30:23.109Z"
   },
   {
    "duration": -118,
    "start_time": "2021-07-21T10:30:23.112Z"
   },
   {
    "duration": 57,
    "start_time": "2021-07-21T10:35:40.426Z"
   },
   {
    "duration": 13,
    "start_time": "2021-07-21T10:35:42.948Z"
   },
   {
    "duration": 91729,
    "start_time": "2021-07-21T10:37:25.416Z"
   },
   {
    "duration": 492,
    "start_time": "2021-07-21T10:45:31.449Z"
   },
   {
    "duration": 308,
    "start_time": "2021-07-21T10:46:59.325Z"
   },
   {
    "duration": 487,
    "start_time": "2021-07-21T10:47:39.107Z"
   },
   {
    "duration": 734,
    "start_time": "2021-07-21T10:48:36.395Z"
   },
   {
    "duration": 174,
    "start_time": "2021-07-21T10:48:42.190Z"
   },
   {
    "duration": 308,
    "start_time": "2021-07-21T10:48:54.533Z"
   },
   {
    "duration": 6,
    "start_time": "2021-07-21T11:08:38.013Z"
   },
   {
    "duration": 9,
    "start_time": "2021-07-21T11:08:53.103Z"
   },
   {
    "duration": 13,
    "start_time": "2021-07-21T11:09:49.703Z"
   },
   {
    "duration": 8,
    "start_time": "2021-07-21T11:11:01.582Z"
   },
   {
    "duration": 176,
    "start_time": "2021-07-21T11:11:07.025Z"
   },
   {
    "duration": 2,
    "start_time": "2021-07-21T11:13:29.004Z"
   },
   {
    "duration": 351,
    "start_time": "2021-07-21T11:14:06.681Z"
   },
   {
    "duration": 7,
    "start_time": "2021-07-21T11:14:42.778Z"
   },
   {
    "duration": 5,
    "start_time": "2021-07-21T11:14:43.789Z"
   },
   {
    "duration": 5,
    "start_time": "2021-07-21T11:16:44.320Z"
   },
   {
    "duration": 4,
    "start_time": "2021-07-21T11:18:09.114Z"
   },
   {
    "duration": 5,
    "start_time": "2021-07-21T11:18:23.943Z"
   },
   {
    "duration": 292,
    "start_time": "2021-07-21T11:19:18.828Z"
   },
   {
    "duration": 2,
    "start_time": "2021-07-21T11:19:35.068Z"
   },
   {
    "duration": 277,
    "start_time": "2021-07-21T11:19:45.784Z"
   },
   {
    "duration": 5,
    "start_time": "2021-07-21T11:20:00.031Z"
   },
   {
    "duration": 9,
    "start_time": "2021-07-21T11:41:45.227Z"
   },
   {
    "duration": 9,
    "start_time": "2021-07-21T11:42:01.523Z"
   },
   {
    "duration": 13,
    "start_time": "2021-07-21T11:42:46.465Z"
   },
   {
    "duration": 49,
    "start_time": "2021-07-21T11:44:52.905Z"
   },
   {
    "duration": 9,
    "start_time": "2021-07-21T11:45:36.162Z"
   },
   {
    "duration": 61,
    "start_time": "2021-07-21T11:46:57.094Z"
   },
   {
    "duration": 71,
    "start_time": "2021-07-21T11:47:28.195Z"
   },
   {
    "duration": 72,
    "start_time": "2021-07-21T11:48:27.612Z"
   },
   {
    "duration": 74,
    "start_time": "2021-07-21T11:49:14.871Z"
   },
   {
    "duration": 85,
    "start_time": "2021-07-21T11:49:20.119Z"
   },
   {
    "duration": 9,
    "start_time": "2021-07-21T11:53:49.918Z"
   },
   {
    "duration": 344,
    "start_time": "2021-07-21T11:54:00.658Z"
   },
   {
    "duration": 108,
    "start_time": "2021-07-21T11:54:06.990Z"
   },
   {
    "duration": 86,
    "start_time": "2021-07-21T11:54:44.968Z"
   },
   {
    "duration": 100,
    "start_time": "2021-07-21T11:55:07.599Z"
   },
   {
    "duration": 88,
    "start_time": "2021-07-21T11:55:19.083Z"
   },
   {
    "duration": 278,
    "start_time": "2021-07-21T11:56:59.639Z"
   },
   {
    "duration": 9,
    "start_time": "2021-07-21T11:57:28.199Z"
   },
   {
    "duration": 1562,
    "start_time": "2021-07-21T11:57:28.972Z"
   },
   {
    "duration": 5372,
    "start_time": "2021-07-21T11:58:07.332Z"
   },
   {
    "duration": 1035,
    "start_time": "2021-07-22T06:13:09.849Z"
   },
   {
    "duration": 3,
    "start_time": "2021-07-22T06:13:10.885Z"
   },
   {
    "duration": 202,
    "start_time": "2021-07-22T06:13:10.889Z"
   },
   {
    "duration": 3,
    "start_time": "2021-07-22T06:13:11.092Z"
   },
   {
    "duration": 141,
    "start_time": "2021-07-22T06:13:11.097Z"
   },
   {
    "duration": 14,
    "start_time": "2021-07-22T06:13:11.239Z"
   },
   {
    "duration": 84,
    "start_time": "2021-07-22T06:13:11.254Z"
   },
   {
    "duration": 77,
    "start_time": "2021-07-22T06:13:11.341Z"
   },
   {
    "duration": 34,
    "start_time": "2021-07-22T06:13:11.420Z"
   },
   {
    "duration": 10,
    "start_time": "2021-07-22T06:13:11.455Z"
   },
   {
    "duration": 26,
    "start_time": "2021-07-22T06:13:11.466Z"
   },
   {
    "duration": 4,
    "start_time": "2021-07-22T06:13:11.493Z"
   },
   {
    "duration": 6,
    "start_time": "2021-07-22T06:13:11.499Z"
   },
   {
    "duration": 29,
    "start_time": "2021-07-22T06:13:11.506Z"
   },
   {
    "duration": 6,
    "start_time": "2021-07-22T06:13:11.536Z"
   },
   {
    "duration": 6,
    "start_time": "2021-07-22T06:13:11.544Z"
   },
   {
    "duration": 48,
    "start_time": "2021-07-22T06:13:11.551Z"
   },
   {
    "duration": 25,
    "start_time": "2021-07-22T06:13:11.601Z"
   },
   {
    "duration": 30,
    "start_time": "2021-07-22T06:13:11.628Z"
   },
   {
    "duration": 78,
    "start_time": "2021-07-22T06:13:11.660Z"
   },
   {
    "duration": 778,
    "start_time": "2021-07-22T06:13:11.740Z"
   },
   {
    "duration": 20,
    "start_time": "2021-07-22T06:13:12.520Z"
   },
   {
    "duration": 166,
    "start_time": "2021-07-22T06:13:12.543Z"
   },
   {
    "duration": 66,
    "start_time": "2021-07-22T06:13:12.711Z"
   },
   {
    "duration": 353,
    "start_time": "2021-07-22T06:13:12.779Z"
   },
   {
    "duration": 8,
    "start_time": "2021-07-22T06:13:13.134Z"
   },
   {
    "duration": 355,
    "start_time": "2021-07-22T06:13:13.144Z"
   },
   {
    "duration": 9,
    "start_time": "2021-07-22T06:13:13.501Z"
   },
   {
    "duration": 185,
    "start_time": "2021-07-22T06:13:13.512Z"
   },
   {
    "duration": 11,
    "start_time": "2021-07-22T06:13:13.699Z"
   },
   {
    "duration": 146,
    "start_time": "2021-07-22T06:13:13.712Z"
   },
   {
    "duration": 204,
    "start_time": "2021-07-22T06:13:13.860Z"
   },
   {
    "duration": 7,
    "start_time": "2021-07-22T06:13:14.066Z"
   },
   {
    "duration": 85895,
    "start_time": "2021-07-22T06:13:14.074Z"
   },
   {
    "duration": 79,
    "start_time": "2021-07-22T06:14:39.971Z"
   },
   {
    "duration": -354,
    "start_time": "2021-07-22T06:14:40.406Z"
   },
   {
    "duration": -361,
    "start_time": "2021-07-22T06:14:40.413Z"
   },
   {
    "duration": -366,
    "start_time": "2021-07-22T06:14:40.419Z"
   },
   {
    "duration": -369,
    "start_time": "2021-07-22T06:14:40.423Z"
   },
   {
    "duration": -373,
    "start_time": "2021-07-22T06:14:40.428Z"
   },
   {
    "duration": -375,
    "start_time": "2021-07-22T06:14:40.431Z"
   },
   {
    "duration": -377,
    "start_time": "2021-07-22T06:14:40.434Z"
   },
   {
    "duration": 53,
    "start_time": "2021-07-22T06:15:28.668Z"
   },
   {
    "duration": 315,
    "start_time": "2021-07-22T06:15:28.723Z"
   },
   {
    "duration": 12,
    "start_time": "2021-07-22T06:15:29.040Z"
   },
   {
    "duration": 6,
    "start_time": "2021-07-22T06:15:29.053Z"
   },
   {
    "duration": 4,
    "start_time": "2021-07-22T06:15:29.061Z"
   },
   {
    "duration": 12,
    "start_time": "2021-07-22T06:16:21.740Z"
   },
   {
    "duration": 9,
    "start_time": "2021-07-22T06:16:26.196Z"
   },
   {
    "duration": 9,
    "start_time": "2021-07-22T06:21:21.861Z"
   },
   {
    "duration": 14,
    "start_time": "2021-07-22T06:28:35.239Z"
   },
   {
    "duration": 10,
    "start_time": "2021-07-22T06:30:08.814Z"
   },
   {
    "duration": 9,
    "start_time": "2021-07-22T06:31:03.415Z"
   },
   {
    "duration": 6,
    "start_time": "2021-07-22T06:31:39.868Z"
   },
   {
    "duration": 5,
    "start_time": "2021-07-22T06:32:54.202Z"
   },
   {
    "duration": 584,
    "start_time": "2021-07-22T06:33:19.847Z"
   },
   {
    "duration": 3,
    "start_time": "2021-07-22T06:33:30.860Z"
   },
   {
    "duration": 12,
    "start_time": "2021-07-22T06:33:34.627Z"
   },
   {
    "duration": 11,
    "start_time": "2021-07-22T06:35:55.549Z"
   },
   {
    "duration": 19,
    "start_time": "2021-07-22T06:35:59.422Z"
   },
   {
    "duration": 19,
    "start_time": "2021-07-22T06:36:06.406Z"
   },
   {
    "duration": 276,
    "start_time": "2021-07-22T06:37:42.382Z"
   },
   {
    "duration": 239,
    "start_time": "2021-07-22T06:37:52.504Z"
   },
   {
    "duration": 24,
    "start_time": "2021-07-22T06:39:01.751Z"
   },
   {
    "duration": 76,
    "start_time": "2021-07-22T06:39:10.946Z"
   },
   {
    "duration": 69,
    "start_time": "2021-07-22T06:40:23.235Z"
   },
   {
    "duration": 32,
    "start_time": "2021-07-22T06:43:18.410Z"
   },
   {
    "duration": 402,
    "start_time": "2021-07-22T06:50:44.940Z"
   },
   {
    "duration": 5,
    "start_time": "2021-07-22T06:50:51.616Z"
   },
   {
    "duration": 7,
    "start_time": "2021-07-22T06:51:06.701Z"
   },
   {
    "duration": 116,
    "start_time": "2021-07-22T06:51:11.913Z"
   },
   {
    "duration": 258,
    "start_time": "2021-07-22T06:55:43.607Z"
   },
   {
    "duration": 309,
    "start_time": "2021-07-22T06:56:51.942Z"
   },
   {
    "duration": 329,
    "start_time": "2021-07-22T06:58:03.845Z"
   },
   {
    "duration": 322,
    "start_time": "2021-07-22T06:58:23.896Z"
   },
   {
    "duration": 350,
    "start_time": "2021-07-22T06:58:32.804Z"
   },
   {
    "duration": 345,
    "start_time": "2021-07-22T06:59:02.198Z"
   },
   {
    "duration": 104,
    "start_time": "2021-07-22T06:59:30.821Z"
   },
   {
    "duration": 104,
    "start_time": "2021-07-22T06:59:40.641Z"
   },
   {
    "duration": 107,
    "start_time": "2021-07-22T07:00:03.031Z"
   },
   {
    "duration": 103,
    "start_time": "2021-07-22T07:00:13.235Z"
   },
   {
    "duration": 4,
    "start_time": "2021-07-22T07:01:41.007Z"
   },
   {
    "duration": 332,
    "start_time": "2021-07-22T07:01:50.343Z"
   },
   {
    "duration": 5,
    "start_time": "2021-07-22T07:01:54.459Z"
   },
   {
    "duration": 115,
    "start_time": "2021-07-22T07:01:58.168Z"
   },
   {
    "duration": 104,
    "start_time": "2021-07-22T07:02:25.113Z"
   },
   {
    "duration": 99,
    "start_time": "2021-07-22T07:02:32.779Z"
   },
   {
    "duration": 5,
    "start_time": "2021-07-22T07:03:26.018Z"
   },
   {
    "duration": 463,
    "start_time": "2021-07-22T07:03:26.767Z"
   },
   {
    "duration": 5,
    "start_time": "2021-07-22T07:03:34.060Z"
   },
   {
    "duration": 462,
    "start_time": "2021-07-22T07:03:34.569Z"
   },
   {
    "duration": 5,
    "start_time": "2021-07-22T07:03:47.617Z"
   },
   {
    "duration": 101,
    "start_time": "2021-07-22T07:03:48.196Z"
   },
   {
    "duration": 5,
    "start_time": "2021-07-22T07:04:00.553Z"
   },
   {
    "duration": 106,
    "start_time": "2021-07-22T07:04:01.075Z"
   },
   {
    "duration": 4,
    "start_time": "2021-07-22T07:04:15.648Z"
   },
   {
    "duration": 103,
    "start_time": "2021-07-22T07:04:16.299Z"
   },
   {
    "duration": 5,
    "start_time": "2021-07-22T07:04:33.336Z"
   },
   {
    "duration": 102,
    "start_time": "2021-07-22T07:04:34.611Z"
   },
   {
    "duration": 5,
    "start_time": "2021-07-22T07:04:44.123Z"
   },
   {
    "duration": 118,
    "start_time": "2021-07-22T07:04:44.738Z"
   },
   {
    "duration": 5,
    "start_time": "2021-07-22T07:04:53.262Z"
   },
   {
    "duration": 107,
    "start_time": "2021-07-22T07:04:53.897Z"
   },
   {
    "duration": 5,
    "start_time": "2021-07-22T07:05:02.242Z"
   },
   {
    "duration": 105,
    "start_time": "2021-07-22T07:05:02.755Z"
   },
   {
    "duration": 5,
    "start_time": "2021-07-22T07:05:11.841Z"
   },
   {
    "duration": 106,
    "start_time": "2021-07-22T07:05:12.904Z"
   },
   {
    "duration": 112,
    "start_time": "2021-07-22T07:05:25.187Z"
   },
   {
    "duration": 4,
    "start_time": "2021-07-22T07:05:38.170Z"
   },
   {
    "duration": 108,
    "start_time": "2021-07-22T07:05:38.829Z"
   },
   {
    "duration": 5,
    "start_time": "2021-07-22T07:05:44.220Z"
   },
   {
    "duration": 104,
    "start_time": "2021-07-22T07:05:45.804Z"
   },
   {
    "duration": 5,
    "start_time": "2021-07-22T07:06:10.377Z"
   },
   {
    "duration": 106,
    "start_time": "2021-07-22T07:06:10.996Z"
   },
   {
    "duration": 12,
    "start_time": "2021-07-22T07:16:48.847Z"
   },
   {
    "duration": 11,
    "start_time": "2021-07-22T07:21:07.496Z"
   },
   {
    "duration": 7,
    "start_time": "2021-07-22T07:21:33.010Z"
   },
   {
    "duration": 381,
    "start_time": "2021-07-22T07:29:12.664Z"
   },
   {
    "duration": 373,
    "start_time": "2021-07-22T07:29:24.502Z"
   },
   {
    "duration": 470,
    "start_time": "2021-07-22T07:29:56.556Z"
   },
   {
    "duration": 369,
    "start_time": "2021-07-22T07:30:17.060Z"
   },
   {
    "duration": 377,
    "start_time": "2021-07-22T07:34:10.008Z"
   },
   {
    "duration": 10,
    "start_time": "2021-07-22T07:34:46.904Z"
   },
   {
    "duration": 7,
    "start_time": "2021-07-22T07:35:22.632Z"
   },
   {
    "duration": 8,
    "start_time": "2021-07-22T07:38:53.526Z"
   },
   {
    "duration": 12,
    "start_time": "2021-07-22T07:44:10.795Z"
   },
   {
    "duration": 9,
    "start_time": "2021-07-22T07:44:25.549Z"
   },
   {
    "duration": 6,
    "start_time": "2021-07-22T07:45:00.034Z"
   },
   {
    "duration": 9,
    "start_time": "2021-07-22T07:45:18.677Z"
   },
   {
    "duration": 12,
    "start_time": "2021-07-22T07:46:05.834Z"
   },
   {
    "duration": 15,
    "start_time": "2021-07-22T07:47:05.967Z"
   },
   {
    "duration": 210,
    "start_time": "2021-07-22T07:48:49.751Z"
   },
   {
    "duration": 533,
    "start_time": "2021-07-22T07:50:28.237Z"
   },
   {
    "duration": 519,
    "start_time": "2021-07-22T07:50:38.968Z"
   },
   {
    "duration": 202,
    "start_time": "2021-07-22T07:51:45.575Z"
   },
   {
    "duration": 378,
    "start_time": "2021-07-22T09:05:53.328Z"
   },
   {
    "duration": 345,
    "start_time": "2021-07-22T09:06:56.767Z"
   },
   {
    "duration": 52,
    "start_time": "2021-07-22T09:21:55.227Z"
   },
   {
    "duration": 234,
    "start_time": "2021-07-22T09:24:04.734Z"
   },
   {
    "duration": 73,
    "start_time": "2021-07-22T09:24:43.335Z"
   },
   {
    "duration": 328,
    "start_time": "2021-07-22T09:24:56.764Z"
   },
   {
    "duration": 260,
    "start_time": "2021-07-22T09:25:20.335Z"
   },
   {
    "duration": 265,
    "start_time": "2021-07-22T09:25:42.442Z"
   },
   {
    "duration": 230,
    "start_time": "2021-07-22T09:25:52.620Z"
   },
   {
    "duration": 13,
    "start_time": "2021-07-22T09:26:02.001Z"
   },
   {
    "duration": 13,
    "start_time": "2021-07-22T09:26:32.453Z"
   },
   {
    "duration": 20,
    "start_time": "2021-07-22T09:28:08.485Z"
   },
   {
    "duration": 31,
    "start_time": "2021-07-22T09:28:40.761Z"
   },
   {
    "duration": 66,
    "start_time": "2021-07-22T09:29:55.744Z"
   },
   {
    "duration": 65,
    "start_time": "2021-07-22T09:30:24.693Z"
   },
   {
    "duration": 42,
    "start_time": "2021-07-22T09:31:02.494Z"
   },
   {
    "duration": 19,
    "start_time": "2021-07-22T09:31:13.810Z"
   },
   {
    "duration": 23,
    "start_time": "2021-07-22T09:31:28.321Z"
   },
   {
    "duration": 87,
    "start_time": "2021-07-22T09:32:44.365Z"
   },
   {
    "duration": 77,
    "start_time": "2021-07-22T09:34:57.865Z"
   },
   {
    "duration": 74,
    "start_time": "2021-07-22T09:35:52.805Z"
   },
   {
    "duration": 66,
    "start_time": "2021-07-22T09:35:57.369Z"
   },
   {
    "duration": 1069,
    "start_time": "2021-07-22T10:03:20.530Z"
   },
   {
    "duration": 2,
    "start_time": "2021-07-22T10:03:21.601Z"
   },
   {
    "duration": 298,
    "start_time": "2021-07-22T10:03:21.606Z"
   },
   {
    "duration": 4,
    "start_time": "2021-07-22T10:03:21.906Z"
   },
   {
    "duration": 146,
    "start_time": "2021-07-22T10:03:21.912Z"
   },
   {
    "duration": 13,
    "start_time": "2021-07-22T10:03:22.060Z"
   },
   {
    "duration": 77,
    "start_time": "2021-07-22T10:03:22.075Z"
   },
   {
    "duration": 83,
    "start_time": "2021-07-22T10:03:22.154Z"
   },
   {
    "duration": 34,
    "start_time": "2021-07-22T10:03:22.239Z"
   },
   {
    "duration": 20,
    "start_time": "2021-07-22T10:03:22.274Z"
   },
   {
    "duration": 10,
    "start_time": "2021-07-22T10:03:22.295Z"
   },
   {
    "duration": 5,
    "start_time": "2021-07-22T10:03:22.306Z"
   },
   {
    "duration": 7,
    "start_time": "2021-07-22T10:03:22.313Z"
   },
   {
    "duration": 29,
    "start_time": "2021-07-22T10:03:22.322Z"
   },
   {
    "duration": 39,
    "start_time": "2021-07-22T10:03:22.352Z"
   },
   {
    "duration": 6,
    "start_time": "2021-07-22T10:03:22.393Z"
   },
   {
    "duration": 24,
    "start_time": "2021-07-22T10:03:22.401Z"
   },
   {
    "duration": 24,
    "start_time": "2021-07-22T10:03:22.427Z"
   },
   {
    "duration": 51,
    "start_time": "2021-07-22T10:03:22.453Z"
   },
   {
    "duration": 57,
    "start_time": "2021-07-22T10:03:22.506Z"
   },
   {
    "duration": 793,
    "start_time": "2021-07-22T10:03:22.565Z"
   },
   {
    "duration": 18,
    "start_time": "2021-07-22T10:03:23.360Z"
   },
   {
    "duration": 174,
    "start_time": "2021-07-22T10:03:23.381Z"
   },
   {
    "duration": 82,
    "start_time": "2021-07-22T10:03:23.557Z"
   },
   {
    "duration": 356,
    "start_time": "2021-07-22T10:03:23.641Z"
   },
   {
    "duration": 10,
    "start_time": "2021-07-22T10:03:23.998Z"
   },
   {
    "duration": 367,
    "start_time": "2021-07-22T10:03:24.009Z"
   },
   {
    "duration": 18,
    "start_time": "2021-07-22T10:03:24.377Z"
   },
   {
    "duration": 205,
    "start_time": "2021-07-22T10:03:24.397Z"
   },
   {
    "duration": 21,
    "start_time": "2021-07-22T10:03:24.603Z"
   },
   {
    "duration": 313,
    "start_time": "2021-07-22T10:03:24.626Z"
   },
   {
    "duration": 238,
    "start_time": "2021-07-22T10:03:24.941Z"
   },
   {
    "duration": 333,
    "start_time": "2021-07-22T10:03:25.180Z"
   },
   {
    "duration": 12,
    "start_time": "2021-07-22T10:03:25.515Z"
   },
   {
    "duration": 96131,
    "start_time": "2021-07-22T10:03:25.528Z"
   },
   {
    "duration": 98,
    "start_time": "2021-07-22T10:05:01.661Z"
   },
   {
    "duration": 471,
    "start_time": "2021-07-22T10:05:01.761Z"
   },
   {
    "duration": 17,
    "start_time": "2021-07-22T10:05:02.234Z"
   },
   {
    "duration": 9,
    "start_time": "2021-07-22T10:05:02.253Z"
   },
   {
    "duration": 26,
    "start_time": "2021-07-22T10:05:02.265Z"
   },
   {
    "duration": 12,
    "start_time": "2021-07-22T10:05:02.294Z"
   },
   {
    "duration": 9,
    "start_time": "2021-07-22T10:05:02.308Z"
   },
   {
    "duration": 5,
    "start_time": "2021-07-22T10:05:02.318Z"
   },
   {
    "duration": 132,
    "start_time": "2021-07-22T10:05:02.324Z"
   },
   {
    "duration": 1524,
    "start_time": "2021-07-24T11:10:59.636Z"
   },
   {
    "duration": 5,
    "start_time": "2021-07-24T11:11:01.163Z"
   },
   {
    "duration": 325,
    "start_time": "2021-07-24T11:11:01.172Z"
   },
   {
    "duration": 5,
    "start_time": "2021-07-24T11:11:01.499Z"
   },
   {
    "duration": 250,
    "start_time": "2021-07-24T11:11:01.507Z"
   },
   {
    "duration": 21,
    "start_time": "2021-07-24T11:11:01.760Z"
   },
   {
    "duration": 135,
    "start_time": "2021-07-24T11:11:01.785Z"
   },
   {
    "duration": 168,
    "start_time": "2021-07-24T11:11:01.922Z"
   },
   {
    "duration": 86,
    "start_time": "2021-07-24T11:11:02.097Z"
   },
   {
    "duration": 24,
    "start_time": "2021-07-24T11:11:02.187Z"
   },
   {
    "duration": 44,
    "start_time": "2021-07-24T11:11:02.214Z"
   },
   {
    "duration": 17,
    "start_time": "2021-07-24T11:11:02.261Z"
   },
   {
    "duration": 7,
    "start_time": "2021-07-24T11:11:02.281Z"
   },
   {
    "duration": 68,
    "start_time": "2021-07-24T11:11:02.290Z"
   },
   {
    "duration": 39,
    "start_time": "2021-07-24T11:11:02.360Z"
   },
   {
    "duration": 66,
    "start_time": "2021-07-24T11:11:02.401Z"
   },
   {
    "duration": 53,
    "start_time": "2021-07-24T11:11:02.469Z"
   },
   {
    "duration": 80,
    "start_time": "2021-07-24T11:11:05.782Z"
   },
   {
    "duration": 9757,
    "start_time": "2021-07-24T11:11:08.918Z"
   },
   {
    "duration": 83,
    "start_time": "2021-07-24T11:12:29.815Z"
   },
   {
    "duration": 1472,
    "start_time": "2021-07-24T11:12:30.384Z"
   },
   {
    "duration": 357,
    "start_time": "2021-07-24T11:34:54.976Z"
   },
   {
    "duration": 82,
    "start_time": "2021-07-24T11:35:00.809Z"
   },
   {
    "duration": 13,
    "start_time": "2021-07-24T11:35:01.877Z"
   },
   {
    "duration": 13,
    "start_time": "2021-07-24T11:35:26.388Z"
   },
   {
    "duration": 1509,
    "start_time": "2021-07-24T11:59:49.287Z"
   },
   {
    "duration": 4,
    "start_time": "2021-07-24T11:59:50.798Z"
   },
   {
    "duration": 289,
    "start_time": "2021-07-24T11:59:50.805Z"
   },
   {
    "duration": 5,
    "start_time": "2021-07-24T11:59:51.096Z"
   },
   {
    "duration": 225,
    "start_time": "2021-07-24T11:59:51.104Z"
   },
   {
    "duration": 39,
    "start_time": "2021-07-24T11:59:51.331Z"
   },
   {
    "duration": 116,
    "start_time": "2021-07-24T11:59:51.373Z"
   },
   {
    "duration": 119,
    "start_time": "2021-07-24T11:59:51.494Z"
   },
   {
    "duration": 57,
    "start_time": "2021-07-24T11:59:51.617Z"
   },
   {
    "duration": 15,
    "start_time": "2021-07-24T11:59:51.676Z"
   },
   {
    "duration": 18,
    "start_time": "2021-07-24T11:59:51.693Z"
   },
   {
    "duration": 18,
    "start_time": "2021-07-24T11:59:51.713Z"
   },
   {
    "duration": 26,
    "start_time": "2021-07-24T11:59:51.734Z"
   },
   {
    "duration": 58,
    "start_time": "2021-07-24T11:59:51.762Z"
   },
   {
    "duration": 48,
    "start_time": "2021-07-24T11:59:51.822Z"
   },
   {
    "duration": 38,
    "start_time": "2021-07-24T11:59:51.872Z"
   },
   {
    "duration": 69,
    "start_time": "2021-07-24T11:59:51.913Z"
   },
   {
    "duration": 107,
    "start_time": "2021-07-24T11:59:51.985Z"
   },
   {
    "duration": 1464,
    "start_time": "2021-07-24T11:59:52.095Z"
   },
   {
    "duration": 26,
    "start_time": "2021-07-24T11:59:53.561Z"
   },
   {
    "duration": 289,
    "start_time": "2021-07-24T11:59:53.590Z"
   },
   {
    "duration": 127,
    "start_time": "2021-07-24T11:59:53.881Z"
   },
   {
    "duration": 646,
    "start_time": "2021-07-24T11:59:54.013Z"
   },
   {
    "duration": 14,
    "start_time": "2021-07-24T11:59:54.661Z"
   },
   {
    "duration": 608,
    "start_time": "2021-07-24T11:59:54.678Z"
   },
   {
    "duration": 18,
    "start_time": "2021-07-24T11:59:55.289Z"
   },
   {
    "duration": 342,
    "start_time": "2021-07-24T11:59:55.310Z"
   },
   {
    "duration": 28,
    "start_time": "2021-07-24T11:59:55.654Z"
   },
   {
    "duration": 362,
    "start_time": "2021-07-24T11:59:55.685Z"
   },
   {
    "duration": 209,
    "start_time": "2021-07-24T11:59:56.049Z"
   },
   {
    "duration": 402,
    "start_time": "2021-07-24T11:59:56.260Z"
   },
   {
    "duration": 13,
    "start_time": "2021-07-24T11:59:56.664Z"
   },
   {
    "duration": 171410,
    "start_time": "2021-07-24T11:59:56.680Z"
   },
   {
    "duration": 93,
    "start_time": "2021-07-24T12:02:48.093Z"
   },
   {
    "duration": 484,
    "start_time": "2021-07-24T12:02:48.188Z"
   },
   {
    "duration": 20,
    "start_time": "2021-07-24T12:02:48.675Z"
   },
   {
    "duration": 10,
    "start_time": "2021-07-24T12:02:48.698Z"
   },
   {
    "duration": 7,
    "start_time": "2021-07-24T12:02:48.710Z"
   },
   {
    "duration": 56,
    "start_time": "2021-07-24T12:02:48.720Z"
   },
   {
    "duration": 14,
    "start_time": "2021-07-24T12:02:48.778Z"
   },
   {
    "duration": 7,
    "start_time": "2021-07-24T12:02:48.794Z"
   },
   {
    "duration": 158,
    "start_time": "2021-07-24T12:02:48.804Z"
   },
   {
    "duration": 2112,
    "start_time": "2021-07-24T12:31:59.236Z"
   },
   {
    "duration": 474,
    "start_time": "2021-07-24T12:32:26.274Z"
   },
   {
    "duration": 1492,
    "start_time": "2021-07-25T08:15:54.985Z"
   },
   {
    "duration": 3,
    "start_time": "2021-07-25T08:15:56.480Z"
   },
   {
    "duration": 298,
    "start_time": "2021-07-25T08:15:56.486Z"
   },
   {
    "duration": 5,
    "start_time": "2021-07-25T08:15:56.787Z"
   },
   {
    "duration": 236,
    "start_time": "2021-07-25T08:15:56.794Z"
   },
   {
    "duration": 20,
    "start_time": "2021-07-25T08:15:57.032Z"
   },
   {
    "duration": 130,
    "start_time": "2021-07-25T08:15:57.054Z"
   },
   {
    "duration": 114,
    "start_time": "2021-07-25T08:15:57.187Z"
   },
   {
    "duration": 52,
    "start_time": "2021-07-25T08:15:57.303Z"
   },
   {
    "duration": 29,
    "start_time": "2021-07-25T08:15:59.559Z"
   },
   {
    "duration": 1579,
    "start_time": "2021-07-25T08:57:00.661Z"
   },
   {
    "duration": 303,
    "start_time": "2021-07-25T08:57:11.074Z"
   },
   {
    "duration": 17,
    "start_time": "2021-07-25T08:57:17.126Z"
   },
   {
    "duration": 19,
    "start_time": "2021-07-25T08:57:18.030Z"
   },
   {
    "duration": 8,
    "start_time": "2021-07-25T08:57:18.783Z"
   },
   {
    "duration": 8,
    "start_time": "2021-07-25T08:57:19.538Z"
   },
   {
    "duration": 39,
    "start_time": "2021-07-25T08:57:21.002Z"
   },
   {
    "duration": 42,
    "start_time": "2021-07-25T08:57:23.257Z"
   },
   {
    "duration": 57,
    "start_time": "2021-07-25T08:57:23.807Z"
   },
   {
    "duration": 103,
    "start_time": "2021-07-25T08:57:25.925Z"
   },
   {
    "duration": 7555,
    "start_time": "2021-07-25T08:57:26.728Z"
   },
   {
    "duration": 1486,
    "start_time": "2021-07-25T09:40:11.964Z"
   },
   {
    "duration": 5,
    "start_time": "2021-07-25T09:40:13.453Z"
   },
   {
    "duration": 294,
    "start_time": "2021-07-25T09:40:13.461Z"
   },
   {
    "duration": 5,
    "start_time": "2021-07-25T09:40:13.758Z"
   },
   {
    "duration": 228,
    "start_time": "2021-07-25T09:40:13.765Z"
   },
   {
    "duration": 20,
    "start_time": "2021-07-25T09:40:13.996Z"
   },
   {
    "duration": 125,
    "start_time": "2021-07-25T09:40:14.019Z"
   },
   {
    "duration": 122,
    "start_time": "2021-07-25T09:40:14.148Z"
   },
   {
    "duration": 62,
    "start_time": "2021-07-25T09:40:14.273Z"
   },
   {
    "duration": 16,
    "start_time": "2021-07-25T09:40:14.338Z"
   },
   {
    "duration": 39,
    "start_time": "2021-07-25T09:40:14.356Z"
   },
   {
    "duration": 8,
    "start_time": "2021-07-25T09:40:14.398Z"
   },
   {
    "duration": 11,
    "start_time": "2021-07-25T09:40:14.408Z"
   },
   {
    "duration": 63,
    "start_time": "2021-07-25T09:40:14.421Z"
   },
   {
    "duration": 38,
    "start_time": "2021-07-25T09:40:14.486Z"
   },
   {
    "duration": 72,
    "start_time": "2021-07-25T09:40:14.526Z"
   },
   {
    "duration": 111,
    "start_time": "2021-07-25T09:40:14.601Z"
   },
   {
    "duration": 1471,
    "start_time": "2021-07-25T09:40:14.715Z"
   },
   {
    "duration": 28,
    "start_time": "2021-07-25T09:40:16.188Z"
   },
   {
    "duration": 306,
    "start_time": "2021-07-25T09:40:16.219Z"
   },
   {
    "duration": 141,
    "start_time": "2021-07-25T09:40:16.528Z"
   },
   {
    "duration": 687,
    "start_time": "2021-07-25T09:40:16.672Z"
   },
   {
    "duration": 25,
    "start_time": "2021-07-25T09:40:17.363Z"
   },
   {
    "duration": 608,
    "start_time": "2021-07-25T09:40:17.390Z"
   },
   {
    "duration": 15,
    "start_time": "2021-07-25T09:40:18.001Z"
   },
   {
    "duration": 368,
    "start_time": "2021-07-25T09:40:18.018Z"
   },
   {
    "duration": 29,
    "start_time": "2021-07-25T09:40:18.388Z"
   },
   {
    "duration": 768,
    "start_time": "2021-07-25T09:40:21.032Z"
   },
   {
    "duration": 1799,
    "start_time": "2021-07-25T09:40:41.304Z"
   },
   {
    "duration": 2516,
    "start_time": "2021-07-25T09:41:02.046Z"
   },
   {
    "duration": 280,
    "start_time": "2021-07-25T09:44:30.082Z"
   },
   {
    "duration": 304,
    "start_time": "2021-07-25T09:44:39.917Z"
   },
   {
    "duration": 576,
    "start_time": "2021-07-25T09:45:12.391Z"
   },
   {
    "duration": 2756,
    "start_time": "2021-07-25T09:45:18.550Z"
   },
   {
    "duration": 2507,
    "start_time": "2021-07-25T09:46:21.124Z"
   },
   {
    "duration": 2538,
    "start_time": "2021-07-25T09:46:33.539Z"
   },
   {
    "duration": 2583,
    "start_time": "2021-07-25T09:46:42.026Z"
   },
   {
    "duration": 1408,
    "start_time": "2021-07-25T10:21:23.035Z"
   },
   {
    "duration": 3,
    "start_time": "2021-07-25T10:21:24.446Z"
   },
   {
    "duration": 287,
    "start_time": "2021-07-25T10:21:24.452Z"
   },
   {
    "duration": 5,
    "start_time": "2021-07-25T10:21:24.741Z"
   },
   {
    "duration": 236,
    "start_time": "2021-07-25T10:21:24.748Z"
   },
   {
    "duration": 21,
    "start_time": "2021-07-25T10:21:24.986Z"
   },
   {
    "duration": 118,
    "start_time": "2021-07-25T10:21:25.010Z"
   },
   {
    "duration": 116,
    "start_time": "2021-07-25T10:21:25.132Z"
   },
   {
    "duration": 58,
    "start_time": "2021-07-25T10:21:25.251Z"
   },
   {
    "duration": 14,
    "start_time": "2021-07-25T10:21:25.312Z"
   },
   {
    "duration": 31,
    "start_time": "2021-07-25T10:21:25.328Z"
   },
   {
    "duration": 27,
    "start_time": "2021-07-25T10:21:25.363Z"
   },
   {
    "duration": 11,
    "start_time": "2021-07-25T10:21:25.393Z"
   },
   {
    "duration": 47,
    "start_time": "2021-07-25T10:21:25.407Z"
   },
   {
    "duration": 65,
    "start_time": "2021-07-25T10:21:25.456Z"
   },
   {
    "duration": 84,
    "start_time": "2021-07-25T10:21:25.524Z"
   },
   {
    "duration": 122,
    "start_time": "2021-07-25T10:21:25.611Z"
   },
   {
    "duration": 1535,
    "start_time": "2021-07-25T10:21:25.735Z"
   },
   {
    "duration": 32,
    "start_time": "2021-07-25T10:21:27.272Z"
   },
   {
    "duration": 326,
    "start_time": "2021-07-25T10:21:27.306Z"
   },
   {
    "duration": 134,
    "start_time": "2021-07-25T10:21:27.634Z"
   },
   {
    "duration": 682,
    "start_time": "2021-07-25T10:21:27.771Z"
   },
   {
    "duration": 14,
    "start_time": "2021-07-25T10:21:28.458Z"
   },
   {
    "duration": 630,
    "start_time": "2021-07-25T10:21:28.483Z"
   },
   {
    "duration": 17,
    "start_time": "2021-07-25T10:21:29.115Z"
   },
   {
    "duration": 374,
    "start_time": "2021-07-25T10:21:29.135Z"
   },
   {
    "duration": 27,
    "start_time": "2021-07-25T10:21:29.512Z"
   },
   {
    "duration": 360,
    "start_time": "2021-07-25T10:21:29.541Z"
   },
   {
    "duration": 230,
    "start_time": "2021-07-25T10:21:29.904Z"
   },
   {
    "duration": 400,
    "start_time": "2021-07-25T10:21:30.136Z"
   },
   {
    "duration": 13,
    "start_time": "2021-07-25T10:21:30.538Z"
   },
   {
    "duration": 661,
    "start_time": "2021-07-25T10:21:30.554Z"
   },
   {
    "duration": -721,
    "start_time": "2021-07-25T10:21:31.938Z"
   },
   {
    "duration": -726,
    "start_time": "2021-07-25T10:21:31.945Z"
   },
   {
    "duration": -732,
    "start_time": "2021-07-25T10:21:31.952Z"
   },
   {
    "duration": -738,
    "start_time": "2021-07-25T10:21:31.959Z"
   },
   {
    "duration": -743,
    "start_time": "2021-07-25T10:21:31.965Z"
   },
   {
    "duration": -749,
    "start_time": "2021-07-25T10:21:31.972Z"
   },
   {
    "duration": -754,
    "start_time": "2021-07-25T10:21:31.979Z"
   },
   {
    "duration": -759,
    "start_time": "2021-07-25T10:21:31.985Z"
   },
   {
    "duration": -763,
    "start_time": "2021-07-25T10:21:31.990Z"
   },
   {
    "duration": 51,
    "start_time": "2021-07-25T10:24:23.131Z"
   },
   {
    "duration": 13,
    "start_time": "2021-07-25T10:24:26.686Z"
   },
   {
    "duration": 38719,
    "start_time": "2021-07-25T10:24:31.392Z"
   },
   {
    "duration": 92,
    "start_time": "2021-07-25T10:27:22.466Z"
   },
   {
    "duration": 638,
    "start_time": "2021-07-25T10:27:24.334Z"
   },
   {
    "duration": 13,
    "start_time": "2021-07-25T10:28:35.040Z"
   },
   {
    "duration": 187783,
    "start_time": "2021-07-25T10:28:36.375Z"
   },
   {
    "duration": 87,
    "start_time": "2021-07-25T10:32:08.509Z"
   },
   {
    "duration": 540,
    "start_time": "2021-07-25T10:32:08.599Z"
   },
   {
    "duration": 19,
    "start_time": "2021-07-25T10:32:09.141Z"
   },
   {
    "duration": 27,
    "start_time": "2021-07-25T10:32:09.163Z"
   },
   {
    "duration": 13,
    "start_time": "2021-07-25T10:32:09.193Z"
   },
   {
    "duration": 41,
    "start_time": "2021-07-25T10:32:09.208Z"
   },
   {
    "duration": 18,
    "start_time": "2021-07-25T10:32:09.252Z"
   },
   {
    "duration": 8,
    "start_time": "2021-07-25T10:32:09.274Z"
   },
   {
    "duration": 154,
    "start_time": "2021-07-25T10:32:09.285Z"
   }
  ],
  "kernelspec": {
   "display_name": "Python 3",
   "language": "python",
   "name": "python3"
  },
  "language_info": {
   "codemirror_mode": {
    "name": "ipython",
    "version": 3
   },
   "file_extension": ".py",
   "mimetype": "text/x-python",
   "name": "python",
   "nbconvert_exporter": "python",
   "pygments_lexer": "ipython3",
   "version": "3.8.3"
  },
  "toc": {
   "base_numbering": 1,
   "nav_menu": {},
   "number_sections": false,
   "sideBar": true,
   "skip_h1_title": true,
   "title_cell": "Table of Contents",
   "title_sidebar": "Contents",
   "toc_cell": false,
   "toc_position": {
    "height": "calc(100% - 180px)",
    "left": "10px",
    "top": "150px",
    "width": "388.6px"
   },
   "toc_section_display": true,
   "toc_window_display": false
  }
 },
 "nbformat": 4,
 "nbformat_minor": 2
}
