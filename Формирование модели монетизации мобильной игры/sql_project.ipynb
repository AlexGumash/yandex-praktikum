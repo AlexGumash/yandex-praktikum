{
 "cells": [
  {
   "cell_type": "markdown",
   "id": "union-acceptance",
   "metadata": {},
   "source": [
    "# Анализ базы данных\n",
    "\n",
    "На волне возросшего интереса людей к чтению книг компания решила купить крупный сервис для чтения книг по подписке. Необходимо изучить базу данных.\n",
    "\n",
    "**Цель** - проанализировать базу данных. Полученная информация поможет сформулировать ценностное предложение для нового продукта.  \n",
    "\n",
    "**Задачи**:\n",
    "- Посчитать, сколько книг вышло после 1 января 2000 года\n",
    "- Для каждой книги посчитать количество обзоров и среднюю оценку\n",
    "- Определить издательство, которое выпустило наибольшее число книг толще 50 страниц — так мы исключим из анализа брошюры\n",
    "- Определить автора с самой высокой средней оценкой книг — учитывать необходимо только книги с 50 и более оценками\n",
    "- Посчитайтать среднее количество обзоров от пользователей, которые поставили больше 50 оценок  \n",
    "\n",
    "**Описание базы данных**:  \n",
    "\n",
    "Таблица books:\n",
    "- book_id — идентификатор книги\n",
    "- author_id — идентификатор автора\n",
    "- title — название книги\n",
    "- um_pages — количество страниц\n",
    "- publication_dat — дата публикации книги\n",
    "- publisher_id — идентификатор издателя\n",
    "\n",
    "Таблица authors:\n",
    "- author_id — идентификатор автора\n",
    "- author — имя автора\n",
    "\n",
    "Таблица publishers:\n",
    "- publisher_id — идентификатор издательства\n",
    "- publisher — название издательства\n",
    "\n",
    "Таблица ratings:\n",
    "- rating_id — идентификатор оценки\n",
    "- book_id — идентификатор книги\n",
    "- username — имя пользователя, оставившего оценку\n",
    "- rating — оценка книги\n",
    "\n",
    "Таблица reviews:\n",
    "- review_id — идентификатор обзора\n",
    "- book_id — идентификатор книги\n",
    "- username — имя пользователя, написавшего обзор\n",
    "- text — текст обзора  \n",
    "\n",
    "**Содержание**:\n",
    "1. <a href='#Импорт-библиотек-и-подключение-к-БД'>Импорт библиотек и подключение к БД</a>\n",
    "2. <a href='#Исследование-таблиц'>Исследование таблиц</a>\n",
    "3. <a href='#Выполнение-запросов-к-БД'>Выполнение запросов к БД</a>\n",
    "4. <a href='#Выводы'>Выводы</a>"
   ]
  },
  {
   "cell_type": "markdown",
   "id": "parental-responsibility",
   "metadata": {},
   "source": [
    "### Импорт библиотек и подключение к БД"
   ]
  },
  {
   "cell_type": "markdown",
   "id": "protective-macro",
   "metadata": {},
   "source": [
    "Импорт библиотек"
   ]
  },
  {
   "cell_type": "code",
   "execution_count": 1,
   "id": "lesbian-killing",
   "metadata": {},
   "outputs": [],
   "source": [
    "import pandas as pd\n",
    "from sqlalchemy import create_engine"
   ]
  },
  {
   "cell_type": "markdown",
   "id": "freelance-terminology",
   "metadata": {},
   "source": [
    "Создание подключения к базе данных"
   ]
  },
  {
   "cell_type": "code",
   "execution_count": 2,
   "id": "olympic-brother",
   "metadata": {},
   "outputs": [],
   "source": [
    "db_config = {\n",
    "    'user': 'praktikum_student',\n",
    "    'pwd': 'Sdf4$2;d-d30pp',\n",
    "    'host': 'rc1b-wcoijxj3yxfsf3fs.mdb.yandexcloud.net',\n",
    "    'port': 6432,\n",
    "    'db': 'data-analyst-final-project-db'\n",
    "}\n",
    "\n",
    "connection_string = 'postgresql://{}:{}@{}:{}/{}'.format(\n",
    "    db_config['user'],\n",
    "    db_config['pwd'],\n",
    "    db_config['host'],\n",
    "    db_config['port'],\n",
    "    db_config['db']\n",
    ")\n",
    "\n",
    "engine = create_engine(connection_string, connect_args={'sslmode':'require'}) "
   ]
  },
  {
   "cell_type": "markdown",
   "id": "military-worthy",
   "metadata": {},
   "source": [
    "Создание функции для выполнения запросов."
   ]
  },
  {
   "cell_type": "code",
   "execution_count": 3,
   "id": "discrete-cornell",
   "metadata": {},
   "outputs": [],
   "source": [
    "def query(engine):\n",
    "    \n",
    "    def execute(query):\n",
    "        return pd.io.sql.read_sql(query, con = engine)\n",
    "    \n",
    "    return execute"
   ]
  },
  {
   "cell_type": "code",
   "execution_count": 4,
   "id": "boring-chile",
   "metadata": {},
   "outputs": [],
   "source": [
    "execute_query = query(engine)"
   ]
  },
  {
   "cell_type": "markdown",
   "id": "requested-membership",
   "metadata": {},
   "source": [
    "### Исследование таблиц"
   ]
  },
  {
   "cell_type": "markdown",
   "id": "female-constitution",
   "metadata": {},
   "source": [
    "Исследуем таблицы. Выведем первые строки всех таблиц."
   ]
  },
  {
   "cell_type": "code",
   "execution_count": 5,
   "id": "spatial-muslim",
   "metadata": {
    "scrolled": false
   },
   "outputs": [
    {
     "name": "stdout",
     "output_type": "stream",
     "text": [
      "Первые строки\n",
      "Таблица books:\n"
     ]
    },
    {
     "data": {
      "text/html": [
       "<div>\n",
       "<style scoped>\n",
       "    .dataframe tbody tr th:only-of-type {\n",
       "        vertical-align: middle;\n",
       "    }\n",
       "\n",
       "    .dataframe tbody tr th {\n",
       "        vertical-align: top;\n",
       "    }\n",
       "\n",
       "    .dataframe thead th {\n",
       "        text-align: right;\n",
       "    }\n",
       "</style>\n",
       "<table border=\"1\" class=\"dataframe\">\n",
       "  <thead>\n",
       "    <tr style=\"text-align: right;\">\n",
       "      <th></th>\n",
       "      <th>book_id</th>\n",
       "      <th>author_id</th>\n",
       "      <th>title</th>\n",
       "      <th>num_pages</th>\n",
       "      <th>publication_date</th>\n",
       "      <th>publisher_id</th>\n",
       "    </tr>\n",
       "  </thead>\n",
       "  <tbody>\n",
       "    <tr>\n",
       "      <th>0</th>\n",
       "      <td>1</td>\n",
       "      <td>546</td>\n",
       "      <td>'Salem's Lot</td>\n",
       "      <td>594</td>\n",
       "      <td>2005-11-01</td>\n",
       "      <td>93</td>\n",
       "    </tr>\n",
       "    <tr>\n",
       "      <th>1</th>\n",
       "      <td>2</td>\n",
       "      <td>465</td>\n",
       "      <td>1 000 Places to See Before You Die</td>\n",
       "      <td>992</td>\n",
       "      <td>2003-05-22</td>\n",
       "      <td>336</td>\n",
       "    </tr>\n",
       "  </tbody>\n",
       "</table>\n",
       "</div>"
      ],
      "text/plain": [
       "   book_id  author_id                               title  num_pages  \\\n",
       "0        1        546                        'Salem's Lot        594   \n",
       "1        2        465  1 000 Places to See Before You Die        992   \n",
       "\n",
       "  publication_date  publisher_id  \n",
       "0       2005-11-01            93  \n",
       "1       2003-05-22           336  "
      ]
     },
     "metadata": {},
     "output_type": "display_data"
    },
    {
     "name": "stdout",
     "output_type": "stream",
     "text": [
      "--------------\n",
      "Таблица authors:\n"
     ]
    },
    {
     "data": {
      "text/html": [
       "<div>\n",
       "<style scoped>\n",
       "    .dataframe tbody tr th:only-of-type {\n",
       "        vertical-align: middle;\n",
       "    }\n",
       "\n",
       "    .dataframe tbody tr th {\n",
       "        vertical-align: top;\n",
       "    }\n",
       "\n",
       "    .dataframe thead th {\n",
       "        text-align: right;\n",
       "    }\n",
       "</style>\n",
       "<table border=\"1\" class=\"dataframe\">\n",
       "  <thead>\n",
       "    <tr style=\"text-align: right;\">\n",
       "      <th></th>\n",
       "      <th>author_id</th>\n",
       "      <th>author</th>\n",
       "    </tr>\n",
       "  </thead>\n",
       "  <tbody>\n",
       "    <tr>\n",
       "      <th>0</th>\n",
       "      <td>1</td>\n",
       "      <td>A.S. Byatt</td>\n",
       "    </tr>\n",
       "    <tr>\n",
       "      <th>1</th>\n",
       "      <td>2</td>\n",
       "      <td>Aesop/Laura Harris/Laura Gibbs</td>\n",
       "    </tr>\n",
       "  </tbody>\n",
       "</table>\n",
       "</div>"
      ],
      "text/plain": [
       "   author_id                          author\n",
       "0          1                      A.S. Byatt\n",
       "1          2  Aesop/Laura Harris/Laura Gibbs"
      ]
     },
     "metadata": {},
     "output_type": "display_data"
    },
    {
     "name": "stdout",
     "output_type": "stream",
     "text": [
      "--------------\n",
      "Таблица ratings:\n"
     ]
    },
    {
     "data": {
      "text/html": [
       "<div>\n",
       "<style scoped>\n",
       "    .dataframe tbody tr th:only-of-type {\n",
       "        vertical-align: middle;\n",
       "    }\n",
       "\n",
       "    .dataframe tbody tr th {\n",
       "        vertical-align: top;\n",
       "    }\n",
       "\n",
       "    .dataframe thead th {\n",
       "        text-align: right;\n",
       "    }\n",
       "</style>\n",
       "<table border=\"1\" class=\"dataframe\">\n",
       "  <thead>\n",
       "    <tr style=\"text-align: right;\">\n",
       "      <th></th>\n",
       "      <th>rating_id</th>\n",
       "      <th>book_id</th>\n",
       "      <th>username</th>\n",
       "      <th>rating</th>\n",
       "    </tr>\n",
       "  </thead>\n",
       "  <tbody>\n",
       "    <tr>\n",
       "      <th>0</th>\n",
       "      <td>1</td>\n",
       "      <td>1</td>\n",
       "      <td>ryanfranco</td>\n",
       "      <td>4</td>\n",
       "    </tr>\n",
       "    <tr>\n",
       "      <th>1</th>\n",
       "      <td>2</td>\n",
       "      <td>1</td>\n",
       "      <td>grantpatricia</td>\n",
       "      <td>2</td>\n",
       "    </tr>\n",
       "  </tbody>\n",
       "</table>\n",
       "</div>"
      ],
      "text/plain": [
       "   rating_id  book_id       username  rating\n",
       "0          1        1     ryanfranco       4\n",
       "1          2        1  grantpatricia       2"
      ]
     },
     "metadata": {},
     "output_type": "display_data"
    },
    {
     "name": "stdout",
     "output_type": "stream",
     "text": [
      "--------------\n",
      "Таблица reviews:\n"
     ]
    },
    {
     "data": {
      "text/html": [
       "<div>\n",
       "<style scoped>\n",
       "    .dataframe tbody tr th:only-of-type {\n",
       "        vertical-align: middle;\n",
       "    }\n",
       "\n",
       "    .dataframe tbody tr th {\n",
       "        vertical-align: top;\n",
       "    }\n",
       "\n",
       "    .dataframe thead th {\n",
       "        text-align: right;\n",
       "    }\n",
       "</style>\n",
       "<table border=\"1\" class=\"dataframe\">\n",
       "  <thead>\n",
       "    <tr style=\"text-align: right;\">\n",
       "      <th></th>\n",
       "      <th>review_id</th>\n",
       "      <th>book_id</th>\n",
       "      <th>username</th>\n",
       "      <th>text</th>\n",
       "    </tr>\n",
       "  </thead>\n",
       "  <tbody>\n",
       "    <tr>\n",
       "      <th>0</th>\n",
       "      <td>1</td>\n",
       "      <td>1</td>\n",
       "      <td>brandtandrea</td>\n",
       "      <td>Mention society tell send professor analysis. ...</td>\n",
       "    </tr>\n",
       "    <tr>\n",
       "      <th>1</th>\n",
       "      <td>2</td>\n",
       "      <td>1</td>\n",
       "      <td>ryanfranco</td>\n",
       "      <td>Foot glass pretty audience hit themselves. Amo...</td>\n",
       "    </tr>\n",
       "  </tbody>\n",
       "</table>\n",
       "</div>"
      ],
      "text/plain": [
       "   review_id  book_id      username  \\\n",
       "0          1        1  brandtandrea   \n",
       "1          2        1    ryanfranco   \n",
       "\n",
       "                                                text  \n",
       "0  Mention society tell send professor analysis. ...  \n",
       "1  Foot glass pretty audience hit themselves. Amo...  "
      ]
     },
     "metadata": {},
     "output_type": "display_data"
    },
    {
     "name": "stdout",
     "output_type": "stream",
     "text": [
      "--------------\n",
      "Таблица publishers:\n"
     ]
    },
    {
     "data": {
      "text/html": [
       "<div>\n",
       "<style scoped>\n",
       "    .dataframe tbody tr th:only-of-type {\n",
       "        vertical-align: middle;\n",
       "    }\n",
       "\n",
       "    .dataframe tbody tr th {\n",
       "        vertical-align: top;\n",
       "    }\n",
       "\n",
       "    .dataframe thead th {\n",
       "        text-align: right;\n",
       "    }\n",
       "</style>\n",
       "<table border=\"1\" class=\"dataframe\">\n",
       "  <thead>\n",
       "    <tr style=\"text-align: right;\">\n",
       "      <th></th>\n",
       "      <th>publisher_id</th>\n",
       "      <th>publisher</th>\n",
       "    </tr>\n",
       "  </thead>\n",
       "  <tbody>\n",
       "    <tr>\n",
       "      <th>0</th>\n",
       "      <td>1</td>\n",
       "      <td>Ace</td>\n",
       "    </tr>\n",
       "    <tr>\n",
       "      <th>1</th>\n",
       "      <td>2</td>\n",
       "      <td>Ace Book</td>\n",
       "    </tr>\n",
       "  </tbody>\n",
       "</table>\n",
       "</div>"
      ],
      "text/plain": [
       "   publisher_id publisher\n",
       "0             1       Ace\n",
       "1             2  Ace Book"
      ]
     },
     "metadata": {},
     "output_type": "display_data"
    },
    {
     "name": "stdout",
     "output_type": "stream",
     "text": [
      "--------------\n"
     ]
    }
   ],
   "source": [
    "print('Первые строки')\n",
    "for table in ['books', 'authors', 'ratings', 'reviews', 'publishers']:\n",
    "    query = f\"SELECT * FROM {table} LIMIT 2\"\n",
    "    print(f'Таблица {table}:')\n",
    "    display(execute_query(query))\n",
    "    print('--------------')"
   ]
  },
  {
   "cell_type": "markdown",
   "id": "compliant-denver",
   "metadata": {},
   "source": [
    "### Выполнение запросов к БД"
   ]
  },
  {
   "cell_type": "markdown",
   "id": "incomplete-mouse",
   "metadata": {},
   "source": [
    "Посчитаем, сколько книг вышло после 1 января 2000 года"
   ]
  },
  {
   "cell_type": "code",
   "execution_count": 6,
   "id": "asian-wisdom",
   "metadata": {},
   "outputs": [
    {
     "data": {
      "text/html": [
       "<div>\n",
       "<style scoped>\n",
       "    .dataframe tbody tr th:only-of-type {\n",
       "        vertical-align: middle;\n",
       "    }\n",
       "\n",
       "    .dataframe tbody tr th {\n",
       "        vertical-align: top;\n",
       "    }\n",
       "\n",
       "    .dataframe thead th {\n",
       "        text-align: right;\n",
       "    }\n",
       "</style>\n",
       "<table border=\"1\" class=\"dataframe\">\n",
       "  <thead>\n",
       "    <tr style=\"text-align: right;\">\n",
       "      <th></th>\n",
       "      <th>count</th>\n",
       "    </tr>\n",
       "  </thead>\n",
       "  <tbody>\n",
       "    <tr>\n",
       "      <th>0</th>\n",
       "      <td>819</td>\n",
       "    </tr>\n",
       "  </tbody>\n",
       "</table>\n",
       "</div>"
      ],
      "text/plain": [
       "   count\n",
       "0    819"
      ]
     },
     "execution_count": 6,
     "metadata": {},
     "output_type": "execute_result"
    }
   ],
   "source": [
    "query = \"SELECT COUNT(book_id) FROM books WHERE publication_date > '2000-01-01'\"\n",
    "\n",
    "execute_query(query)"
   ]
  },
  {
   "cell_type": "markdown",
   "id": "coordinate-disaster",
   "metadata": {},
   "source": [
    "После 1 января 200 года вышло 819 книг.  \n",
    "\n",
    "Для каждой книги посчитаем количество обзоров и среднюю оценку"
   ]
  },
  {
   "cell_type": "code",
   "execution_count": 7,
   "id": "informal-eagle",
   "metadata": {},
   "outputs": [
    {
     "data": {
      "text/html": [
       "<div>\n",
       "<style scoped>\n",
       "    .dataframe tbody tr th:only-of-type {\n",
       "        vertical-align: middle;\n",
       "    }\n",
       "\n",
       "    .dataframe tbody tr th {\n",
       "        vertical-align: top;\n",
       "    }\n",
       "\n",
       "    .dataframe thead th {\n",
       "        text-align: right;\n",
       "    }\n",
       "</style>\n",
       "<table border=\"1\" class=\"dataframe\">\n",
       "  <thead>\n",
       "    <tr style=\"text-align: right;\">\n",
       "      <th></th>\n",
       "      <th>book_name</th>\n",
       "      <th>avg_rating</th>\n",
       "      <th>reviews_count</th>\n",
       "    </tr>\n",
       "  </thead>\n",
       "  <tbody>\n",
       "    <tr>\n",
       "      <th>0</th>\n",
       "      <td>The Count of Monte Cristo</td>\n",
       "      <td>4.217391</td>\n",
       "      <td>115</td>\n",
       "    </tr>\n",
       "    <tr>\n",
       "      <th>1</th>\n",
       "      <td>Count Zero (Sprawl  #2)</td>\n",
       "      <td>2.500000</td>\n",
       "      <td>4</td>\n",
       "    </tr>\n",
       "    <tr>\n",
       "      <th>2</th>\n",
       "      <td>The Botany of Desire: A Plant's-Eye View of th...</td>\n",
       "      <td>3.500000</td>\n",
       "      <td>4</td>\n",
       "    </tr>\n",
       "    <tr>\n",
       "      <th>3</th>\n",
       "      <td>The Poisonwood Bible</td>\n",
       "      <td>4.363636</td>\n",
       "      <td>110</td>\n",
       "    </tr>\n",
       "    <tr>\n",
       "      <th>4</th>\n",
       "      <td>The Canterbury Tales</td>\n",
       "      <td>3.333333</td>\n",
       "      <td>18</td>\n",
       "    </tr>\n",
       "    <tr>\n",
       "      <th>...</th>\n",
       "      <td>...</td>\n",
       "      <td>...</td>\n",
       "      <td>...</td>\n",
       "    </tr>\n",
       "    <tr>\n",
       "      <th>994</th>\n",
       "      <td>Of Love and Other Demons</td>\n",
       "      <td>4.500000</td>\n",
       "      <td>4</td>\n",
       "    </tr>\n",
       "    <tr>\n",
       "      <th>995</th>\n",
       "      <td>In the Heart of the Sea: The Tragedy of the Wh...</td>\n",
       "      <td>3.333333</td>\n",
       "      <td>9</td>\n",
       "    </tr>\n",
       "    <tr>\n",
       "      <th>996</th>\n",
       "      <td>Welcome to Temptation (Dempseys  #1)</td>\n",
       "      <td>5.000000</td>\n",
       "      <td>4</td>\n",
       "    </tr>\n",
       "    <tr>\n",
       "      <th>997</th>\n",
       "      <td>World's End (The Sandman  #8)</td>\n",
       "      <td>4.500000</td>\n",
       "      <td>4</td>\n",
       "    </tr>\n",
       "    <tr>\n",
       "      <th>998</th>\n",
       "      <td>Holes (Holes  #1)</td>\n",
       "      <td>3.967742</td>\n",
       "      <td>155</td>\n",
       "    </tr>\n",
       "  </tbody>\n",
       "</table>\n",
       "<p>999 rows × 3 columns</p>\n",
       "</div>"
      ],
      "text/plain": [
       "                                             book_name  avg_rating  \\\n",
       "0                            The Count of Monte Cristo    4.217391   \n",
       "1                              Count Zero (Sprawl  #2)    2.500000   \n",
       "2    The Botany of Desire: A Plant's-Eye View of th...    3.500000   \n",
       "3                                 The Poisonwood Bible    4.363636   \n",
       "4                                 The Canterbury Tales    3.333333   \n",
       "..                                                 ...         ...   \n",
       "994                           Of Love and Other Demons    4.500000   \n",
       "995  In the Heart of the Sea: The Tragedy of the Wh...    3.333333   \n",
       "996               Welcome to Temptation (Dempseys  #1)    5.000000   \n",
       "997                      World's End (The Sandman  #8)    4.500000   \n",
       "998                                  Holes (Holes  #1)    3.967742   \n",
       "\n",
       "     reviews_count  \n",
       "0              115  \n",
       "1                4  \n",
       "2                4  \n",
       "3              110  \n",
       "4               18  \n",
       "..             ...  \n",
       "994              4  \n",
       "995              9  \n",
       "996              4  \n",
       "997              4  \n",
       "998            155  \n",
       "\n",
       "[999 rows x 3 columns]"
      ]
     },
     "execution_count": 7,
     "metadata": {},
     "output_type": "execute_result"
    }
   ],
   "source": [
    "query = '''\n",
    "    SELECT title, AVG(rating), COUNT(review_id) FROM books \n",
    "    INNER JOIN ratings ON books.book_id = ratings.book_id\n",
    "    LEFT JOIN reviews ON books.book_id = reviews.book_id\n",
    "    GROUP BY books.title\n",
    "'''\n",
    "\n",
    "books_ratings = execute_query(query)\n",
    "books_ratings.columns = ['book_name', 'avg_rating', 'reviews_count']\n",
    "books_ratings"
   ]
  },
  {
   "cell_type": "markdown",
   "id": "indonesian-student",
   "metadata": {},
   "source": [
    "Получили датафрейм, содержащий количество обзоров и среднюю оценку для каждой книги.  \n",
    "\n",
    "Определим издательство, которое выпустило наибольшее число книг толще 50 страниц — так мы исключим из анализа брошюры"
   ]
  },
  {
   "cell_type": "code",
   "execution_count": 8,
   "id": "chronic-speaking",
   "metadata": {},
   "outputs": [
    {
     "data": {
      "text/html": [
       "<div>\n",
       "<style scoped>\n",
       "    .dataframe tbody tr th:only-of-type {\n",
       "        vertical-align: middle;\n",
       "    }\n",
       "\n",
       "    .dataframe tbody tr th {\n",
       "        vertical-align: top;\n",
       "    }\n",
       "\n",
       "    .dataframe thead th {\n",
       "        text-align: right;\n",
       "    }\n",
       "</style>\n",
       "<table border=\"1\" class=\"dataframe\">\n",
       "  <thead>\n",
       "    <tr style=\"text-align: right;\">\n",
       "      <th></th>\n",
       "      <th>publisher</th>\n",
       "      <th>count</th>\n",
       "    </tr>\n",
       "  </thead>\n",
       "  <tbody>\n",
       "    <tr>\n",
       "      <th>0</th>\n",
       "      <td>Penguin Books</td>\n",
       "      <td>42</td>\n",
       "    </tr>\n",
       "  </tbody>\n",
       "</table>\n",
       "</div>"
      ],
      "text/plain": [
       "       publisher  count\n",
       "0  Penguin Books     42"
      ]
     },
     "execution_count": 8,
     "metadata": {},
     "output_type": "execute_result"
    }
   ],
   "source": [
    "query = '''\n",
    "    SELECT publisher, COUNT(subquery.book_id) FROM publishers\n",
    "    LEFT JOIN (\n",
    "        SELECT book_id, publisher_id FROM books WHERE num_pages > 50\n",
    "    ) AS subquery ON publishers.publisher_id = subquery.publisher_id\n",
    "    GROUP BY publishers.publisher\n",
    "    ORDER BY COUNT(subquery.book_id) DESC\n",
    "    LIMIT 1\n",
    "'''\n",
    "\n",
    "execute_query(query)"
   ]
  },
  {
   "cell_type": "markdown",
   "id": "deadly-exhibit",
   "metadata": {},
   "source": [
    "Больше всего книг выпустило издательство \"Penguin Books\". Оно выпустило 42 книги.  \n",
    "\n",
    "Определим автора с самой высокой средней оценкой книг — учтём только книги с 50 и более оценками"
   ]
  },
  {
   "cell_type": "code",
   "execution_count": 9,
   "id": "imposed-counter",
   "metadata": {},
   "outputs": [
    {
     "data": {
      "text/html": [
       "<div>\n",
       "<style scoped>\n",
       "    .dataframe tbody tr th:only-of-type {\n",
       "        vertical-align: middle;\n",
       "    }\n",
       "\n",
       "    .dataframe tbody tr th {\n",
       "        vertical-align: top;\n",
       "    }\n",
       "\n",
       "    .dataframe thead th {\n",
       "        text-align: right;\n",
       "    }\n",
       "</style>\n",
       "<table border=\"1\" class=\"dataframe\">\n",
       "  <thead>\n",
       "    <tr style=\"text-align: right;\">\n",
       "      <th></th>\n",
       "      <th>author</th>\n",
       "      <th>avg</th>\n",
       "    </tr>\n",
       "  </thead>\n",
       "  <tbody>\n",
       "    <tr>\n",
       "      <th>0</th>\n",
       "      <td>J.K. Rowling/Mary GrandPré</td>\n",
       "      <td>4.283844</td>\n",
       "    </tr>\n",
       "  </tbody>\n",
       "</table>\n",
       "</div>"
      ],
      "text/plain": [
       "                       author       avg\n",
       "0  J.K. Rowling/Mary GrandPré  4.283844"
      ]
     },
     "execution_count": 9,
     "metadata": {},
     "output_type": "execute_result"
    }
   ],
   "source": [
    "query = '''\n",
    "    SELECT author, AVG(avg) FROM books \n",
    "    RIGHT JOIN\n",
    "    (SELECT book_id, COUNT(book_id), AVG(rating) \n",
    "    FROM ratings \n",
    "    GROUP BY book_id \n",
    "    HAVING COUNT(book_id) > 50) AS subquery\n",
    "    ON books.book_id = subquery.book_id\n",
    "    LEFT JOIN authors ON authors.author_id = books.author_id\n",
    "    GROUP BY author\n",
    "    ORDER BY avg DESC\n",
    "'''\n",
    "\n",
    "execute_query(query).head(1)"
   ]
  },
  {
   "cell_type": "markdown",
   "id": "perceived-swing",
   "metadata": {},
   "source": [
    "Самую высокую среднюю оценку имеют книги автора J.K. Rowling/Mary GrandPré.  \n",
    "\n",
    "Посчитаем среднее количество обзоров от пользователей, которые поставили больше 50 оценок"
   ]
  },
  {
   "cell_type": "code",
   "execution_count": 10,
   "id": "egyptian-angola",
   "metadata": {},
   "outputs": [
    {
     "data": {
      "text/html": [
       "<div>\n",
       "<style scoped>\n",
       "    .dataframe tbody tr th:only-of-type {\n",
       "        vertical-align: middle;\n",
       "    }\n",
       "\n",
       "    .dataframe tbody tr th {\n",
       "        vertical-align: top;\n",
       "    }\n",
       "\n",
       "    .dataframe thead th {\n",
       "        text-align: right;\n",
       "    }\n",
       "</style>\n",
       "<table border=\"1\" class=\"dataframe\">\n",
       "  <thead>\n",
       "    <tr style=\"text-align: right;\">\n",
       "      <th></th>\n",
       "      <th>avg</th>\n",
       "    </tr>\n",
       "  </thead>\n",
       "  <tbody>\n",
       "    <tr>\n",
       "      <th>0</th>\n",
       "      <td>24.333333</td>\n",
       "    </tr>\n",
       "  </tbody>\n",
       "</table>\n",
       "</div>"
      ],
      "text/plain": [
       "         avg\n",
       "0  24.333333"
      ]
     },
     "execution_count": 10,
     "metadata": {},
     "output_type": "execute_result"
    }
   ],
   "source": [
    "query = '''\n",
    "    SELECT AVG(count) FROM\n",
    "    (SELECT reviews.username, COUNT(review_id) FROM reviews RIGHT JOIN \n",
    "    (SELECT username FROM ratings GROUP BY username HAVING COUNT(rating_id) > 50) AS subquery\n",
    "    ON reviews.username = subquery.username\n",
    "    GROUP BY reviews.username) AS subquery2\n",
    "'''\n",
    "\n",
    "execute_query(query)"
   ]
  },
  {
   "cell_type": "markdown",
   "id": "moved-stomach",
   "metadata": {},
   "source": [
    "Те, кто поставили больше 50 оценок, в среднем оставляют 24.3 обзора."
   ]
  },
  {
   "cell_type": "markdown",
   "id": "amino-isaac",
   "metadata": {},
   "source": [
    "### Выводы\n",
    "\n",
    "- После 1 января 200 года вышло 819 книг\n",
    "- Получили датафрейм, содержащий количество обзоров и среднюю оценку для каждой книги\n",
    "- Больше всего книг выпустило издательство \"Penguin Books\". Оно выпустило 42 книги\n",
    "- Самую высокую среднюю оценку имеют книги автора J.K. Rowling/Mary GrandPré\n",
    "- Те, кто поставили больше 50 оценок, в среднем оставляют 24.3 обзора"
   ]
  }
 ],
 "metadata": {
  "kernelspec": {
   "display_name": "Python 3",
   "language": "python",
   "name": "python3"
  },
  "language_info": {
   "codemirror_mode": {
    "name": "ipython",
    "version": 3
   },
   "file_extension": ".py",
   "mimetype": "text/x-python",
   "name": "python",
   "nbconvert_exporter": "python",
   "pygments_lexer": "ipython3",
   "version": "3.8.3"
  }
 },
 "nbformat": 4,
 "nbformat_minor": 5
}
