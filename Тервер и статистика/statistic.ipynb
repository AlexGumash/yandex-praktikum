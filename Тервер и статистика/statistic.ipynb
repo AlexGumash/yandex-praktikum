{
 "cells": [
  {
   "cell_type": "markdown",
   "metadata": {},
   "source": [
    "# Определение перспективного тарифа для телеком компании"
   ]
  },
  {
   "cell_type": "markdown",
   "metadata": {},
   "source": [
    "### Импорт библиотек и загрузка данных"
   ]
  },
  {
   "cell_type": "markdown",
   "metadata": {},
   "source": [
    "Импорт необходимых библиотек."
   ]
  },
  {
   "cell_type": "code",
   "execution_count": 1,
   "metadata": {},
   "outputs": [],
   "source": [
    "import pandas as pd\n",
    "import seaborn as sns\n",
    "import matplotlib.pyplot as plt\n",
    "import numpy as np\n",
    "import math\n",
    "from scipy import stats as st"
   ]
  },
  {
   "cell_type": "markdown",
   "metadata": {},
   "source": [
    "Загрузка датасетов."
   ]
  },
  {
   "cell_type": "code",
   "execution_count": 2,
   "metadata": {},
   "outputs": [],
   "source": [
    "calls = pd.read_csv('/datasets/calls.csv')\n",
    "internet = pd.read_csv('/datasets/internet.csv')\n",
    "messages = pd.read_csv('/datasets/messages.csv')\n",
    "tariffs = pd.read_csv('/datasets/tariffs.csv')\n",
    "users = pd.read_csv('/datasets/users.csv')"
   ]
  },
  {
   "cell_type": "markdown",
   "metadata": {},
   "source": [
    "### Первый взгляд на данные"
   ]
  },
  {
   "cell_type": "markdown",
   "metadata": {},
   "source": [
    "Первый вгляд на данные. Напишем вспомогательную функцию first_look.\n",
    "Посмотрим на датасеты в следующем порядке:\n",
    "1. calls\n",
    "2. internet\n",
    "3. messages\n",
    "4. tariffs\n",
    "5. users"
   ]
  },
  {
   "cell_type": "code",
   "execution_count": 3,
   "metadata": {},
   "outputs": [],
   "source": [
    "def first_look(df, sample_size=5):\n",
    "    display(df.sample(sample_size))\n",
    "    return df.info()"
   ]
  },
  {
   "cell_type": "markdown",
   "metadata": {},
   "source": [
    "Датасет **calls**:"
   ]
  },
  {
   "cell_type": "code",
   "execution_count": 4,
   "metadata": {},
   "outputs": [
    {
     "data": {
      "text/html": [
       "<div>\n",
       "<style scoped>\n",
       "    .dataframe tbody tr th:only-of-type {\n",
       "        vertical-align: middle;\n",
       "    }\n",
       "\n",
       "    .dataframe tbody tr th {\n",
       "        vertical-align: top;\n",
       "    }\n",
       "\n",
       "    .dataframe thead th {\n",
       "        text-align: right;\n",
       "    }\n",
       "</style>\n",
       "<table border=\"1\" class=\"dataframe\">\n",
       "  <thead>\n",
       "    <tr style=\"text-align: right;\">\n",
       "      <th></th>\n",
       "      <th>id</th>\n",
       "      <th>call_date</th>\n",
       "      <th>duration</th>\n",
       "      <th>user_id</th>\n",
       "    </tr>\n",
       "  </thead>\n",
       "  <tbody>\n",
       "    <tr>\n",
       "      <td>32931</td>\n",
       "      <td>1081_176</td>\n",
       "      <td>2018-07-19</td>\n",
       "      <td>0.34</td>\n",
       "      <td>1081</td>\n",
       "    </tr>\n",
       "    <tr>\n",
       "      <td>131431</td>\n",
       "      <td>1337_220</td>\n",
       "      <td>2018-07-16</td>\n",
       "      <td>1.74</td>\n",
       "      <td>1337</td>\n",
       "    </tr>\n",
       "    <tr>\n",
       "      <td>201690</td>\n",
       "      <td>1496_512</td>\n",
       "      <td>2018-06-22</td>\n",
       "      <td>6.34</td>\n",
       "      <td>1496</td>\n",
       "    </tr>\n",
       "    <tr>\n",
       "      <td>91179</td>\n",
       "      <td>1227_599</td>\n",
       "      <td>2018-01-17</td>\n",
       "      <td>4.89</td>\n",
       "      <td>1227</td>\n",
       "    </tr>\n",
       "    <tr>\n",
       "      <td>161429</td>\n",
       "      <td>1396_130</td>\n",
       "      <td>2018-05-16</td>\n",
       "      <td>0.00</td>\n",
       "      <td>1396</td>\n",
       "    </tr>\n",
       "  </tbody>\n",
       "</table>\n",
       "</div>"
      ],
      "text/plain": [
       "              id   call_date  duration  user_id\n",
       "32931   1081_176  2018-07-19      0.34     1081\n",
       "131431  1337_220  2018-07-16      1.74     1337\n",
       "201690  1496_512  2018-06-22      6.34     1496\n",
       "91179   1227_599  2018-01-17      4.89     1227\n",
       "161429  1396_130  2018-05-16      0.00     1396"
      ]
     },
     "metadata": {},
     "output_type": "display_data"
    },
    {
     "name": "stdout",
     "output_type": "stream",
     "text": [
      "<class 'pandas.core.frame.DataFrame'>\n",
      "RangeIndex: 202607 entries, 0 to 202606\n",
      "Data columns (total 4 columns):\n",
      "id           202607 non-null object\n",
      "call_date    202607 non-null object\n",
      "duration     202607 non-null float64\n",
      "user_id      202607 non-null int64\n",
      "dtypes: float64(1), int64(1), object(2)\n",
      "memory usage: 6.2+ MB\n"
     ]
    }
   ],
   "source": [
    "first_look(calls)"
   ]
  },
  {
   "cell_type": "markdown",
   "metadata": {},
   "source": [
    "Пропуски отсутствуют.  \n",
    "Значения столбца call_date стоит перевести в тип даты datetime.  \n",
    "Смущает, что значения столбца duration (длительность звонка в минутах), представлены нецелыми числами, хотя имеется информация о том, что «Мегалайн» всегда округляет вверх значения минут. Видимо в данной таблице представлена фактическая длительность звонка, которую будет необходимо округлить вверх для учета истраченных минут тарифа.  \n",
    "\n",
    "Предположение: id звонка формируется по схеме *user_id_call_number*. То есть сначала id пользователя, потом символ _, потом номер звонка данного пользователя."
   ]
  },
  {
   "cell_type": "markdown",
   "metadata": {},
   "source": [
    "Датасет **internet**:"
   ]
  },
  {
   "cell_type": "code",
   "execution_count": 5,
   "metadata": {},
   "outputs": [
    {
     "data": {
      "text/html": [
       "<div>\n",
       "<style scoped>\n",
       "    .dataframe tbody tr th:only-of-type {\n",
       "        vertical-align: middle;\n",
       "    }\n",
       "\n",
       "    .dataframe tbody tr th {\n",
       "        vertical-align: top;\n",
       "    }\n",
       "\n",
       "    .dataframe thead th {\n",
       "        text-align: right;\n",
       "    }\n",
       "</style>\n",
       "<table border=\"1\" class=\"dataframe\">\n",
       "  <thead>\n",
       "    <tr style=\"text-align: right;\">\n",
       "      <th></th>\n",
       "      <th>Unnamed: 0</th>\n",
       "      <th>id</th>\n",
       "      <th>mb_used</th>\n",
       "      <th>session_date</th>\n",
       "      <th>user_id</th>\n",
       "    </tr>\n",
       "  </thead>\n",
       "  <tbody>\n",
       "    <tr>\n",
       "      <td>2258</td>\n",
       "      <td>2258</td>\n",
       "      <td>1007_382</td>\n",
       "      <td>59.17</td>\n",
       "      <td>2018-06-30</td>\n",
       "      <td>1007</td>\n",
       "    </tr>\n",
       "    <tr>\n",
       "      <td>142824</td>\n",
       "      <td>142824</td>\n",
       "      <td>1478_188</td>\n",
       "      <td>65.49</td>\n",
       "      <td>2018-12-21</td>\n",
       "      <td>1478</td>\n",
       "    </tr>\n",
       "    <tr>\n",
       "      <td>56301</td>\n",
       "      <td>56301</td>\n",
       "      <td>1188_107</td>\n",
       "      <td>474.66</td>\n",
       "      <td>2018-04-11</td>\n",
       "      <td>1188</td>\n",
       "    </tr>\n",
       "    <tr>\n",
       "      <td>37646</td>\n",
       "      <td>37646</td>\n",
       "      <td>1132_19</td>\n",
       "      <td>162.90</td>\n",
       "      <td>2018-09-02</td>\n",
       "      <td>1132</td>\n",
       "    </tr>\n",
       "    <tr>\n",
       "      <td>36045</td>\n",
       "      <td>36045</td>\n",
       "      <td>1125_168</td>\n",
       "      <td>252.10</td>\n",
       "      <td>2018-10-05</td>\n",
       "      <td>1125</td>\n",
       "    </tr>\n",
       "  </tbody>\n",
       "</table>\n",
       "</div>"
      ],
      "text/plain": [
       "        Unnamed: 0        id  mb_used session_date  user_id\n",
       "2258          2258  1007_382    59.17   2018-06-30     1007\n",
       "142824      142824  1478_188    65.49   2018-12-21     1478\n",
       "56301        56301  1188_107   474.66   2018-04-11     1188\n",
       "37646        37646   1132_19   162.90   2018-09-02     1132\n",
       "36045        36045  1125_168   252.10   2018-10-05     1125"
      ]
     },
     "metadata": {},
     "output_type": "display_data"
    },
    {
     "name": "stdout",
     "output_type": "stream",
     "text": [
      "<class 'pandas.core.frame.DataFrame'>\n",
      "RangeIndex: 149396 entries, 0 to 149395\n",
      "Data columns (total 5 columns):\n",
      "Unnamed: 0      149396 non-null int64\n",
      "id              149396 non-null object\n",
      "mb_used         149396 non-null float64\n",
      "session_date    149396 non-null object\n",
      "user_id         149396 non-null int64\n",
      "dtypes: float64(1), int64(2), object(2)\n",
      "memory usage: 5.7+ MB\n"
     ]
    }
   ],
   "source": [
    "first_look(internet)"
   ]
  },
  {
   "cell_type": "markdown",
   "metadata": {},
   "source": [
    "Пропуски отсутствуют.  \n",
    "Вызывает подозрения столбец \"Unnamed: 0\", значения которого совпадают с id строк в датасете.  \n",
    "Значения столбца session_date также стоит перевести в тип даты datetime.  \n",
    "\n",
    "Предположительно id сессии в интернете формируется по такой же схеме, как и id звонка."
   ]
  },
  {
   "cell_type": "markdown",
   "metadata": {},
   "source": [
    "Датасет **messages**:"
   ]
  },
  {
   "cell_type": "code",
   "execution_count": 6,
   "metadata": {},
   "outputs": [
    {
     "data": {
      "text/html": [
       "<div>\n",
       "<style scoped>\n",
       "    .dataframe tbody tr th:only-of-type {\n",
       "        vertical-align: middle;\n",
       "    }\n",
       "\n",
       "    .dataframe tbody tr th {\n",
       "        vertical-align: top;\n",
       "    }\n",
       "\n",
       "    .dataframe thead th {\n",
       "        text-align: right;\n",
       "    }\n",
       "</style>\n",
       "<table border=\"1\" class=\"dataframe\">\n",
       "  <thead>\n",
       "    <tr style=\"text-align: right;\">\n",
       "      <th></th>\n",
       "      <th>id</th>\n",
       "      <th>message_date</th>\n",
       "      <th>user_id</th>\n",
       "    </tr>\n",
       "  </thead>\n",
       "  <tbody>\n",
       "    <tr>\n",
       "      <td>97975</td>\n",
       "      <td>1401_307</td>\n",
       "      <td>2018-11-20</td>\n",
       "      <td>1401</td>\n",
       "    </tr>\n",
       "    <tr>\n",
       "      <td>48942</td>\n",
       "      <td>1217_217</td>\n",
       "      <td>2018-06-21</td>\n",
       "      <td>1217</td>\n",
       "    </tr>\n",
       "    <tr>\n",
       "      <td>13693</td>\n",
       "      <td>1057_35</td>\n",
       "      <td>2018-05-19</td>\n",
       "      <td>1057</td>\n",
       "    </tr>\n",
       "    <tr>\n",
       "      <td>50278</td>\n",
       "      <td>1222_482</td>\n",
       "      <td>2018-08-30</td>\n",
       "      <td>1222</td>\n",
       "    </tr>\n",
       "    <tr>\n",
       "      <td>112109</td>\n",
       "      <td>1453_134</td>\n",
       "      <td>2018-10-25</td>\n",
       "      <td>1453</td>\n",
       "    </tr>\n",
       "  </tbody>\n",
       "</table>\n",
       "</div>"
      ],
      "text/plain": [
       "              id message_date  user_id\n",
       "97975   1401_307   2018-11-20     1401\n",
       "48942   1217_217   2018-06-21     1217\n",
       "13693    1057_35   2018-05-19     1057\n",
       "50278   1222_482   2018-08-30     1222\n",
       "112109  1453_134   2018-10-25     1453"
      ]
     },
     "metadata": {},
     "output_type": "display_data"
    },
    {
     "name": "stdout",
     "output_type": "stream",
     "text": [
      "<class 'pandas.core.frame.DataFrame'>\n",
      "RangeIndex: 123036 entries, 0 to 123035\n",
      "Data columns (total 3 columns):\n",
      "id              123036 non-null object\n",
      "message_date    123036 non-null object\n",
      "user_id         123036 non-null int64\n",
      "dtypes: int64(1), object(2)\n",
      "memory usage: 2.8+ MB\n"
     ]
    }
   ],
   "source": [
    "first_look(messages)"
   ]
  },
  {
   "cell_type": "markdown",
   "metadata": {},
   "source": [
    "Данный датасет содержит только факт отправки сообщения и дату.  \n",
    "Пропусков не обнаружено, необходимо только перевести значения столбца message_date в тип даты datetime.  \n",
    "id сообщения формируется по такой же схеме, как и id звонка."
   ]
  },
  {
   "cell_type": "markdown",
   "metadata": {},
   "source": [
    "Датасет **tariffs**:"
   ]
  },
  {
   "cell_type": "code",
   "execution_count": 7,
   "metadata": {},
   "outputs": [
    {
     "data": {
      "text/html": [
       "<div>\n",
       "<style scoped>\n",
       "    .dataframe tbody tr th:only-of-type {\n",
       "        vertical-align: middle;\n",
       "    }\n",
       "\n",
       "    .dataframe tbody tr th {\n",
       "        vertical-align: top;\n",
       "    }\n",
       "\n",
       "    .dataframe thead th {\n",
       "        text-align: right;\n",
       "    }\n",
       "</style>\n",
       "<table border=\"1\" class=\"dataframe\">\n",
       "  <thead>\n",
       "    <tr style=\"text-align: right;\">\n",
       "      <th></th>\n",
       "      <th>messages_included</th>\n",
       "      <th>mb_per_month_included</th>\n",
       "      <th>minutes_included</th>\n",
       "      <th>rub_monthly_fee</th>\n",
       "      <th>rub_per_gb</th>\n",
       "      <th>rub_per_message</th>\n",
       "      <th>rub_per_minute</th>\n",
       "      <th>tariff_name</th>\n",
       "    </tr>\n",
       "  </thead>\n",
       "  <tbody>\n",
       "    <tr>\n",
       "      <td>1</td>\n",
       "      <td>1000</td>\n",
       "      <td>30720</td>\n",
       "      <td>3000</td>\n",
       "      <td>1950</td>\n",
       "      <td>150</td>\n",
       "      <td>1</td>\n",
       "      <td>1</td>\n",
       "      <td>ultra</td>\n",
       "    </tr>\n",
       "    <tr>\n",
       "      <td>0</td>\n",
       "      <td>50</td>\n",
       "      <td>15360</td>\n",
       "      <td>500</td>\n",
       "      <td>550</td>\n",
       "      <td>200</td>\n",
       "      <td>3</td>\n",
       "      <td>3</td>\n",
       "      <td>smart</td>\n",
       "    </tr>\n",
       "  </tbody>\n",
       "</table>\n",
       "</div>"
      ],
      "text/plain": [
       "   messages_included  mb_per_month_included  minutes_included  \\\n",
       "1               1000                  30720              3000   \n",
       "0                 50                  15360               500   \n",
       "\n",
       "   rub_monthly_fee  rub_per_gb  rub_per_message  rub_per_minute tariff_name  \n",
       "1             1950         150                1               1       ultra  \n",
       "0              550         200                3               3       smart  "
      ]
     },
     "metadata": {},
     "output_type": "display_data"
    },
    {
     "name": "stdout",
     "output_type": "stream",
     "text": [
      "<class 'pandas.core.frame.DataFrame'>\n",
      "RangeIndex: 2 entries, 0 to 1\n",
      "Data columns (total 8 columns):\n",
      "messages_included        2 non-null int64\n",
      "mb_per_month_included    2 non-null int64\n",
      "minutes_included         2 non-null int64\n",
      "rub_monthly_fee          2 non-null int64\n",
      "rub_per_gb               2 non-null int64\n",
      "rub_per_message          2 non-null int64\n",
      "rub_per_minute           2 non-null int64\n",
      "tariff_name              2 non-null object\n",
      "dtypes: int64(7), object(1)\n",
      "memory usage: 256.0+ bytes\n"
     ]
    }
   ],
   "source": [
    "first_look(tariffs, 2)"
   ]
  },
  {
   "cell_type": "markdown",
   "metadata": {},
   "source": [
    "Пропусков нет, типы значений всех столбцов устраивают.  "
   ]
  },
  {
   "cell_type": "markdown",
   "metadata": {},
   "source": [
    "Датасет **users**:"
   ]
  },
  {
   "cell_type": "code",
   "execution_count": 8,
   "metadata": {},
   "outputs": [
    {
     "data": {
      "text/html": [
       "<div>\n",
       "<style scoped>\n",
       "    .dataframe tbody tr th:only-of-type {\n",
       "        vertical-align: middle;\n",
       "    }\n",
       "\n",
       "    .dataframe tbody tr th {\n",
       "        vertical-align: top;\n",
       "    }\n",
       "\n",
       "    .dataframe thead th {\n",
       "        text-align: right;\n",
       "    }\n",
       "</style>\n",
       "<table border=\"1\" class=\"dataframe\">\n",
       "  <thead>\n",
       "    <tr style=\"text-align: right;\">\n",
       "      <th></th>\n",
       "      <th>user_id</th>\n",
       "      <th>age</th>\n",
       "      <th>churn_date</th>\n",
       "      <th>city</th>\n",
       "      <th>first_name</th>\n",
       "      <th>last_name</th>\n",
       "      <th>reg_date</th>\n",
       "      <th>tariff</th>\n",
       "    </tr>\n",
       "  </thead>\n",
       "  <tbody>\n",
       "    <tr>\n",
       "      <td>487</td>\n",
       "      <td>1487</td>\n",
       "      <td>72</td>\n",
       "      <td>NaN</td>\n",
       "      <td>Кострома</td>\n",
       "      <td>Рудольф</td>\n",
       "      <td>Кириллов</td>\n",
       "      <td>2018-08-13</td>\n",
       "      <td>smart</td>\n",
       "    </tr>\n",
       "    <tr>\n",
       "      <td>107</td>\n",
       "      <td>1107</td>\n",
       "      <td>45</td>\n",
       "      <td>NaN</td>\n",
       "      <td>Орёл</td>\n",
       "      <td>Руслан</td>\n",
       "      <td>Воронин</td>\n",
       "      <td>2018-07-20</td>\n",
       "      <td>smart</td>\n",
       "    </tr>\n",
       "    <tr>\n",
       "      <td>293</td>\n",
       "      <td>1293</td>\n",
       "      <td>39</td>\n",
       "      <td>2018-11-22</td>\n",
       "      <td>Санкт-Петербург</td>\n",
       "      <td>Эдита</td>\n",
       "      <td>Дубинина</td>\n",
       "      <td>2018-09-05</td>\n",
       "      <td>smart</td>\n",
       "    </tr>\n",
       "    <tr>\n",
       "      <td>394</td>\n",
       "      <td>1394</td>\n",
       "      <td>47</td>\n",
       "      <td>NaN</td>\n",
       "      <td>Орёл</td>\n",
       "      <td>Ксения</td>\n",
       "      <td>Жукова</td>\n",
       "      <td>2018-01-12</td>\n",
       "      <td>smart</td>\n",
       "    </tr>\n",
       "    <tr>\n",
       "      <td>244</td>\n",
       "      <td>1244</td>\n",
       "      <td>68</td>\n",
       "      <td>NaN</td>\n",
       "      <td>Москва</td>\n",
       "      <td>Геральд</td>\n",
       "      <td>Макеев</td>\n",
       "      <td>2018-05-09</td>\n",
       "      <td>smart</td>\n",
       "    </tr>\n",
       "  </tbody>\n",
       "</table>\n",
       "</div>"
      ],
      "text/plain": [
       "     user_id  age  churn_date             city first_name last_name  \\\n",
       "487     1487   72         NaN         Кострома    Рудольф  Кириллов   \n",
       "107     1107   45         NaN             Орёл     Руслан   Воронин   \n",
       "293     1293   39  2018-11-22  Санкт-Петербург      Эдита  Дубинина   \n",
       "394     1394   47         NaN             Орёл     Ксения    Жукова   \n",
       "244     1244   68         NaN           Москва    Геральд    Макеев   \n",
       "\n",
       "       reg_date tariff  \n",
       "487  2018-08-13  smart  \n",
       "107  2018-07-20  smart  \n",
       "293  2018-09-05  smart  \n",
       "394  2018-01-12  smart  \n",
       "244  2018-05-09  smart  "
      ]
     },
     "metadata": {},
     "output_type": "display_data"
    },
    {
     "name": "stdout",
     "output_type": "stream",
     "text": [
      "<class 'pandas.core.frame.DataFrame'>\n",
      "RangeIndex: 500 entries, 0 to 499\n",
      "Data columns (total 8 columns):\n",
      "user_id       500 non-null int64\n",
      "age           500 non-null int64\n",
      "churn_date    38 non-null object\n",
      "city          500 non-null object\n",
      "first_name    500 non-null object\n",
      "last_name     500 non-null object\n",
      "reg_date      500 non-null object\n",
      "tariff        500 non-null object\n",
      "dtypes: int64(2), object(6)\n",
      "memory usage: 31.4+ KB\n"
     ]
    }
   ],
   "source": [
    "first_look(users)"
   ]
  },
  {
   "cell_type": "markdown",
   "metadata": {},
   "source": [
    "Обнаружены пропуски в столбце churn_date. Пропуск в этом столбце означает, что этот конкретный клиент всё еще пользуется указанным тарифом. Поэтому обработка пропусков не требуется.\n",
    "Необходимо перевести значения столбца reg_date в тип даты datetime."
   ]
  },
  {
   "cell_type": "markdown",
   "metadata": {},
   "source": [
    "#### Вывод\n",
    "\n",
    "Необходима предобработка:\n",
    "- Замена типа значений, содержащихся в столбцах, которые представляют дату, на тип datetime\n",
    "\n",
    "Рассмотреть столбец \"Unnamed: 0\" таблицы internet. Возможно, он полностью дублирует столбец с id строк.  \n",
    "Заметим, что длительность звонков и объем израсходанного трафика заданы нецелыми числами."
   ]
  },
  {
   "cell_type": "markdown",
   "metadata": {},
   "source": [
    "### Предобработка данных"
   ]
  },
  {
   "cell_type": "markdown",
   "metadata": {},
   "source": [
    "#### Изменение типов"
   ]
  },
  {
   "cell_type": "markdown",
   "metadata": {},
   "source": [
    "Начнем с приведения всех дат к типу datetime."
   ]
  },
  {
   "cell_type": "code",
   "execution_count": 9,
   "metadata": {},
   "outputs": [],
   "source": [
    "calls['call_date'] = pd.to_datetime(calls['call_date'], format='%Y-%m-%d')\n",
    "internet['session_date'] = pd.to_datetime(internet['session_date'], format='%Y-%m-%d')\n",
    "messages['message_date'] = pd.to_datetime(messages['message_date'], format='%Y-%m-%d')\n",
    "users['reg_date'] = pd.to_datetime(users['reg_date'], format='%Y-%m-%d')"
   ]
  },
  {
   "cell_type": "markdown",
   "metadata": {},
   "source": [
    "Проверим изменились ли типы столбцов на datetime."
   ]
  },
  {
   "cell_type": "code",
   "execution_count": 10,
   "metadata": {},
   "outputs": [
    {
     "name": "stdout",
     "output_type": "stream",
     "text": [
      "datetime64[ns]\n",
      "datetime64[ns]\n",
      "datetime64[ns]\n",
      "datetime64[ns]\n"
     ]
    }
   ],
   "source": [
    "for df, column in zip([calls, internet, messages, users], ['call_date', 'session_date', 'message_date', 'reg_date']):\n",
    "    print(df[column].dtype)"
   ]
  },
  {
   "cell_type": "markdown",
   "metadata": {},
   "source": [
    "Значения необходимых столбцов изменены."
   ]
  },
  {
   "cell_type": "markdown",
   "metadata": {},
   "source": [
    "#### Обработка столбца \"Unnamed: 0\" таблицы internet  \n",
    "\n",
    "Проверим полностью ли данный столбец дублирует id строк таблицы internet."
   ]
  },
  {
   "cell_type": "code",
   "execution_count": 11,
   "metadata": {},
   "outputs": [
    {
     "name": "stdout",
     "output_type": "stream",
     "text": [
      "Полное дублирование\n"
     ]
    }
   ],
   "source": [
    "if (internet[internet.index == internet['Unnamed: 0']].shape[0] == internet.shape[0]):\n",
    "    print('Полное дублирование')"
   ]
  },
  {
   "cell_type": "markdown",
   "metadata": {},
   "source": [
    "Следовательно, от этого столбца можно избавиться.  \n",
    "\n",
    "Наиболее вероятная причина появления данного столбца - наличие безымянного столбца, содержащего id строк в файле internet.csv. Поэтому помимо id, добавленных pandas'ом, появился еще и этот столбец.  \n",
    "**Предлагаю** удалить этот столбце из файла internet.csv."
   ]
  },
  {
   "cell_type": "code",
   "execution_count": 12,
   "metadata": {},
   "outputs": [],
   "source": [
    "internet.drop('Unnamed: 0', axis=1, inplace=True)"
   ]
  },
  {
   "cell_type": "code",
   "execution_count": 13,
   "metadata": {},
   "outputs": [
    {
     "name": "stdout",
     "output_type": "stream",
     "text": [
      "<class 'pandas.core.frame.DataFrame'>\n",
      "RangeIndex: 149396 entries, 0 to 149395\n",
      "Data columns (total 4 columns):\n",
      "id              149396 non-null object\n",
      "mb_used         149396 non-null float64\n",
      "session_date    149396 non-null datetime64[ns]\n",
      "user_id         149396 non-null int64\n",
      "dtypes: datetime64[ns](1), float64(1), int64(1), object(1)\n",
      "memory usage: 4.6+ MB\n"
     ]
    }
   ],
   "source": [
    "internet.info()"
   ]
  },
  {
   "cell_type": "markdown",
   "metadata": {},
   "source": [
    "Столбец удалён."
   ]
  },
  {
   "cell_type": "markdown",
   "metadata": {},
   "source": [
    "#### Обработка длительности звонков и объема израсходанного трафика"
   ]
  },
  {
   "cell_type": "markdown",
   "metadata": {},
   "source": [
    "«Мегалайн» всегда округляет вверх значения минут и мегабайтов. Поэтому значения столбцов duration и mb_used таблиц calls и internet соответственно стоит округлить вверх.  \n",
    "За одно посчитаем на сколько процентов пользователи дольше разговаривали и больше расходовали трафика, если значения округлять вверх. "
   ]
  },
  {
   "cell_type": "code",
   "execution_count": 14,
   "metadata": {},
   "outputs": [
    {
     "name": "stdout",
     "output_type": "stream",
     "text": [
      "105.95%\n"
     ]
    }
   ],
   "source": [
    "duration_float_sum = calls['duration'].sum()\n",
    "calls['duration'] = np.ceil(calls['duration'])\n",
    "duration_rounded_sum = calls['duration'].sum()\n",
    "\n",
    "print(f'{duration_rounded_sum / duration_float_sum:.2%}')"
   ]
  },
  {
   "cell_type": "markdown",
   "metadata": {},
   "source": [
    "\"Благодаря\" округлению пользователи тратят почти на 6% больше минут."
   ]
  },
  {
   "cell_type": "code",
   "execution_count": 15,
   "metadata": {},
   "outputs": [
    {
     "name": "stdout",
     "output_type": "stream",
     "text": [
      "100.12%\n"
     ]
    }
   ],
   "source": [
    "mb_used_float_sum = internet['mb_used'].sum()\n",
    "internet['mb_used'] = np.ceil(internet['mb_used'])\n",
    "mb_used_rounded_sum = internet['mb_used'].sum()\n",
    "\n",
    "print(f'{mb_used_rounded_sum / mb_used_float_sum:.2%}')"
   ]
  },
  {
   "cell_type": "markdown",
   "metadata": {},
   "source": [
    "А вот округление трафика почти никак не влияет. Скорее всего это связанно с тем, что числа, отображающие количество потраченного трафика гораздо больше, чем количество минут.  \n",
    "\n",
    "Проверим поменялись ли значения."
   ]
  },
  {
   "cell_type": "code",
   "execution_count": 16,
   "metadata": {},
   "outputs": [
    {
     "data": {
      "text/plain": [
       "196874    10.0\n",
       "73691      6.0\n",
       "149505     5.0\n",
       "Name: duration, dtype: float64"
      ]
     },
     "metadata": {},
     "output_type": "display_data"
    },
    {
     "data": {
      "text/plain": [
       "130847    283.0\n",
       "106875    469.0\n",
       "58667     236.0\n",
       "Name: mb_used, dtype: float64"
      ]
     },
     "metadata": {},
     "output_type": "display_data"
    }
   ],
   "source": [
    "display(calls['duration'].sample(3))\n",
    "display(internet['mb_used'].sample(3))"
   ]
  },
  {
   "cell_type": "markdown",
   "metadata": {},
   "source": [
    "Значения поменялись. Раз теперь это целые числа, то заменим типы данных."
   ]
  },
  {
   "cell_type": "code",
   "execution_count": 17,
   "metadata": {},
   "outputs": [],
   "source": [
    "calls['duration'] = calls['duration'].astype('int')\n",
    "internet['mb_used'] = internet['mb_used'].astype('int')"
   ]
  },
  {
   "cell_type": "code",
   "execution_count": 18,
   "metadata": {},
   "outputs": [
    {
     "name": "stdout",
     "output_type": "stream",
     "text": [
      "int64\n",
      "int64\n"
     ]
    }
   ],
   "source": [
    "for df, column in zip([calls, internet], ['duration', 'mb_used']):\n",
    "    print(df[column].dtype)"
   ]
  },
  {
   "cell_type": "markdown",
   "metadata": {},
   "source": [
    "Значения округлены вверх, типы заменены. Попутно выяснили, что \"Мегалайн\" имеет неплохую выгоду от округления вверх."
   ]
  },
  {
   "cell_type": "markdown",
   "metadata": {},
   "source": [
    "### Поиск и обработка ошибочных данных"
   ]
  },
  {
   "cell_type": "markdown",
   "metadata": {},
   "source": [
    "Проведем поиск ошибок в следующих столбцах:\n",
    "- calls\n",
    "    - duration\n",
    "    - call_date\n",
    "- internet\n",
    "    - mb_used\n",
    "    - session_date\n",
    "- messages\n",
    "    - message_date\n",
    "- users\n",
    "    - age\n",
    "    - city\n",
    "    - reg_date\n",
    "    - tariff  \n",
    "\n",
    "Для каждого столбца выведем информацию методом describe и построим гистограмму. Создадим функцию для упрощения работы."
   ]
  },
  {
   "cell_type": "markdown",
   "metadata": {},
   "source": [
    "Поиск ошибок в столбце **duration** таблицы calls"
   ]
  },
  {
   "cell_type": "code",
   "execution_count": 19,
   "metadata": {},
   "outputs": [],
   "source": [
    "def show_descr_hist(df, column, range=None, bins=None):\n",
    "    display(df[column].describe())\n",
    "    plt.figure(figsize=(9, 5))\n",
    "    plt.grid()\n",
    "    plt.hist(df[column], range=range, bins=bins)\n",
    "    plt.show()"
   ]
  },
  {
   "cell_type": "code",
   "execution_count": 20,
   "metadata": {},
   "outputs": [
    {
     "data": {
      "text/plain": [
       "count    202607.000000\n",
       "mean          7.158198\n",
       "std           5.959173\n",
       "min           0.000000\n",
       "25%           2.000000\n",
       "50%           6.000000\n",
       "75%          11.000000\n",
       "max          38.000000\n",
       "Name: duration, dtype: float64"
      ]
     },
     "metadata": {},
     "output_type": "display_data"
    },
    {
     "data": {
      "image/png": "[encoded data removed]",
      "text/plain": [
       "<Figure size 648x360 with 1 Axes>"
      ]
     },
     "metadata": {
      "needs_background": "light"
     },
     "output_type": "display_data"
    }
   ],
   "source": [
    "show_descr_hist(calls, 'duration', (0, 38), 38)"
   ]
  },
  {
   "cell_type": "markdown",
   "metadata": {},
   "source": [
    "Бросается в глаза только то, что звонков с нулевой длительностью очень много, почти 20%."
   ]
  },
  {
   "cell_type": "code",
   "execution_count": 21,
   "metadata": {},
   "outputs": [
    {
     "name": "stdout",
     "output_type": "stream",
     "text": [
      "Звонков с нулевой длительностью: 19.55%\n"
     ]
    }
   ],
   "source": [
    "print(f'Звонков с нулевой длительностью: {calls.loc[calls[\"duration\"] == 0, \"duration\"].count() / calls.shape[0]:.2%}')"
   ]
  },
  {
   "cell_type": "markdown",
   "metadata": {},
   "source": [
    "Звонки с нулевой длительностью - звонки, в которых один из абонентов начал звонок, но звонок по какой-то причине не состоялся (не дозвонился, передумал звонить и т.д.)). Поэтому такие звонки доносят до нас только факт попытки связаться. А с точки зрения анализа расхода количества включенных в тариф минут такие звонки нам не интересны.  \n",
    "\n",
    "Звонков с нулевой длительностью слишком много, чтобы все такие звонки удалять. Просто будем далее использовать срез с ненулевыми звонками."
   ]
  },
  {
   "cell_type": "code",
   "execution_count": 22,
   "metadata": {},
   "outputs": [],
   "source": [
    "not_zero_calls = calls[calls['duration'] > 0]"
   ]
  },
  {
   "cell_type": "markdown",
   "metadata": {},
   "source": [
    "Поиск ошибок с столбце **call_date** таблицы calls"
   ]
  },
  {
   "cell_type": "markdown",
   "metadata": {},
   "source": [
    "Убираем предупреждения pandas."
   ]
  },
  {
   "cell_type": "code",
   "execution_count": 23,
   "metadata": {},
   "outputs": [],
   "source": [
    "from pandas.plotting import register_matplotlib_converters\n",
    "register_matplotlib_converters()"
   ]
  },
  {
   "cell_type": "code",
   "execution_count": 24,
   "metadata": {},
   "outputs": [
    {
     "data": {
      "text/plain": [
       "count                  202607\n",
       "unique                    365\n",
       "top       2018-12-31 00:00:00\n",
       "freq                     1435\n",
       "first     2018-01-01 00:00:00\n",
       "last      2018-12-31 00:00:00\n",
       "Name: call_date, dtype: object"
      ]
     },
     "metadata": {},
     "output_type": "display_data"
    },
    {
     "data": {
      "image/png": "[encoded data removed]",
      "text/plain": [
       "<Figure size 648x360 with 1 Axes>"
      ]
     },
     "metadata": {
      "needs_background": "light"
     },
     "output_type": "display_data"
    }
   ],
   "source": [
    "show_descr_hist(calls, 'call_date', None, 12)"
   ]
  },
  {
   "cell_type": "markdown",
   "metadata": {},
   "source": [
    "Количество звонков увеличивается линейно, ничего подозрительного не обнаружено.  \n",
    "\n",
    "Отметим временной интервал: 1 января 2018 года - 31 декабря 2018 года. То есть ровно 2018 год."
   ]
  },
  {
   "cell_type": "markdown",
   "metadata": {},
   "source": [
    "#### Поиск ошибок в столбце mb_used столбца internet"
   ]
  },
  {
   "cell_type": "code",
   "execution_count": 25,
   "metadata": {},
   "outputs": [
    {
     "data": {
      "text/plain": [
       "count    149396.000000\n",
       "mean        370.622098\n",
       "std         278.387019\n",
       "min           0.000000\n",
       "25%         139.000000\n",
       "50%         349.000000\n",
       "75%         560.000000\n",
       "max        1725.000000\n",
       "Name: mb_used, dtype: float64"
      ]
     },
     "metadata": {},
     "output_type": "display_data"
    },
    {
     "data": {
      "image/png": "[encoded data removed]",
      "text/plain": [
       "<Figure size 648x360 with 1 Axes>"
      ]
     },
     "metadata": {
      "needs_background": "light"
     },
     "output_type": "display_data"
    }
   ],
   "source": [
    "show_descr_hist(internet, 'mb_used', None, 100)"
   ]
  },
  {
   "cell_type": "markdown",
   "metadata": {},
   "source": [
    "Как и в случае с длительностью звонков вызывает подозрение столбец с нулевыми затратами трафика во время интернет сессии. Однако звонки с нулевой длительностью поддаются объяснению.  \n",
    "Если сессия зарегистрирована, то для её создания уже должны были быть отправлены хоть какие-нибудь данные.  \n",
    "\n",
    "В исходном датасете эти данные представлены числами с плавающей точкой, дробная часть которых представлена двумя цифрами. **Возможно**, при выгрузке данных в датасет все значения меньше 0.01 были округлены до 0.00.  \n",
    "\n",
    "Проверим количество нулевых значений."
   ]
  },
  {
   "cell_type": "code",
   "execution_count": 26,
   "metadata": {
    "scrolled": true
   },
   "outputs": [
    {
     "name": "stdout",
     "output_type": "stream",
     "text": [
      "Сессий с нулевой затратой трафика: 13.12%\n"
     ]
    }
   ],
   "source": [
    "print(f'Сессий с нулевой затратой трафика: {internet.loc[internet[\"mb_used\"] == 0, \"mb_used\"].count() / internet.shape[0]:.2%}')"
   ]
  },
  {
   "cell_type": "markdown",
   "metadata": {},
   "source": [
    "Сессий с нулевой затратой трафика слишком много, чтобы удалять такие строки. Поэтому оставим эти строки. При необходимости возьмем срез с ненулевыми данными."
   ]
  },
  {
   "cell_type": "code",
   "execution_count": 27,
   "metadata": {},
   "outputs": [],
   "source": [
    "not_zero_session = internet[internet['mb_used'] > 0]"
   ]
  },
  {
   "cell_type": "markdown",
   "metadata": {},
   "source": [
    "#### Поиск ошибок в столбце session_date таблицы internet"
   ]
  },
  {
   "cell_type": "code",
   "execution_count": 28,
   "metadata": {},
   "outputs": [
    {
     "data": {
      "text/plain": [
       "count                  149396\n",
       "unique                    365\n",
       "top       2018-12-31 00:00:00\n",
       "freq                     1057\n",
       "first     2018-01-01 00:00:00\n",
       "last      2018-12-31 00:00:00\n",
       "Name: session_date, dtype: object"
      ]
     },
     "metadata": {},
     "output_type": "display_data"
    },
    {
     "data": {
      "image/png": "[encoded data removed]",
      "text/plain": [
       "<Figure size 648x360 with 1 Axes>"
      ]
     },
     "metadata": {
      "needs_background": "light"
     },
     "output_type": "display_data"
    }
   ],
   "source": [
    "show_descr_hist(internet, 'session_date', None, 12)"
   ]
  },
  {
   "cell_type": "markdown",
   "metadata": {},
   "source": [
    "Всё отлично, интервал совпадает с интервалом звонков."
   ]
  },
  {
   "cell_type": "markdown",
   "metadata": {},
   "source": [
    "#### Поиск ошибок в столбце message_date таблицы messages"
   ]
  },
  {
   "cell_type": "code",
   "execution_count": 29,
   "metadata": {},
   "outputs": [
    {
     "data": {
      "text/plain": [
       "count                  123036\n",
       "unique                    364\n",
       "top       2018-12-31 00:00:00\n",
       "freq                      859\n",
       "first     2018-01-02 00:00:00\n",
       "last      2018-12-31 00:00:00\n",
       "Name: message_date, dtype: object"
      ]
     },
     "metadata": {},
     "output_type": "display_data"
    },
    {
     "data": {
      "image/png": "[encoded data removed]",
      "text/plain": [
       "<Figure size 648x360 with 1 Axes>"
      ]
     },
     "metadata": {
      "needs_background": "light"
     },
     "output_type": "display_data"
    }
   ],
   "source": [
    "show_descr_hist(messages, 'message_date', None, 12)"
   ]
  },
  {
   "cell_type": "markdown",
   "metadata": {},
   "source": [
    "Интервал тот же."
   ]
  },
  {
   "cell_type": "markdown",
   "metadata": {},
   "source": [
    "#### Поиск ошибок в столбце age таблицы users"
   ]
  },
  {
   "cell_type": "code",
   "execution_count": 30,
   "metadata": {},
   "outputs": [
    {
     "data": {
      "text/plain": [
       "count    500.00000\n",
       "mean      46.58800\n",
       "std       16.66763\n",
       "min       18.00000\n",
       "25%       32.00000\n",
       "50%       46.00000\n",
       "75%       62.00000\n",
       "max       75.00000\n",
       "Name: age, dtype: float64"
      ]
     },
     "metadata": {},
     "output_type": "display_data"
    },
    {
     "data": {
      "image/png": "[encoded data removed]",
      "text/plain": [
       "<Figure size 648x360 with 1 Axes>"
      ]
     },
     "metadata": {
      "needs_background": "light"
     },
     "output_type": "display_data"
    }
   ],
   "source": [
    "show_descr_hist(users, 'age', (18, 75), 28)"
   ]
  },
  {
   "cell_type": "markdown",
   "metadata": {},
   "source": [
    "Ничего подозрительного не обнаружено. У нас не так много клиентов в выборке, поэтому гистограмма не самая равномерная."
   ]
  },
  {
   "cell_type": "markdown",
   "metadata": {},
   "source": [
    "#### Поиск ошибок в столбце city таблицы users"
   ]
  },
  {
   "cell_type": "markdown",
   "metadata": {},
   "source": [
    "Посмотрим в каком формате встречаются названия населенных пунктов."
   ]
  },
  {
   "cell_type": "code",
   "execution_count": 31,
   "metadata": {},
   "outputs": [
    {
     "data": {
      "text/plain": [
       "array(['Краснодар', 'Москва', 'Стерлитамак', 'Новокузнецк',\n",
       "       'Набережные Челны', 'Ульяновск', 'Челябинск', 'Пермь', 'Тюмень',\n",
       "       'Самара', 'Санкт-Петербург', 'Иваново', 'Чебоксары', 'Омск', 'Уфа',\n",
       "       'Томск', 'Чита', 'Мурманск', 'Петрозаводск', 'Тверь',\n",
       "       'Екатеринбург', 'Махачкала', 'Вологда', 'Череповец', 'Ярославль',\n",
       "       'Сочи', 'Хабаровск', 'Ставрополь', 'Рязань', 'Улан-Удэ', 'Тула',\n",
       "       'Саратов', 'Ростов-на-Дону', 'Казань', 'Иркутск', 'Курск',\n",
       "       'Калуга', 'Якутск', 'Астрахань', 'Химки', 'Владикавказ',\n",
       "       'Волгоград', 'Саранск', 'Ижевск', 'Новосибирск', 'Брянск',\n",
       "       'Тольятти', 'Нижний Тагил', 'Орёл', 'Белгород', 'Воронеж',\n",
       "       'Волжский', 'Курган', 'Барнаул', 'Красноярск', 'Архангельск',\n",
       "       'Липецк', 'Кемерово', 'Киров', 'Сургут', 'Пенза', 'Магнитогорск',\n",
       "       'Нижний Новгород', 'Кострома', 'Владивосток', 'Тамбов', 'Балашиха',\n",
       "       'Севастополь', 'Калининград', 'Оренбург', 'Смоленск',\n",
       "       'Нижневартовск', 'Владимир', 'Новороссийск', 'Грозный', 'Подольск'],\n",
       "      dtype=object)"
      ]
     },
     "execution_count": 31,
     "metadata": {},
     "output_type": "execute_result"
    }
   ],
   "source": [
    "users['city'].unique()"
   ]
  },
  {
   "cell_type": "markdown",
   "metadata": {},
   "source": [
    "Названия всех населенных пунктов находятся в одном формате, никакие действия не требуются."
   ]
  },
  {
   "cell_type": "markdown",
   "metadata": {},
   "source": [
    "#### Поиск ошибок в столбце reg_date таблицы users"
   ]
  },
  {
   "cell_type": "code",
   "execution_count": 32,
   "metadata": {},
   "outputs": [
    {
     "data": {
      "text/plain": [
       "count                     500\n",
       "unique                    270\n",
       "top       2018-05-28 00:00:00\n",
       "freq                        8\n",
       "first     2018-01-01 00:00:00\n",
       "last      2018-12-31 00:00:00\n",
       "Name: reg_date, dtype: object"
      ]
     },
     "metadata": {},
     "output_type": "display_data"
    },
    {
     "data": {
      "image/png": "[encoded data removed]",
      "text/plain": [
       "<Figure size 648x360 with 1 Axes>"
      ]
     },
     "metadata": {
      "needs_background": "light"
     },
     "output_type": "display_data"
    }
   ],
   "source": [
    "show_descr_hist(users, 'reg_date', None, 12)"
   ]
  },
  {
   "cell_type": "markdown",
   "metadata": {},
   "source": [
    "Временной интервал тот же. Тот факт, что каждый месяц регистрируется похожее количество людей объясняет линейный прирост количества звонков и выходов в интернет. То есть каждый человек каждый месяц звонит и выходит в интернет +- одинаково, просто количество клиентов увеличивается.  "
   ]
  },
  {
   "cell_type": "markdown",
   "metadata": {},
   "source": [
    "#### Поиск ошибок в столбце tariff таблицы users"
   ]
  },
  {
   "cell_type": "markdown",
   "metadata": {},
   "source": [
    "Посмотрим на то, какими тарифами пользуются люди."
   ]
  },
  {
   "cell_type": "code",
   "execution_count": 33,
   "metadata": {},
   "outputs": [
    {
     "data": {
      "text/plain": [
       "smart    351\n",
       "ultra    149\n",
       "Name: tariff, dtype: int64"
      ]
     },
     "execution_count": 33,
     "metadata": {},
     "output_type": "execute_result"
    }
   ],
   "source": [
    "users['tariff'].value_counts()"
   ]
  },
  {
   "cell_type": "markdown",
   "metadata": {},
   "source": [
    "Всё хорошо, логично, ничего лишнего."
   ]
  },
  {
   "cell_type": "markdown",
   "metadata": {},
   "source": [
    "#### Поиск и обработка ошибок. Вывод."
   ]
  },
  {
   "cell_type": "markdown",
   "metadata": {},
   "source": [
    "Обнаруженные ошибки:\n",
    "1. Нецелые значения в столбцах duration (длительность сессии) и mb_used (объем потраченого трафика)\n",
    "2. Звонки с нулевой длительностью\n",
    "3. Сессии в интернете с нулевой затратой трафика\n",
    "4. Странный столбец \"Unnamed: 0\"  \n",
    "\n",
    "Как ошибки были обработаны:\n",
    "1. Нецелые значения были округлены вверх  \n",
    "2. Получен срез со звонками ненулевой длительности\n",
    "3. Получен срез с сессиями с ненулевыми затратами трафика\n",
    "4. Данный столбец был удалён  \n",
    "\n",
    "**Предположительно**: \n",
    "- Звонки с нулевой длительностью - звонки, в которых один клиент начал звонок, но по какой-то причине не дозвонился.\n",
    "- Сессии с нулевой затратой трафика появились в момент выгрузки данных в таблицу csv. Возможно в этот момент значения меньше 0.01 (10 килобайт) были округлены до 0.\n",
    "- В таблице internet.csv присутствует безымянный столбец с id сессий.  \n",
    "\n",
    "**Предложения**:\n",
    "- Проверить предположение относительно округления до 0 значений затраченного трафика\n",
    "- Проверить таблицу internet.csv"
   ]
  },
  {
   "cell_type": "markdown",
   "metadata": {},
   "source": [
    "### Рассчет дополнительных параметров"
   ]
  },
  {
   "cell_type": "markdown",
   "metadata": {},
   "source": [
    "Для каждого пользователя посчитаем:\n",
    "- Количество сделанных звонков и израсходованных минут разговора по месяцам\n",
    "- Количество отправленных сообщений по месяцам\n",
    "- Объем израсходованного интернет-трафика по месяцам\n",
    "- Помесячную выручку с каждого пользователя"
   ]
  },
  {
   "cell_type": "markdown",
   "metadata": {},
   "source": [
    "Посчитаем количество звонков и израсходованных минут разговора по месяцам.  \n",
    "Для этого в каждую из таблиц calls, messages и internet добавим отдельный столбец, который будет содержать номер месяца."
   ]
  },
  {
   "cell_type": "code",
   "execution_count": 34,
   "metadata": {},
   "outputs": [],
   "source": [
    "calls['call_month'] = calls['call_date'].dt.month"
   ]
  },
  {
   "cell_type": "code",
   "execution_count": 35,
   "metadata": {},
   "outputs": [],
   "source": [
    "messages['message_month'] = messages['message_date'].dt.month"
   ]
  },
  {
   "cell_type": "code",
   "execution_count": 36,
   "metadata": {},
   "outputs": [],
   "source": [
    "internet['session_month'] = internet['session_date'].dt.month"
   ]
  },
  {
   "cell_type": "markdown",
   "metadata": {},
   "source": [
    "Таблица количества звонков по месяцам:"
   ]
  },
  {
   "cell_type": "code",
   "execution_count": 37,
   "metadata": {
    "scrolled": true
   },
   "outputs": [
    {
     "data": {
      "text/html": [
       "<div>\n",
       "<style scoped>\n",
       "    .dataframe tbody tr th:only-of-type {\n",
       "        vertical-align: middle;\n",
       "    }\n",
       "\n",
       "    .dataframe tbody tr th {\n",
       "        vertical-align: top;\n",
       "    }\n",
       "\n",
       "    .dataframe thead th {\n",
       "        text-align: right;\n",
       "    }\n",
       "</style>\n",
       "<table border=\"1\" class=\"dataframe\">\n",
       "  <thead>\n",
       "    <tr style=\"text-align: right;\">\n",
       "      <th></th>\n",
       "      <th>user_id</th>\n",
       "      <th>month</th>\n",
       "      <th>calls_count</th>\n",
       "    </tr>\n",
       "  </thead>\n",
       "  <tbody>\n",
       "    <tr>\n",
       "      <td>0</td>\n",
       "      <td>1000</td>\n",
       "      <td>1</td>\n",
       "      <td>NaN</td>\n",
       "    </tr>\n",
       "    <tr>\n",
       "      <td>1</td>\n",
       "      <td>1000</td>\n",
       "      <td>2</td>\n",
       "      <td>NaN</td>\n",
       "    </tr>\n",
       "    <tr>\n",
       "      <td>2</td>\n",
       "      <td>1000</td>\n",
       "      <td>3</td>\n",
       "      <td>NaN</td>\n",
       "    </tr>\n",
       "    <tr>\n",
       "      <td>3</td>\n",
       "      <td>1000</td>\n",
       "      <td>4</td>\n",
       "      <td>NaN</td>\n",
       "    </tr>\n",
       "    <tr>\n",
       "      <td>4</td>\n",
       "      <td>1000</td>\n",
       "      <td>5</td>\n",
       "      <td>22.0</td>\n",
       "    </tr>\n",
       "    <tr>\n",
       "      <td>...</td>\n",
       "      <td>...</td>\n",
       "      <td>...</td>\n",
       "      <td>...</td>\n",
       "    </tr>\n",
       "    <tr>\n",
       "      <td>5899</td>\n",
       "      <td>1499</td>\n",
       "      <td>8</td>\n",
       "      <td>NaN</td>\n",
       "    </tr>\n",
       "    <tr>\n",
       "      <td>5900</td>\n",
       "      <td>1499</td>\n",
       "      <td>9</td>\n",
       "      <td>9.0</td>\n",
       "    </tr>\n",
       "    <tr>\n",
       "      <td>5901</td>\n",
       "      <td>1499</td>\n",
       "      <td>10</td>\n",
       "      <td>68.0</td>\n",
       "    </tr>\n",
       "    <tr>\n",
       "      <td>5902</td>\n",
       "      <td>1499</td>\n",
       "      <td>11</td>\n",
       "      <td>74.0</td>\n",
       "    </tr>\n",
       "    <tr>\n",
       "      <td>5903</td>\n",
       "      <td>1499</td>\n",
       "      <td>12</td>\n",
       "      <td>69.0</td>\n",
       "    </tr>\n",
       "  </tbody>\n",
       "</table>\n",
       "<p>5904 rows × 3 columns</p>\n",
       "</div>"
      ],
      "text/plain": [
       "      user_id  month  calls_count\n",
       "0        1000      1          NaN\n",
       "1        1000      2          NaN\n",
       "2        1000      3          NaN\n",
       "3        1000      4          NaN\n",
       "4        1000      5         22.0\n",
       "...       ...    ...          ...\n",
       "5899     1499      8          NaN\n",
       "5900     1499      9          9.0\n",
       "5901     1499     10         68.0\n",
       "5902     1499     11         74.0\n",
       "5903     1499     12         69.0\n",
       "\n",
       "[5904 rows x 3 columns]"
      ]
     },
     "execution_count": 37,
     "metadata": {},
     "output_type": "execute_result"
    }
   ],
   "source": [
    "calls_count_per_month = calls.pivot_table(index=['user_id', 'call_month'], values='duration', aggfunc='count', dropna=False)\n",
    "\n",
    "calls_count_per_month.reset_index(inplace=True)\n",
    "calls_count_per_month.set_axis(['user_id','month','calls_count'], axis='columns', inplace=True)\n",
    "calls_count_per_month"
   ]
  },
  {
   "cell_type": "markdown",
   "metadata": {},
   "source": [
    "Таблица суммарной длительности звонков по месяцам:"
   ]
  },
  {
   "cell_type": "code",
   "execution_count": 38,
   "metadata": {
    "scrolled": false
   },
   "outputs": [
    {
     "data": {
      "text/html": [
       "<div>\n",
       "<style scoped>\n",
       "    .dataframe tbody tr th:only-of-type {\n",
       "        vertical-align: middle;\n",
       "    }\n",
       "\n",
       "    .dataframe tbody tr th {\n",
       "        vertical-align: top;\n",
       "    }\n",
       "\n",
       "    .dataframe thead th {\n",
       "        text-align: right;\n",
       "    }\n",
       "</style>\n",
       "<table border=\"1\" class=\"dataframe\">\n",
       "  <thead>\n",
       "    <tr style=\"text-align: right;\">\n",
       "      <th></th>\n",
       "      <th>user_id</th>\n",
       "      <th>month</th>\n",
       "      <th>calls_duration</th>\n",
       "    </tr>\n",
       "  </thead>\n",
       "  <tbody>\n",
       "    <tr>\n",
       "      <td>0</td>\n",
       "      <td>1000</td>\n",
       "      <td>1</td>\n",
       "      <td>NaN</td>\n",
       "    </tr>\n",
       "    <tr>\n",
       "      <td>1</td>\n",
       "      <td>1000</td>\n",
       "      <td>2</td>\n",
       "      <td>NaN</td>\n",
       "    </tr>\n",
       "    <tr>\n",
       "      <td>2</td>\n",
       "      <td>1000</td>\n",
       "      <td>3</td>\n",
       "      <td>NaN</td>\n",
       "    </tr>\n",
       "    <tr>\n",
       "      <td>3</td>\n",
       "      <td>1000</td>\n",
       "      <td>4</td>\n",
       "      <td>NaN</td>\n",
       "    </tr>\n",
       "    <tr>\n",
       "      <td>4</td>\n",
       "      <td>1000</td>\n",
       "      <td>5</td>\n",
       "      <td>159.0</td>\n",
       "    </tr>\n",
       "    <tr>\n",
       "      <td>...</td>\n",
       "      <td>...</td>\n",
       "      <td>...</td>\n",
       "      <td>...</td>\n",
       "    </tr>\n",
       "    <tr>\n",
       "      <td>5899</td>\n",
       "      <td>1499</td>\n",
       "      <td>8</td>\n",
       "      <td>NaN</td>\n",
       "    </tr>\n",
       "    <tr>\n",
       "      <td>5900</td>\n",
       "      <td>1499</td>\n",
       "      <td>9</td>\n",
       "      <td>70.0</td>\n",
       "    </tr>\n",
       "    <tr>\n",
       "      <td>5901</td>\n",
       "      <td>1499</td>\n",
       "      <td>10</td>\n",
       "      <td>449.0</td>\n",
       "    </tr>\n",
       "    <tr>\n",
       "      <td>5902</td>\n",
       "      <td>1499</td>\n",
       "      <td>11</td>\n",
       "      <td>612.0</td>\n",
       "    </tr>\n",
       "    <tr>\n",
       "      <td>5903</td>\n",
       "      <td>1499</td>\n",
       "      <td>12</td>\n",
       "      <td>492.0</td>\n",
       "    </tr>\n",
       "  </tbody>\n",
       "</table>\n",
       "<p>5904 rows × 3 columns</p>\n",
       "</div>"
      ],
      "text/plain": [
       "      user_id  month  calls_duration\n",
       "0        1000      1             NaN\n",
       "1        1000      2             NaN\n",
       "2        1000      3             NaN\n",
       "3        1000      4             NaN\n",
       "4        1000      5           159.0\n",
       "...       ...    ...             ...\n",
       "5899     1499      8             NaN\n",
       "5900     1499      9            70.0\n",
       "5901     1499     10           449.0\n",
       "5902     1499     11           612.0\n",
       "5903     1499     12           492.0\n",
       "\n",
       "[5904 rows x 3 columns]"
      ]
     },
     "execution_count": 38,
     "metadata": {},
     "output_type": "execute_result"
    }
   ],
   "source": [
    "calls_duration_per_month = calls.pivot_table(index=['user_id', 'call_month'], values='duration', aggfunc='sum', dropna=False)\n",
    "\n",
    "calls_duration_per_month.reset_index(inplace=True)\n",
    "calls_duration_per_month.set_axis(['user_id','month','calls_duration'], axis='columns', inplace=True)\n",
    "calls_duration_per_month"
   ]
  },
  {
   "cell_type": "markdown",
   "metadata": {},
   "source": [
    "Таблица количества отправленных сообщей по месяцам:"
   ]
  },
  {
   "cell_type": "code",
   "execution_count": 39,
   "metadata": {},
   "outputs": [
    {
     "data": {
      "text/html": [
       "<div>\n",
       "<style scoped>\n",
       "    .dataframe tbody tr th:only-of-type {\n",
       "        vertical-align: middle;\n",
       "    }\n",
       "\n",
       "    .dataframe tbody tr th {\n",
       "        vertical-align: top;\n",
       "    }\n",
       "\n",
       "    .dataframe thead th {\n",
       "        text-align: right;\n",
       "    }\n",
       "</style>\n",
       "<table border=\"1\" class=\"dataframe\">\n",
       "  <thead>\n",
       "    <tr style=\"text-align: right;\">\n",
       "      <th></th>\n",
       "      <th>user_id</th>\n",
       "      <th>month</th>\n",
       "      <th>messages_count</th>\n",
       "    </tr>\n",
       "  </thead>\n",
       "  <tbody>\n",
       "    <tr>\n",
       "      <td>0</td>\n",
       "      <td>1000</td>\n",
       "      <td>1</td>\n",
       "      <td>NaN</td>\n",
       "    </tr>\n",
       "    <tr>\n",
       "      <td>1</td>\n",
       "      <td>1000</td>\n",
       "      <td>2</td>\n",
       "      <td>NaN</td>\n",
       "    </tr>\n",
       "    <tr>\n",
       "      <td>2</td>\n",
       "      <td>1000</td>\n",
       "      <td>3</td>\n",
       "      <td>NaN</td>\n",
       "    </tr>\n",
       "    <tr>\n",
       "      <td>3</td>\n",
       "      <td>1000</td>\n",
       "      <td>4</td>\n",
       "      <td>NaN</td>\n",
       "    </tr>\n",
       "    <tr>\n",
       "      <td>4</td>\n",
       "      <td>1000</td>\n",
       "      <td>5</td>\n",
       "      <td>22.0</td>\n",
       "    </tr>\n",
       "    <tr>\n",
       "      <td>...</td>\n",
       "      <td>...</td>\n",
       "      <td>...</td>\n",
       "      <td>...</td>\n",
       "    </tr>\n",
       "    <tr>\n",
       "      <td>5107</td>\n",
       "      <td>1499</td>\n",
       "      <td>8</td>\n",
       "      <td>NaN</td>\n",
       "    </tr>\n",
       "    <tr>\n",
       "      <td>5108</td>\n",
       "      <td>1499</td>\n",
       "      <td>9</td>\n",
       "      <td>11.0</td>\n",
       "    </tr>\n",
       "    <tr>\n",
       "      <td>5109</td>\n",
       "      <td>1499</td>\n",
       "      <td>10</td>\n",
       "      <td>48.0</td>\n",
       "    </tr>\n",
       "    <tr>\n",
       "      <td>5110</td>\n",
       "      <td>1499</td>\n",
       "      <td>11</td>\n",
       "      <td>59.0</td>\n",
       "    </tr>\n",
       "    <tr>\n",
       "      <td>5111</td>\n",
       "      <td>1499</td>\n",
       "      <td>12</td>\n",
       "      <td>66.0</td>\n",
       "    </tr>\n",
       "  </tbody>\n",
       "</table>\n",
       "<p>5112 rows × 3 columns</p>\n",
       "</div>"
      ],
      "text/plain": [
       "      user_id  month  messages_count\n",
       "0        1000      1             NaN\n",
       "1        1000      2             NaN\n",
       "2        1000      3             NaN\n",
       "3        1000      4             NaN\n",
       "4        1000      5            22.0\n",
       "...       ...    ...             ...\n",
       "5107     1499      8             NaN\n",
       "5108     1499      9            11.0\n",
       "5109     1499     10            48.0\n",
       "5110     1499     11            59.0\n",
       "5111     1499     12            66.0\n",
       "\n",
       "[5112 rows x 3 columns]"
      ]
     },
     "execution_count": 39,
     "metadata": {},
     "output_type": "execute_result"
    }
   ],
   "source": [
    "messages_count_per_month = messages.pivot_table(index=['user_id', 'message_month'], values='id', aggfunc='count', dropna=False)\n",
    "\n",
    "messages_count_per_month.reset_index(inplace=True)\n",
    "messages_count_per_month.set_axis(['user_id','month','messages_count'], axis='columns', inplace=True)\n",
    "messages_count_per_month"
   ]
  },
  {
   "cell_type": "markdown",
   "metadata": {},
   "source": [
    "Таблица истраченного интернет-трафика по месяцам:"
   ]
  },
  {
   "cell_type": "code",
   "execution_count": 40,
   "metadata": {
    "scrolled": true
   },
   "outputs": [
    {
     "data": {
      "text/html": [
       "<div>\n",
       "<style scoped>\n",
       "    .dataframe tbody tr th:only-of-type {\n",
       "        vertical-align: middle;\n",
       "    }\n",
       "\n",
       "    .dataframe tbody tr th {\n",
       "        vertical-align: top;\n",
       "    }\n",
       "\n",
       "    .dataframe thead th {\n",
       "        text-align: right;\n",
       "    }\n",
       "</style>\n",
       "<table border=\"1\" class=\"dataframe\">\n",
       "  <thead>\n",
       "    <tr style=\"text-align: right;\">\n",
       "      <th></th>\n",
       "      <th>user_id</th>\n",
       "      <th>month</th>\n",
       "      <th>mb_used</th>\n",
       "    </tr>\n",
       "  </thead>\n",
       "  <tbody>\n",
       "    <tr>\n",
       "      <td>0</td>\n",
       "      <td>1000</td>\n",
       "      <td>1</td>\n",
       "      <td>NaN</td>\n",
       "    </tr>\n",
       "    <tr>\n",
       "      <td>1</td>\n",
       "      <td>1000</td>\n",
       "      <td>2</td>\n",
       "      <td>NaN</td>\n",
       "    </tr>\n",
       "    <tr>\n",
       "      <td>2</td>\n",
       "      <td>1000</td>\n",
       "      <td>3</td>\n",
       "      <td>NaN</td>\n",
       "    </tr>\n",
       "    <tr>\n",
       "      <td>3</td>\n",
       "      <td>1000</td>\n",
       "      <td>4</td>\n",
       "      <td>NaN</td>\n",
       "    </tr>\n",
       "    <tr>\n",
       "      <td>4</td>\n",
       "      <td>1000</td>\n",
       "      <td>5</td>\n",
       "      <td>2256.0</td>\n",
       "    </tr>\n",
       "    <tr>\n",
       "      <td>...</td>\n",
       "      <td>...</td>\n",
       "      <td>...</td>\n",
       "      <td>...</td>\n",
       "    </tr>\n",
       "    <tr>\n",
       "      <td>5959</td>\n",
       "      <td>1499</td>\n",
       "      <td>8</td>\n",
       "      <td>NaN</td>\n",
       "    </tr>\n",
       "    <tr>\n",
       "      <td>5960</td>\n",
       "      <td>1499</td>\n",
       "      <td>9</td>\n",
       "      <td>1848.0</td>\n",
       "    </tr>\n",
       "    <tr>\n",
       "      <td>5961</td>\n",
       "      <td>1499</td>\n",
       "      <td>10</td>\n",
       "      <td>17809.0</td>\n",
       "    </tr>\n",
       "    <tr>\n",
       "      <td>5962</td>\n",
       "      <td>1499</td>\n",
       "      <td>11</td>\n",
       "      <td>17984.0</td>\n",
       "    </tr>\n",
       "    <tr>\n",
       "      <td>5963</td>\n",
       "      <td>1499</td>\n",
       "      <td>12</td>\n",
       "      <td>13077.0</td>\n",
       "    </tr>\n",
       "  </tbody>\n",
       "</table>\n",
       "<p>5964 rows × 3 columns</p>\n",
       "</div>"
      ],
      "text/plain": [
       "      user_id  month  mb_used\n",
       "0        1000      1      NaN\n",
       "1        1000      2      NaN\n",
       "2        1000      3      NaN\n",
       "3        1000      4      NaN\n",
       "4        1000      5   2256.0\n",
       "...       ...    ...      ...\n",
       "5959     1499      8      NaN\n",
       "5960     1499      9   1848.0\n",
       "5961     1499     10  17809.0\n",
       "5962     1499     11  17984.0\n",
       "5963     1499     12  13077.0\n",
       "\n",
       "[5964 rows x 3 columns]"
      ]
     },
     "execution_count": 40,
     "metadata": {},
     "output_type": "execute_result"
    }
   ],
   "source": [
    "mb_used_per_month = internet.pivot_table(index=['user_id', 'session_month'], values='mb_used', aggfunc='sum', dropna=False)\n",
    "\n",
    "mb_used_per_month.reset_index(inplace=True)\n",
    "mb_used_per_month.set_axis(['user_id','month','mb_used'], axis='columns', inplace=True)\n",
    "mb_used_per_month"
   ]
  },
  {
   "cell_type": "markdown",
   "metadata": {},
   "source": [
    "Соберем общую таблицу, которая будет содержать следующие данные для каждого клиента за каждый месяц:\n",
    "- id пользователя\n",
    "- месяц\n",
    "- длительность звонков\n",
    "- количество отправленных сообщений\n",
    "- объем использованного трафика\n",
    "- тариф\n",
    "- все данные по тарифу"
   ]
  },
  {
   "cell_type": "code",
   "execution_count": 41,
   "metadata": {
    "scrolled": false
   },
   "outputs": [
    {
     "data": {
      "text/html": [
       "<div>\n",
       "<style scoped>\n",
       "    .dataframe tbody tr th:only-of-type {\n",
       "        vertical-align: middle;\n",
       "    }\n",
       "\n",
       "    .dataframe tbody tr th {\n",
       "        vertical-align: top;\n",
       "    }\n",
       "\n",
       "    .dataframe thead th {\n",
       "        text-align: right;\n",
       "    }\n",
       "</style>\n",
       "<table border=\"1\" class=\"dataframe\">\n",
       "  <thead>\n",
       "    <tr style=\"text-align: right;\">\n",
       "      <th></th>\n",
       "      <th>user_id</th>\n",
       "      <th>month</th>\n",
       "      <th>calls_duration</th>\n",
       "      <th>messages_count</th>\n",
       "      <th>mb_used</th>\n",
       "      <th>tariff_name</th>\n",
       "      <th>city</th>\n",
       "      <th>messages_included</th>\n",
       "      <th>mb_per_month_included</th>\n",
       "      <th>minutes_included</th>\n",
       "      <th>rub_monthly_fee</th>\n",
       "      <th>rub_per_gb</th>\n",
       "      <th>rub_per_message</th>\n",
       "      <th>rub_per_minute</th>\n",
       "    </tr>\n",
       "  </thead>\n",
       "  <tbody>\n",
       "    <tr>\n",
       "      <td>0</td>\n",
       "      <td>1000</td>\n",
       "      <td>1.0</td>\n",
       "      <td>NaN</td>\n",
       "      <td>NaN</td>\n",
       "      <td>NaN</td>\n",
       "      <td>ultra</td>\n",
       "      <td>Краснодар</td>\n",
       "      <td>1000</td>\n",
       "      <td>30720</td>\n",
       "      <td>3000</td>\n",
       "      <td>1950</td>\n",
       "      <td>150</td>\n",
       "      <td>1</td>\n",
       "      <td>1</td>\n",
       "    </tr>\n",
       "    <tr>\n",
       "      <td>1</td>\n",
       "      <td>1000</td>\n",
       "      <td>2.0</td>\n",
       "      <td>NaN</td>\n",
       "      <td>NaN</td>\n",
       "      <td>NaN</td>\n",
       "      <td>ultra</td>\n",
       "      <td>Краснодар</td>\n",
       "      <td>1000</td>\n",
       "      <td>30720</td>\n",
       "      <td>3000</td>\n",
       "      <td>1950</td>\n",
       "      <td>150</td>\n",
       "      <td>1</td>\n",
       "      <td>1</td>\n",
       "    </tr>\n",
       "    <tr>\n",
       "      <td>2</td>\n",
       "      <td>1000</td>\n",
       "      <td>3.0</td>\n",
       "      <td>NaN</td>\n",
       "      <td>NaN</td>\n",
       "      <td>NaN</td>\n",
       "      <td>ultra</td>\n",
       "      <td>Краснодар</td>\n",
       "      <td>1000</td>\n",
       "      <td>30720</td>\n",
       "      <td>3000</td>\n",
       "      <td>1950</td>\n",
       "      <td>150</td>\n",
       "      <td>1</td>\n",
       "      <td>1</td>\n",
       "    </tr>\n",
       "    <tr>\n",
       "      <td>3</td>\n",
       "      <td>1000</td>\n",
       "      <td>4.0</td>\n",
       "      <td>NaN</td>\n",
       "      <td>NaN</td>\n",
       "      <td>NaN</td>\n",
       "      <td>ultra</td>\n",
       "      <td>Краснодар</td>\n",
       "      <td>1000</td>\n",
       "      <td>30720</td>\n",
       "      <td>3000</td>\n",
       "      <td>1950</td>\n",
       "      <td>150</td>\n",
       "      <td>1</td>\n",
       "      <td>1</td>\n",
       "    </tr>\n",
       "    <tr>\n",
       "      <td>4</td>\n",
       "      <td>1000</td>\n",
       "      <td>5.0</td>\n",
       "      <td>159.0</td>\n",
       "      <td>22.0</td>\n",
       "      <td>2256.0</td>\n",
       "      <td>ultra</td>\n",
       "      <td>Краснодар</td>\n",
       "      <td>1000</td>\n",
       "      <td>30720</td>\n",
       "      <td>3000</td>\n",
       "      <td>1950</td>\n",
       "      <td>150</td>\n",
       "      <td>1</td>\n",
       "      <td>1</td>\n",
       "    </tr>\n",
       "    <tr>\n",
       "      <td>...</td>\n",
       "      <td>...</td>\n",
       "      <td>...</td>\n",
       "      <td>...</td>\n",
       "      <td>...</td>\n",
       "      <td>...</td>\n",
       "      <td>...</td>\n",
       "      <td>...</td>\n",
       "      <td>...</td>\n",
       "      <td>...</td>\n",
       "      <td>...</td>\n",
       "      <td>...</td>\n",
       "      <td>...</td>\n",
       "      <td>...</td>\n",
       "      <td>...</td>\n",
       "    </tr>\n",
       "    <tr>\n",
       "      <td>5973</td>\n",
       "      <td>1489</td>\n",
       "      <td>9.0</td>\n",
       "      <td>NaN</td>\n",
       "      <td>32.0</td>\n",
       "      <td>17232.0</td>\n",
       "      <td>smart</td>\n",
       "      <td>Санкт-Петербург</td>\n",
       "      <td>50</td>\n",
       "      <td>15360</td>\n",
       "      <td>500</td>\n",
       "      <td>550</td>\n",
       "      <td>200</td>\n",
       "      <td>3</td>\n",
       "      <td>3</td>\n",
       "    </tr>\n",
       "    <tr>\n",
       "      <td>5974</td>\n",
       "      <td>1489</td>\n",
       "      <td>10.0</td>\n",
       "      <td>NaN</td>\n",
       "      <td>21.0</td>\n",
       "      <td>19588.0</td>\n",
       "      <td>smart</td>\n",
       "      <td>Санкт-Петербург</td>\n",
       "      <td>50</td>\n",
       "      <td>15360</td>\n",
       "      <td>500</td>\n",
       "      <td>550</td>\n",
       "      <td>200</td>\n",
       "      <td>3</td>\n",
       "      <td>3</td>\n",
       "    </tr>\n",
       "    <tr>\n",
       "      <td>5975</td>\n",
       "      <td>1489</td>\n",
       "      <td>11.0</td>\n",
       "      <td>NaN</td>\n",
       "      <td>20.0</td>\n",
       "      <td>17516.0</td>\n",
       "      <td>smart</td>\n",
       "      <td>Санкт-Петербург</td>\n",
       "      <td>50</td>\n",
       "      <td>15360</td>\n",
       "      <td>500</td>\n",
       "      <td>550</td>\n",
       "      <td>200</td>\n",
       "      <td>3</td>\n",
       "      <td>3</td>\n",
       "    </tr>\n",
       "    <tr>\n",
       "      <td>5976</td>\n",
       "      <td>1489</td>\n",
       "      <td>12.0</td>\n",
       "      <td>NaN</td>\n",
       "      <td>35.0</td>\n",
       "      <td>17341.0</td>\n",
       "      <td>smart</td>\n",
       "      <td>Санкт-Петербург</td>\n",
       "      <td>50</td>\n",
       "      <td>15360</td>\n",
       "      <td>500</td>\n",
       "      <td>550</td>\n",
       "      <td>200</td>\n",
       "      <td>3</td>\n",
       "      <td>3</td>\n",
       "    </tr>\n",
       "    <tr>\n",
       "      <td>5977</td>\n",
       "      <td>1371</td>\n",
       "      <td>NaN</td>\n",
       "      <td>NaN</td>\n",
       "      <td>NaN</td>\n",
       "      <td>NaN</td>\n",
       "      <td>smart</td>\n",
       "      <td>Омск</td>\n",
       "      <td>50</td>\n",
       "      <td>15360</td>\n",
       "      <td>500</td>\n",
       "      <td>550</td>\n",
       "      <td>200</td>\n",
       "      <td>3</td>\n",
       "      <td>3</td>\n",
       "    </tr>\n",
       "  </tbody>\n",
       "</table>\n",
       "<p>5978 rows × 14 columns</p>\n",
       "</div>"
      ],
      "text/plain": [
       "      user_id  month  calls_duration  messages_count  mb_used tariff_name  \\\n",
       "0        1000    1.0             NaN             NaN      NaN       ultra   \n",
       "1        1000    2.0             NaN             NaN      NaN       ultra   \n",
       "2        1000    3.0             NaN             NaN      NaN       ultra   \n",
       "3        1000    4.0             NaN             NaN      NaN       ultra   \n",
       "4        1000    5.0           159.0            22.0   2256.0       ultra   \n",
       "...       ...    ...             ...             ...      ...         ...   \n",
       "5973     1489    9.0             NaN            32.0  17232.0       smart   \n",
       "5974     1489   10.0             NaN            21.0  19588.0       smart   \n",
       "5975     1489   11.0             NaN            20.0  17516.0       smart   \n",
       "5976     1489   12.0             NaN            35.0  17341.0       smart   \n",
       "5977     1371    NaN             NaN             NaN      NaN       smart   \n",
       "\n",
       "                 city  messages_included  mb_per_month_included  \\\n",
       "0           Краснодар               1000                  30720   \n",
       "1           Краснодар               1000                  30720   \n",
       "2           Краснодар               1000                  30720   \n",
       "3           Краснодар               1000                  30720   \n",
       "4           Краснодар               1000                  30720   \n",
       "...               ...                ...                    ...   \n",
       "5973  Санкт-Петербург                 50                  15360   \n",
       "5974  Санкт-Петербург                 50                  15360   \n",
       "5975  Санкт-Петербург                 50                  15360   \n",
       "5976  Санкт-Петербург                 50                  15360   \n",
       "5977             Омск                 50                  15360   \n",
       "\n",
       "      minutes_included  rub_monthly_fee  rub_per_gb  rub_per_message  \\\n",
       "0                 3000             1950         150                1   \n",
       "1                 3000             1950         150                1   \n",
       "2                 3000             1950         150                1   \n",
       "3                 3000             1950         150                1   \n",
       "4                 3000             1950         150                1   \n",
       "...                ...              ...         ...              ...   \n",
       "5973               500              550         200                3   \n",
       "5974               500              550         200                3   \n",
       "5975               500              550         200                3   \n",
       "5976               500              550         200                3   \n",
       "5977               500              550         200                3   \n",
       "\n",
       "      rub_per_minute  \n",
       "0                  1  \n",
       "1                  1  \n",
       "2                  1  \n",
       "3                  1  \n",
       "4                  1  \n",
       "...              ...  \n",
       "5973               3  \n",
       "5974               3  \n",
       "5975               3  \n",
       "5976               3  \n",
       "5977               3  \n",
       "\n",
       "[5978 rows x 14 columns]"
      ]
     },
     "execution_count": 41,
     "metadata": {},
     "output_type": "execute_result"
    }
   ],
   "source": [
    "users_month_stat = (\n",
    "    calls_duration_per_month.merge(messages_count_per_month, on=['user_id', 'month'], how='outer')\n",
    "    .merge(mb_used_per_month, on=['user_id', 'month'], how='outer')\n",
    "    .merge(users[['user_id', 'tariff', 'city']], on='user_id', how='outer')\n",
    ")\n",
    "users_month_stat.set_axis(\n",
    "    ['user_id','month','calls_duration', 'messages_count', 'mb_used', 'tariff_name', 'city'], \n",
    "    axis='columns', inplace=True\n",
    ")\n",
    "users_month_stat = users_month_stat.merge(tariffs, on='tariff_name', how='outer')\n",
    "users_month_stat"
   ]
  },
  {
   "cell_type": "markdown",
   "metadata": {},
   "source": [
    "Пропуски в таблице возникают в результате выполнения слияния с параметром how равным 'outer'. Это значит, что по какому-то клиенту в какой-то месяц отсутствует какая-то информация (этот клиент в этот месяц не звонил/не писал сообщения/не выходил в интернет)"
   ]
  },
  {
   "cell_type": "markdown",
   "metadata": {},
   "source": [
    "Создадим функции для высчитывания оплаты услуг сверх включенного в тариф."
   ]
  },
  {
   "cell_type": "code",
   "execution_count": 42,
   "metadata": {},
   "outputs": [],
   "source": [
    "def calculate_calls_overpayment(row):\n",
    "    if row['calls_duration'] > row['minutes_included']:\n",
    "        return (row['calls_duration'] - row['minutes_included']) * row['rub_per_minute']\n",
    "    else:\n",
    "        return 0\n",
    "    \n",
    "def calculate_messages_overpayment(row):\n",
    "    if row['messages_count'] > row['messages_included']:\n",
    "        return (row['messages_count'] - row['messages_included']) * row['rub_per_message']\n",
    "    else:\n",
    "        return 0\n",
    "    \n",
    "def calculate_internet_overpayment(row):\n",
    "    if row['mb_used'] > row['mb_per_month_included']:\n",
    "        return (math.ceil((row['mb_used'] - row['mb_per_month_included']) / 1024) * row['rub_per_gb'])\n",
    "    else:\n",
    "        return 0"
   ]
  },
  {
   "cell_type": "markdown",
   "metadata": {},
   "source": [
    "Применим созданные функции."
   ]
  },
  {
   "cell_type": "code",
   "execution_count": 43,
   "metadata": {},
   "outputs": [],
   "source": [
    "users_month_stat['calls_overpayed'] = users_month_stat.apply(calculate_calls_overpayment, axis=1)\n",
    "users_month_stat['messages_overpayed'] = users_month_stat.apply(calculate_messages_overpayment, axis=1)\n",
    "users_month_stat['internet_overpayed'] = users_month_stat.apply(calculate_internet_overpayment, axis=1)"
   ]
  },
  {
   "cell_type": "code",
   "execution_count": 44,
   "metadata": {},
   "outputs": [
    {
     "data": {
      "text/html": [
       "<div>\n",
       "<style scoped>\n",
       "    .dataframe tbody tr th:only-of-type {\n",
       "        vertical-align: middle;\n",
       "    }\n",
       "\n",
       "    .dataframe tbody tr th {\n",
       "        vertical-align: top;\n",
       "    }\n",
       "\n",
       "    .dataframe thead th {\n",
       "        text-align: right;\n",
       "    }\n",
       "</style>\n",
       "<table border=\"1\" class=\"dataframe\">\n",
       "  <thead>\n",
       "    <tr style=\"text-align: right;\">\n",
       "      <th></th>\n",
       "      <th>user_id</th>\n",
       "      <th>month</th>\n",
       "      <th>calls_duration</th>\n",
       "      <th>messages_count</th>\n",
       "      <th>mb_used</th>\n",
       "      <th>tariff_name</th>\n",
       "      <th>city</th>\n",
       "      <th>messages_included</th>\n",
       "      <th>mb_per_month_included</th>\n",
       "      <th>minutes_included</th>\n",
       "      <th>rub_monthly_fee</th>\n",
       "      <th>rub_per_gb</th>\n",
       "      <th>rub_per_message</th>\n",
       "      <th>rub_per_minute</th>\n",
       "      <th>calls_overpayed</th>\n",
       "      <th>messages_overpayed</th>\n",
       "      <th>internet_overpayed</th>\n",
       "    </tr>\n",
       "  </thead>\n",
       "  <tbody>\n",
       "    <tr>\n",
       "      <td>0</td>\n",
       "      <td>1000</td>\n",
       "      <td>1.0</td>\n",
       "      <td>NaN</td>\n",
       "      <td>NaN</td>\n",
       "      <td>NaN</td>\n",
       "      <td>ultra</td>\n",
       "      <td>Краснодар</td>\n",
       "      <td>1000</td>\n",
       "      <td>30720</td>\n",
       "      <td>3000</td>\n",
       "      <td>1950</td>\n",
       "      <td>150</td>\n",
       "      <td>1</td>\n",
       "      <td>1</td>\n",
       "      <td>0.0</td>\n",
       "      <td>0.0</td>\n",
       "      <td>0</td>\n",
       "    </tr>\n",
       "    <tr>\n",
       "      <td>1</td>\n",
       "      <td>1000</td>\n",
       "      <td>2.0</td>\n",
       "      <td>NaN</td>\n",
       "      <td>NaN</td>\n",
       "      <td>NaN</td>\n",
       "      <td>ultra</td>\n",
       "      <td>Краснодар</td>\n",
       "      <td>1000</td>\n",
       "      <td>30720</td>\n",
       "      <td>3000</td>\n",
       "      <td>1950</td>\n",
       "      <td>150</td>\n",
       "      <td>1</td>\n",
       "      <td>1</td>\n",
       "      <td>0.0</td>\n",
       "      <td>0.0</td>\n",
       "      <td>0</td>\n",
       "    </tr>\n",
       "    <tr>\n",
       "      <td>2</td>\n",
       "      <td>1000</td>\n",
       "      <td>3.0</td>\n",
       "      <td>NaN</td>\n",
       "      <td>NaN</td>\n",
       "      <td>NaN</td>\n",
       "      <td>ultra</td>\n",
       "      <td>Краснодар</td>\n",
       "      <td>1000</td>\n",
       "      <td>30720</td>\n",
       "      <td>3000</td>\n",
       "      <td>1950</td>\n",
       "      <td>150</td>\n",
       "      <td>1</td>\n",
       "      <td>1</td>\n",
       "      <td>0.0</td>\n",
       "      <td>0.0</td>\n",
       "      <td>0</td>\n",
       "    </tr>\n",
       "    <tr>\n",
       "      <td>3</td>\n",
       "      <td>1000</td>\n",
       "      <td>4.0</td>\n",
       "      <td>NaN</td>\n",
       "      <td>NaN</td>\n",
       "      <td>NaN</td>\n",
       "      <td>ultra</td>\n",
       "      <td>Краснодар</td>\n",
       "      <td>1000</td>\n",
       "      <td>30720</td>\n",
       "      <td>3000</td>\n",
       "      <td>1950</td>\n",
       "      <td>150</td>\n",
       "      <td>1</td>\n",
       "      <td>1</td>\n",
       "      <td>0.0</td>\n",
       "      <td>0.0</td>\n",
       "      <td>0</td>\n",
       "    </tr>\n",
       "    <tr>\n",
       "      <td>4</td>\n",
       "      <td>1000</td>\n",
       "      <td>5.0</td>\n",
       "      <td>159.0</td>\n",
       "      <td>22.0</td>\n",
       "      <td>2256.0</td>\n",
       "      <td>ultra</td>\n",
       "      <td>Краснодар</td>\n",
       "      <td>1000</td>\n",
       "      <td>30720</td>\n",
       "      <td>3000</td>\n",
       "      <td>1950</td>\n",
       "      <td>150</td>\n",
       "      <td>1</td>\n",
       "      <td>1</td>\n",
       "      <td>0.0</td>\n",
       "      <td>0.0</td>\n",
       "      <td>0</td>\n",
       "    </tr>\n",
       "    <tr>\n",
       "      <td>...</td>\n",
       "      <td>...</td>\n",
       "      <td>...</td>\n",
       "      <td>...</td>\n",
       "      <td>...</td>\n",
       "      <td>...</td>\n",
       "      <td>...</td>\n",
       "      <td>...</td>\n",
       "      <td>...</td>\n",
       "      <td>...</td>\n",
       "      <td>...</td>\n",
       "      <td>...</td>\n",
       "      <td>...</td>\n",
       "      <td>...</td>\n",
       "      <td>...</td>\n",
       "      <td>...</td>\n",
       "      <td>...</td>\n",
       "      <td>...</td>\n",
       "    </tr>\n",
       "    <tr>\n",
       "      <td>5973</td>\n",
       "      <td>1489</td>\n",
       "      <td>9.0</td>\n",
       "      <td>NaN</td>\n",
       "      <td>32.0</td>\n",
       "      <td>17232.0</td>\n",
       "      <td>smart</td>\n",
       "      <td>Санкт-Петербург</td>\n",
       "      <td>50</td>\n",
       "      <td>15360</td>\n",
       "      <td>500</td>\n",
       "      <td>550</td>\n",
       "      <td>200</td>\n",
       "      <td>3</td>\n",
       "      <td>3</td>\n",
       "      <td>0.0</td>\n",
       "      <td>0.0</td>\n",
       "      <td>400</td>\n",
       "    </tr>\n",
       "    <tr>\n",
       "      <td>5974</td>\n",
       "      <td>1489</td>\n",
       "      <td>10.0</td>\n",
       "      <td>NaN</td>\n",
       "      <td>21.0</td>\n",
       "      <td>19588.0</td>\n",
       "      <td>smart</td>\n",
       "      <td>Санкт-Петербург</td>\n",
       "      <td>50</td>\n",
       "      <td>15360</td>\n",
       "      <td>500</td>\n",
       "      <td>550</td>\n",
       "      <td>200</td>\n",
       "      <td>3</td>\n",
       "      <td>3</td>\n",
       "      <td>0.0</td>\n",
       "      <td>0.0</td>\n",
       "      <td>1000</td>\n",
       "    </tr>\n",
       "    <tr>\n",
       "      <td>5975</td>\n",
       "      <td>1489</td>\n",
       "      <td>11.0</td>\n",
       "      <td>NaN</td>\n",
       "      <td>20.0</td>\n",
       "      <td>17516.0</td>\n",
       "      <td>smart</td>\n",
       "      <td>Санкт-Петербург</td>\n",
       "      <td>50</td>\n",
       "      <td>15360</td>\n",
       "      <td>500</td>\n",
       "      <td>550</td>\n",
       "      <td>200</td>\n",
       "      <td>3</td>\n",
       "      <td>3</td>\n",
       "      <td>0.0</td>\n",
       "      <td>0.0</td>\n",
       "      <td>600</td>\n",
       "    </tr>\n",
       "    <tr>\n",
       "      <td>5976</td>\n",
       "      <td>1489</td>\n",
       "      <td>12.0</td>\n",
       "      <td>NaN</td>\n",
       "      <td>35.0</td>\n",
       "      <td>17341.0</td>\n",
       "      <td>smart</td>\n",
       "      <td>Санкт-Петербург</td>\n",
       "      <td>50</td>\n",
       "      <td>15360</td>\n",
       "      <td>500</td>\n",
       "      <td>550</td>\n",
       "      <td>200</td>\n",
       "      <td>3</td>\n",
       "      <td>3</td>\n",
       "      <td>0.0</td>\n",
       "      <td>0.0</td>\n",
       "      <td>400</td>\n",
       "    </tr>\n",
       "    <tr>\n",
       "      <td>5977</td>\n",
       "      <td>1371</td>\n",
       "      <td>NaN</td>\n",
       "      <td>NaN</td>\n",
       "      <td>NaN</td>\n",
       "      <td>NaN</td>\n",
       "      <td>smart</td>\n",
       "      <td>Омск</td>\n",
       "      <td>50</td>\n",
       "      <td>15360</td>\n",
       "      <td>500</td>\n",
       "      <td>550</td>\n",
       "      <td>200</td>\n",
       "      <td>3</td>\n",
       "      <td>3</td>\n",
       "      <td>0.0</td>\n",
       "      <td>0.0</td>\n",
       "      <td>0</td>\n",
       "    </tr>\n",
       "  </tbody>\n",
       "</table>\n",
       "<p>5978 rows × 17 columns</p>\n",
       "</div>"
      ],
      "text/plain": [
       "      user_id  month  calls_duration  messages_count  mb_used tariff_name  \\\n",
       "0        1000    1.0             NaN             NaN      NaN       ultra   \n",
       "1        1000    2.0             NaN             NaN      NaN       ultra   \n",
       "2        1000    3.0             NaN             NaN      NaN       ultra   \n",
       "3        1000    4.0             NaN             NaN      NaN       ultra   \n",
       "4        1000    5.0           159.0            22.0   2256.0       ultra   \n",
       "...       ...    ...             ...             ...      ...         ...   \n",
       "5973     1489    9.0             NaN            32.0  17232.0       smart   \n",
       "5974     1489   10.0             NaN            21.0  19588.0       smart   \n",
       "5975     1489   11.0             NaN            20.0  17516.0       smart   \n",
       "5976     1489   12.0             NaN            35.0  17341.0       smart   \n",
       "5977     1371    NaN             NaN             NaN      NaN       smart   \n",
       "\n",
       "                 city  messages_included  mb_per_month_included  \\\n",
       "0           Краснодар               1000                  30720   \n",
       "1           Краснодар               1000                  30720   \n",
       "2           Краснодар               1000                  30720   \n",
       "3           Краснодар               1000                  30720   \n",
       "4           Краснодар               1000                  30720   \n",
       "...               ...                ...                    ...   \n",
       "5973  Санкт-Петербург                 50                  15360   \n",
       "5974  Санкт-Петербург                 50                  15360   \n",
       "5975  Санкт-Петербург                 50                  15360   \n",
       "5976  Санкт-Петербург                 50                  15360   \n",
       "5977             Омск                 50                  15360   \n",
       "\n",
       "      minutes_included  rub_monthly_fee  rub_per_gb  rub_per_message  \\\n",
       "0                 3000             1950         150                1   \n",
       "1                 3000             1950         150                1   \n",
       "2                 3000             1950         150                1   \n",
       "3                 3000             1950         150                1   \n",
       "4                 3000             1950         150                1   \n",
       "...                ...              ...         ...              ...   \n",
       "5973               500              550         200                3   \n",
       "5974               500              550         200                3   \n",
       "5975               500              550         200                3   \n",
       "5976               500              550         200                3   \n",
       "5977               500              550         200                3   \n",
       "\n",
       "      rub_per_minute  calls_overpayed  messages_overpayed  internet_overpayed  \n",
       "0                  1              0.0                 0.0                   0  \n",
       "1                  1              0.0                 0.0                   0  \n",
       "2                  1              0.0                 0.0                   0  \n",
       "3                  1              0.0                 0.0                   0  \n",
       "4                  1              0.0                 0.0                   0  \n",
       "...              ...              ...                 ...                 ...  \n",
       "5973               3              0.0                 0.0                 400  \n",
       "5974               3              0.0                 0.0                1000  \n",
       "5975               3              0.0                 0.0                 600  \n",
       "5976               3              0.0                 0.0                 400  \n",
       "5977               3              0.0                 0.0                   0  \n",
       "\n",
       "[5978 rows x 17 columns]"
      ]
     },
     "execution_count": 44,
     "metadata": {},
     "output_type": "execute_result"
    }
   ],
   "source": [
    "users_month_stat"
   ]
  },
  {
   "cell_type": "markdown",
   "metadata": {},
   "source": [
    "В таблицу добавим столбец, содержащий суммарные затраты каждого клиента за каждый месяц."
   ]
  },
  {
   "cell_type": "code",
   "execution_count": 45,
   "metadata": {},
   "outputs": [],
   "source": [
    "users_month_stat['month_total'] = (users_month_stat['calls_overpayed'] + \n",
    "                                   users_month_stat['messages_overpayed'] + \n",
    "                                   users_month_stat['internet_overpayed'] + \n",
    "                                   users_month_stat['rub_monthly_fee'])"
   ]
  },
  {
   "cell_type": "markdown",
   "metadata": {},
   "source": [
    "Выведем топ-5 по затратам в месяц."
   ]
  },
  {
   "cell_type": "code",
   "execution_count": 46,
   "metadata": {},
   "outputs": [
    {
     "data": {
      "text/html": [
       "<div>\n",
       "<style scoped>\n",
       "    .dataframe tbody tr th:only-of-type {\n",
       "        vertical-align: middle;\n",
       "    }\n",
       "\n",
       "    .dataframe tbody tr th {\n",
       "        vertical-align: top;\n",
       "    }\n",
       "\n",
       "    .dataframe thead th {\n",
       "        text-align: right;\n",
       "    }\n",
       "</style>\n",
       "<table border=\"1\" class=\"dataframe\">\n",
       "  <thead>\n",
       "    <tr style=\"text-align: right;\">\n",
       "      <th></th>\n",
       "      <th>user_id</th>\n",
       "      <th>month</th>\n",
       "      <th>month_total</th>\n",
       "    </tr>\n",
       "  </thead>\n",
       "  <tbody>\n",
       "    <tr>\n",
       "      <td>5856</td>\n",
       "      <td>1486</td>\n",
       "      <td>12.0</td>\n",
       "      <td>6770.0</td>\n",
       "    </tr>\n",
       "    <tr>\n",
       "      <td>2160</td>\n",
       "      <td>1042</td>\n",
       "      <td>12.0</td>\n",
       "      <td>5709.0</td>\n",
       "    </tr>\n",
       "    <tr>\n",
       "      <td>5855</td>\n",
       "      <td>1486</td>\n",
       "      <td>11.0</td>\n",
       "      <td>5680.0</td>\n",
       "    </tr>\n",
       "    <tr>\n",
       "      <td>4092</td>\n",
       "      <td>1261</td>\n",
       "      <td>12.0</td>\n",
       "      <td>5672.0</td>\n",
       "    </tr>\n",
       "    <tr>\n",
       "      <td>4296</td>\n",
       "      <td>1286</td>\n",
       "      <td>12.0</td>\n",
       "      <td>5321.0</td>\n",
       "    </tr>\n",
       "  </tbody>\n",
       "</table>\n",
       "</div>"
      ],
      "text/plain": [
       "      user_id  month  month_total\n",
       "5856     1486   12.0       6770.0\n",
       "2160     1042   12.0       5709.0\n",
       "5855     1486   11.0       5680.0\n",
       "4092     1261   12.0       5672.0\n",
       "4296     1286   12.0       5321.0"
      ]
     },
     "execution_count": 46,
     "metadata": {},
     "output_type": "execute_result"
    }
   ],
   "source": [
    "users_month_stat[['user_id', 'month', 'month_total']].sort_values(by='month_total', ascending=False).head(5)"
   ]
  },
  {
   "cell_type": "markdown",
   "metadata": {},
   "source": [
    "Похоже на правду. Каких-то аномальных затрат в месяц ни у кого нет."
   ]
  },
  {
   "cell_type": "markdown",
   "metadata": {},
   "source": [
    "#### Вывод\n",
    "\n",
    "Для каждого клиента были рассчитаны следующие параметры: \n",
    "- Количество сделанных звонков и израсходованных минут разговора по месяцам\n",
    "- Количество отправленных сообщений по месяцам\n",
    "- Объем израсходованного интернет-трафика по месяцам\n",
    "- Помесячную выручку с каждого пользователя  \n",
    "\n",
    "Полученные таблицы показали:\n",
    "- Некоторые клиенты подключили себе тариф в один из месяцев рассматриваемого периода\n",
    "- Некоторые клиенты в некоторые месяцы не пользовались сообщениями, интернетом или звонками\n",
    "\n",
    "Все значения во всех таблицах выглядят достоверно."
   ]
  },
  {
   "cell_type": "markdown",
   "metadata": {},
   "source": [
    "### Анализ полученных данных\n",
    "\n",
    "Необходимо описать поведение клиентов, опираясь на выборку. \n",
    "Посчитаем среднемесячные потребности клиентов каждого тарифа. \n",
    "Оценим такие характеристики положения данных как среднее, дисперсия и стандартное отклонение.\n",
    "Для упрощения восприятия воспользуемся визуализацией.\n",
    "\n",
    "Начнем с рассчета среднемесячных потребностей клиентов каждого тарифа. Для этого отдельно для каждого тарифа и для каждой услуги найдем средние затраты каждого клиента. Учитывать будем только те месяцы, в которые клиент этими услугами пользовался.  \n",
    "\n",
    "Рассчитаем среднюю длительность звонков для клиентов каждого тарифа."
   ]
  },
  {
   "cell_type": "code",
   "execution_count": 47,
   "metadata": {
    "scrolled": false
   },
   "outputs": [],
   "source": [
    "service_mean_dict = {\n",
    "    'calls_duration': {},\n",
    "    'messages_count': {},\n",
    "    'mb_used': {}\n",
    "}\n",
    "\n",
    "for tariff in tariffs['tariff_name'].unique():\n",
    "    for service in ['calls_duration', 'messages_count', 'mb_used']:\n",
    "        service_mean = (users_month_stat.loc[users_month_stat['tariff_name'] == tariff]\n",
    "                        .dropna().pivot_table(index='user_id', columns='month', values=service, aggfunc='mean')\n",
    "                        .mean(axis=1).mean())\n",
    "        service_mean_dict[service][tariff] = service_mean"
   ]
  },
  {
   "cell_type": "markdown",
   "metadata": {},
   "source": [
    "Построим столбчатые диаграммы."
   ]
  },
  {
   "cell_type": "code",
   "execution_count": 48,
   "metadata": {},
   "outputs": [
    {
     "data": {
      "image/png": "[encoded data removed]",
      "text/plain": [
       "<Figure size 1440x576 with 3 Axes>"
      ]
     },
     "metadata": {
      "needs_background": "light"
     },
     "output_type": "display_data"
    }
   ],
   "source": [
    "fig, axes = plt.subplots(1, 3, figsize=(20, 8))\n",
    "\n",
    "for (service, ax, ylabel, title) in zip(service_mean_dict.values(), \n",
    "                         axes, \n",
    "                         ['Минуты', 'Количество сообщений', 'Мегабайт'], \n",
    "                         ['Длительность звонков', 'Сообщений отправлено', 'Трафика использовано']):\n",
    "    ax.set_ylabel(ylabel)\n",
    "    ax.set_title(title)\n",
    "    ax.grid()\n",
    "    sns.barplot(x=list(service.keys()), y=list(service.values()), ax=ax)\n",
    "    \n",
    "services_mean_barplot = fig  #Сохранение диграммы в переменную"
   ]
  },
  {
   "cell_type": "markdown",
   "metadata": {},
   "source": [
    "Посчитаем дисперсию для каждой услуги для клиентов каждого тарифа."
   ]
  },
  {
   "cell_type": "code",
   "execution_count": 49,
   "metadata": {},
   "outputs": [],
   "source": [
    "service_var_dict = {\n",
    "    'calls_duration': {},\n",
    "    'messages_count': {},\n",
    "    'mb_used': {}\n",
    "}\n",
    "\n",
    "for tariff in tariffs['tariff_name'].unique():\n",
    "    for service in ['calls_duration', 'messages_count', 'mb_used']:\n",
    "        service_var = np.var(\n",
    "            users_month_stat.loc[users_month_stat['tariff_name'] == tariff]\n",
    "            .pivot_table(index='user_id', columns='month', values=service, aggfunc='mean')\n",
    "            .mean(axis=1), ddof=1)\n",
    "        service_var_dict[service][tariff] = service_var"
   ]
  },
  {
   "cell_type": "markdown",
   "metadata": {},
   "source": [
    "Посчитаем стандартное отклонение для каждой услуги для клиентов каждого тарифа."
   ]
  },
  {
   "cell_type": "code",
   "execution_count": 50,
   "metadata": {},
   "outputs": [],
   "source": [
    "service_std_dict = {\n",
    "    'calls_duration': {},\n",
    "    'messages_count': {},\n",
    "    'mb_used': {}\n",
    "}\n",
    "\n",
    "for service_key, service_value in service_var_dict.items():\n",
    "    for tariff_key, tariff_value in service_value.items():\n",
    "        service_std_dict[service_key][tariff_key] = math.sqrt(tariff_value)"
   ]
  },
  {
   "cell_type": "markdown",
   "metadata": {},
   "source": [
    "Составим таблицу, отображающую среднее значение, дисперсию и стандартное отклонение для каждой услуги для клиентов каждого тарифа."
   ]
  },
  {
   "cell_type": "code",
   "execution_count": 51,
   "metadata": {
    "scrolled": true
   },
   "outputs": [],
   "source": [
    "std_table = pd.DataFrame.from_dict(service_std_dict)"
   ]
  },
  {
   "cell_type": "code",
   "execution_count": 52,
   "metadata": {},
   "outputs": [],
   "source": [
    "mean_table = pd.DataFrame.from_dict(service_mean_dict)"
   ]
  },
  {
   "cell_type": "code",
   "execution_count": 53,
   "metadata": {},
   "outputs": [],
   "source": [
    "var_table = pd.DataFrame.from_dict(service_var_dict)"
   ]
  },
  {
   "cell_type": "code",
   "execution_count": 54,
   "metadata": {},
   "outputs": [
    {
     "data": {
      "text/html": [
       "<style  type=\"text/css\" >\n",
       "</style><table id=\"T_4a947906_8165_11eb_bef5_02420a394ee7\" ><thead>    <tr>        <th class=\"blank\" ></th>        <th class=\"blank level0\" ></th>        <th class=\"col_heading level0 col0\" >calls_duration</th>        <th class=\"col_heading level0 col1\" >messages_count</th>        <th class=\"col_heading level0 col2\" >mb_used</th>    </tr></thead><tbody>\n",
       "                <tr>\n",
       "                        <th id=\"T_4a947906_8165_11eb_bef5_02420a394ee7level0_row0\" class=\"row_heading level0 row0\" rowspan=2>Среднее значение</th>\n",
       "                        <th id=\"T_4a947906_8165_11eb_bef5_02420a394ee7level1_row0\" class=\"row_heading level1 row0\" >smart</th>\n",
       "                        <td id=\"T_4a947906_8165_11eb_bef5_02420a394ee7row0_col0\" class=\"data row0 col0\" >424.94</td>\n",
       "                        <td id=\"T_4a947906_8165_11eb_bef5_02420a394ee7row0_col1\" class=\"data row0 col1\" >37.64</td>\n",
       "                        <td id=\"T_4a947906_8165_11eb_bef5_02420a394ee7row0_col2\" class=\"data row0 col2\" >16354.81</td>\n",
       "            </tr>\n",
       "            <tr>\n",
       "                                <th id=\"T_4a947906_8165_11eb_bef5_02420a394ee7level1_row1\" class=\"row_heading level1 row1\" >ultra</th>\n",
       "                        <td id=\"T_4a947906_8165_11eb_bef5_02420a394ee7row1_col0\" class=\"data row1 col0\" >559.16</td>\n",
       "                        <td id=\"T_4a947906_8165_11eb_bef5_02420a394ee7row1_col1\" class=\"data row1 col1\" >65.42</td>\n",
       "                        <td id=\"T_4a947906_8165_11eb_bef5_02420a394ee7row1_col2\" class=\"data row1 col2\" >19598.29</td>\n",
       "            </tr>\n",
       "            <tr>\n",
       "                        <th id=\"T_4a947906_8165_11eb_bef5_02420a394ee7level0_row2\" class=\"row_heading level0 row2\" rowspan=2>Дисперсия</th>\n",
       "                        <th id=\"T_4a947906_8165_11eb_bef5_02420a394ee7level1_row2\" class=\"row_heading level1 row2\" >smart</th>\n",
       "                        <td id=\"T_4a947906_8165_11eb_bef5_02420a394ee7row2_col0\" class=\"data row2 col0\" >20584.70</td>\n",
       "                        <td id=\"T_4a947906_8165_11eb_bef5_02420a394ee7row2_col1\" class=\"data row2 col1\" >617.51</td>\n",
       "                        <td id=\"T_4a947906_8165_11eb_bef5_02420a394ee7row2_col2\" class=\"data row2 col2\" >12828074.80</td>\n",
       "            </tr>\n",
       "            <tr>\n",
       "                                <th id=\"T_4a947906_8165_11eb_bef5_02420a394ee7level1_row3\" class=\"row_heading level1 row3\" >ultra</th>\n",
       "                        <td id=\"T_4a947906_8165_11eb_bef5_02420a394ee7row3_col0\" class=\"data row3 col0\" >72005.48</td>\n",
       "                        <td id=\"T_4a947906_8165_11eb_bef5_02420a394ee7row3_col1\" class=\"data row3 col1\" >1882.75</td>\n",
       "                        <td id=\"T_4a947906_8165_11eb_bef5_02420a394ee7row3_col2\" class=\"data row3 col2\" >66883936.37</td>\n",
       "            </tr>\n",
       "            <tr>\n",
       "                        <th id=\"T_4a947906_8165_11eb_bef5_02420a394ee7level0_row4\" class=\"row_heading level0 row4\" rowspan=2>Стандартное отклонение</th>\n",
       "                        <th id=\"T_4a947906_8165_11eb_bef5_02420a394ee7level1_row4\" class=\"row_heading level1 row4\" >smart</th>\n",
       "                        <td id=\"T_4a947906_8165_11eb_bef5_02420a394ee7row4_col0\" class=\"data row4 col0\" >143.47</td>\n",
       "                        <td id=\"T_4a947906_8165_11eb_bef5_02420a394ee7row4_col1\" class=\"data row4 col1\" >24.85</td>\n",
       "                        <td id=\"T_4a947906_8165_11eb_bef5_02420a394ee7row4_col2\" class=\"data row4 col2\" >3581.63</td>\n",
       "            </tr>\n",
       "            <tr>\n",
       "                                <th id=\"T_4a947906_8165_11eb_bef5_02420a394ee7level1_row5\" class=\"row_heading level1 row5\" >ultra</th>\n",
       "                        <td id=\"T_4a947906_8165_11eb_bef5_02420a394ee7row5_col0\" class=\"data row5 col0\" >268.34</td>\n",
       "                        <td id=\"T_4a947906_8165_11eb_bef5_02420a394ee7row5_col1\" class=\"data row5 col1\" >43.39</td>\n",
       "                        <td id=\"T_4a947906_8165_11eb_bef5_02420a394ee7row5_col2\" class=\"data row5 col2\" >8178.26</td>\n",
       "            </tr>\n",
       "    </tbody></table>"
      ],
      "text/plain": [
       "<pandas.io.formats.style.Styler at 0x7f1a6b5ae290>"
      ]
     },
     "execution_count": 54,
     "metadata": {},
     "output_type": "execute_result"
    }
   ],
   "source": [
    "pd.concat([mean_table, var_table, std_table], keys=['Среднее значение', 'Дисперсия', 'Стандартное отклонение']).style.format(\"{:.2f}\")"
   ]
  },
  {
   "cell_type": "markdown",
   "metadata": {},
   "source": [
    "Клиенты более дорогого тарифа \"ultra\" каждый месяц пользуются б*о*льшим количеством услуг, чем клиенты тарифа \"smart\".  \n",
    "Заметно, что клиенты тарифа \"ultra\" используют услуги менее равномерно. То есть в один месяц клиент с тарифом \"ultra\" может потратить 10Гб трафика, а в другой 30."
   ]
  },
  {
   "cell_type": "code",
   "execution_count": 55,
   "metadata": {},
   "outputs": [
    {
     "data": {
      "text/html": [
       "<div>\n",
       "<style scoped>\n",
       "    .dataframe tbody tr th:only-of-type {\n",
       "        vertical-align: middle;\n",
       "    }\n",
       "\n",
       "    .dataframe tbody tr th {\n",
       "        vertical-align: top;\n",
       "    }\n",
       "\n",
       "    .dataframe thead th {\n",
       "        text-align: right;\n",
       "    }\n",
       "</style>\n",
       "<table border=\"1\" class=\"dataframe\">\n",
       "  <thead>\n",
       "    <tr style=\"text-align: right;\">\n",
       "      <th></th>\n",
       "      <th>tariff_name</th>\n",
       "      <th>smart</th>\n",
       "      <th>ultra</th>\n",
       "    </tr>\n",
       "  </thead>\n",
       "  <tbody>\n",
       "    <tr>\n",
       "      <td rowspan=\"3\" valign=\"top\">calls_duration</td>\n",
       "      <td>mean</td>\n",
       "      <td>419</td>\n",
       "      <td>545</td>\n",
       "    </tr>\n",
       "    <tr>\n",
       "      <td>std</td>\n",
       "      <td>189</td>\n",
       "      <td>306</td>\n",
       "    </tr>\n",
       "    <tr>\n",
       "      <td>var</td>\n",
       "      <td>35844</td>\n",
       "      <td>94203</td>\n",
       "    </tr>\n",
       "    <tr>\n",
       "      <td rowspan=\"3\" valign=\"top\">messages_count</td>\n",
       "      <td>mean</td>\n",
       "      <td>38</td>\n",
       "      <td>61</td>\n",
       "    </tr>\n",
       "    <tr>\n",
       "      <td>std</td>\n",
       "      <td>26</td>\n",
       "      <td>45</td>\n",
       "    </tr>\n",
       "    <tr>\n",
       "      <td>var</td>\n",
       "      <td>717</td>\n",
       "      <td>2109</td>\n",
       "    </tr>\n",
       "    <tr>\n",
       "      <td rowspan=\"3\" valign=\"top\">mb_used</td>\n",
       "      <td>mean</td>\n",
       "      <td>16236</td>\n",
       "      <td>19686</td>\n",
       "    </tr>\n",
       "    <tr>\n",
       "      <td>std</td>\n",
       "      <td>5868</td>\n",
       "      <td>9952</td>\n",
       "    </tr>\n",
       "    <tr>\n",
       "      <td>var</td>\n",
       "      <td>34443100</td>\n",
       "      <td>99043439</td>\n",
       "    </tr>\n",
       "  </tbody>\n",
       "</table>\n",
       "</div>"
      ],
      "text/plain": [
       "tariff_name             smart     ultra\n",
       "calls_duration mean       419       545\n",
       "               std        189       306\n",
       "               var      35844     94203\n",
       "messages_count mean        38        61\n",
       "               std         26        45\n",
       "               var        717      2109\n",
       "mb_used        mean     16236     19686\n",
       "               std       5868      9952\n",
       "               var   34443100  99043439"
      ]
     },
     "execution_count": 55,
     "metadata": {},
     "output_type": "execute_result"
    }
   ],
   "source": [
    "### Код ревьювера ###\n",
    "# альтернативный вариант:\n",
    "\n",
    "users_month_stat.groupby('tariff_name').agg({'calls_duration':['mean', np.std, np.var],\n",
    "                                             'messages_count': ['mean', np.std, np.var],\n",
    "                                             'mb_used': ['mean', np.std, np.var]}).T.astype('int')"
   ]
  },
  {
   "cell_type": "markdown",
   "metadata": {},
   "source": [
    "Построим гистограммы по среднемесячному использованию услуг клиентами разных тарифов."
   ]
  },
  {
   "cell_type": "code",
   "execution_count": 56,
   "metadata": {},
   "outputs": [
    {
     "data": {
      "image/png": "[encoded data removed]",
      "text/plain": [
       "<Figure size 1440x576 with 3 Axes>"
      ]
     },
     "metadata": {
      "needs_background": "light"
     },
     "output_type": "display_data"
    }
   ],
   "source": [
    "fig, axes = plt.subplots(1, 3, figsize=(20, 8))\n",
    "\n",
    "for i, service in enumerate(zip(['calls_duration', 'messages_count', 'mb_used'], \n",
    "                                ['minutes_included', 'messages_included', 'mb_per_month_included'])):\n",
    "    service, included = service\n",
    "    for tariff, color in zip(tariffs['tariff_name'].unique(), ['b', 'r']):\n",
    "        service_mean = (users_month_stat.loc[users_month_stat['tariff_name'] == tariff]\n",
    "                        .dropna().pivot_table(index='user_id', columns='month', values=service, aggfunc='mean')\n",
    "                        .mean(axis=1))\n",
    "        axes[i].hist(service_mean, alpha=0.5, bins=20, density=True, label=tariff)\n",
    "        axes[i].axvline(x=tariffs.loc[tariffs['tariff_name'] == tariff, \n",
    "                        included].values[0], \n",
    "                        c=color, \n",
    "                        linestyle='--', \n",
    "                        label=f'Лимит для тарифа {tariff}')\n",
    "        axes[i].set_title(f'Гистограмма среднемесячных значений {service}')\n",
    "        axes[i].set_xlabel('Значение')\n",
    "        axes[i].set_ylabel('Частота нормализованная')\n",
    "        axes[i].legend()\n",
    "        axes[i].grid()"
   ]
  },
  {
   "cell_type": "markdown",
   "metadata": {},
   "source": [
    "#### Вывод\n",
    "\n",
    "Клиенты тарифа \"ultra\" пользуются б*о*льшим количеством услуг ежемесячно, чем клиенты тарифа \"smart\". Это логично, так как тариф \"ultra\" дороже и предоставляет клиентам большее количество включенных услуг.  \n",
    "\n",
    "Среднемесячные длительность звонков и объем использованого трафика распределены нормально для обоих тарифов. При чем распределение для тарифа \"ultra\" более равномерное.  \n",
    "\n",
    "Диаграмма среднемесячного количества отправленных сообщений скошена вправо для обоих тарифов. Распределение для тарифа \"ultra\" также более равномерное.  \n",
    "\n",
    "Представленные выше диаграммы соответствуют таблице характеристик положения данных. "
   ]
  },
  {
   "cell_type": "markdown",
   "metadata": {},
   "source": [
    "### Проверка гипотез\n",
    "\n",
    "Проверим две гипотезы:\n",
    "1. Средняя выручка пользователей тарифов «Ультра» и «Смарт» различается\n",
    "2. Средняя выручка пользователей из Москвы отличается от выручки пользователей из других регионов  \n",
    "\n",
    "Начнем с проверки первой гипотезы.  \n",
    "\n",
    "Сформируем нулевую гипотезу **H0**. \n",
    "**H0** - средняя выручка пользователей тарифов \"Ультра\" и \"Смарт\" одинакова.  \n",
    "\n",
    "Сформируем альтернативную гипотезу **H1**.\n",
    "**H1** - средняя выручка пользователей тарифов \"Ультра\" и \"Смарт\" различается.\n",
    "\n",
    "Для проверки равенства средних наборов данных (в нашем случае клиентов с разными тарифами) одной генеральной совокупности используется метод scipy.stats.ttest_ind().  \n",
    "\n",
    "Необходимо посчитать средние выручки оператора с клиентов разных тарифов и задать критический уровень статистической значимости. \n",
    "Поскольку нам не важно в какую сторону средние могут различаться, то будем проверять двухстороннюю гипотезу.  "
   ]
  },
  {
   "cell_type": "markdown",
   "metadata": {},
   "source": [
    "Найдем средние значения для клиентов каждого тарифа."
   ]
  },
  {
   "cell_type": "code",
   "execution_count": 57,
   "metadata": {},
   "outputs": [],
   "source": [
    "ultra_month = users_month_stat.loc[users_month_stat['tariff_name'] == 'ultra', 'month_total']\n",
    "ultra_month_mean = ultra_month.mean()\n",
    "\n",
    "smart_month = users_month_stat.loc[users_month_stat['tariff_name'] == 'smart', 'month_total']\n",
    "smart_month_mean = smart_month.mean()"
   ]
  },
  {
   "cell_type": "code",
   "execution_count": 58,
   "metadata": {
    "scrolled": true
   },
   "outputs": [
    {
     "name": "stdout",
     "output_type": "stream",
     "text": [
      "Средняя выручка оператора с клиентов тарифа \"ultra\": 2017.11\n",
      "Средняя выручка оператора с клиентов тарифа \"smart\": 945.10\n"
     ]
    }
   ],
   "source": [
    "print(f'Средняя выручка оператора с клиентов тарифа \"ultra\": {ultra_month_mean:.2f}')\n",
    "print(f'Средняя выручка оператора с клиентов тарифа \"smart\": {smart_month_mean:.2f}')"
   ]
  },
  {
   "cell_type": "markdown",
   "metadata": {},
   "source": [
    "Зададим критический уровень статистической значимости. Возьмем \"стандартное\" значение 0.05. "
   ]
  },
  {
   "cell_type": "code",
   "execution_count": 59,
   "metadata": {},
   "outputs": [],
   "source": [
    "alpha = 0.05"
   ]
  },
  {
   "cell_type": "markdown",
   "metadata": {},
   "source": [
    "Посчитаем дисперсии для обеих выборок."
   ]
  },
  {
   "cell_type": "code",
   "execution_count": 60,
   "metadata": {},
   "outputs": [
    {
     "name": "stdout",
     "output_type": "stream",
     "text": [
      "Дисперсия 1-ой выборки: 83124.96197660801\n",
      "Дисперсия 2-ой выборки: 495640.5320863513\n"
     ]
    }
   ],
   "source": [
    "for i, variance in enumerate([ultra_month, smart_month], 1):\n",
    "    print(f'Дисперсия {i}-ой выборки: {np.var(variance, ddof=1)}')"
   ]
  },
  {
   "cell_type": "markdown",
   "metadata": {},
   "source": [
    "Дисперсии сильно различаются, поэтому параметр **equal_var** метода **ttest_ind** установим в False.  \n",
    "\n",
    "Проверим гипотезу."
   ]
  },
  {
   "cell_type": "code",
   "execution_count": 61,
   "metadata": {
    "scrolled": true
   },
   "outputs": [
    {
     "name": "stdout",
     "output_type": "stream",
     "text": [
      "p-значение: 0.0\n",
      "Отвергаем нулевую гипотезу\n"
     ]
    }
   ],
   "source": [
    "results = st.ttest_ind(ultra_month, smart_month, equal_var=False)\n",
    "\n",
    "print('p-значение:', results.pvalue)\n",
    "\n",
    "if (results.pvalue < alpha):\n",
    "    print(\"Отвергаем нулевую гипотезу\")\n",
    "else:\n",
    "    print(\"Не получилось отвергнуть нулевую гипотезу\")"
   ]
  },
  {
   "cell_type": "markdown",
   "metadata": {},
   "source": [
    "p-значение равно нулю, на основании чего можно отвергнуть нулевую гипотезу в пользу альтернативной. Поэтому можно считать, что выручка оператора с клиентов разных тарифов различается. Зная средние значения, можно с уверенностью сказать, что выручка с клиентов более дорогого тарифа \"ultra\" больше.  \n",
    "\n",
    "Обратим внимание на то, что средняя выручка с клиентов тарифа \"ultra\" почти не отличается от ежемесячной платы за тариф. То есть этим клиентам чаще всего хватает включенного количества услуг.  \n",
    "А клиенты тарифа \"ultra\" часто расходуют все включенные услуги, из-за чего им приходится докупать дополнительные пакеты услуг. В среднем они доплачивают 400р в месяц, что достаточно много, учитывая ежемесячную плату в 550р."
   ]
  },
  {
   "cell_type": "markdown",
   "metadata": {},
   "source": [
    "Проверим **вторую** гипотезу."
   ]
  },
  {
   "cell_type": "markdown",
   "metadata": {},
   "source": [
    "Сформируем нулевую гипотезу **H0**. **H0** - средняя выручка пользователей из Москвы и других регионов одинакова.\n",
    "\n",
    "Сформируем альтернативную гипотезу **H1**. **H1** - средняя выручка пользователей из Москвы и других регионов различается.  \n",
    "\n",
    "Воспользуемся тем же методом scipy.stats.ttest_ind(). Гипотеза также будет двухсторонняя.  \n",
    "\n",
    "Посчитаем средние значения для клиентов из Москвы и из других регионов."
   ]
  },
  {
   "cell_type": "code",
   "execution_count": 62,
   "metadata": {},
   "outputs": [],
   "source": [
    "moscow_month = users_month_stat.loc[users_month_stat['city'] == 'Москва', 'month_total']\n",
    "moscow_month_mean = moscow_month.mean()\n",
    "\n",
    "not_moscow_month = users_month_stat.loc[users_month_stat['city'] != 'Москва', 'month_total']\n",
    "not_moscow_month_mean = not_moscow_month.mean()"
   ]
  },
  {
   "cell_type": "code",
   "execution_count": 63,
   "metadata": {
    "scrolled": false
   },
   "outputs": [
    {
     "name": "stdout",
     "output_type": "stream",
     "text": [
      "Средняя выручка оператора с клиентов из Москвы: 1252.10\n",
      "Средняя выручка оператора с клиентов из других регионов: 1266.65\n"
     ]
    }
   ],
   "source": [
    "print(f'Средняя выручка оператора с клиентов из Москвы: {moscow_month_mean:.2f}')\n",
    "print(f'Средняя выручка оператора с клиентов из других регионов: {not_moscow_month_mean:.2f}')"
   ]
  },
  {
   "cell_type": "markdown",
   "metadata": {},
   "source": [
    "Клиенты из Москвы в среднем тратят столько же денег, сколько в среднем и клиенты из других регионов.  \n",
    "\n",
    "Зададим критический уровень статистической значимости. Возьмем \"стандартное\" значение 0.05. "
   ]
  },
  {
   "cell_type": "code",
   "execution_count": 64,
   "metadata": {},
   "outputs": [],
   "source": [
    "alpha = 0.05"
   ]
  },
  {
   "cell_type": "markdown",
   "metadata": {},
   "source": [
    "Посчитаем дисперсии для обеих выборок."
   ]
  },
  {
   "cell_type": "code",
   "execution_count": 65,
   "metadata": {},
   "outputs": [
    {
     "name": "stdout",
     "output_type": "stream",
     "text": [
      "Дисперсия 1-ой выборки: 575722.0022522332\n",
      "Дисперсия 2-ой выборки: 622434.2902628282\n"
     ]
    }
   ],
   "source": [
    "for i, variance in enumerate([moscow_month, not_moscow_month], 1):\n",
    "    print(f'Дисперсия {i}-ой выборки: {np.var(variance, ddof=1)}')"
   ]
  },
  {
   "cell_type": "markdown",
   "metadata": {},
   "source": [
    "Дисперсии различаются более, чем на 5 процентов, поэтому параметр **equal_var** метода **ttest_ind** установим в False. "
   ]
  },
  {
   "cell_type": "markdown",
   "metadata": {},
   "source": [
    "Проверим гипотезу."
   ]
  },
  {
   "cell_type": "code",
   "execution_count": 66,
   "metadata": {},
   "outputs": [
    {
     "name": "stdout",
     "output_type": "stream",
     "text": [
      "p-значение: 0.5572310594935443\n",
      "Не получилось отвергнуть нулевую гипотезу\n"
     ]
    }
   ],
   "source": [
    "results = st.ttest_ind(moscow_month, not_moscow_month, equal_var=False)\n",
    "\n",
    "print('p-значение:', results.pvalue)\n",
    "\n",
    "if (results.pvalue < alpha):\n",
    "    print(\"Отвергаем нулевую гипотезу\")\n",
    "else:\n",
    "    print(\"Не получилось отвергнуть нулевую гипотезу\")"
   ]
  },
  {
   "cell_type": "markdown",
   "metadata": {},
   "source": [
    "Нулевую гипотезу не отвергаем. Скорее всего клиенты из Москвы и из других регионов тратят одинаковое количество денег на услуги оператора \"Мегалайн.\""
   ]
  },
  {
   "cell_type": "markdown",
   "metadata": {},
   "source": [
    "#### Вывод\n",
    "\n",
    "Были представлены следующие гипотезы:\n",
    "1. Средняя выручка пользователей тарифов «Ультра» и «Смарт» различается\n",
    "2. Средняя выручка пользователей из Москвы отличается от выручки пользователей из других регионов  \n",
    "\n",
    "При проверке каждой из этих гипотез были сформулированы нулевые и альтернативные гипотезы. Обе альтернативные гипотезы были двухсторонние, так как каждый раз мы проверяли равенство/неравенство средних значений выборок. \n",
    "При проверке каждой из гипотез критический уровень статистической значимости принимал значение 0.05. Данное значение стандартно. Оснований для изменения данного параметра в виде критичности ошибок первого или второго рода не было.  \n",
    "Оба раз был использован метод scipy.stats.ttest_ind(), так как он применяется для проверки гипотез о равенстве среднего двух генеральных совокупностей по взятым из них выборкам.  \n",
    "\n",
    "Результаты проверки гипотез:\n",
    "1. Средняя выручка пользователей тарифов «Ультра» и «Смарт» действительно различается. Пользователь тарифа \"Ультра\" приносит оператору больше денег, чем пользователь тарифа \"Смарт\".\n",
    "2. Клиенты из Москвы в среднем тратят столько же денег на услуги оператора, сколько и клиенты из других регионов."
   ]
  },
  {
   "cell_type": "markdown",
   "metadata": {},
   "source": [
    "### Так какой же тариф лучше?\n",
    "\n",
    "Одна из задач исследования - ответить на вопрос \"какой тариф лучше?\".  \n",
    "На этот вопрос нельзя дать прямой ответ, так как выбор тарифа зависит от потребностей клиента. Поэтому вместо ответа на вопрос найдем границу, после которой имеет смысл взять более дорогой тариф \"Ультра\".  \n",
    "\n",
    "Ежемесячный платеж за тариф \"Смарт\" - 550р. За тариф \"Ультра\" - 1950р. Разница составила 1400р. Поэтому оформлять тариф \"Ультра\" имеет смысл, если сумма доплат за дополнительные пакеты выше 1400р.\n",
    "\n",
    "Найдем id пользователей, которым имеет смысл перейти тариф \"Ультра\"."
   ]
  },
  {
   "cell_type": "code",
   "execution_count": 67,
   "metadata": {
    "scrolled": true
   },
   "outputs": [
    {
     "data": {
      "text/plain": [
       "[1072, 1172, 1227, 1251, 1324, 1496]"
      ]
     },
     "execution_count": 67,
     "metadata": {},
     "output_type": "execute_result"
    }
   ],
   "source": [
    "smart_to_ultra = users_month_stat[(users_month_stat['tariff_name'] == 'smart')].pivot_table(index='user_id', values='month_total')\n",
    "list(smart_to_ultra[smart_to_ultra['month_total'] >= 1950].index)"
   ]
  },
  {
   "cell_type": "markdown",
   "metadata": {},
   "source": [
    "Пользователям с указанными выше id имеет смысл перейти на тариф \"Ультра\", так как они тратят слишком много денег на дополнительные пакеты.  \n",
    "\n",
    "Найдем пользователей, которым стоит перейти с тарифа \"Смарт\" на тариф \"Ультра\". Для этого посмотрим сколько бы тратили денег пользователи тарифа \"Ультра\", если бы они пользовались тарифом \"Смарт\"."
   ]
  },
  {
   "cell_type": "code",
   "execution_count": 68,
   "metadata": {
    "scrolled": true
   },
   "outputs": [
    {
     "name": "stdout",
     "output_type": "stream",
     "text": [
      "110\n"
     ]
    }
   ],
   "source": [
    "tmp_stat = (\n",
    "    calls_duration_per_month.merge(messages_count_per_month, on=['user_id', 'month'], how='outer')\n",
    "    .merge(mb_used_per_month, on=['user_id', 'month'], how='outer')\n",
    "    .merge(users[['user_id', 'tariff', 'city']], on='user_id', how='outer')\n",
    ")\n",
    "\n",
    "tmp_stat.set_axis(['user_id','month','calls_duration', 'messages_count', 'mb_used', 'tariff_name', 'city'], axis='columns', inplace=True)\n",
    "tmp_stat = tmp_stat[tmp_stat['tariff_name'] == 'ultra']\n",
    "tmp_stat['tariff_name'] = 'smart'\n",
    "tmp_stat = tmp_stat.merge(tariffs, on='tariff_name', how='outer')\n",
    "\n",
    "tmp_stat['calls_overpayed'] = tmp_stat.apply(calculate_calls_overpayment, axis=1)\n",
    "tmp_stat['messages_overpayed'] = tmp_stat.apply(calculate_messages_overpayment, axis=1)\n",
    "tmp_stat['internet_overpayed'] = tmp_stat.apply(calculate_internet_overpayment, axis=1)\n",
    "tmp_stat['month_total'] = (tmp_stat['calls_overpayed'] + \n",
    "                           tmp_stat['messages_overpayed'] + \n",
    "                           tmp_stat['internet_overpayed'] + \n",
    "                           tmp_stat['rub_monthly_fee'])\n",
    "\n",
    "ultra_to_smart = tmp_stat[(tmp_stat['tariff_name'] == 'smart')].pivot_table(index='user_id', values='month_total')\n",
    "ultra_to_smart = list(ultra_to_smart[ultra_to_smart['month_total'] <= 1950].index)\n",
    "\n",
    "print(len(ultra_to_smart))"
   ]
  },
  {
   "cell_type": "markdown",
   "metadata": {},
   "source": [
    "110-ти клиентам тарифа \"Ультра\" стоит перейти на тариф \"Смарт\", так как они платят больше, чем используют."
   ]
  },
  {
   "cell_type": "markdown",
   "metadata": {},
   "source": [
    "#### Вывод\n",
    "\n",
    "Однозначно определить какой тариф лучше сам по себе - невозможно. Однако тариф \"Смарт\" предлагает в основном ровно столько, сколько нужно клиенту. А клиенты тарифа \"Ультра\" часто платят слишком много и не расходуют все включенные услуги.  \n",
    "При для оператора тариф \"Ультра\" как раз таки более предпочтительный.  \n",
    "\n",
    "Наверняка среди клиентов тарифа \"Ультра\" много тех, кто хочет просто раз в месяц платить фиксированную сумму и не \"париться\". Пускай даже с небольшой переплатой.  \n",
    "А тариф \"Смарт\" подходит тему, кто хочет платить ровно столько, сколько он использует."
   ]
  },
  {
   "cell_type": "markdown",
   "metadata": {},
   "source": [
    "### Общий вывод\n",
    "\n",
    "Как ошибки были обработаны:\n",
    "- Нецелые значения были округлены вверх\n",
    "- Получен срез со звонками ненулевой длительности\n",
    "- Получен срез с сессиями с ненулевыми затратами трафика\n",
    "- Столбец Unnamed: 0 был удалён.\n",
    "\n",
    "Предложения:\n",
    "- Проверить предположение относительно округления до 0 значений затраченного трафика\n",
    "- Проверить таблицу internet.csv\n",
    "\n",
    "Для каждого пользователя были посчитаны дополнительные параметры:\n",
    "- Количество сделанных звонков и израсходованных минут разговора по месяцам\n",
    "- Количество отправленных сообщений по месяцам\n",
    "- Объем израсходованного интернет-трафика по месяцам\n",
    "- Помесячную выручку с каждого пользователя\n",
    "\n",
    "Анализ параметров calls_duration, messages_count и mb_used показал:\n",
    "- Клиенты тарифа \"ultra\" пользуются большим количеством услуг ежемесячно, чем клиенты тарифа \"smart\"\n",
    "- Среднемесячные длительность звонков и объем использованого трафика распределены нормально для обоих тарифов\n",
    "- Диаграмма среднемесячного количества отправленных сообщений скошена вправо для обоих тарифов  \n",
    "\n",
    "Необходимо было проверить 2 гипотезы:\n",
    "- Средняя выручка пользователей тарифов «Ультра» и «Смарт» различается\n",
    "- Средняя выручка пользователей из Москвы отличается от выручки пользователей из других регионов\n",
    "\n",
    "Результаты проверки гипотез:\n",
    "- Средняя выручка пользователей тарифов «Ультра» и «Смарт» действительно различается.\n",
    "- Клиенты из Москвы в среднем тратят столько же денег на услуги оператора, сколько и клиенты из других регионов.\n",
    "\n",
    "Тариф \"Ультра\" подходит больше тем, кто использует б*о*льшее количество услуг. Также он подходит тем, кто готов заплатить больше, а потом не беспокоиться о дополнительных списаниях для покупки дополнительных пакетов услуг.  \n",
    "Тариф \"Смарт\" выгоден для тех, кто использует меньше услуг и не хочет переплачивать.  \n",
    "\n",
    "Оператор \"Мегалайн\" однозначно заинтересован в увеличении количества клиентов тарифа \"Ультра\"."
   ]
  },
  {
   "cell_type": "code",
   "execution_count": 69,
   "metadata": {},
   "outputs": [
    {
     "data": {
      "image/png": "[encoded data removed]",
      "text/plain": [
       "<Figure size 1080x432 with 2 Axes>"
      ]
     },
     "metadata": {},
     "output_type": "display_data"
    }
   ],
   "source": [
    "fig, axes = plt.subplots(1, 2, figsize=(15, 6), )\n",
    "\n",
    "for i, tariff in enumerate(['smart', 'ultra']):\n",
    "    pie_chart_data = users_month_stat.loc[\n",
    "        users_month_stat['tariff_name'] == tariff, \n",
    "        ['internet_overpayed', 'messages_overpayed', 'calls_overpayed']\n",
    "    ].mean()\n",
    "    pie_chart_data = pie_chart_data[pie_chart_data != 0]\n",
    "    \n",
    "    labels = list(pie_chart_data.index)\n",
    "    \n",
    "    axes[i].pie(pie_chart_data, labels=labels)\n",
    "    axes[i].set_title(f'Тариф {tariff}')\n",
    "    fig.suptitle('Доли доплат за отдельные услуги от общей суммы доплат')\n"
   ]
  },
  {
   "cell_type": "markdown",
   "metadata": {},
   "source": [
    "Как видно по диграммам выше, клиенты обоих тарифов в основном докупают интернет-трафик. Тариф \"Ультра\" стоит почти в 4 раза больше, чем тариф \"Смарт\", но предлагает всего в 2 раза больше интернета.  \n",
    "\n",
    "На диаграмме ниже видно, что в среднем клиенты тарифа \"Ультра\" используют около 19Гб из 30 включенных."
   ]
  },
  {
   "cell_type": "code",
   "execution_count": 70,
   "metadata": {},
   "outputs": [
    {
     "data": {
      "image/png": "[encoded data removed]",
      "text/plain": [
       "<Figure size 1440x576 with 3 Axes>"
      ]
     },
     "execution_count": 70,
     "metadata": {},
     "output_type": "execute_result"
    }
   ],
   "source": [
    "services_mean_barplot"
   ]
  },
  {
   "cell_type": "markdown",
   "metadata": {},
   "source": [
    "Эти диаграммы подтверждают выводы, сделанные выше. Тариф \"Смарт\" для более рациональных пользователей. Тариф \"Ультра\" для тех, кто хочет платить единожды и не доплачивать."
   ]
  }
 ],
 "metadata": {
  "kernelspec": {
   "display_name": "Python 3",
   "language": "python",
   "name": "python3"
  },
  "language_info": {
   "codemirror_mode": {
    "name": "ipython",
    "version": 3
   },
   "file_extension": ".py",
   "mimetype": "text/x-python",
   "name": "python",
   "nbconvert_exporter": "python",
   "pygments_lexer": "ipython3",
   "version": "3.8.3"
  },
  "toc": {
   "base_numbering": 1,
   "nav_menu": {},
   "number_sections": false,
   "sideBar": true,
   "skip_h1_title": true,
   "title_cell": "Table of Contents",
   "title_sidebar": "Contents",
   "toc_cell": false,
   "toc_position": {},
   "toc_section_display": true,
   "toc_window_display": false
  }
 },
 "nbformat": 4,
 "nbformat_minor": 2
}
