{
 "cells": [
  {
   "cell_type": "markdown",
   "metadata": {},
   "source": [
    "## 0. Библиотеки и функции"
   ]
  },
  {
   "cell_type": "code",
   "execution_count": 1,
   "metadata": {},
   "outputs": [],
   "source": [
    "import pandas as pd\n",
    "import glob\n",
    "from datetime import datetime\n",
    "import matplotlib.pyplot as plt\n",
    "import numpy as np\n",
    "import matplotlib.dates as mdates\n",
    "\n",
    "import seaborn as sns\n",
    "plt.style.use('ggplot')\n",
    "pd.options.mode.chained_assignment = None"
   ]
  },
  {
   "cell_type": "code",
   "execution_count": 2,
   "metadata": {},
   "outputs": [],
   "source": [
    "def place_labels(ax, format_string):\n",
    "    rects = ax.patches\n",
    "\n",
    "    # For each bar: Place a label\n",
    "    for rect in rects:\n",
    "        # Get X and Y placement of label from rect.\n",
    "        x_value = rect.get_width()\n",
    "        y_value = rect.get_y() + rect.get_height() / 2\n",
    "\n",
    "        # Number of points between bar and label. Change to your liking.\n",
    "        space = 5\n",
    "        # Vertical alignment for positive values\n",
    "        ha = 'left'\n",
    "\n",
    "        # If value of bar is negative: Place label left of bar\n",
    "        if x_value < 0:\n",
    "            # Invert space to place label to the left\n",
    "            space *= -1\n",
    "            # Horizontally align label at right\n",
    "            ha = 'right'\n",
    "\n",
    "        # Use X value as label and format number with one decimal place\n",
    "        label = format_string.format(x_value)\n",
    "\n",
    "        # Create annotation\n",
    "        plt.annotate(\n",
    "            label,                      # Use `label` as label\n",
    "            (x_value, y_value),         # Place label at end of the bar\n",
    "            xytext=(space, 0),          # Horizontally shift label by `space`\n",
    "            textcoords=\"offset points\", # Interpret `xytext` as offset in points\n",
    "            va='center',                # Vertically center label\n",
    "            ha=ha)                      # Horizontally align label differently for\n",
    "                                        # positive and negative values."
   ]
  },
  {
   "cell_type": "markdown",
   "metadata": {},
   "source": [
    "## 1. Подготовка данных\n",
    "### 1.1. Открываем и объединяем файлы"
   ]
  },
  {
   "cell_type": "code",
   "execution_count": 3,
   "metadata": {},
   "outputs": [
    {
     "ename": "ValueError",
     "evalue": "No objects to concatenate",
     "output_type": "error",
     "traceback": [
      "\u001b[0;31m---------------------------------------------------------------------------\u001b[0m",
      "\u001b[0;31mValueError\u001b[0m                                Traceback (most recent call last)",
      "\u001b[0;32m<ipython-input-3-81ba428e8da4>\u001b[0m in \u001b[0;36m<module>\u001b[0;34m\u001b[0m\n\u001b[1;32m      4\u001b[0m     \u001b[0mchannel_df\u001b[0m\u001b[0;34m[\u001b[0m\u001b[0;34m'channel_name'\u001b[0m\u001b[0;34m]\u001b[0m \u001b[0;34m=\u001b[0m \u001b[0mfile\u001b[0m\u001b[0;34m.\u001b[0m\u001b[0mreplace\u001b[0m\u001b[0;34m(\u001b[0m\u001b[0;34m'.csv'\u001b[0m\u001b[0;34m,\u001b[0m\u001b[0;34m''\u001b[0m\u001b[0;34m)\u001b[0m\u001b[0;34m\u001b[0m\u001b[0;34m\u001b[0m\u001b[0m\n\u001b[1;32m      5\u001b[0m     \u001b[0mchannel_dfs\u001b[0m\u001b[0;34m.\u001b[0m\u001b[0mappend\u001b[0m\u001b[0;34m(\u001b[0m\u001b[0mchannel_df\u001b[0m\u001b[0;34m)\u001b[0m\u001b[0;34m\u001b[0m\u001b[0;34m\u001b[0m\u001b[0m\n\u001b[0;32m----> 6\u001b[0;31m \u001b[0mslack_df\u001b[0m \u001b[0;34m=\u001b[0m \u001b[0mpd\u001b[0m\u001b[0;34m.\u001b[0m\u001b[0mconcat\u001b[0m\u001b[0;34m(\u001b[0m\u001b[0mchannel_dfs\u001b[0m\u001b[0;34m)\u001b[0m\u001b[0;34m\u001b[0m\u001b[0;34m\u001b[0m\u001b[0m\n\u001b[0m",
      "\u001b[0;32m~/opt/anaconda3/lib/python3.8/site-packages/pandas/core/reshape/concat.py\u001b[0m in \u001b[0;36mconcat\u001b[0;34m(objs, axis, join, ignore_index, keys, levels, names, verify_integrity, sort, copy)\u001b[0m\n\u001b[1;32m    269\u001b[0m     \u001b[0mValueError\u001b[0m\u001b[0;34m:\u001b[0m \u001b[0mIndexes\u001b[0m \u001b[0mhave\u001b[0m \u001b[0moverlapping\u001b[0m \u001b[0mvalues\u001b[0m\u001b[0;34m:\u001b[0m \u001b[0;34m[\u001b[0m\u001b[0;34m'a'\u001b[0m\u001b[0;34m]\u001b[0m\u001b[0;34m\u001b[0m\u001b[0;34m\u001b[0m\u001b[0m\n\u001b[1;32m    270\u001b[0m     \"\"\"\n\u001b[0;32m--> 271\u001b[0;31m     op = _Concatenator(\n\u001b[0m\u001b[1;32m    272\u001b[0m         \u001b[0mobjs\u001b[0m\u001b[0;34m,\u001b[0m\u001b[0;34m\u001b[0m\u001b[0;34m\u001b[0m\u001b[0m\n\u001b[1;32m    273\u001b[0m         \u001b[0maxis\u001b[0m\u001b[0;34m=\u001b[0m\u001b[0maxis\u001b[0m\u001b[0;34m,\u001b[0m\u001b[0;34m\u001b[0m\u001b[0;34m\u001b[0m\u001b[0m\n",
      "\u001b[0;32m~/opt/anaconda3/lib/python3.8/site-packages/pandas/core/reshape/concat.py\u001b[0m in \u001b[0;36m__init__\u001b[0;34m(self, objs, axis, join, keys, levels, names, ignore_index, verify_integrity, copy, sort)\u001b[0m\n\u001b[1;32m    327\u001b[0m \u001b[0;34m\u001b[0m\u001b[0m\n\u001b[1;32m    328\u001b[0m         \u001b[0;32mif\u001b[0m \u001b[0mlen\u001b[0m\u001b[0;34m(\u001b[0m\u001b[0mobjs\u001b[0m\u001b[0;34m)\u001b[0m \u001b[0;34m==\u001b[0m \u001b[0;36m0\u001b[0m\u001b[0;34m:\u001b[0m\u001b[0;34m\u001b[0m\u001b[0;34m\u001b[0m\u001b[0m\n\u001b[0;32m--> 329\u001b[0;31m             \u001b[0;32mraise\u001b[0m \u001b[0mValueError\u001b[0m\u001b[0;34m(\u001b[0m\u001b[0;34m\"No objects to concatenate\"\u001b[0m\u001b[0;34m)\u001b[0m\u001b[0;34m\u001b[0m\u001b[0;34m\u001b[0m\u001b[0m\n\u001b[0m\u001b[1;32m    330\u001b[0m \u001b[0;34m\u001b[0m\u001b[0m\n\u001b[1;32m    331\u001b[0m         \u001b[0;32mif\u001b[0m \u001b[0mkeys\u001b[0m \u001b[0;32mis\u001b[0m \u001b[0;32mNone\u001b[0m\u001b[0;34m:\u001b[0m\u001b[0;34m\u001b[0m\u001b[0;34m\u001b[0m\u001b[0m\n",
      "\u001b[0;31mValueError\u001b[0m: No objects to concatenate"
     ]
    }
   ],
   "source": [
    "channel_dfs = []\n",
    "for file in glob.glob('*.csv'):\n",
    "    channel_df = pd.read_csv(file, dtype={'ts':str,'thread_ts':str})\n",
    "    channel_df['channel_name'] = file.replace('.csv','')\n",
    "    channel_dfs.append(channel_df)\n",
    "slack_df = pd.concat(channel_dfs)"
   ]
  },
  {
   "cell_type": "markdown",
   "metadata": {},
   "source": [
    "### 1.2. Объединяем каналы"
   ]
  },
  {
   "cell_type": "code",
   "execution_count": null,
   "metadata": {},
   "outputs": [],
   "source": [
    "print(slack_df['channel_name'].unique())"
   ]
  },
  {
   "cell_type": "markdown",
   "metadata": {},
   "source": [
    "Переименуем каналы, чтобы объединить сообщения из каналов одинакового назначения"
   ]
  },
  {
   "cell_type": "code",
   "execution_count": null,
   "metadata": {},
   "outputs": [],
   "source": [
    "replace_dict = {}\n",
    "purposes = ['exerciser', 'projects', 'teamwork']\n",
    "for purpose in purposes:\n",
    "    for channel in [name for name in slack_df['channel_name'].unique() if purpose in name]:\n",
    "        replace_dict[channel] = f'da_11_{purpose}'\n",
    "        \n",
    "slack_df['channel_name'] = slack_df['channel_name'].replace(replace_dict)\n",
    "\n",
    "print(slack_df['channel_name'].unique())"
   ]
  },
  {
   "cell_type": "markdown",
   "metadata": {},
   "source": [
    "### 1.3. Приводим типы и заполняем пропуски\n",
    "- Добавим колонку `datetime`, где будет дата-время на основе unix epoch из колонки `ts`\n",
    "- Пропуски в колонке `thread_ts` означают, что для треда нет внутренних сообщений (реплаев), поэтому в качестве идентификатора такого треда подойдёт значение колонки `ts`. Заполним пропуски в `thread_ts` на значение из колонки `ts`"
   ]
  },
  {
   "cell_type": "code",
   "execution_count": null,
   "metadata": {},
   "outputs": [],
   "source": [
    "slack_df['datetime'] = slack_df['ts'].astype(float).apply(datetime.fromtimestamp)\n",
    "slack_df['thread_ts'] = slack_df['thread_ts'].fillna(slack_df['ts'])\n",
    "\n",
    "slack_df['date'] = slack_df['datetime'].dt.date\n",
    "slack_df['month'] = slack_df['datetime'].astype('datetime64[M]')"
   ]
  },
  {
   "cell_type": "code",
   "execution_count": null,
   "metadata": {},
   "outputs": [],
   "source": [
    "slack_df['is_thread_starter'] = slack_df['thread_ts'] == slack_df['ts']"
   ]
  },
  {
   "cell_type": "code",
   "execution_count": null,
   "metadata": {},
   "outputs": [],
   "source": [
    "slack_df['text_length'] = slack_df['text'].str.len().fillna(0).astype(int)"
   ]
  },
  {
   "cell_type": "markdown",
   "metadata": {},
   "source": [
    "## 2. Исследование пользователей\n",
    "Перед исследованием пользователей создадим копию датафрейма, где не будет сообщений от пользователей из команды Практикума"
   ]
  },
  {
   "cell_type": "code",
   "execution_count": null,
   "metadata": {},
   "outputs": [],
   "source": [
    "praktikum_users = ['USAAUCX18', 'UU59EH1B8', 'USWMKAJHW', 'U0104BRNQG1', 'USNLJ4U21', 'UUMQAGFHC']\n",
    "slack_wo_praktikum_df = slack_df[~slack_df['user'].isin(praktikum_users)]"
   ]
  },
  {
   "cell_type": "markdown",
   "metadata": {},
   "source": [
    "### 2.1. Составим рейтинг из 10 пользователей, оставивших наибольшее количество сообщений"
   ]
  },
  {
   "cell_type": "code",
   "execution_count": null,
   "metadata": {},
   "outputs": [],
   "source": [
    "top_10_users = (\n",
    "    slack_wo_praktikum_df['real_name']\n",
    "    .value_counts()\n",
    "    .nlargest(10)\n",
    ")\n",
    "\n",
    "plt.figure(figsize=(10,8)) # Сделаем больше размеры фигуры\n",
    "ax = (\n",
    "    top_10_users\n",
    "    .sort_values()\n",
    "    .plot(kind='barh')\n",
    ")\n",
    "plt.title('Топ 10 писателей в Слаке') # Укажем название фигуры\n",
    "place_labels(ax,\"{:.0f}\")\n",
    "plt.xlabel('Количество сообщений')\n",
    "plt.show()"
   ]
  },
  {
   "cell_type": "markdown",
   "metadata": {},
   "source": [
    "### 2.1. Определим куда пользователи писали чаще всего"
   ]
  },
  {
   "cell_type": "code",
   "execution_count": null,
   "metadata": {},
   "outputs": [],
   "source": [
    "messages_by_top_10_users_df = slack_wo_praktikum_df[slack_wo_praktikum_df['real_name'].isin(top_10_users.index)]"
   ]
  },
  {
   "cell_type": "code",
   "execution_count": null,
   "metadata": {},
   "outputs": [],
   "source": [
    "plt.figure(figsize=(10,8))\n",
    "ax = (\n",
    "    messages_by_top_10_users_df['channel_name']\n",
    "    .value_counts().sort_values()\n",
    "    .plot(kind='barh')\n",
    ")\n",
    "plt.title('Каналы, в которые писали топ 10 писателей') # Укажем название фигуры\n",
    "place_labels(ax,\"{:.0f}\")\n",
    "plt.xlabel('Количество сообщений')\n",
    "plt.show()"
   ]
  },
  {
   "cell_type": "code",
   "execution_count": null,
   "metadata": {},
   "outputs": [],
   "source": [
    "plt.figure(figsize=(10,8))\n",
    "ax = sns.heatmap(\n",
    "    messages_by_top_10_users_df.\n",
    "    pivot_table(index='real_name',\n",
    "                columns='channel_name',\n",
    "                values='ts',\n",
    "                aggfunc='count',\n",
    "                fill_value=0,\n",
    "               margins=True)\n",
    "    .sort_values('All',ascending=False)\n",
    "    .sort_values('All',ascending=False,axis=1)\n",
    "    .drop(index='All',columns='All'),\n",
    "    annot = True,\n",
    "    linewidths = 2,\n",
    "    fmt = \"d\"\n",
    ")\n",
    "plt.title('Каналы, в которые писали топ 10 писателей, с детализацией по пользователям')\n",
    "plt.xlabel('Название канала')\n",
    "plt.ylabel('Имя пользователя')\n",
    "plt.show()"
   ]
  },
  {
   "cell_type": "markdown",
   "metadata": {},
   "source": [
    "### 2.2. Найдем пользователей, которые чаще других создавали треды"
   ]
  },
  {
   "cell_type": "code",
   "execution_count": null,
   "metadata": {},
   "outputs": [],
   "source": [
    "plt.figure(figsize=(10,8))\n",
    "ax = (\n",
    "    slack_wo_praktikum_df\n",
    "    .sort_values('datetime')\n",
    "    .query('is_thread_starter')\n",
    "    .loc[:,'real_name'].value_counts()\n",
    "    .nlargest(10).sort_values()\n",
    "    .plot(kind='barh')\n",
    ")\n",
    "plt.title('Топ 10 пользователей, создающих треды') # Укажем название фигуры\n",
    "place_labels(ax,\"{:.0f}\")\n",
    "plt.xlabel('Количество тредов')\n",
    "plt.show()"
   ]
  },
  {
   "cell_type": "markdown",
   "metadata": {},
   "source": [
    "### 2.3. Выясним, как меняется со временем количество пользователей, которые пишут сообщения"
   ]
  },
  {
   "cell_type": "code",
   "execution_count": null,
   "metadata": {},
   "outputs": [],
   "source": [
    "for grouping_column in ['date','month']:\n",
    "    sub_df = slack_wo_praktikum_df.groupby(grouping_column)['user'].nunique()\n",
    "    fig = plt.figure(figsize=(15,5))\n",
    "    ax = fig.add_subplot(111)\n",
    "    ax.bar(sub_df.index, sub_df.values)\n",
    "    ax.xaxis.set_major_formatter(mdates.DateFormatter('%Y-%m'))\n",
    "    plt.title(f'Количество пользователей, пишущих сообщения (by {grouping_column})')\n",
    "    plt.xlabel('Дата')\n",
    "    plt.ylabel('Количество пользователей')\n",
    "    plt.show()"
   ]
  },
  {
   "cell_type": "markdown",
   "metadata": {},
   "source": [
    "## 3. Исследование сообщений\n",
    "### 3.1.1 Определим, какие каналы содержат больше всего тредов"
   ]
  },
  {
   "cell_type": "code",
   "execution_count": null,
   "metadata": {},
   "outputs": [],
   "source": [
    "plt.figure(figsize=(10,8))\n",
    "ax = (\n",
    "    slack_df\n",
    "    .query('is_thread_starter')\n",
    "    .loc[:,'channel_name'].value_counts().sort_values()\n",
    "    .plot(kind='barh')\n",
    ")\n",
    "plt.title('Каналы, содержащие больше всего тредов (с учетом команды Практикума)') # Укажем название фигуры\n",
    "place_labels(ax,\"{:.0f}\")\n",
    "plt.xlabel('Количество тредов')\n",
    "plt.show()"
   ]
  },
  {
   "cell_type": "code",
   "execution_count": null,
   "metadata": {},
   "outputs": [],
   "source": [
    "plt.figure(figsize=(10,8))\n",
    "ax = (\n",
    "    slack_wo_praktikum_df\n",
    "    .query('is_thread_starter')\n",
    "    .loc[:,'channel_name'].value_counts().sort_values()\n",
    "    .plot(kind='barh')\n",
    ")\n",
    "plt.title('Каналы, содержащие больше всего тредов (без учета команды Практикума)') # Укажем название фигуры\n",
    "place_labels(ax,\"{:.0f}\")\n",
    "plt.xlabel('Количество тредов')\n",
    "plt.show()"
   ]
  },
  {
   "cell_type": "markdown",
   "metadata": {},
   "source": [
    "### 3.2. Построим гистограмму распределения количества сообщений в тредах для каждого из каналов"
   ]
  },
  {
   "cell_type": "code",
   "execution_count": null,
   "metadata": {},
   "outputs": [],
   "source": [
    "plt.figure(figsize=(10,8))\n",
    "ax = (\n",
    "    slack_df\n",
    "    .groupby('thread_ts')['ts'].count()\n",
    "    .hist(bins=10)\n",
    ")\n",
    "plt.title('Гистограмма распределения количества сообщений в тредах') # Укажем название фигуры\n",
    "plt.xlabel('Количество сообщений')\n",
    "plt.ylabel('Количество тредов')\n",
    "plt.show()"
   ]
  },
  {
   "cell_type": "code",
   "execution_count": null,
   "metadata": {},
   "outputs": [],
   "source": [
    "plt.figure(figsize=(10,8))\n",
    "ax = (\n",
    "    slack_df\n",
    "    .groupby('thread_ts')['ts'].count()\n",
    "    .hist(bins=10,range=(0,10))\n",
    ")\n",
    "plt.title('Гистограмма распределения количества сообщений в тредах (от 0 до 10)') # Укажем название фигуры\n",
    "plt.xlabel('Количество сообщений')\n",
    "plt.ylabel('Количество тредов')\n",
    "plt.show()"
   ]
  },
  {
   "cell_type": "markdown",
   "metadata": {},
   "source": [
    "### 3.3. Выясним, как меняется количество сообщений в тредах с течением времени"
   ]
  },
  {
   "cell_type": "code",
   "execution_count": null,
   "metadata": {},
   "outputs": [],
   "source": [
    "for grouping_column in ['date','month']:\n",
    "    sub_df = (\n",
    "        slack_df\n",
    "        .query('is_thread_starter')\n",
    "        .groupby(grouping_column).agg(threads_count=('ts','count'))\n",
    "        .join(\n",
    "            slack_df\n",
    "            .groupby(grouping_column).agg(messages_count=('ts','count'))\n",
    "        )\n",
    "        .assign(messages_per_thread = lambda x: x['messages_count']/x['threads_count'])\n",
    "        .loc[:,'messages_per_thread']\n",
    "    )\n",
    "    fig = plt.figure(figsize=(15,5))\n",
    "    ax = fig.add_subplot(111)\n",
    "    ax.bar(sub_df.index, sub_df.values)\n",
    "    ax.xaxis.set_major_formatter(mdates.DateFormatter('%Y-%m'))\n",
    "    plt.title(f'Количество пользователей, пишущих сообщения (by {grouping_column})')\n",
    "    plt.xlabel('Дата')\n",
    "    plt.ylabel('Количество пользователей')\n",
    "    plt.show()"
   ]
  },
  {
   "cell_type": "markdown",
   "metadata": {},
   "source": [
    "### 3.4. Найдём треды, собравшие наибольшее количество сообщений"
   ]
  },
  {
   "cell_type": "code",
   "execution_count": null,
   "metadata": {},
   "outputs": [],
   "source": [
    "largest_threads = slack_df['thread_ts'].value_counts().nlargest(10)\n",
    "\n",
    "larges_threads_df = (\n",
    "    slack_df[(slack_df['is_thread_starter']) & (slack_df['thread_ts'].isin(largest_threads.index))]\n",
    "    .join(largest_threads,on='thread_ts',rsuffix='_count')\n",
    ")"
   ]
  },
  {
   "cell_type": "code",
   "execution_count": null,
   "metadata": {},
   "outputs": [],
   "source": [
    "# Выведем сообщения \n",
    "for x in larges_threads_df.sort_values('thread_ts_count',ascending=False).itertuples():\n",
    "    print (f'Канал: {x.channel_name}; Автор: {x.real_name}\\n----')\n",
    "    print (x.text)\n",
    "    print ('----')\n",
    "    print (f'{x.thread_ts_count} сообщений\\n\\n')"
   ]
  },
  {
   "cell_type": "markdown",
   "metadata": {},
   "source": [
    "### 3.5. Проанализируем изменение средней длины сообщения в зависимости от канала"
   ]
  },
  {
   "cell_type": "code",
   "execution_count": null,
   "metadata": {},
   "outputs": [],
   "source": [
    "plt.figure(figsize=(10,8))\n",
    "ax = (\n",
    "    slack_df\n",
    "    .groupby('channel_name')['text_length'].mean()\n",
    "    .sort_values()\n",
    "    .plot(kind='barh')\n",
    ")\n",
    "plt.title('Средняя длина сообщения в зависимости от канала') # Укажем название фигуры\n",
    "place_labels(ax,\"{:.1f}\")\n",
    "plt.xlabel('Среднее количество символов в сообщении')\n",
    "plt.show()"
   ]
  },
  {
   "cell_type": "code",
   "execution_count": null,
   "metadata": {},
   "outputs": [],
   "source": [
    "slack_df['text_length_category'] = pd.qcut(slack_df['text_length'], 3, labels=[\"short\", \"normal\", \"long\"])"
   ]
  },
  {
   "cell_type": "code",
   "execution_count": null,
   "metadata": {},
   "outputs": [],
   "source": [
    "plt.figure(figsize=(10,8))\n",
    "ax = sns.heatmap(\n",
    "    slack_df.\n",
    "    pivot_table(index='channel_name',\n",
    "                columns='text_length_category',\n",
    "                values='ts',\n",
    "                aggfunc='count',\n",
    "                fill_value=0,\n",
    "               margins=True)\n",
    "    .sort_values('All',ascending=False)\n",
    "    .filter(['short','normal','long'])\n",
    "    .drop(index='All'),\n",
    "    annot = True,\n",
    "    linewidths = 2,\n",
    "    fmt = \"d\"\n",
    ")\n",
    "plt.title('Каналы, в которые писали топ 10 писателей, с детализацией по пользователям')\n",
    "plt.xlabel('Название канала')\n",
    "plt.ylabel('Имя пользователя')\n",
    "plt.yticks(rotation=0)\n",
    "plt.show()"
   ]
  },
  {
   "cell_type": "code",
   "execution_count": null,
   "metadata": {},
   "outputs": [],
   "source": [
    "plt.figure(figsize=(10,8))\n",
    "ax = sns.heatmap(\n",
    "    slack_df.\n",
    "    pivot_table(index='channel_name',\n",
    "                columns='text_length_category',\n",
    "                values='text_length',\n",
    "                aggfunc='mean',\n",
    "                fill_value=0,\n",
    "               margins=True)\n",
    "    .sort_values('All',ascending=False)\n",
    "    .filter(['short','normal','long'])\n",
    "    .drop(index='All'),\n",
    "    annot = True,\n",
    "    linewidths = 2,\n",
    "    fmt = \".1f\"\n",
    ")\n",
    "plt.title('Каналы, в которые писали топ 10 писателей, с детализацией по пользователям')\n",
    "plt.xlabel('Название канала')\n",
    "plt.ylabel('Имя пользователя')\n",
    "plt.yticks(rotation=0)\n",
    "plt.show()"
   ]
  },
  {
   "cell_type": "markdown",
   "metadata": {},
   "source": [
    "### 3.6. Определим пользователей, которые в среднем пишут самые длинные сообщения."
   ]
  },
  {
   "cell_type": "code",
   "execution_count": null,
   "metadata": {},
   "outputs": [],
   "source": [
    "plt.figure(figsize=(10,8))\n",
    "ax = (\n",
    "    slack_df.groupby('real_name')['text_length'].mean()\n",
    "    .nlargest(10).sort_values()\n",
    "    .plot(kind='barh')\n",
    ")\n",
    "plt.title('Средняя длина сообщений по пользователям')\n",
    "plt.xlabel('Средняя длина сообщений')\n",
    "plt.ylabel('Имя пользователя')\n",
    "plt.show()"
   ]
  },
  {
   "cell_type": "code",
   "execution_count": null,
   "metadata": {},
   "outputs": [],
   "source": [
    "plt.figure(figsize=(10,8))\n",
    "ax = (\n",
    "    slack_df.groupby('real_name')['text_length'].sum()\n",
    "    .nlargest(10).sort_values()\n",
    "    .plot(kind='barh')\n",
    ")\n",
    "plt.title('Суммарная длина сообщений по пользователям')\n",
    "plt.xlabel('Суммарная длина сообщений')\n",
    "plt.ylabel('Имя пользователя')\n",
    "plt.show()"
   ]
  }
 ],
 "metadata": {
  "kernelspec": {
   "display_name": "Python 3",
   "language": "python",
   "name": "python3"
  },
  "language_info": {
   "codemirror_mode": {
    "name": "ipython",
    "version": 3
   },
   "file_extension": ".py",
   "mimetype": "text/x-python",
   "name": "python",
   "nbconvert_exporter": "python",
   "pygments_lexer": "ipython3",
   "version": "3.8.3"
  }
 },
 "nbformat": 4,
 "nbformat_minor": 4
}
