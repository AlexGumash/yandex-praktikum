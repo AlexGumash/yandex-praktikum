{
 "cells": [
  {
   "cell_type": "markdown",
   "metadata": {},
   "source": [
    "# Исследование объявлений о продаже квартир\n",
    "\n",
    "**Цель** проекта - изучить параметры объявлений о продаже квартир для того, чтобы в дальнейшем построить автоматизированную систему, отслеживающую аномалии и мошенническую деятельность.  \n",
    "Датасет - данные об объявлениях о продажах квартир в Санкт-Петербурге и ближайших к нему населенных пунктах. Основные интересующие нас параметры:\n",
    "- ceiling_height — высота потолков (м)\n",
    "- cityCenters_nearest — расстояние до центра города (м)\n",
    "- days_exposition — сколько дней было размещено объявление (от публикации до снятия)\n",
    "- floor — этаж\n",
    "- last_price — цена на момент снятия с публикации\n",
    "- locality_name — название населённого пункта\n",
    "- rooms — число комнат\n",
    "- total_area — площадь квартиры в квадратных метрах (м²)  \n",
    "\n",
    "План проекта:\n",
    "1. <a href=\"#Изучение-данных\">Изучить данные</a>\n",
    "2. <a href=\"#Предобработка-данных\">Обработать данные</a>\n",
    "3. <a href=\"#Рассчет-и-добавление-в-таблицу-дополнительных-параметров\">Посчитать и добавить дополнительные данные</a>\n",
    "4. <a href=\"#Проведение-исследовательского-анализа-данных\">Исследовать данные</a>\n",
    "5. <a href=\"#Общий-вывод\">Составить вывод</a>"
   ]
  },
  {
   "cell_type": "markdown",
   "metadata": {},
   "source": [
    "### Изучение данных"
   ]
  },
  {
   "cell_type": "code",
   "execution_count": 1,
   "metadata": {},
   "outputs": [],
   "source": [
    "import pandas as pd\n",
    "import matplotlib.pyplot as plt\n",
    "import seaborn as sns"
   ]
  },
  {
   "cell_type": "code",
   "execution_count": 2,
   "metadata": {},
   "outputs": [
    {
     "data": {
      "text/html": [
       "<div>\n",
       "<style scoped>\n",
       "    .dataframe tbody tr th:only-of-type {\n",
       "        vertical-align: middle;\n",
       "    }\n",
       "\n",
       "    .dataframe tbody tr th {\n",
       "        vertical-align: top;\n",
       "    }\n",
       "\n",
       "    .dataframe thead th {\n",
       "        text-align: right;\n",
       "    }\n",
       "</style>\n",
       "<table border=\"1\" class=\"dataframe\">\n",
       "  <thead>\n",
       "    <tr style=\"text-align: right;\">\n",
       "      <th></th>\n",
       "      <th>total_images</th>\n",
       "      <th>last_price</th>\n",
       "      <th>total_area</th>\n",
       "      <th>first_day_exposition</th>\n",
       "      <th>rooms</th>\n",
       "      <th>ceiling_height</th>\n",
       "      <th>floors_total</th>\n",
       "      <th>living_area</th>\n",
       "      <th>floor</th>\n",
       "      <th>is_apartment</th>\n",
       "      <th>...</th>\n",
       "      <th>kitchen_area</th>\n",
       "      <th>balcony</th>\n",
       "      <th>locality_name</th>\n",
       "      <th>airports_nearest</th>\n",
       "      <th>cityCenters_nearest</th>\n",
       "      <th>parks_around3000</th>\n",
       "      <th>parks_nearest</th>\n",
       "      <th>ponds_around3000</th>\n",
       "      <th>ponds_nearest</th>\n",
       "      <th>days_exposition</th>\n",
       "    </tr>\n",
       "  </thead>\n",
       "  <tbody>\n",
       "    <tr>\n",
       "      <td>0</td>\n",
       "      <td>20</td>\n",
       "      <td>13000000.0</td>\n",
       "      <td>108.0</td>\n",
       "      <td>2019-03-07T00:00:00</td>\n",
       "      <td>3</td>\n",
       "      <td>2.70</td>\n",
       "      <td>16.0</td>\n",
       "      <td>51.0</td>\n",
       "      <td>8</td>\n",
       "      <td>NaN</td>\n",
       "      <td>...</td>\n",
       "      <td>25.0</td>\n",
       "      <td>NaN</td>\n",
       "      <td>Санкт-Петербург</td>\n",
       "      <td>18863.0</td>\n",
       "      <td>16028.0</td>\n",
       "      <td>1.0</td>\n",
       "      <td>482.0</td>\n",
       "      <td>2.0</td>\n",
       "      <td>755.0</td>\n",
       "      <td>NaN</td>\n",
       "    </tr>\n",
       "    <tr>\n",
       "      <td>1</td>\n",
       "      <td>7</td>\n",
       "      <td>3350000.0</td>\n",
       "      <td>40.4</td>\n",
       "      <td>2018-12-04T00:00:00</td>\n",
       "      <td>1</td>\n",
       "      <td>NaN</td>\n",
       "      <td>11.0</td>\n",
       "      <td>18.6</td>\n",
       "      <td>1</td>\n",
       "      <td>NaN</td>\n",
       "      <td>...</td>\n",
       "      <td>11.0</td>\n",
       "      <td>2.0</td>\n",
       "      <td>посёлок Шушары</td>\n",
       "      <td>12817.0</td>\n",
       "      <td>18603.0</td>\n",
       "      <td>0.0</td>\n",
       "      <td>NaN</td>\n",
       "      <td>0.0</td>\n",
       "      <td>NaN</td>\n",
       "      <td>81.0</td>\n",
       "    </tr>\n",
       "    <tr>\n",
       "      <td>2</td>\n",
       "      <td>10</td>\n",
       "      <td>5196000.0</td>\n",
       "      <td>56.0</td>\n",
       "      <td>2015-08-20T00:00:00</td>\n",
       "      <td>2</td>\n",
       "      <td>NaN</td>\n",
       "      <td>5.0</td>\n",
       "      <td>34.3</td>\n",
       "      <td>4</td>\n",
       "      <td>NaN</td>\n",
       "      <td>...</td>\n",
       "      <td>8.3</td>\n",
       "      <td>0.0</td>\n",
       "      <td>Санкт-Петербург</td>\n",
       "      <td>21741.0</td>\n",
       "      <td>13933.0</td>\n",
       "      <td>1.0</td>\n",
       "      <td>90.0</td>\n",
       "      <td>2.0</td>\n",
       "      <td>574.0</td>\n",
       "      <td>558.0</td>\n",
       "    </tr>\n",
       "    <tr>\n",
       "      <td>3</td>\n",
       "      <td>0</td>\n",
       "      <td>64900000.0</td>\n",
       "      <td>159.0</td>\n",
       "      <td>2015-07-24T00:00:00</td>\n",
       "      <td>3</td>\n",
       "      <td>NaN</td>\n",
       "      <td>14.0</td>\n",
       "      <td>NaN</td>\n",
       "      <td>9</td>\n",
       "      <td>NaN</td>\n",
       "      <td>...</td>\n",
       "      <td>NaN</td>\n",
       "      <td>0.0</td>\n",
       "      <td>Санкт-Петербург</td>\n",
       "      <td>28098.0</td>\n",
       "      <td>6800.0</td>\n",
       "      <td>2.0</td>\n",
       "      <td>84.0</td>\n",
       "      <td>3.0</td>\n",
       "      <td>234.0</td>\n",
       "      <td>424.0</td>\n",
       "    </tr>\n",
       "    <tr>\n",
       "      <td>4</td>\n",
       "      <td>2</td>\n",
       "      <td>10000000.0</td>\n",
       "      <td>100.0</td>\n",
       "      <td>2018-06-19T00:00:00</td>\n",
       "      <td>2</td>\n",
       "      <td>3.03</td>\n",
       "      <td>14.0</td>\n",
       "      <td>32.0</td>\n",
       "      <td>13</td>\n",
       "      <td>NaN</td>\n",
       "      <td>...</td>\n",
       "      <td>41.0</td>\n",
       "      <td>NaN</td>\n",
       "      <td>Санкт-Петербург</td>\n",
       "      <td>31856.0</td>\n",
       "      <td>8098.0</td>\n",
       "      <td>2.0</td>\n",
       "      <td>112.0</td>\n",
       "      <td>1.0</td>\n",
       "      <td>48.0</td>\n",
       "      <td>121.0</td>\n",
       "    </tr>\n",
       "  </tbody>\n",
       "</table>\n",
       "<p>5 rows × 22 columns</p>\n",
       "</div>"
      ],
      "text/plain": [
       "   total_images  last_price  total_area first_day_exposition  rooms  \\\n",
       "0            20  13000000.0       108.0  2019-03-07T00:00:00      3   \n",
       "1             7   3350000.0        40.4  2018-12-04T00:00:00      1   \n",
       "2            10   5196000.0        56.0  2015-08-20T00:00:00      2   \n",
       "3             0  64900000.0       159.0  2015-07-24T00:00:00      3   \n",
       "4             2  10000000.0       100.0  2018-06-19T00:00:00      2   \n",
       "\n",
       "   ceiling_height  floors_total  living_area  floor is_apartment  ...  \\\n",
       "0            2.70          16.0         51.0      8          NaN  ...   \n",
       "1             NaN          11.0         18.6      1          NaN  ...   \n",
       "2             NaN           5.0         34.3      4          NaN  ...   \n",
       "3             NaN          14.0          NaN      9          NaN  ...   \n",
       "4            3.03          14.0         32.0     13          NaN  ...   \n",
       "\n",
       "   kitchen_area  balcony    locality_name  airports_nearest  \\\n",
       "0          25.0      NaN  Санкт-Петербург           18863.0   \n",
       "1          11.0      2.0   посёлок Шушары           12817.0   \n",
       "2           8.3      0.0  Санкт-Петербург           21741.0   \n",
       "3           NaN      0.0  Санкт-Петербург           28098.0   \n",
       "4          41.0      NaN  Санкт-Петербург           31856.0   \n",
       "\n",
       "  cityCenters_nearest  parks_around3000  parks_nearest  ponds_around3000  \\\n",
       "0             16028.0               1.0          482.0               2.0   \n",
       "1             18603.0               0.0            NaN               0.0   \n",
       "2             13933.0               1.0           90.0               2.0   \n",
       "3              6800.0               2.0           84.0               3.0   \n",
       "4              8098.0               2.0          112.0               1.0   \n",
       "\n",
       "   ponds_nearest  days_exposition  \n",
       "0          755.0              NaN  \n",
       "1            NaN             81.0  \n",
       "2          574.0            558.0  \n",
       "3          234.0            424.0  \n",
       "4           48.0            121.0  \n",
       "\n",
       "[5 rows x 22 columns]"
      ]
     },
     "execution_count": 2,
     "metadata": {},
     "output_type": "execute_result"
    }
   ],
   "source": [
    "data = pd.read_csv('/datasets/real_estate_data.csv', sep='\\t')\n",
    "\n",
    "data.head(5)"
   ]
  },
  {
   "cell_type": "code",
   "execution_count": 3,
   "metadata": {},
   "outputs": [
    {
     "name": "stdout",
     "output_type": "stream",
     "text": [
      "<class 'pandas.core.frame.DataFrame'>\n",
      "RangeIndex: 23699 entries, 0 to 23698\n",
      "Data columns (total 22 columns):\n",
      "total_images            23699 non-null int64\n",
      "last_price              23699 non-null float64\n",
      "total_area              23699 non-null float64\n",
      "first_day_exposition    23699 non-null object\n",
      "rooms                   23699 non-null int64\n",
      "ceiling_height          14504 non-null float64\n",
      "floors_total            23613 non-null float64\n",
      "living_area             21796 non-null float64\n",
      "floor                   23699 non-null int64\n",
      "is_apartment            2775 non-null object\n",
      "studio                  23699 non-null bool\n",
      "open_plan               23699 non-null bool\n",
      "kitchen_area            21421 non-null float64\n",
      "balcony                 12180 non-null float64\n",
      "locality_name           23650 non-null object\n",
      "airports_nearest        18157 non-null float64\n",
      "cityCenters_nearest     18180 non-null float64\n",
      "parks_around3000        18181 non-null float64\n",
      "parks_nearest           8079 non-null float64\n",
      "ponds_around3000        18181 non-null float64\n",
      "ponds_nearest           9110 non-null float64\n",
      "days_exposition         20518 non-null float64\n",
      "dtypes: bool(2), float64(14), int64(3), object(3)\n",
      "memory usage: 3.7+ MB\n"
     ]
    }
   ],
   "source": [
    "data.info()"
   ]
  },
  {
   "cell_type": "markdown",
   "metadata": {},
   "source": [
    "#### Вывод"
   ]
  },
  {
   "cell_type": "markdown",
   "metadata": {},
   "source": [
    "Первый взгляд на данные показал, что необходимо:\n",
    "1. Обработать пропуски в столбцах:\n",
    "    - ceiling_height\n",
    "    - floors_total\n",
    "    - living_area\n",
    "    - is_apartment\n",
    "    - kitchen_area\n",
    "    - balcony\n",
    "    - locality_name\n",
    "    - airports_nearest\n",
    "    - city_centers_nearest\n",
    "    - parks_around3000\n",
    "    - parks_nearest\n",
    "    - ponds_around3000\n",
    "    - ponds_nearest\n",
    "    - days_exposition \n",
    "2. Заменить тип значения в столбцах:\n",
    "    - last_price\n",
    "    - first_day_exposition\n",
    "    - floors_total\n",
    "    - is_apartment\n",
    "    - balcony\n",
    "    - days_exposition\n",
    "3. Проверить данные на наличие выбивающихся значений\n",
    "4. Проверить данные на наличие дубликатов"
   ]
  },
  {
   "cell_type": "markdown",
   "metadata": {},
   "source": [
    "### Предобработка данных"
   ]
  },
  {
   "cell_type": "markdown",
   "metadata": {},
   "source": [
    "Приведем название столбца с расстоянием до центра города к общему виду."
   ]
  },
  {
   "cell_type": "code",
   "execution_count": 4,
   "metadata": {},
   "outputs": [],
   "source": [
    "data = data.rename(columns={'cityCenters_nearest': 'city_centers_nearest'})"
   ]
  },
  {
   "cell_type": "markdown",
   "metadata": {},
   "source": [
    "#### Обработка пропусков"
   ]
  },
  {
   "cell_type": "markdown",
   "metadata": {},
   "source": [
    "Список столбцов, в которых обнаружены пропуски:\n",
    "- ceiling_height\n",
    "- floors_total\n",
    "- living_area\n",
    "- is_apartment\n",
    "- kitchen_area\n",
    "- balcony\n",
    "- locality_name\n",
    "- airports_nearest\n",
    "- city_centers_nearest\n",
    "- parks_around3000\n",
    "- parks_nearest\n",
    "- ponds_around3000\n",
    "- ponds_nearest\n",
    "- days_exposition  \n",
    "\n",
    "Для начала уберем из этого списка те столбцы, в которых заполнение пропусков проводиться не будет.  \n",
    "\n",
    "В столбце ceiling_height довольно много пропусков, однако данных, которые могли бы нам помочь при заполнении этих пропусков нет. Высота потолков зависит от типа (плана/серии) дома, а эта информация у нас не указана. Поэтому оставим пропуски.\n",
    "\n",
    "Если посмотреть на количество пропусков в столбцах airports_nearest, city_centers_nearest, parks_around3000, ponds_around3000 то можно заметить, что количество пропусков в них почти одинаково. Учитывая, что эти данные собираются системой автоматически, делаем предположение, что система просто по какой-то причине не собрала эти данные.  \n",
    "Обнаружить закономерность в этих пропусках не удалось, а замена на медианные или средние значения может сильно повлиять на достоверность данных.  \n",
    "Также детальнее рассмотрим пары столбцов parks_around3000 - parks_nearest и ponds_around3000 - ponds_nearest. \n",
    "Столбы parks/ponds_around3000 принимают значения трёх видов: 0, NaN или нормальное число. Пропусками в этих столбцах являются только NaN'ы. \n",
    "Пропуски в столбцах parks/ponds_nearest соответствуют значениям 0 и NaN столбцов parks/ponds_around3000. \n",
    "\n",
    "Заменить пропуски в названиях населенных пунктов будет тоже сложно. Так как пропусков в столбце locality_name очень мало, можно просто удалить строки с пропуском в этом столбце.  \n",
    "\n",
    "Строки с пропусками в столбце floor_total тоже просто удалим.  \n",
    "\n",
    "В итоге список столбцов, в которых необходимо заполнить пропуски сокращается до:\n",
    "- living_area\n",
    "- is_apartment\n",
    "- kitchen_area\n",
    "- balcony\n",
    "- days_exposition  \n",
    "\n",
    "Позволю себе заметить, что, возможно, стоило бы вообще не заполнять пропуски, а просто брать подходящий для определенной задачи срез. Данных всё равно достаточно, а заполнение пропусков может исказить картину."
   ]
  },
  {
   "cell_type": "markdown",
   "metadata": {},
   "source": [
    "#### Обработка пропусков в столбце living_area \n",
    "\n",
    "Посмотрим на строки, в которых пропущена жилая площадь квартиры."
   ]
  },
  {
   "cell_type": "code",
   "execution_count": 5,
   "metadata": {
    "scrolled": false
   },
   "outputs": [
    {
     "data": {
      "text/html": [
       "<div>\n",
       "<style scoped>\n",
       "    .dataframe tbody tr th:only-of-type {\n",
       "        vertical-align: middle;\n",
       "    }\n",
       "\n",
       "    .dataframe tbody tr th {\n",
       "        vertical-align: top;\n",
       "    }\n",
       "\n",
       "    .dataframe thead th {\n",
       "        text-align: right;\n",
       "    }\n",
       "</style>\n",
       "<table border=\"1\" class=\"dataframe\">\n",
       "  <thead>\n",
       "    <tr style=\"text-align: right;\">\n",
       "      <th></th>\n",
       "      <th>total_images</th>\n",
       "      <th>last_price</th>\n",
       "      <th>total_area</th>\n",
       "      <th>first_day_exposition</th>\n",
       "      <th>rooms</th>\n",
       "      <th>ceiling_height</th>\n",
       "      <th>floors_total</th>\n",
       "      <th>living_area</th>\n",
       "      <th>floor</th>\n",
       "      <th>is_apartment</th>\n",
       "      <th>...</th>\n",
       "      <th>kitchen_area</th>\n",
       "      <th>balcony</th>\n",
       "      <th>locality_name</th>\n",
       "      <th>airports_nearest</th>\n",
       "      <th>city_centers_nearest</th>\n",
       "      <th>parks_around3000</th>\n",
       "      <th>parks_nearest</th>\n",
       "      <th>ponds_around3000</th>\n",
       "      <th>ponds_nearest</th>\n",
       "      <th>days_exposition</th>\n",
       "    </tr>\n",
       "  </thead>\n",
       "  <tbody>\n",
       "    <tr>\n",
       "      <td>3</td>\n",
       "      <td>0</td>\n",
       "      <td>64900000.0</td>\n",
       "      <td>159.0</td>\n",
       "      <td>2015-07-24T00:00:00</td>\n",
       "      <td>3</td>\n",
       "      <td>NaN</td>\n",
       "      <td>14.0</td>\n",
       "      <td>NaN</td>\n",
       "      <td>9</td>\n",
       "      <td>NaN</td>\n",
       "      <td>...</td>\n",
       "      <td>NaN</td>\n",
       "      <td>0.0</td>\n",
       "      <td>Санкт-Петербург</td>\n",
       "      <td>28098.0</td>\n",
       "      <td>6800.0</td>\n",
       "      <td>2.0</td>\n",
       "      <td>84.0</td>\n",
       "      <td>3.0</td>\n",
       "      <td>234.0</td>\n",
       "      <td>424.0</td>\n",
       "    </tr>\n",
       "    <tr>\n",
       "      <td>7</td>\n",
       "      <td>5</td>\n",
       "      <td>7915000.0</td>\n",
       "      <td>71.6</td>\n",
       "      <td>2019-04-18T00:00:00</td>\n",
       "      <td>2</td>\n",
       "      <td>NaN</td>\n",
       "      <td>24.0</td>\n",
       "      <td>NaN</td>\n",
       "      <td>22</td>\n",
       "      <td>NaN</td>\n",
       "      <td>...</td>\n",
       "      <td>18.9</td>\n",
       "      <td>2.0</td>\n",
       "      <td>Санкт-Петербург</td>\n",
       "      <td>23982.0</td>\n",
       "      <td>11634.0</td>\n",
       "      <td>0.0</td>\n",
       "      <td>NaN</td>\n",
       "      <td>0.0</td>\n",
       "      <td>NaN</td>\n",
       "      <td>NaN</td>\n",
       "    </tr>\n",
       "    <tr>\n",
       "      <td>30</td>\n",
       "      <td>12</td>\n",
       "      <td>2200000.0</td>\n",
       "      <td>32.8</td>\n",
       "      <td>2018-02-19T00:00:00</td>\n",
       "      <td>1</td>\n",
       "      <td>NaN</td>\n",
       "      <td>9.0</td>\n",
       "      <td>NaN</td>\n",
       "      <td>2</td>\n",
       "      <td>NaN</td>\n",
       "      <td>...</td>\n",
       "      <td>NaN</td>\n",
       "      <td>NaN</td>\n",
       "      <td>Коммунар</td>\n",
       "      <td>NaN</td>\n",
       "      <td>NaN</td>\n",
       "      <td>NaN</td>\n",
       "      <td>NaN</td>\n",
       "      <td>NaN</td>\n",
       "      <td>NaN</td>\n",
       "      <td>63.0</td>\n",
       "    </tr>\n",
       "    <tr>\n",
       "      <td>37</td>\n",
       "      <td>10</td>\n",
       "      <td>1990000.0</td>\n",
       "      <td>45.8</td>\n",
       "      <td>2017-10-28T00:00:00</td>\n",
       "      <td>2</td>\n",
       "      <td>2.5</td>\n",
       "      <td>5.0</td>\n",
       "      <td>NaN</td>\n",
       "      <td>1</td>\n",
       "      <td>NaN</td>\n",
       "      <td>...</td>\n",
       "      <td>NaN</td>\n",
       "      <td>NaN</td>\n",
       "      <td>поселок городского типа Красный Бор</td>\n",
       "      <td>NaN</td>\n",
       "      <td>NaN</td>\n",
       "      <td>NaN</td>\n",
       "      <td>NaN</td>\n",
       "      <td>NaN</td>\n",
       "      <td>NaN</td>\n",
       "      <td>196.0</td>\n",
       "    </tr>\n",
       "    <tr>\n",
       "      <td>44</td>\n",
       "      <td>13</td>\n",
       "      <td>5350000.0</td>\n",
       "      <td>40.0</td>\n",
       "      <td>2018-11-18T00:00:00</td>\n",
       "      <td>1</td>\n",
       "      <td>NaN</td>\n",
       "      <td>22.0</td>\n",
       "      <td>NaN</td>\n",
       "      <td>3</td>\n",
       "      <td>NaN</td>\n",
       "      <td>...</td>\n",
       "      <td>NaN</td>\n",
       "      <td>1.0</td>\n",
       "      <td>Санкт-Петербург</td>\n",
       "      <td>30471.0</td>\n",
       "      <td>11603.0</td>\n",
       "      <td>1.0</td>\n",
       "      <td>620.0</td>\n",
       "      <td>1.0</td>\n",
       "      <td>1152.0</td>\n",
       "      <td>NaN</td>\n",
       "    </tr>\n",
       "  </tbody>\n",
       "</table>\n",
       "<p>5 rows × 22 columns</p>\n",
       "</div>"
      ],
      "text/plain": [
       "    total_images  last_price  total_area first_day_exposition  rooms  \\\n",
       "3              0  64900000.0       159.0  2015-07-24T00:00:00      3   \n",
       "7              5   7915000.0        71.6  2019-04-18T00:00:00      2   \n",
       "30            12   2200000.0        32.8  2018-02-19T00:00:00      1   \n",
       "37            10   1990000.0        45.8  2017-10-28T00:00:00      2   \n",
       "44            13   5350000.0        40.0  2018-11-18T00:00:00      1   \n",
       "\n",
       "    ceiling_height  floors_total  living_area  floor is_apartment  ...  \\\n",
       "3              NaN          14.0          NaN      9          NaN  ...   \n",
       "7              NaN          24.0          NaN     22          NaN  ...   \n",
       "30             NaN           9.0          NaN      2          NaN  ...   \n",
       "37             2.5           5.0          NaN      1          NaN  ...   \n",
       "44             NaN          22.0          NaN      3          NaN  ...   \n",
       "\n",
       "    kitchen_area  balcony                        locality_name  \\\n",
       "3            NaN      0.0                      Санкт-Петербург   \n",
       "7           18.9      2.0                      Санкт-Петербург   \n",
       "30           NaN      NaN                             Коммунар   \n",
       "37           NaN      NaN  поселок городского типа Красный Бор   \n",
       "44           NaN      1.0                      Санкт-Петербург   \n",
       "\n",
       "    airports_nearest city_centers_nearest  parks_around3000  parks_nearest  \\\n",
       "3            28098.0               6800.0               2.0           84.0   \n",
       "7            23982.0              11634.0               0.0            NaN   \n",
       "30               NaN                  NaN               NaN            NaN   \n",
       "37               NaN                  NaN               NaN            NaN   \n",
       "44           30471.0              11603.0               1.0          620.0   \n",
       "\n",
       "    ponds_around3000  ponds_nearest  days_exposition  \n",
       "3                3.0          234.0            424.0  \n",
       "7                0.0            NaN              NaN  \n",
       "30               NaN            NaN             63.0  \n",
       "37               NaN            NaN            196.0  \n",
       "44               1.0         1152.0              NaN  \n",
       "\n",
       "[5 rows x 22 columns]"
      ]
     },
     "execution_count": 5,
     "metadata": {},
     "output_type": "execute_result"
    }
   ],
   "source": [
    "data[data['living_area'].isna()].head(5)"
   ]
  },
  {
   "cell_type": "markdown",
   "metadata": {},
   "source": [
    "Выведем информацию о значениях в столбце living_area. Пропусков в данном достаточно столбце много, закономерность пропусков установить не удалось. "
   ]
  },
  {
   "cell_type": "code",
   "execution_count": 6,
   "metadata": {
    "scrolled": false
   },
   "outputs": [
    {
     "data": {
      "text/plain": [
       "count    21796.000000\n",
       "mean        34.457852\n",
       "std         22.030445\n",
       "min          2.000000\n",
       "25%         18.600000\n",
       "50%         30.000000\n",
       "75%         42.300000\n",
       "max        409.700000\n",
       "Name: living_area, dtype: float64"
      ]
     },
     "execution_count": 6,
     "metadata": {},
     "output_type": "execute_result"
    }
   ],
   "source": [
    "data['living_area'].describe()"
   ]
  },
  {
   "cell_type": "markdown",
   "metadata": {},
   "source": [
    "Просто заменить на медиану - плохая идея, так как будут возникать ситуации, в которых жилая площадь превышает общую.  \n",
    "Чтобы этого избежать найдем средний процент жилой площади от общей и будем заполнять пропуски в соответствии с этим соотношением."
   ]
  },
  {
   "cell_type": "code",
   "execution_count": 7,
   "metadata": {},
   "outputs": [],
   "source": [
    "mean_percent = (data['living_area'] / data['total_area']).mean()\n",
    "data['living_area'].fillna(data['total_area'] * mean_percent, inplace=True)"
   ]
  },
  {
   "cell_type": "markdown",
   "metadata": {},
   "source": [
    "#### Обработка пропусков в столбце is_apartment\n",
    "\n",
    "Выведем все значения, встречающиеся в этом столбце."
   ]
  },
  {
   "cell_type": "code",
   "execution_count": 8,
   "metadata": {},
   "outputs": [
    {
     "data": {
      "text/plain": [
       "False    2725\n",
       "True       50\n",
       "Name: is_apartment, dtype: int64"
      ]
     },
     "execution_count": 8,
     "metadata": {},
     "output_type": "execute_result"
    }
   ],
   "source": [
    "data['is_apartment'].value_counts()"
   ]
  },
  {
   "cell_type": "markdown",
   "metadata": {},
   "source": [
    "Получается, что встречаются следующие значения: True, False и пропуски. True - квартира действительно является апартаментом.  \n",
    "А вот со значениями False и NaN (пропуски) всё сложнее. Как правило при подаче объявления о продаже квартиры есть необязательное для выбора поле \"Статус\". В нём можно выбрать \"Апартаменты\" или \"Жилой фонд\". Видимо, если пользователь выбирает \"Апартаменты\", то в столбец is_apartment попадает значение \"True\", если выбирает \"Жилой фонд\", то \"False\". А если пользователь оставил это поле без внимания, то в столбец попадает пропуск.  \n",
    "Скорее всего, если пользователь продаёт именно апартаменты, то он не пропустит это поле. Если пользователь продаёт обычную квартиру, то он либо пропустит это поле (не поняв что такое \"жилой фонд\"), либо выберет вариант \"жилой фонд\".  \n",
    "Эти рассуждения дают основание заменить пропуски на \"False\", так как значение \"True\" возникает только если пользователь действительно продает апартаменты.   "
   ]
  },
  {
   "cell_type": "code",
   "execution_count": 9,
   "metadata": {},
   "outputs": [],
   "source": [
    "data['is_apartment'].fillna(False, inplace=True)"
   ]
  },
  {
   "cell_type": "markdown",
   "metadata": {},
   "source": [
    "#### Обработка пропусков в столбце kitchen_area\n",
    "\n",
    "С пропусками в площади кухни поступим так же, как и с пропусками в жилой площади."
   ]
  },
  {
   "cell_type": "code",
   "execution_count": 10,
   "metadata": {},
   "outputs": [],
   "source": [
    "mean_percent = (data['kitchen_area'] / data['total_area']).mean() \n",
    "data['kitchen_area'].fillna(data['total_area'] * mean_percent, inplace=True)"
   ]
  },
  {
   "cell_type": "markdown",
   "metadata": {},
   "source": [
    "#### Обработка пропусков в столбце balcony\n",
    "\n",
    "Если пользователь не указал количество балконов, то скорее всего их нет. Значит их 0. Заменим пропуски на 0."
   ]
  },
  {
   "cell_type": "code",
   "execution_count": 11,
   "metadata": {},
   "outputs": [],
   "source": [
    "data['balcony'].fillna(0, inplace=True)"
   ]
  },
  {
   "cell_type": "markdown",
   "metadata": {},
   "source": [
    "#### Обработка пропусков в столбце days_exposition  \n",
    "\n",
    "Данные в этом столбце показывают через сколько дней после появления объявления оно было снято. Эти данные собираются автоматически. Судя по всему, пропуски в этом столбце означают, что объявления еще не сняты. Заполним пропуски разницей между датой появления объявления и концом периода сбора статистики. "
   ]
  },
  {
   "cell_type": "markdown",
   "metadata": {},
   "source": [
    "Для этого сначала придется привести дату появления объявления к формату ГГГГ-ММ-ДД."
   ]
  },
  {
   "cell_type": "code",
   "execution_count": 12,
   "metadata": {},
   "outputs": [],
   "source": [
    "data['first_day_exposition'] = pd.to_datetime(data['first_day_exposition'])"
   ]
  },
  {
   "cell_type": "markdown",
   "metadata": {},
   "source": [
    "Конец периода сбора статистики - максимальная (самая поздняя) дата публиции объявления."
   ]
  },
  {
   "cell_type": "code",
   "execution_count": 13,
   "metadata": {},
   "outputs": [],
   "source": [
    "end_of_period = data['first_day_exposition'].max()"
   ]
  },
  {
   "cell_type": "code",
   "execution_count": 14,
   "metadata": {},
   "outputs": [],
   "source": [
    "def fill_days_exp_na(first_day_exp):\n",
    "    return (end_of_period - first_day_exp).days"
   ]
  },
  {
   "cell_type": "code",
   "execution_count": 15,
   "metadata": {},
   "outputs": [],
   "source": [
    "data.loc[data['days_exposition'].isna(), 'days_exposition'] = data.loc[\n",
    "    data['days_exposition'].isna(), 'first_day_exposition'\n",
    "].apply(fill_days_exp_na) "
   ]
  },
  {
   "cell_type": "markdown",
   "metadata": {},
   "source": [
    "#### Удаление строк с пропусками  \n",
    "\n",
    "Было решено избавиться от строк с пропусками в следующих столбцах:\n",
    "- locality_name\n",
    "- floors_total  "
   ]
  },
  {
   "cell_type": "code",
   "execution_count": 16,
   "metadata": {},
   "outputs": [],
   "source": [
    "data.dropna(subset=['locality_name', 'floors_total'], inplace=True)"
   ]
  },
  {
   "cell_type": "markdown",
   "metadata": {},
   "source": [
    "Заново выведем информацию о датафрейме."
   ]
  },
  {
   "cell_type": "code",
   "execution_count": 17,
   "metadata": {},
   "outputs": [
    {
     "name": "stdout",
     "output_type": "stream",
     "text": [
      "<class 'pandas.core.frame.DataFrame'>\n",
      "Int64Index: 23565 entries, 0 to 23698\n",
      "Data columns (total 22 columns):\n",
      "total_images            23565 non-null int64\n",
      "last_price              23565 non-null float64\n",
      "total_area              23565 non-null float64\n",
      "first_day_exposition    23565 non-null datetime64[ns]\n",
      "rooms                   23565 non-null int64\n",
      "ceiling_height          14481 non-null float64\n",
      "floors_total            23565 non-null float64\n",
      "living_area             23565 non-null float64\n",
      "floor                   23565 non-null int64\n",
      "is_apartment            23565 non-null bool\n",
      "studio                  23565 non-null bool\n",
      "open_plan               23565 non-null bool\n",
      "kitchen_area            23565 non-null float64\n",
      "balcony                 23565 non-null float64\n",
      "locality_name           23565 non-null object\n",
      "airports_nearest        18041 non-null float64\n",
      "city_centers_nearest    18064 non-null float64\n",
      "parks_around3000        18065 non-null float64\n",
      "parks_nearest           8030 non-null float64\n",
      "ponds_around3000        18065 non-null float64\n",
      "ponds_nearest           9036 non-null float64\n",
      "days_exposition         23565 non-null float64\n",
      "dtypes: bool(3), datetime64[ns](1), float64(14), int64(3), object(1)\n",
      "memory usage: 3.7+ MB\n"
     ]
    }
   ],
   "source": [
    "data.info()"
   ]
  },
  {
   "cell_type": "markdown",
   "metadata": {},
   "source": [
    "Отлично! Пропуски обработаны везде, где это было нужно. Осталось заменить типы значений в столбцах last_price, floors_total, days_exposition и balcony. Замена логична, так как эти столбцы имеют отношения к сущностям, которые могут быть измерены только целыми числами.  \n",
    "Изменим типы значений столбцов согласно схеме:  \n",
    "- last_price -> int\n",
    "- floors_total -> int\n",
    "- days_exposition -> int\n",
    "- balcony -> int"
   ]
  },
  {
   "cell_type": "code",
   "execution_count": 18,
   "metadata": {},
   "outputs": [
    {
     "name": "stdout",
     "output_type": "stream",
     "text": [
      "<class 'pandas.core.frame.DataFrame'>\n",
      "Int64Index: 23565 entries, 0 to 23698\n",
      "Data columns (total 22 columns):\n",
      "total_images            23565 non-null int64\n",
      "last_price              23565 non-null int64\n",
      "total_area              23565 non-null float64\n",
      "first_day_exposition    23565 non-null datetime64[ns]\n",
      "rooms                   23565 non-null int64\n",
      "ceiling_height          14481 non-null float64\n",
      "floors_total            23565 non-null int64\n",
      "living_area             23565 non-null float64\n",
      "floor                   23565 non-null int64\n",
      "is_apartment            23565 non-null bool\n",
      "studio                  23565 non-null bool\n",
      "open_plan               23565 non-null bool\n",
      "kitchen_area            23565 non-null float64\n",
      "balcony                 23565 non-null int64\n",
      "locality_name           23565 non-null object\n",
      "airports_nearest        18041 non-null float64\n",
      "city_centers_nearest    18064 non-null float64\n",
      "parks_around3000        18065 non-null float64\n",
      "parks_nearest           8030 non-null float64\n",
      "ponds_around3000        18065 non-null float64\n",
      "ponds_nearest           9036 non-null float64\n",
      "days_exposition         23565 non-null int64\n",
      "dtypes: bool(3), datetime64[ns](1), float64(10), int64(7), object(1)\n",
      "memory usage: 3.7+ MB\n"
     ]
    }
   ],
   "source": [
    "data = data.astype({\n",
    "    'last_price': 'int64',\n",
    "    'floors_total': 'int64',\n",
    "    'days_exposition': 'int64',\n",
    "    'balcony': 'int64'\n",
    "})\n",
    "data.info()"
   ]
  },
  {
   "cell_type": "markdown",
   "metadata": {},
   "source": [
    "#### Вывод\n",
    "\n",
    "Было изменено название для одного столбца: cityCenters_nearest -> city_center_nearest.  \n",
    "\n",
    "Были обработаны пропуски в следующих столбцах:  \n",
    "- living_area. Посчитали средний процент жилой площади от общей и заполнили пропуски, умножив общую площадь на этот процент.\n",
    "- is_apartment. Все не True значения (в том числе и пропуски) заменили на False.\n",
    "- kitchen_area. Поступили так же, как и с жилой площадью.\n",
    "- balcony. Пропуски заполнили нулями.\n",
    "- days_exposition. Пропуски заполнили разницей в днях между датой публикации объявления и концом периода сбора статистики.  \n",
    "В остальных полях пропуски было решено не заполнять, так как заполнение не было возможно выполнить правильно.  \n",
    "\n",
    "Была проведена замена типов согласно схеме:\n",
    "- last_price -> int\n",
    "- floors_total -> int\n",
    "- days_exposition -> int\n",
    "- balcony -> int\n",
    "- first_day_exposition -> datetime\n",
    "- is_apartment -> bool  \n",
    "\n",
    "Причины пропусков:\n",
    "- В основном причина пропусков - это необязательность заполнения некоторых данных при подаче объявления. Например: жилая площадь, площадь кухни, высота потолков. Исправить причину этих пропусков сложно, так как заставлять пользователей указывать все данные - это плохая идея.\n",
    "- Пропуски в столбце locality_name - явно какая-то ошибка, так как это поле обязательно для заполнения.\n",
    "- Пропуски в столбце days_exposition - сигнал о том, что квартира еще не продана и объявление не закрыто.\n",
    "\n",
    "Рекомендации:\n",
    "- Поискать возможности снижения количества пропусков в столбцах, данные для которых необязательны для заполнения при подаче объявления.\n",
    "- Разобраться с пропусками в столбце locality_name"
   ]
  },
  {
   "cell_type": "markdown",
   "metadata": {},
   "source": [
    "### Рассчет и добавление в таблицу дополнительных параметров"
   ]
  },
  {
   "cell_type": "markdown",
   "metadata": {},
   "source": [
    "Добавим цену квадратного метра. Рассчитаем её как результат деления цены на общую площадь квартиры."
   ]
  },
  {
   "cell_type": "code",
   "execution_count": 19,
   "metadata": {},
   "outputs": [],
   "source": [
    "data['price_per_square'] = data['last_price'] / data['total_area']"
   ]
  },
  {
   "cell_type": "markdown",
   "metadata": {},
   "source": [
    "Добавим день недели, месяц и год публикации объявления."
   ]
  },
  {
   "cell_type": "code",
   "execution_count": 20,
   "metadata": {},
   "outputs": [],
   "source": [
    "data['exposition_week_day'] = data['first_day_exposition'].dt.dayofweek\n",
    "data['exposition_month'] = data['first_day_exposition'].dt.month\n",
    "data['exposition_year'] = data['first_day_exposition'].dt.year"
   ]
  },
  {
   "cell_type": "markdown",
   "metadata": {},
   "source": [
    "Добавим наименование этажа, на котором находится квартира."
   ]
  },
  {
   "cell_type": "code",
   "execution_count": 21,
   "metadata": {},
   "outputs": [],
   "source": [
    "def name_floor(row):\n",
    "    if row['floor'] == 1:\n",
    "        return 'первый'\n",
    "    elif row['floor'] == int(row['floors_total']):\n",
    "        return 'последний'\n",
    "    return 'другой'"
   ]
  },
  {
   "cell_type": "code",
   "execution_count": 22,
   "metadata": {},
   "outputs": [],
   "source": [
    "data['floor_type'] = data.apply(name_floor, axis=1)"
   ]
  },
  {
   "cell_type": "markdown",
   "metadata": {},
   "source": [
    "Добавим соотношения жилой и общей площади, площади кухни и общей площади."
   ]
  },
  {
   "cell_type": "code",
   "execution_count": 23,
   "metadata": {},
   "outputs": [],
   "source": [
    "data['living_area_part'] = data['living_area'] / data['total_area']\n",
    "data['kitchen_area_part'] = data['kitchen_area'] / data['total_area']"
   ]
  },
  {
   "cell_type": "markdown",
   "metadata": {},
   "source": [
    "Выведем на экран полученные столбцы, чтобы убедиться в том, что они добавились."
   ]
  },
  {
   "cell_type": "code",
   "execution_count": 24,
   "metadata": {
    "scrolled": false
   },
   "outputs": [
    {
     "data": {
      "text/html": [
       "<div>\n",
       "<style scoped>\n",
       "    .dataframe tbody tr th:only-of-type {\n",
       "        vertical-align: middle;\n",
       "    }\n",
       "\n",
       "    .dataframe tbody tr th {\n",
       "        vertical-align: top;\n",
       "    }\n",
       "\n",
       "    .dataframe thead th {\n",
       "        text-align: right;\n",
       "    }\n",
       "</style>\n",
       "<table border=\"1\" class=\"dataframe\">\n",
       "  <thead>\n",
       "    <tr style=\"text-align: right;\">\n",
       "      <th></th>\n",
       "      <th>first_day_exposition</th>\n",
       "      <th>exposition_week_day</th>\n",
       "      <th>exposition_month</th>\n",
       "      <th>exposition_year</th>\n",
       "      <th>price_per_square</th>\n",
       "      <th>floor_type</th>\n",
       "      <th>floor</th>\n",
       "      <th>living_area_part</th>\n",
       "      <th>kitchen_area_part</th>\n",
       "    </tr>\n",
       "  </thead>\n",
       "  <tbody>\n",
       "    <tr>\n",
       "      <td>0</td>\n",
       "      <td>2019-03-07</td>\n",
       "      <td>3</td>\n",
       "      <td>3</td>\n",
       "      <td>2019</td>\n",
       "      <td>120370.370370</td>\n",
       "      <td>другой</td>\n",
       "      <td>8</td>\n",
       "      <td>0.472222</td>\n",
       "      <td>0.231481</td>\n",
       "    </tr>\n",
       "    <tr>\n",
       "      <td>1</td>\n",
       "      <td>2018-12-04</td>\n",
       "      <td>1</td>\n",
       "      <td>12</td>\n",
       "      <td>2018</td>\n",
       "      <td>82920.792079</td>\n",
       "      <td>первый</td>\n",
       "      <td>1</td>\n",
       "      <td>0.460396</td>\n",
       "      <td>0.272277</td>\n",
       "    </tr>\n",
       "    <tr>\n",
       "      <td>2</td>\n",
       "      <td>2015-08-20</td>\n",
       "      <td>3</td>\n",
       "      <td>8</td>\n",
       "      <td>2015</td>\n",
       "      <td>92785.714286</td>\n",
       "      <td>другой</td>\n",
       "      <td>4</td>\n",
       "      <td>0.612500</td>\n",
       "      <td>0.148214</td>\n",
       "    </tr>\n",
       "    <tr>\n",
       "      <td>3</td>\n",
       "      <td>2015-07-24</td>\n",
       "      <td>4</td>\n",
       "      <td>7</td>\n",
       "      <td>2015</td>\n",
       "      <td>408176.100629</td>\n",
       "      <td>другой</td>\n",
       "      <td>9</td>\n",
       "      <td>0.564766</td>\n",
       "      <td>0.187355</td>\n",
       "    </tr>\n",
       "    <tr>\n",
       "      <td>4</td>\n",
       "      <td>2018-06-19</td>\n",
       "      <td>1</td>\n",
       "      <td>6</td>\n",
       "      <td>2018</td>\n",
       "      <td>100000.000000</td>\n",
       "      <td>другой</td>\n",
       "      <td>13</td>\n",
       "      <td>0.320000</td>\n",
       "      <td>0.410000</td>\n",
       "    </tr>\n",
       "  </tbody>\n",
       "</table>\n",
       "</div>"
      ],
      "text/plain": [
       "  first_day_exposition  exposition_week_day  exposition_month  \\\n",
       "0           2019-03-07                    3                 3   \n",
       "1           2018-12-04                    1                12   \n",
       "2           2015-08-20                    3                 8   \n",
       "3           2015-07-24                    4                 7   \n",
       "4           2018-06-19                    1                 6   \n",
       "\n",
       "   exposition_year  price_per_square floor_type  floor  living_area_part  \\\n",
       "0             2019     120370.370370     другой      8          0.472222   \n",
       "1             2018      82920.792079     первый      1          0.460396   \n",
       "2             2015      92785.714286     другой      4          0.612500   \n",
       "3             2015     408176.100629     другой      9          0.564766   \n",
       "4             2018     100000.000000     другой     13          0.320000   \n",
       "\n",
       "   kitchen_area_part  \n",
       "0           0.231481  \n",
       "1           0.272277  \n",
       "2           0.148214  \n",
       "3           0.187355  \n",
       "4           0.410000  "
      ]
     },
     "execution_count": 24,
     "metadata": {},
     "output_type": "execute_result"
    }
   ],
   "source": [
    "data.loc[:, \n",
    "         ['first_day_exposition', \n",
    "          'exposition_week_day', \n",
    "          'exposition_month', \n",
    "          'exposition_year', \n",
    "          'price_per_square', \n",
    "          'floor_type', \n",
    "          'floor', \n",
    "          'living_area_part', \n",
    "          'kitchen_area_part']\n",
    "        ].head(5)"
   ]
  },
  {
   "cell_type": "markdown",
   "metadata": {},
   "source": [
    "#### Вывод\n",
    "\n",
    "В таблицу были добавлены дополнительные параметры:\n",
    "- Цена квадратного метра (price_per_square)\n",
    "- День недели, месяц и год публицкации объявления (exposition_week_day, exposition_month, exposition_year)\n",
    "- Тип этажа (floor_type)\n",
    "- Соотношение жилой площади и общей площади (living_area_part)\n",
    "- Соотношение площади кухни и общей площади (kitchen_area_part)"
   ]
  },
  {
   "cell_type": "markdown",
   "metadata": {},
   "source": [
    "### Проведение исследовательского анализа данных"
   ]
  },
  {
   "cell_type": "markdown",
   "metadata": {},
   "source": [
    "#### Изучение параметров площадь, цена, число комнат, высота потолков"
   ]
  },
  {
   "cell_type": "markdown",
   "metadata": {},
   "source": [
    "Изучим следующие параметры: площадь, цена, число комнат, высота потолков. "
   ]
  },
  {
   "cell_type": "markdown",
   "metadata": {},
   "source": [
    "Начнём с изучения площади квартир (столбец total_area)."
   ]
  },
  {
   "cell_type": "code",
   "execution_count": 25,
   "metadata": {},
   "outputs": [
    {
     "data": {
      "text/plain": [
       "count    23565.000000\n",
       "mean        60.322824\n",
       "std         35.657060\n",
       "min         12.000000\n",
       "25%         40.000000\n",
       "50%         52.000000\n",
       "75%         69.700000\n",
       "max        900.000000\n",
       "Name: total_area, dtype: float64"
      ]
     },
     "execution_count": 25,
     "metadata": {},
     "output_type": "execute_result"
    }
   ],
   "source": [
    "data['total_area'].describe()"
   ]
  },
  {
   "cell_type": "markdown",
   "metadata": {},
   "source": [
    "Срднее значение несколько больше медианы. Сказывается влияние очень больших значений. Для оценки распределения и выбросов построим диаграмму размаха и гистограмму."
   ]
  },
  {
   "cell_type": "code",
   "execution_count": 26,
   "metadata": {},
   "outputs": [
    {
     "data": {
      "text/plain": [
       "<matplotlib.axes._subplots.AxesSubplot at 0x7fb0999d9610>"
      ]
     },
     "execution_count": 26,
     "metadata": {},
     "output_type": "execute_result"
    },
    {
     "data": {
      "image/png": "[encoded data removed]",
      "text/plain": [
       "<Figure size 648x360 with 1 Axes>"
      ]
     },
     "metadata": {
      "needs_background": "light"
     },
     "output_type": "display_data"
    }
   ],
   "source": [
    "plt.figure(figsize=(9, 5))\n",
    "plt.ylim(0, 200)\n",
    "plt.ylabel('Площадь, кв.м')\n",
    "plt.title('Диаграмма размаха площади квартир')\n",
    "data.boxplot('total_area')"
   ]
  },
  {
   "cell_type": "code",
   "execution_count": 27,
   "metadata": {},
   "outputs": [
    {
     "data": {
      "image/png": "[encoded data removed]",
      "text/plain": [
       "<Figure size 648x360 with 1 Axes>"
      ]
     },
     "metadata": {
      "needs_background": "light"
     },
     "output_type": "display_data"
    }
   ],
   "source": [
    "data.hist('total_area', range=(0,125), bins=60, figsize=(9, 5))\n",
    "plt.xlabel('Площадь, кв.м')\n",
    "plt.title('Гистограмма площади квартир')\n",
    "plt.show()"
   ]
  },
  {
   "cell_type": "markdown",
   "metadata": {},
   "source": [
    "Среди всех объявлений имеются объявления с крайне большой общей площадью, однако их немного, поэтому на среднее значение они влияют не сильно. В основном квартиры имеют площадь от 30 до 60 квадратных метров.  \n",
    "Значения столбца total_area имеют распределение, близкое к нормальному. Выпадающие значения можно объяснить тем, что квартиры, как правило, типовые. И квартир с определенной типовой площадью может быть необычно много.\n",
    "Но в целом картина логичная: квартир с очень маленькой или очень большой площадью мало, а квартир средней площади горадо больше."
   ]
  },
  {
   "cell_type": "markdown",
   "metadata": {},
   "source": [
    "Изучим цену квартир."
   ]
  },
  {
   "cell_type": "code",
   "execution_count": 28,
   "metadata": {},
   "outputs": [
    {
     "data": {
      "text/plain": [
       "count    2.356500e+04\n",
       "mean     6.540058e+06\n",
       "std      1.091093e+07\n",
       "min      1.219000e+04\n",
       "25%      3.400000e+06\n",
       "50%      4.646000e+06\n",
       "75%      6.790000e+06\n",
       "max      7.630000e+08\n",
       "Name: last_price, dtype: float64"
      ]
     },
     "execution_count": 28,
     "metadata": {},
     "output_type": "execute_result"
    }
   ],
   "source": [
    "data['last_price'].describe()"
   ]
  },
  {
   "cell_type": "markdown",
   "metadata": {},
   "source": [
    "Бросается в глаза то, что среднее значение почти в полтора раза больше медианы. Квартиры с крайне высокой стоимость сильно влияют на среднее значение."
   ]
  },
  {
   "cell_type": "code",
   "execution_count": 29,
   "metadata": {},
   "outputs": [
    {
     "data": {
      "image/png": "[encoded data removed]",
      "text/plain": [
       "<Figure size 648x360 with 1 Axes>"
      ]
     },
     "metadata": {
      "needs_background": "light"
     },
     "output_type": "display_data"
    }
   ],
   "source": [
    "plt.figure(figsize=(9, 5))\n",
    "plt.ylim(-500000, 15000000)\n",
    "plt.ylabel('Цена, 10 млн')\n",
    "plt.xlabel('')\n",
    "plt.title('Диаграмма размаха стоимости квартир')\n",
    "data.boxplot('last_price')\n",
    "plt.show()"
   ]
  },
  {
   "cell_type": "code",
   "execution_count": 30,
   "metadata": {},
   "outputs": [
    {
     "data": {
      "image/png": "[encoded data removed]",
      "text/plain": [
       "<Figure size 648x360 with 1 Axes>"
      ]
     },
     "metadata": {
      "needs_background": "light"
     },
     "output_type": "display_data"
    }
   ],
   "source": [
    "data.hist('last_price', range=(0,20000000), bins=65, figsize=(9, 5))\n",
    "plt.xlabel('Цена, 10 млн')\n",
    "plt.title('Гистограмма стоимости квартир')\n",
    "plt.show()"
   ]
  },
  {
   "cell_type": "markdown",
   "metadata": {},
   "source": [
    "Цены квартир имеют практически идеальное нормальное распределение. У данной гистограммы был бы длинный \"хвост\", если бы не был задан параметр range. Всему виной определенное количество объявлений с высокой стоимостью (вплоть до 763 000 000):"
   ]
  },
  {
   "cell_type": "code",
   "execution_count": 31,
   "metadata": {},
   "outputs": [
    {
     "name": "stdout",
     "output_type": "stream",
     "text": [
      "Количество объявлений со стоимость квартиры более 20 000 000: 704\n"
     ]
    }
   ],
   "source": [
    "expensive_count = data.loc[data['last_price'] > 20000000, 'last_price'].count()\n",
    "print(f'Количество объявлений со стоимость квартиры более 20 000 000: {expensive_count}')"
   ]
  },
  {
   "cell_type": "markdown",
   "metadata": {},
   "source": [
    "Однако подозрение вызывают не слишком дорогие квартиры, а слишком дешевые. Минимальная цена квартиры - всего 12 190."
   ]
  },
  {
   "cell_type": "markdown",
   "metadata": {},
   "source": [
    "Рассмотрим количество комнат в квартирах."
   ]
  },
  {
   "cell_type": "code",
   "execution_count": 32,
   "metadata": {},
   "outputs": [
    {
     "data": {
      "text/plain": [
       "count    23565.000000\n",
       "mean         2.070656\n",
       "std          1.078591\n",
       "min          0.000000\n",
       "25%          1.000000\n",
       "50%          2.000000\n",
       "75%          3.000000\n",
       "max         19.000000\n",
       "Name: rooms, dtype: float64"
      ]
     },
     "execution_count": 32,
     "metadata": {},
     "output_type": "execute_result"
    }
   ],
   "source": [
    "data['rooms'].describe()"
   ]
  },
  {
   "cell_type": "markdown",
   "metadata": {},
   "source": [
    "На этот раз среднее значение и медиана почти равны."
   ]
  },
  {
   "cell_type": "code",
   "execution_count": 33,
   "metadata": {},
   "outputs": [
    {
     "data": {
      "image/png": "[encoded data removed]",
      "text/plain": [
       "<Figure size 648x360 with 1 Axes>"
      ]
     },
     "metadata": {
      "needs_background": "light"
     },
     "output_type": "display_data"
    }
   ],
   "source": [
    "plt.figure(figsize=(9, 5))\n",
    "plt.ylabel('Количество комнат')\n",
    "plt.xlabel('')\n",
    "plt.title('Диаграмма размаха количества комнат')\n",
    "data.boxplot('rooms')\n",
    "plt.show()"
   ]
  },
  {
   "cell_type": "code",
   "execution_count": 34,
   "metadata": {},
   "outputs": [
    {
     "data": {
      "image/png": "[encoded data removed]",
      "text/plain": [
       "<Figure size 648x360 with 1 Axes>"
      ]
     },
     "metadata": {
      "needs_background": "light"
     },
     "output_type": "display_data"
    }
   ],
   "source": [
    "data.hist('rooms', range=(0, 7), bins=7, figsize=(9, 5))\n",
    "plt.xlabel('Количество комнат')\n",
    "plt.title('Гистограмма количества комнат')\n",
    "plt.show()"
   ]
  },
  {
   "cell_type": "markdown",
   "metadata": {},
   "source": [
    "Число комнат, большее 6 - выбросы, но таких не много. Подозрительны квартиры с нулём комнат. \n",
    "Основное количество квартир имеют 1, 2 или 3 комнаты, что выглядит правдивым."
   ]
  },
  {
   "cell_type": "markdown",
   "metadata": {},
   "source": [
    "Обратим внимание на высоту потолков."
   ]
  },
  {
   "cell_type": "code",
   "execution_count": 35,
   "metadata": {},
   "outputs": [
    {
     "data": {
      "text/plain": [
       "count    14481.000000\n",
       "mean         2.771283\n",
       "std          1.261983\n",
       "min          1.000000\n",
       "25%          2.510000\n",
       "50%          2.650000\n",
       "75%          2.800000\n",
       "max        100.000000\n",
       "Name: ceiling_height, dtype: float64"
      ]
     },
     "execution_count": 35,
     "metadata": {},
     "output_type": "execute_result"
    }
   ],
   "source": [
    "data['ceiling_height'].describe()"
   ]
  },
  {
   "cell_type": "markdown",
   "metadata": {},
   "source": [
    "Крайние значения выглядят подозрительно. Вряд-ли существуют квартиры с высотой потолков 1 или 100 метров."
   ]
  },
  {
   "cell_type": "code",
   "execution_count": 36,
   "metadata": {},
   "outputs": [
    {
     "data": {
      "image/png": "[encoded data removed]",
      "text/plain": [
       "<Figure size 648x360 with 1 Axes>"
      ]
     },
     "metadata": {
      "needs_background": "light"
     },
     "output_type": "display_data"
    }
   ],
   "source": [
    "plt.figure(figsize=(9, 5))\n",
    "plt.ylabel('Высота потолков')\n",
    "plt.xlabel('')\n",
    "plt.title('Диаграмма размаха высоты потолков')\n",
    "plt.ylim(0.5, 3.5)\n",
    "data.boxplot('ceiling_height')\n",
    "plt.show()"
   ]
  },
  {
   "cell_type": "code",
   "execution_count": 37,
   "metadata": {},
   "outputs": [
    {
     "data": {
      "image/png": "[encoded data removed]",
      "text/plain": [
       "<Figure size 648x360 with 1 Axes>"
      ]
     },
     "metadata": {
      "needs_background": "light"
     },
     "output_type": "display_data"
    }
   ],
   "source": [
    "data.hist('ceiling_height', bins=36, range=(2, 5), figsize=(9, 5))\n",
    "plt.xlabel('Высота потолков')\n",
    "plt.title('Гистограмма высоты потолков')\n",
    "plt.show()"
   ]
  },
  {
   "cell_type": "markdown",
   "metadata": {},
   "source": [
    "Значения в столбце ceiling_height не имеют нормального распределения и это логично. Дома строятся по определенному плану, и каждый план имеет определенную высоту потолка. Поэтому отдельные столбцы в данной диаграмме показывают преобладание домов определенного типа. В нашем случае больше всего домов с высотой потолков 2.5 - 2.6 метра."
   ]
  },
  {
   "cell_type": "markdown",
   "metadata": {},
   "source": [
    "#### Изучение времени продажи квартир"
   ]
  },
  {
   "cell_type": "markdown",
   "metadata": {},
   "source": [
    "Построим гистограмму."
   ]
  },
  {
   "cell_type": "code",
   "execution_count": 38,
   "metadata": {},
   "outputs": [
    {
     "data": {
      "text/plain": [
       "count    23565.000000\n",
       "mean       185.759728\n",
       "std        233.492930\n",
       "min          0.000000\n",
       "25%         43.000000\n",
       "50%         94.000000\n",
       "75%        237.000000\n",
       "max       1618.000000\n",
       "Name: days_exposition, dtype: float64"
      ]
     },
     "execution_count": 38,
     "metadata": {},
     "output_type": "execute_result"
    }
   ],
   "source": [
    "data['days_exposition'].describe()"
   ]
  },
  {
   "cell_type": "code",
   "execution_count": 39,
   "metadata": {},
   "outputs": [
    {
     "data": {
      "image/png": "[encoded data removed]",
      "text/plain": [
       "<Figure size 648x360 with 1 Axes>"
      ]
     },
     "metadata": {
      "needs_background": "light"
     },
     "output_type": "display_data"
    }
   ],
   "source": [
    "data['days_exposition'].hist(range=(0, 800), bins=100, figsize=(9, 5))\n",
    "plt.xlabel('Дни')\n",
    "plt.title('Гистограмма дней до снятия объявления')\n",
    "plt.show()"
   ]
  },
  {
   "cell_type": "markdown",
   "metadata": {},
   "source": [
    "Смущают отдельные столбцы, которые показывают, что отдельные значения встречаются слишком часто. Посмотрим на то, какие значения встречаются в столбце days_exposition."
   ]
  },
  {
   "cell_type": "code",
   "execution_count": 40,
   "metadata": {},
   "outputs": [
    {
     "data": {
      "text/plain": [
       "45    907\n",
       "60    559\n",
       "7     269\n",
       "30    230\n",
       "4     210\n",
       "Name: days_exposition, dtype: int64"
      ]
     },
     "execution_count": 40,
     "metadata": {},
     "output_type": "execute_result"
    }
   ],
   "source": [
    "data['days_exposition'].value_counts().head(5)"
   ]
  },
  {
   "cell_type": "markdown",
   "metadata": {},
   "source": [
    "В топ-5 самый частых значений входят значения 30, 45, 60 и 90. Возникает подозрение, что система, собирающая эти данные, относит каждое значение к одному из диапазонов 0-15, 15-30 и так далее.  \n",
    "\n",
    "Посчитаем среднее значение и медиану."
   ]
  },
  {
   "cell_type": "code",
   "execution_count": 41,
   "metadata": {},
   "outputs": [
    {
     "name": "stdout",
     "output_type": "stream",
     "text": [
      "Среднее значение: 185.7597284107787\n"
     ]
    }
   ],
   "source": [
    "mean = data['days_exposition'].mean()\n",
    "print(f'Среднее значение: {mean}')"
   ]
  },
  {
   "cell_type": "code",
   "execution_count": 42,
   "metadata": {},
   "outputs": [
    {
     "name": "stdout",
     "output_type": "stream",
     "text": [
      "Медиана: 94.0\n"
     ]
    }
   ],
   "source": [
    "median = data['days_exposition'].median()\n",
    "print(f'Медиана: {median}')"
   ]
  },
  {
   "cell_type": "markdown",
   "metadata": {},
   "source": [
    "Среднее значение почти в 2 раза больше медианы! Сказывается влияние длинного \"хвоста\" гистограммы - некоторого количества квартир, которые продавались крайне долго. Можно сделать вывод, что обычно квартиры продаются за 100 дней."
   ]
  },
  {
   "cell_type": "markdown",
   "metadata": {},
   "source": [
    "Определим пороги, определяющие то, какие квартиры продались очень быстро, а какие очень долго. Для этого заново построим гистограмму, но с меньшим количеством корзин и без параметра range."
   ]
  },
  {
   "cell_type": "code",
   "execution_count": 43,
   "metadata": {},
   "outputs": [
    {
     "data": {
      "text/plain": [
       "count    23565.000000\n",
       "mean       185.759728\n",
       "std        233.492930\n",
       "min          0.000000\n",
       "25%         43.000000\n",
       "50%         94.000000\n",
       "75%        237.000000\n",
       "max       1618.000000\n",
       "Name: days_exposition, dtype: float64"
      ]
     },
     "execution_count": 43,
     "metadata": {},
     "output_type": "execute_result"
    }
   ],
   "source": [
    "data['days_exposition'].describe()"
   ]
  },
  {
   "cell_type": "code",
   "execution_count": 44,
   "metadata": {},
   "outputs": [
    {
     "data": {
      "image/png": "[encoded data removed]",
      "text/plain": [
       "<Figure size 648x360 with 1 Axes>"
      ]
     },
     "metadata": {
      "needs_background": "light"
     },
     "output_type": "display_data"
    }
   ],
   "source": [
    "data['days_exposition'].hist(bins=50, figsize=(9, 5))\n",
    "plt.xlabel('Дни')\n",
    "plt.title('Гистограмма дней до снятия объявления')\n",
    "plt.show()"
   ]
  },
  {
   "cell_type": "markdown",
   "metadata": {},
   "source": [
    "Резкий скачок вниз происходит примерно после 60, поэтому будем считать, что очень быстро продались те квартиры, которые продавались менее 60 дней. Далее столбцы уменьшаются более-менее равномерно, но после 430 происходит еще один скачок вниз. Будем считать, что крайне долго продавались те квартиры, которые продавались более 430 дней."
   ]
  },
  {
   "cell_type": "markdown",
   "metadata": {},
   "source": [
    "##### Вывод\n",
    "\n",
    "Вполне логично, что преобладают \"средние\" квартиры - квартиры со средней площадью (30 - 60 кв. м.), ценой около 3 млн., с количеством комнат от 1 до 3 и стандартной высотой потолка в 2.5 м.  \n",
    "Квартиры в среднем продаются за 100 дней. Квартиры, которые продались быстрее, чем за 60 дней, продались очень быстро, а те, которые продавались более 430 дней - крайне долго."
   ]
  },
  {
   "cell_type": "markdown",
   "metadata": {},
   "source": [
    "#### Обработка редких и выбивающихся значений"
   ]
  },
  {
   "cell_type": "markdown",
   "metadata": {},
   "source": [
    "Первое, на что обратим внимание - слишком маленькая цена квартиры. Сложно себе представить квартиру в Санкт-Петербурге стоимость менее 500 000. Посмотрим на эти квартиры и на их расположение."
   ]
  },
  {
   "cell_type": "code",
   "execution_count": 45,
   "metadata": {},
   "outputs": [
    {
     "data": {
      "text/plain": [
       "2097                    деревня Чудской Бор\n",
       "4405                                 Сланцы\n",
       "5698             городской посёлок Будогощь\n",
       "6859                     деревня Старополье\n",
       "8793                        Санкт-Петербург\n",
       "9581                     деревня Старополье\n",
       "10782                                Сланцы\n",
       "14295    поселок городского типа Никольский\n",
       "14904                           деревня Бор\n",
       "14911                 посёлок станции Свирь\n",
       "16032                                Сланцы\n",
       "16219                  деревня Вахнова Кара\n",
       "16274                    деревня Старополье\n",
       "17456                                Сланцы\n",
       "17676                     деревня Ям-Тесово\n",
       "18867                      деревня Выскатка\n",
       "21912                     поселок Совхозный\n",
       "23484                                Сланцы\n",
       "Name: locality_name, dtype: object"
      ]
     },
     "execution_count": 45,
     "metadata": {},
     "output_type": "execute_result"
    }
   ],
   "source": [
    "data.loc[data['last_price'] <= 500000,'locality_name']"
   ]
  },
  {
   "cell_type": "markdown",
   "metadata": {},
   "source": [
    "Таких квартиры немного и все, за исключением одной, находятся не в Санкт-Петербурге. Если зайти на сайт Яндекс.Недвижимость, установить фильтр цены до 500 000 и посмотреть на карту в Ленинградской области, то можно найти подтверждение информации выше.  \n",
    "Дешевые квартиры (до 500 000) встречаются в мелких населенных пунктах Ленинградской области, а в Санкт-Петербурге квартиры начинаются от 1 000 000.  \n",
    "\n",
    "Поэтому эта квартира - аномалия, которую необходимо удалить."
   ]
  },
  {
   "cell_type": "code",
   "execution_count": 46,
   "metadata": {},
   "outputs": [],
   "source": [
    "data.drop(8793, inplace=True)"
   ]
  },
  {
   "cell_type": "markdown",
   "metadata": {},
   "source": [
    "При анализе показателей сложилось впечатление, что в датасете есть определенное количество объявлений о продаже супер-элитного жилья - крайне дорогих пентхаусов с большой площадью. Они выбиваются из картины, когда речь идет об анализе объявлений о продаже квартир. Возможно, анализ объявлений о продаже элитного жилья - отдельная задача.  \n",
    "Возьмем срез с квартирами стоимостью до 50 000 000 и площадью до 130 квадратных метров."
   ]
  },
  {
   "cell_type": "code",
   "execution_count": 47,
   "metadata": {},
   "outputs": [],
   "source": [
    "good_data = data[(data['last_price'] <= 50000000) & (data['total_area'] <= 130)]"
   ]
  },
  {
   "cell_type": "markdown",
   "metadata": {},
   "source": [
    "Таким образом автоматически отбросились квартиры с крайне большим количеством комнат."
   ]
  },
  {
   "cell_type": "code",
   "execution_count": 48,
   "metadata": {},
   "outputs": [
    {
     "data": {
      "text/plain": [
       "count    22720.000000\n",
       "mean         1.976673\n",
       "std          0.924493\n",
       "min          0.000000\n",
       "25%          1.000000\n",
       "50%          2.000000\n",
       "75%          3.000000\n",
       "max          7.000000\n",
       "Name: rooms, dtype: float64"
      ]
     },
     "execution_count": 48,
     "metadata": {},
     "output_type": "execute_result"
    }
   ],
   "source": [
    "good_data['rooms'].describe()"
   ]
  },
  {
   "cell_type": "markdown",
   "metadata": {},
   "source": [
    "Исключим из среза квартиры с аномальной высотой потолка (> 5 м)"
   ]
  },
  {
   "cell_type": "code",
   "execution_count": 49,
   "metadata": {},
   "outputs": [],
   "source": [
    "good_data = good_data[(good_data['ceiling_height'] <= 5) | (good_data['ceiling_height'].isna())]"
   ]
  },
  {
   "cell_type": "markdown",
   "metadata": {},
   "source": [
    "В срез, с которым будем в дальнейшем работать включил только квартиры стоимость до 50 000 000, площадью до 130 квадратных метров и высотой потолков до 5 метров."
   ]
  },
  {
   "cell_type": "markdown",
   "metadata": {},
   "source": [
    "Проверим данные на наличие дубликатов."
   ]
  },
  {
   "cell_type": "code",
   "execution_count": 50,
   "metadata": {},
   "outputs": [
    {
     "data": {
      "text/plain": [
       "0"
      ]
     },
     "execution_count": 50,
     "metadata": {},
     "output_type": "execute_result"
    }
   ],
   "source": [
    "data.duplicated().sum()"
   ]
  },
  {
   "cell_type": "markdown",
   "metadata": {},
   "source": [
    "Полных дубликатов не найдено."
   ]
  },
  {
   "cell_type": "code",
   "execution_count": 51,
   "metadata": {},
   "outputs": [
    {
     "name": "stdout",
     "output_type": "stream",
     "text": [
      "Срез включил в себя 96.29% строк от исходного датасета\n"
     ]
    }
   ],
   "source": [
    "print(f'Срез включил в себя {good_data.shape[0] / data.shape[0]:.2%} строк от исходного датасета')"
   ]
  },
  {
   "cell_type": "markdown",
   "metadata": {},
   "source": [
    "##### Вывод\n",
    "\n",
    "Первое, что было обнаружено - это наличие очень дешевых квартир (стоимость менее 500 000). Однако только одна из них находится в Санкт-Петербурге и именно эта квартира имеет совершенно нереальную стоимость 12 000. А остальные квартиры всё равно дороже 400 000, да и находятся они в мелких населенных пунктах, поэтому их цена вполне реальна. Супер-дешевая квартира из Санкт-Петербурга была удалена.  \n",
    "\n",
    "В исходном датасете присутствовало определенное число очень дорогих и больших квартир. Как правило такие квартиры еще и имели большое число комнат.\n",
    "Было решено взять срез данных, в который вошли квартиры стоимостью до 50 000 000, площадью до 130 квадратных метров и высотой потолков до 5 метров. Максимальное число комнат в таких квартирах - 7. \n",
    "Возможно, исследование предложений среди пентхаусов - отдельный кейс, но сейчас они нам мешали. \n",
    "\n",
    "Срез, с которым будет идти дальнейшая работа включил 96.29% исходных данных.  \n",
    "\n",
    "На предыдущем этапе были обнаружено, что максимальная высота потолков в квартирах указана 100 метров. Это явно ошибочные данные, которые были отфильтрованы. **Предложение**: установить близкий к реальному возможному значению лимит при указании высоты потолков, например 5 метров. И дать возможность пользователю выбрать \"Больше 5\".  \n",
    "Также было бы хорошо добавить функции грубой проверки реальности введенных пользователем данных. Например, если общая площадь указана 50 кв. м., то очевидно, что в такой квартире вряд-ли может быть больше 4-5 комнат."
   ]
  },
  {
   "cell_type": "markdown",
   "metadata": {},
   "source": [
    "#### Влияние факторов на цену квартиры"
   ]
  },
  {
   "cell_type": "markdown",
   "metadata": {},
   "source": [
    "Список факторов, влияние которых на цену, нам интересно:\n",
    "- total_area\n",
    "- rooms\n",
    "- city_centers_nearest\n",
    "- floor_type\n",
    "\n",
    "Построим диаграммы рессеяния для оценки влияния каждого параметра на цену. Также посмотрим на коэффициенты корреляции."
   ]
  },
  {
   "cell_type": "markdown",
   "metadata": {},
   "source": [
    "Исследуем зависимость цены квартиры от площади."
   ]
  },
  {
   "cell_type": "code",
   "execution_count": 52,
   "metadata": {},
   "outputs": [
    {
     "data": {
      "image/png": "[encoded data removed]",
      "text/plain": [
       "<Figure size 648x360 with 1 Axes>"
      ]
     },
     "metadata": {
      "needs_background": "light"
     },
     "output_type": "display_data"
    }
   ],
   "source": [
    "good_data.plot(kind='scatter', x='total_area', y='last_price', ylim=(-500000, 30000000), alpha=0.1, figsize=(9, 5))\n",
    "plt.xlabel('Площадь, кв. м')\n",
    "plt.ylabel('Цена, 10 млн')\n",
    "plt.title('Диаграмма рассеяния цена-площадь')\n",
    "plt.show()"
   ]
  },
  {
   "cell_type": "markdown",
   "metadata": {},
   "source": [
    "С увеличением площади увеличивается стоимость квартиры. Логично. Однако существуют и нестандартные квартиры - очень большие, но дешевые или маленькие, но дорогие."
   ]
  },
  {
   "cell_type": "markdown",
   "metadata": {},
   "source": [
    "Исследуем зависимость цены от количества комнат."
   ]
  },
  {
   "cell_type": "code",
   "execution_count": 53,
   "metadata": {},
   "outputs": [
    {
     "data": {
      "image/png": "[encoded data removed]",
      "text/plain": [
       "<Figure size 648x360 with 1 Axes>"
      ]
     },
     "metadata": {
      "needs_background": "light"
     },
     "output_type": "display_data"
    }
   ],
   "source": [
    "plt.figure(figsize=(9, 5))\n",
    "sns.stripplot(x=\"rooms\", y=\"last_price\", data=good_data, alpha=.1, color='steelblue')\n",
    "plt.xlabel('Количество комнат')\n",
    "plt.ylabel('Цена, 10 млн')\n",
    "plt.title('Диаграмма рассеяния цена-количество комнат')\n",
    "plt.show()"
   ]
  },
  {
   "cell_type": "markdown",
   "metadata": {},
   "source": [
    "По диаграмме видно, что от количества комнат цена зависит не так сильно, однако всё равно видна зависимость: чем больше комнат, тем дороже квартира."
   ]
  },
  {
   "cell_type": "markdown",
   "metadata": {},
   "source": [
    "Исследуем зависимость цены от удалённости от центра."
   ]
  },
  {
   "cell_type": "code",
   "execution_count": 54,
   "metadata": {},
   "outputs": [
    {
     "data": {
      "image/png": "[encoded data removed]",
      "text/plain": [
       "<Figure size 648x360 with 1 Axes>"
      ]
     },
     "metadata": {
      "needs_background": "light"
     },
     "output_type": "display_data"
    }
   ],
   "source": [
    "good_data.plot(kind='scatter', x='city_centers_nearest', y='last_price', xlim=0, ylim=(0, 50000000), alpha=0.03, figsize=(9, 5))\n",
    "plt.xlabel('Расстояние до центра, м')\n",
    "plt.ylabel('Цена, 10 млн')\n",
    "plt.title('Диаграмма рассеяния цена-расстояние до центра')\n",
    "plt.show()"
   ]
  },
  {
   "cell_type": "markdown",
   "metadata": {},
   "source": [
    "Наблюдается небольшое влияние. С увеличением расстояния до центра города цена падает не сильно.  \n",
    "Скопления точек в районе 30-ти и 50-ти километровой удаленности от центра - это, скорее всего, более менее крупные населенные пункты, в которых много объявлений о продаже квартиры"
   ]
  },
  {
   "cell_type": "markdown",
   "metadata": {},
   "source": [
    "Исследуем зависимость цены квартиры от этажа, на котором находится эта квартира."
   ]
  },
  {
   "cell_type": "code",
   "execution_count": 55,
   "metadata": {},
   "outputs": [
    {
     "data": {
      "text/html": [
       "<style  type=\"text/css\" >\n",
       "</style><table id=\"T_b03eceea_772a_11eb_b9d0_02420a39a32c\" ><thead>    <tr>        <th class=\"blank level0\" ></th>        <th class=\"col_heading level0 col0\" >last_price</th>    </tr>    <tr>        <th class=\"index_name level0\" >floor_type</th>        <th class=\"blank\" ></th>    </tr></thead><tbody>\n",
       "                <tr>\n",
       "                        <th id=\"T_b03eceea_772a_11eb_b9d0_02420a39a32clevel0_row0\" class=\"row_heading level0 row0\" >первый</th>\n",
       "                        <td id=\"T_b03eceea_772a_11eb_b9d0_02420a39a32crow0_col0\" class=\"data row0 col0\" >4415198.15</td>\n",
       "            </tr>\n",
       "            <tr>\n",
       "                        <th id=\"T_b03eceea_772a_11eb_b9d0_02420a39a32clevel0_row1\" class=\"row_heading level0 row1\" >последний</th>\n",
       "                        <td id=\"T_b03eceea_772a_11eb_b9d0_02420a39a32crow1_col0\" class=\"data row1 col0\" >5111514.54</td>\n",
       "            </tr>\n",
       "            <tr>\n",
       "                        <th id=\"T_b03eceea_772a_11eb_b9d0_02420a39a32clevel0_row2\" class=\"row_heading level0 row2\" >другой</th>\n",
       "                        <td id=\"T_b03eceea_772a_11eb_b9d0_02420a39a32crow2_col0\" class=\"data row2 col0\" >5743079.94</td>\n",
       "            </tr>\n",
       "    </tbody></table>"
      ],
      "text/plain": [
       "<pandas.io.formats.style.Styler at 0x7fb098d14210>"
      ]
     },
     "execution_count": 55,
     "metadata": {},
     "output_type": "execute_result"
    }
   ],
   "source": [
    "good_data.pivot_table(index='floor_type', values='last_price', aggfunc='mean').sort_values(by='last_price').style.format(\"{:.2f}\")"
   ]
  },
  {
   "cell_type": "markdown",
   "metadata": {},
   "source": [
    "Квартиры на первых этажах в среднем дешевле, чем квартиры на остальных этажах. Квартиры на последних этажах - самые дорогие.  "
   ]
  },
  {
   "cell_type": "code",
   "execution_count": 56,
   "metadata": {},
   "outputs": [
    {
     "name": "stdout",
     "output_type": "stream",
     "text": [
      "Таблица корреляции параметра last_price с параметрами total_area, rooms и city_center_nearest\n"
     ]
    },
    {
     "data": {
      "text/html": [
       "<div>\n",
       "<style scoped>\n",
       "    .dataframe tbody tr th:only-of-type {\n",
       "        vertical-align: middle;\n",
       "    }\n",
       "\n",
       "    .dataframe tbody tr th {\n",
       "        vertical-align: top;\n",
       "    }\n",
       "\n",
       "    .dataframe thead th {\n",
       "        text-align: right;\n",
       "    }\n",
       "</style>\n",
       "<table border=\"1\" class=\"dataframe\">\n",
       "  <thead>\n",
       "    <tr style=\"text-align: right;\">\n",
       "      <th></th>\n",
       "      <th>param</th>\n",
       "      <th>last_index</th>\n",
       "    </tr>\n",
       "  </thead>\n",
       "  <tbody>\n",
       "    <tr>\n",
       "      <td>1</td>\n",
       "      <td>total_area</td>\n",
       "      <td>0.711224</td>\n",
       "    </tr>\n",
       "    <tr>\n",
       "      <td>2</td>\n",
       "      <td>rooms</td>\n",
       "      <td>0.406573</td>\n",
       "    </tr>\n",
       "    <tr>\n",
       "      <td>3</td>\n",
       "      <td>city_centers_nearest</td>\n",
       "      <td>-0.334822</td>\n",
       "    </tr>\n",
       "  </tbody>\n",
       "</table>\n",
       "</div>"
      ],
      "text/plain": [
       "                  param  last_index\n",
       "1            total_area    0.711224\n",
       "2                 rooms    0.406573\n",
       "3  city_centers_nearest   -0.334822"
      ]
     },
     "execution_count": 56,
     "metadata": {},
     "output_type": "execute_result"
    }
   ],
   "source": [
    "print('Таблица корреляции параметра last_price с параметрами total_area, rooms и city_center_nearest')\n",
    "corr_table = pd.DataFrame(\n",
    "    good_data.loc[:, ['last_price', 'total_area', 'rooms', 'city_centers_nearest']]\n",
    "    .corr()['last_price']\n",
    ").reset_index().loc[1:3]\n",
    "corr_table.set_axis(['param', 'last_index'], axis='columns', inplace=True)\n",
    "corr_table"
   ]
  },
  {
   "cell_type": "markdown",
   "metadata": {},
   "source": [
    "Данная таблица корреляции подтверждает анализы диаграмм рассеяния.\n",
    "- Общая площадь квартиры достаточно сильно влияет на цену\n",
    "- Количество комнат и удаленность от центра города влияют слабо"
   ]
  },
  {
   "cell_type": "markdown",
   "metadata": {},
   "source": [
    "Изучим влияние даты размещения объявления на стоимость квартиры. Отдельно рассмотрим день недели, месяц и год."
   ]
  },
  {
   "cell_type": "markdown",
   "metadata": {},
   "source": [
    "Начнем с рассмотрения дня недели."
   ]
  },
  {
   "cell_type": "code",
   "execution_count": 57,
   "metadata": {
    "scrolled": true
   },
   "outputs": [
    {
     "data": {
      "image/png": "[encoded data removed]",
      "text/plain": [
       "<Figure size 648x360 with 1 Axes>"
      ]
     },
     "metadata": {
      "needs_background": "light"
     },
     "output_type": "display_data"
    }
   ],
   "source": [
    "good_data.pivot_table(index='exposition_week_day', values='last_price').plot(kind='bar', figsize=(9, 5))\n",
    "plt.xlabel('День недели')\n",
    "plt.ylabel('Цена')\n",
    "plt.title('Зависимость средней цены квартиры от дня недели публикации объявления')\n",
    "plt.show()"
   ]
  },
  {
   "cell_type": "markdown",
   "metadata": {},
   "source": [
    "Влияния дня недели размещения объявления на цену квартиры не обнаружено."
   ]
  },
  {
   "cell_type": "markdown",
   "metadata": {},
   "source": [
    "Рассмотрим влияние месяца на цену."
   ]
  },
  {
   "cell_type": "code",
   "execution_count": 58,
   "metadata": {},
   "outputs": [
    {
     "data": {
      "image/png": "[encoded data removed]",
      "text/plain": [
       "<Figure size 648x360 with 1 Axes>"
      ]
     },
     "metadata": {
      "needs_background": "light"
     },
     "output_type": "display_data"
    }
   ],
   "source": [
    "good_data.pivot_table(index='exposition_month', values='last_price').plot(kind='bar', figsize=(9, 5))\n",
    "plt.xlabel('Месяц')\n",
    "plt.ylabel('Цена')\n",
    "plt.title('Зависимость средней цены квартиры от месяца публикации объявления')\n",
    "plt.show()"
   ]
  },
  {
   "cell_type": "markdown",
   "metadata": {},
   "source": [
    "Влияния месяца размещения объявления на цену квартиры не обнаружено."
   ]
  },
  {
   "cell_type": "markdown",
   "metadata": {},
   "source": [
    "Рассмотрим влияние года на цену."
   ]
  },
  {
   "cell_type": "code",
   "execution_count": 59,
   "metadata": {},
   "outputs": [
    {
     "data": {
      "image/png": "[encoded data removed]",
      "text/plain": [
       "<Figure size 648x360 with 1 Axes>"
      ]
     },
     "metadata": {
      "needs_background": "light"
     },
     "output_type": "display_data"
    }
   ],
   "source": [
    "good_data.pivot_table(index='exposition_year', values='last_price', aggfunc='mean').plot(kind='bar', figsize=(9, 5))\n",
    "plt.xlabel('Год')\n",
    "plt.ylabel('Цена')\n",
    "plt.title('Зависимость средней цены квартиры от года публикации объявления')\n",
    "plt.show()"
   ]
  },
  {
   "cell_type": "markdown",
   "metadata": {},
   "source": [
    "В 2014 и 2015 наблюдается резкое снижение средней стоимости квартиры. С 2016 по 2019 год цена немного колебалась, но оставалась на одном уровне."
   ]
  },
  {
   "cell_type": "markdown",
   "metadata": {},
   "source": [
    "Мы уже установили, что цена сильно зависит от общей площади квартиры. Посмотрим как менялась средняя площадь продаваемых квартир по годам."
   ]
  },
  {
   "cell_type": "code",
   "execution_count": 60,
   "metadata": {},
   "outputs": [
    {
     "data": {
      "image/png": "[encoded data removed]",
      "text/plain": [
       "<Figure size 648x360 with 1 Axes>"
      ]
     },
     "metadata": {
      "needs_background": "light"
     },
     "output_type": "display_data"
    }
   ],
   "source": [
    "good_data.pivot_table(index='exposition_year', values='total_area', aggfunc='mean').plot(kind='bar', figsize=(9, 5))\n",
    "plt.xlabel('Год')\n",
    "plt.ylabel('Площадь, кв. м')\n",
    "plt.title('Зависимость средней площади квартиры от года публикации объявления')\n",
    "plt.show()"
   ]
  },
  {
   "cell_type": "markdown",
   "metadata": {},
   "source": [
    "Диаграммы очень похоже, можно было бы сделать вывод, что снижение стоимости квартир обусловлено снижением средней площади квартир.  \n",
    "Построим диаграмму, отображающую среднюю стоимость квадратного метра в каждый год."
   ]
  },
  {
   "cell_type": "code",
   "execution_count": 61,
   "metadata": {},
   "outputs": [
    {
     "data": {
      "image/png": "[encoded data removed]",
      "text/plain": [
       "<Figure size 648x360 with 1 Axes>"
      ]
     },
     "metadata": {
      "needs_background": "light"
     },
     "output_type": "display_data"
    }
   ],
   "source": [
    "good_data.pivot_table(index='exposition_year', values='price_per_square', aggfunc='mean').plot(kind='bar', figsize=(9, 5))\n",
    "plt.xlabel('Год')\n",
    "plt.ylabel('Цена')\n",
    "plt.title('Зависимость средней стоимости квадратного метра от года публикации объявления')\n",
    "plt.show()"
   ]
  },
  {
   "cell_type": "markdown",
   "metadata": {},
   "source": [
    "Данная диаграмма опровергает предположение, сделанное выше. Действительно, с 2014 по 2018 наблюдается снижение стоимости квартир, а в 2019 наблюдается небольшой рост."
   ]
  },
  {
   "cell_type": "markdown",
   "metadata": {},
   "source": [
    "##### Вывод  \n",
    "\n",
    "Цена квартиры сильно зависит от следующих параметров:\n",
    "- Общая площадь квартиры  \n",
    "\n",
    "Слабо зависит от:\n",
    "- Количество комнат\n",
    "- Удаленность от центра города  \n",
    "\n",
    "Не зависит от:\n",
    "- Дня недели, в который было размещено объявление\n",
    "- Месяца, в который было размещено объявление  \n",
    "\n",
    "Замечена тенденция снижения стоимости квартиры с 2014 года по 2018 год; в 2019 году наблюдается небольшой рост.  \n",
    "Также обнаружено, что на первом этаже самые дешевые квартиры, на последнем - самые дорогие. "
   ]
  },
  {
   "cell_type": "markdown",
   "metadata": {},
   "source": [
    "#### Рассчет стоимости жилья в разных населенных пунктах"
   ]
  },
  {
   "cell_type": "markdown",
   "metadata": {},
   "source": [
    "Выведем список 10-ти населенных пунктов с самым большим количеством объявлений."
   ]
  },
  {
   "cell_type": "code",
   "execution_count": 62,
   "metadata": {},
   "outputs": [
    {
     "name": "stdout",
     "output_type": "stream",
     "text": [
      "Топ-10 населенных пунктов по количеству объявлений\n"
     ]
    },
    {
     "data": {
      "text/plain": [
       "Санкт-Петербург      14838\n",
       "посёлок Мурино         518\n",
       "посёлок Шушары         439\n",
       "Всеволожск             397\n",
       "Пушкин                 354\n",
       "Колпино                337\n",
       "посёлок Парголово      326\n",
       "Гатчина                303\n",
       "деревня Кудрово        299\n",
       "Выборг                 233\n",
       "Name: locality_name, dtype: int64"
      ]
     },
     "execution_count": 62,
     "metadata": {},
     "output_type": "execute_result"
    }
   ],
   "source": [
    "print('Топ-10 населенных пунктов по количеству объявлений')\n",
    "top_10_locality = good_data['locality_name'].value_counts().head(10)\n",
    "top_10_locality"
   ]
  },
  {
   "cell_type": "markdown",
   "metadata": {},
   "source": [
    "Рассчитаем среднюю стоимость квадратного метра в квартирах в этих населенных пунктах."
   ]
  },
  {
   "cell_type": "code",
   "execution_count": 63,
   "metadata": {},
   "outputs": [
    {
     "name": "stdout",
     "output_type": "stream",
     "text": [
      "Средняя стоимость квадратного метра населенных пунктах из топ 10: 105951.48\n"
     ]
    }
   ],
   "source": [
    "top_10_locality = good_data['locality_name'].value_counts().head(10).index\n",
    "top_10_locality_data = good_data.loc[good_data['locality_name'].isin(top_10_locality)]\n",
    "top_10_price_per_square_mean = top_10_locality_data['price_per_square'].mean()\n",
    "print(f'Средняя стоимость квадратного метра населенных пунктах из топ 10: {top_10_price_per_square_mean:.2f}')"
   ]
  },
  {
   "cell_type": "markdown",
   "metadata": {},
   "source": [
    "Найдем населенные пункты с самыми дорогими и самыми дешевыми квартирами."
   ]
  },
  {
   "cell_type": "code",
   "execution_count": 64,
   "metadata": {},
   "outputs": [],
   "source": [
    "locality_with_min_price = top_10_locality_data.loc[\n",
    "    top_10_locality_data['price_per_square'] == top_10_locality_data['price_per_square'].min(), \n",
    "    'locality_name'\n",
    "].values[0]\n",
    "\n",
    "locality_with_max_price = top_10_locality_data.loc[\n",
    "    top_10_locality_data['price_per_square'] == top_10_locality_data['price_per_square'].max(), \n",
    "    'locality_name'\n",
    "].values[0]"
   ]
  },
  {
   "cell_type": "code",
   "execution_count": 65,
   "metadata": {},
   "outputs": [
    {
     "name": "stdout",
     "output_type": "stream",
     "text": [
      "Населенный пункт с самой низкой стоимостью жилья: Гатчина\n"
     ]
    }
   ],
   "source": [
    "print(f'Населенный пункт с самой низкой стоимостью жилья: {locality_with_min_price:}')"
   ]
  },
  {
   "cell_type": "code",
   "execution_count": 66,
   "metadata": {},
   "outputs": [
    {
     "name": "stdout",
     "output_type": "stream",
     "text": [
      "Населенный пункт с самой низкой стоимостью жилья: Санкт-Петербург\n"
     ]
    }
   ],
   "source": [
    "print(f'Населенный пункт с самой низкой стоимостью жилья: {locality_with_max_price:}')"
   ]
  },
  {
   "cell_type": "markdown",
   "metadata": {},
   "source": [
    "##### Вывод\n",
    "\n",
    "Самое дорогое жилье в Санкт-Петербурге, а самое дешевое в Гатчине."
   ]
  },
  {
   "cell_type": "markdown",
   "metadata": {},
   "source": [
    "#### Определение радиуса центральной зоны Санкт-Петербурга"
   ]
  },
  {
   "cell_type": "markdown",
   "metadata": {},
   "source": [
    "Возьмем срез, в который войдут только квартиры, находящиеся в Санкт-Петербурге. Создадим столбец с округленным до километров расстоянием до центра."
   ]
  },
  {
   "cell_type": "code",
   "execution_count": 67,
   "metadata": {},
   "outputs": [],
   "source": [
    "spb_locality = good_data.loc[data['locality_name'] == 'Санкт-Петербург'].copy()\n",
    "spb_locality['city_center_rounded'] = (spb_locality['city_centers_nearest'] / 1000).round()"
   ]
  },
  {
   "cell_type": "markdown",
   "metadata": {},
   "source": [
    "Посчитаем среднюю стоимость квартиры для каждого километра удаленности от центра."
   ]
  },
  {
   "cell_type": "code",
   "execution_count": 68,
   "metadata": {},
   "outputs": [
    {
     "data": {
      "text/html": [
       "<style  type=\"text/css\" >\n",
       "</style><table id=\"T_b169110e_772a_11eb_b9d0_02420a39a32c\" ><thead>    <tr>        <th class=\"blank level0\" ></th>        <th class=\"col_heading level0 col0\" >last_price</th>    </tr>    <tr>        <th class=\"index_name level0\" >city_center_rounded</th>        <th class=\"blank\" ></th>    </tr></thead><tbody>\n",
       "                <tr>\n",
       "                        <th id=\"T_b169110e_772a_11eb_b9d0_02420a39a32clevel0_row0\" class=\"row_heading level0 row0\" >0.0</th>\n",
       "                        <td id=\"T_b169110e_772a_11eb_b9d0_02420a39a32crow0_col0\" class=\"data row0 col0\" >19599034.89</td>\n",
       "            </tr>\n",
       "            <tr>\n",
       "                        <th id=\"T_b169110e_772a_11eb_b9d0_02420a39a32clevel0_row1\" class=\"row_heading level0 row1\" >1.0</th>\n",
       "                        <td id=\"T_b169110e_772a_11eb_b9d0_02420a39a32crow1_col0\" class=\"data row1 col0\" >11058421.05</td>\n",
       "            </tr>\n",
       "            <tr>\n",
       "                        <th id=\"T_b169110e_772a_11eb_b9d0_02420a39a32clevel0_row2\" class=\"row_heading level0 row2\" >2.0</th>\n",
       "                        <td id=\"T_b169110e_772a_11eb_b9d0_02420a39a32crow2_col0\" class=\"data row2 col0\" >10889229.51</td>\n",
       "            </tr>\n",
       "            <tr>\n",
       "                        <th id=\"T_b169110e_772a_11eb_b9d0_02420a39a32clevel0_row3\" class=\"row_heading level0 row3\" >3.0</th>\n",
       "                        <td id=\"T_b169110e_772a_11eb_b9d0_02420a39a32crow3_col0\" class=\"data row3 col0\" >8900153.74</td>\n",
       "            </tr>\n",
       "            <tr>\n",
       "                        <th id=\"T_b169110e_772a_11eb_b9d0_02420a39a32clevel0_row4\" class=\"row_heading level0 row4\" >4.0</th>\n",
       "                        <td id=\"T_b169110e_772a_11eb_b9d0_02420a39a32crow4_col0\" class=\"data row4 col0\" >9507221.96</td>\n",
       "            </tr>\n",
       "    </tbody></table>"
      ],
      "text/plain": [
       "<pandas.io.formats.style.Styler at 0x7fb102063210>"
      ]
     },
     "execution_count": 68,
     "metadata": {},
     "output_type": "execute_result"
    }
   ],
   "source": [
    "price_per_kilometer = spb_locality.pivot_table(index='city_center_rounded', values='last_price')\n",
    "price_per_kilometer.head(5).style.format('{:.2f}')"
   ]
  },
  {
   "cell_type": "markdown",
   "metadata": {},
   "source": [
    "Построим график, показывающий зависимость средней цены квартиры от расстояния до центра Санкт-Петербурга."
   ]
  },
  {
   "cell_type": "code",
   "execution_count": 69,
   "metadata": {},
   "outputs": [
    {
     "data": {
      "image/png": "[encoded data removed]",
      "text/plain": [
       "<Figure size 648x360 with 1 Axes>"
      ]
     },
     "metadata": {
      "needs_background": "light"
     },
     "output_type": "display_data"
    }
   ],
   "source": [
    "price_per_kilometer.plot(grid='True', figsize=(9, 5))\n",
    "plt.title('Зависимость цены от расстояния до центра Санкт-Петербурга')\n",
    "plt.xlabel('Расстояние до центра, км')\n",
    "plt.ylabel('Цена, 10 млн')\n",
    "plt.show()"
   ]
  },
  {
   "cell_type": "markdown",
   "metadata": {},
   "source": [
    "##### Вывод\n",
    "\n",
    "Цена стремительно бывает на диапазоне от 0 до 3 км, а далее даже наблюдается небольшой рост цены.  \n",
    "Центральную зону можно считать окружностью с радиусом в 3 км."
   ]
  },
  {
   "cell_type": "markdown",
   "metadata": {},
   "source": [
    "#### Изучение предложений в центре Санкт-Петербурга"
   ]
  },
  {
   "cell_type": "markdown",
   "metadata": {},
   "source": [
    "Возьмем срез, включающий предложения в центре Санкт-Петербурга (удаленность от центра <= 3км)."
   ]
  },
  {
   "cell_type": "code",
   "execution_count": 70,
   "metadata": {},
   "outputs": [],
   "source": [
    "spb_center = spb_locality[spb_locality['city_center_rounded'] <= 3]"
   ]
  },
  {
   "cell_type": "markdown",
   "metadata": {},
   "source": [
    "Построим диаграммы для следующих параметров:\n",
    "- total_area\n",
    "- last_price\n",
    "- rooms\n",
    "- ceiling_height  \n",
    "\n",
    "Так как необходимо сравнить получившиеся диаграммы с диаграммами, построенными ранее, то построим их попарно на одном графике."
   ]
  },
  {
   "cell_type": "markdown",
   "metadata": {},
   "source": [
    "Сравним гистограммы площади квартиры."
   ]
  },
  {
   "cell_type": "code",
   "execution_count": 71,
   "metadata": {},
   "outputs": [
    {
     "data": {
      "image/png": "[encoded data removed]",
      "text/plain": [
       "<Figure size 648x360 with 1 Axes>"
      ]
     },
     "metadata": {
      "needs_background": "light"
     },
     "output_type": "display_data"
    }
   ],
   "source": [
    "plt.figure(figsize=(9, 5))\n",
    "_, bins, _ = plt.hist(good_data['total_area'], bins=45, alpha=0.5, density=True, label='Весь город')\n",
    "plt.hist(spb_center['total_area'], bins=bins, alpha=0.5, density=True, label='Центр города')\n",
    "plt.legend()\n",
    "plt.xlabel('Площадь квартиры, кв. м')\n",
    "plt.title('Разница в площади квартир по всему городу и в центре')\n",
    "plt.show()"
   ]
  },
  {
   "cell_type": "code",
   "execution_count": 72,
   "metadata": {},
   "outputs": [
    {
     "name": "stdout",
     "output_type": "stream",
     "text": [
      "Средняя площадь квартиры в центре в 1.40 раза больше, чем средняя площадь квартиры в городе.\n"
     ]
    }
   ],
   "source": [
    "print(f'Средняя площадь квартиры в центре в {spb_center[\"total_area\"].mean() / good_data[\"total_area\"].mean():.2f} раза больше, чем средняя площадь квартиры в городе.')"
   ]
  },
  {
   "cell_type": "markdown",
   "metadata": {},
   "source": [
    "Стоит отметить, что в центре площади квартир распределены более равномерно, то есть нету пика."
   ]
  },
  {
   "cell_type": "markdown",
   "metadata": {},
   "source": [
    "Сравним гистрограммы стоимостей квартир."
   ]
  },
  {
   "cell_type": "code",
   "execution_count": 73,
   "metadata": {
    "scrolled": true
   },
   "outputs": [
    {
     "data": {
      "image/png": "[encoded data removed]",
      "text/plain": [
       "<Figure size 648x360 with 1 Axes>"
      ]
     },
     "metadata": {
      "needs_background": "light"
     },
     "output_type": "display_data"
    }
   ],
   "source": [
    "plt.figure(figsize=(9, 5))\n",
    "_, bins, _ = plt.hist(good_data['last_price'], range=(0, 20000000), bins=60, alpha=0.5, density=True, label='Весь город')\n",
    "plt.hist(spb_center['last_price'], bins=bins, alpha=0.5, density=True, label='Центр города')\n",
    "plt.legend()\n",
    "plt.xlabel('Стоимость квартиры, 10 млн')\n",
    "plt.title('Разница в стоимости квартир по всему городу и в центре')\n",
    "plt.show()"
   ]
  },
  {
   "cell_type": "code",
   "execution_count": 74,
   "metadata": {},
   "outputs": [
    {
     "name": "stdout",
     "output_type": "stream",
     "text": [
      "Средняя цена квартиры в центре в 1.88 раза больше, чем средняя цена квартиры в городе.\n"
     ]
    }
   ],
   "source": [
    "print(f'Средняя цена квартиры в центре в {spb_center[\"last_price\"].mean() / good_data[\"last_price\"].mean():.2f} раза больше, чем средняя цена квартиры в городе.')"
   ]
  },
  {
   "cell_type": "markdown",
   "metadata": {},
   "source": [
    "Сравним гистограммы количества комнат"
   ]
  },
  {
   "cell_type": "code",
   "execution_count": 75,
   "metadata": {
    "scrolled": true
   },
   "outputs": [
    {
     "data": {
      "image/png": "[encoded data removed]",
      "text/plain": [
       "<Figure size 648x360 with 1 Axes>"
      ]
     },
     "metadata": {
      "needs_background": "light"
     },
     "output_type": "display_data"
    }
   ],
   "source": [
    "plt.figure(figsize=(9, 5))\n",
    "_, bins, _ = plt.hist(good_data['rooms'],bins=7, alpha=0.5, density=True, label='Весь город')\n",
    "plt.hist(spb_center['rooms'], bins=bins, alpha=0.5, density=True, label='Центр города')\n",
    "plt.legend()\n",
    "plt.xlabel('Число комнат')\n",
    "plt.title('Разница в количестве комнат по всему городу и в центре')\n",
    "plt.show()"
   ]
  },
  {
   "cell_type": "markdown",
   "metadata": {},
   "source": [
    "В центре квартиры в среднем имеют больше комнат."
   ]
  },
  {
   "cell_type": "code",
   "execution_count": 76,
   "metadata": {},
   "outputs": [
    {
     "name": "stdout",
     "output_type": "stream",
     "text": [
      "Среднее количество комнат в центре в 1.35 раза больше, чем среднее количество комнат в городе.\n"
     ]
    }
   ],
   "source": [
    "print(f'Среднее количество комнат в центре в {spb_center[\"rooms\"].mean() / good_data[\"rooms\"].mean():.2f} раза больше, чем среднее количество комнат в городе.')"
   ]
  },
  {
   "cell_type": "markdown",
   "metadata": {},
   "source": [
    "В центре Санкт-Петербурга много старых домов, так называемых \"сталинок\", квартиры в которых имеют высокие потолки, большую площадь и много комнат. В новостройках и \"хрущовках\" таких квартир практически нет."
   ]
  },
  {
   "cell_type": "markdown",
   "metadata": {},
   "source": [
    "Сравним гистограммы высоты потолков"
   ]
  },
  {
   "cell_type": "code",
   "execution_count": 77,
   "metadata": {},
   "outputs": [
    {
     "data": {
      "image/png": "[encoded data removed]",
      "text/plain": [
       "<Figure size 648x360 with 1 Axes>"
      ]
     },
     "metadata": {
      "needs_background": "light"
     },
     "output_type": "display_data"
    }
   ],
   "source": [
    "plt.figure(figsize=(9, 5))\n",
    "_, bins, _ = plt.hist(good_data['ceiling_height'],bins=36, range=(2,5), alpha=0.5, density=True, label='Весь город')\n",
    "plt.hist(spb_center['ceiling_height'], bins=bins, alpha=0.5, density=True, label='Центр города')\n",
    "plt.legend()\n",
    "plt.xlabel('Высота потолков, м')\n",
    "plt.title('Разница в высоте потолков по всему городу и в центре')\n",
    "plt.show()"
   ]
  },
  {
   "cell_type": "code",
   "execution_count": 78,
   "metadata": {},
   "outputs": [
    {
     "name": "stdout",
     "output_type": "stream",
     "text": [
      "Средняя высота потолков в центре в 1.18 раза больше, чем средняя высота потолков в городе.\n"
     ]
    }
   ],
   "source": [
    "print(f'Средняя высота потолков в центре в {spb_center[\"ceiling_height\"].mean() / good_data[\"ceiling_height\"].mean():.2f} раза больше, чем средняя высота потолков в городе.')"
   ]
  },
  {
   "cell_type": "markdown",
   "metadata": {},
   "source": [
    "##### Вывод  \n",
    "\n",
    "В центре квартиры в среднем почти в 2 раза дороже, чем в среднем по городу. Связано это прежде всего с тем, что центральная зона города сама по себе добавляет стоимости квартирам. Кроме того, в центре квартиры имеют в среднем большую площадь, большее количество комнат и большую высоту потолков. Это также делает квартиры из центральной зоны более дорогими."
   ]
  },
  {
   "cell_type": "markdown",
   "metadata": {},
   "source": [
    "#### Оценка влияния различных параметров на стоимость квартир центральной зоны"
   ]
  },
  {
   "cell_type": "markdown",
   "metadata": {},
   "source": [
    "Оценим влияние следующих параметров:\n",
    "- rooms\n",
    "- floor_type\n",
    "- city_centers_nearest\n",
    "- first_day_exposition"
   ]
  },
  {
   "cell_type": "markdown",
   "metadata": {},
   "source": [
    "Построим таблицу корреляции параметра last_price с параметрами total_area, rooms и city_centers_nearest"
   ]
  },
  {
   "cell_type": "code",
   "execution_count": 79,
   "metadata": {},
   "outputs": [
    {
     "data": {
      "text/html": [
       "<div>\n",
       "<style scoped>\n",
       "    .dataframe tbody tr th:only-of-type {\n",
       "        vertical-align: middle;\n",
       "    }\n",
       "\n",
       "    .dataframe tbody tr th {\n",
       "        vertical-align: top;\n",
       "    }\n",
       "\n",
       "    .dataframe thead th {\n",
       "        text-align: right;\n",
       "    }\n",
       "</style>\n",
       "<table border=\"1\" class=\"dataframe\">\n",
       "  <thead>\n",
       "    <tr style=\"text-align: right;\">\n",
       "      <th></th>\n",
       "      <th>param</th>\n",
       "      <th>last_index</th>\n",
       "    </tr>\n",
       "  </thead>\n",
       "  <tbody>\n",
       "    <tr>\n",
       "      <td>1</td>\n",
       "      <td>total_area</td>\n",
       "      <td>0.487569</td>\n",
       "    </tr>\n",
       "    <tr>\n",
       "      <td>2</td>\n",
       "      <td>rooms</td>\n",
       "      <td>0.188587</td>\n",
       "    </tr>\n",
       "    <tr>\n",
       "      <td>3</td>\n",
       "      <td>city_centers_nearest</td>\n",
       "      <td>-0.202032</td>\n",
       "    </tr>\n",
       "  </tbody>\n",
       "</table>\n",
       "</div>"
      ],
      "text/plain": [
       "                  param  last_index\n",
       "1            total_area    0.487569\n",
       "2                 rooms    0.188587\n",
       "3  city_centers_nearest   -0.202032"
      ]
     },
     "execution_count": 79,
     "metadata": {},
     "output_type": "execute_result"
    }
   ],
   "source": [
    "corr_table = pd.DataFrame(\n",
    "    spb_center.loc[:, ['last_price',  'total_area', 'rooms', 'city_centers_nearest']]\n",
    "    .corr()['last_price']\n",
    ").reset_index().loc[1:3]\n",
    "corr_table.set_axis(['param', 'last_index'], axis='columns', inplace=True)\n",
    "corr_table"
   ]
  },
  {
   "cell_type": "markdown",
   "metadata": {},
   "source": [
    "Коэффициенты корреляции стали ближе к нулю, то есть в центральной части города влияние общей площади, количества комнат и удаленность от центра ниже, чем в среднем по всему городу.  \n",
    "Это объясняется, опять же, тем, что в центре много старых домов, в которых параметры квартир имеют более равномерное распределение."
   ]
  },
  {
   "cell_type": "markdown",
   "metadata": {},
   "source": [
    "Исследуем зависимость цены от этажа."
   ]
  },
  {
   "cell_type": "code",
   "execution_count": 80,
   "metadata": {},
   "outputs": [
    {
     "data": {
      "text/html": [
       "<style  type=\"text/css\" >\n",
       "</style><table id=\"T_b339ee90_772a_11eb_b9d0_02420a39a32c\" ><thead>    <tr>        <th class=\"blank level0\" ></th>        <th class=\"col_heading level0 col0\" >last_price</th>    </tr>    <tr>        <th class=\"index_name level0\" >floor_type</th>        <th class=\"blank\" ></th>    </tr></thead><tbody>\n",
       "                <tr>\n",
       "                        <th id=\"T_b339ee90_772a_11eb_b9d0_02420a39a32clevel0_row0\" class=\"row_heading level0 row0\" >первый</th>\n",
       "                        <td id=\"T_b339ee90_772a_11eb_b9d0_02420a39a32crow0_col0\" class=\"data row0 col0\" >7870595.61</td>\n",
       "            </tr>\n",
       "            <tr>\n",
       "                        <th id=\"T_b339ee90_772a_11eb_b9d0_02420a39a32clevel0_row1\" class=\"row_heading level0 row1\" >последний</th>\n",
       "                        <td id=\"T_b339ee90_772a_11eb_b9d0_02420a39a32crow1_col0\" class=\"data row1 col0\" >9995402.15</td>\n",
       "            </tr>\n",
       "            <tr>\n",
       "                        <th id=\"T_b339ee90_772a_11eb_b9d0_02420a39a32clevel0_row2\" class=\"row_heading level0 row2\" >другой</th>\n",
       "                        <td id=\"T_b339ee90_772a_11eb_b9d0_02420a39a32crow2_col0\" class=\"data row2 col0\" >11118354.76</td>\n",
       "            </tr>\n",
       "    </tbody></table>"
      ],
      "text/plain": [
       "<pandas.io.formats.style.Styler at 0x7fb098ea5fd0>"
      ]
     },
     "execution_count": 80,
     "metadata": {},
     "output_type": "execute_result"
    }
   ],
   "source": [
    "spb_center.pivot_table(index='floor_type', values='last_price', aggfunc='mean').sort_values(by='last_price').style.format(\"{:.2f}\")"
   ]
  },
  {
   "cell_type": "markdown",
   "metadata": {},
   "source": [
    "Наблюдается изменение относительно общей по городу картины: самые дорогие квартиры находятся не на первом и не на последнем этаже."
   ]
  },
  {
   "cell_type": "markdown",
   "metadata": {},
   "source": [
    "Исследуем влияния дня, месяца и года публикации объявления на стоимость квартиры."
   ]
  },
  {
   "cell_type": "code",
   "execution_count": 81,
   "metadata": {},
   "outputs": [
    {
     "data": {
      "image/png": "[encoded data removed]",
      "text/plain": [
       "<Figure size 648x360 with 1 Axes>"
      ]
     },
     "metadata": {
      "needs_background": "light"
     },
     "output_type": "display_data"
    }
   ],
   "source": [
    "spb_center.pivot_table(index='exposition_week_day', values='last_price', aggfunc='mean').plot(kind='bar', figsize=(9, 5))\n",
    "plt.xlabel('День недели')\n",
    "plt.ylabel('Цена')\n",
    "plt.title('Зависимость средней цены квартиры от дня недели публикации объявления')\n",
    "plt.show()"
   ]
  },
  {
   "cell_type": "code",
   "execution_count": 82,
   "metadata": {},
   "outputs": [
    {
     "data": {
      "image/png": "[encoded data removed]",
      "text/plain": [
       "<Figure size 648x360 with 1 Axes>"
      ]
     },
     "metadata": {
      "needs_background": "light"
     },
     "output_type": "display_data"
    }
   ],
   "source": [
    "spb_center.pivot_table(index='exposition_month', values='last_price', aggfunc='mean').plot(kind='bar', figsize=(9, 5))\n",
    "plt.xlabel('Месяц')\n",
    "plt.ylabel('Цена')\n",
    "plt.title('Зависимость средней цены квартиры от месяца публикации объявления')\n",
    "plt.show()"
   ]
  },
  {
   "cell_type": "code",
   "execution_count": 83,
   "metadata": {},
   "outputs": [
    {
     "data": {
      "image/png": "[encoded data removed]",
      "text/plain": [
       "<Figure size 648x360 with 1 Axes>"
      ]
     },
     "metadata": {
      "needs_background": "light"
     },
     "output_type": "display_data"
    }
   ],
   "source": [
    "spb_center.pivot_table(index='exposition_year', values='last_price', aggfunc='mean').plot(kind='bar', figsize=(9, 5))\n",
    "plt.xlabel('Год')\n",
    "plt.ylabel('Цена')\n",
    "plt.title('Зависимость средней цены квартиры от года публикации объявления')\n",
    "plt.show()"
   ]
  },
  {
   "cell_type": "markdown",
   "metadata": {},
   "source": [
    "Самый большой интерес вызывает диаграмма влияния года публикации объявления на цену квартиры. В центральной зоне квартиры резко подешевели почти в 2 раза после 2014 года.  \n",
    "Однако, если мы посмотрим на количества объявлений, опубликованных в этих годах, то увидим, что в 2014 было опубликовано всего 5 объявлений, а в 2015 уже 64.  \n",
    "Поэтому для создания вывода слишком маленькая выборка."
   ]
  },
  {
   "cell_type": "code",
   "execution_count": 84,
   "metadata": {},
   "outputs": [
    {
     "data": {
      "text/plain": [
       "5"
      ]
     },
     "execution_count": 84,
     "metadata": {},
     "output_type": "execute_result"
    }
   ],
   "source": [
    "spb_center[spb_center['exposition_year'] == 2014].shape[0]"
   ]
  },
  {
   "cell_type": "code",
   "execution_count": 85,
   "metadata": {},
   "outputs": [
    {
     "data": {
      "text/plain": [
       "64"
      ]
     },
     "execution_count": 85,
     "metadata": {},
     "output_type": "execute_result"
    }
   ],
   "source": [
    "spb_center[spb_center['exposition_year'] == 2015].shape[0]"
   ]
  },
  {
   "cell_type": "markdown",
   "metadata": {},
   "source": [
    "##### Вывод\n",
    "\n",
    "В центральной зоне влияние общей площади, количества комнат и удаленность от центра ниже, чем в среднем по всему городу. Это обуславливается тем, что в центре города параметры квартир имеют более равномерное распределение.  \n",
    "Было обнаружено, что квартиры, расположенные на последнем этаже, в среднем не самые дорогие, хотя именно это в среднем наблюдается по всему городу. Но квартиры на первых этажах по-прежнему дешевле остальных.  \n",
    "Влияния дня недели или месяца публикации объявления на цену не обнаружено, однако можно отметить, что в субботу публикуются более дешевые объявления. На диаграмме влияния года публикации объявления на цену квартиры обнаружена особенность: квартиры, объявления о продаже которых, были опубликованы в 2014 году, заметно дороже остальных квартир. Но данных в выборке оказалось слишком мало, для составления вывода. Требуются дополнительные сведения о квартирах, продаваемых в центре Санкт-Петербурга в 2014 году."
   ]
  },
  {
   "cell_type": "markdown",
   "metadata": {},
   "source": [
    "### Общий вывод"
   ]
  },
  {
   "cell_type": "markdown",
   "metadata": {},
   "source": [
    "Кратко о проделанной работе:\n",
    "1. Предобработка данных:\n",
    "    - Были обработаны пропуски в столбцах living_area, is_apartment, kitchen_area, balcony, days_exposition\n",
    "    - Проведена замена типов в столбцах last_price, floors_total, days_exposition, balcony, first_day_exposition, is_apartment\n",
    "2. Рассчитаны и добавлены дополнительные параметры:\n",
    "    - Цена квадратного метра (price_per_square)\n",
    "    - День недели, месяц и год публицкации объявления (exposition_week_day, exposition_month, exposition_year)\n",
    "    - Тип этажа (floor_type)\n",
    "    - Соотношение жилой площади и общей площади (living_area_part)\n",
    "    - Соотношение площади кухни и общей площади (kitchen_area_part)\n",
    "3. Исследованы основные параметры (площадь, стоимость, высота потолков, количество комнат, дата размещения объявления)\n",
    "4. Исследовано влияние различных параметров на цену квартиры\n",
    "5. Исследованы квартиры из центральной зоны Санкт-Петербурга\n",
    "\n",
    "Рекомендации по данным:\n",
    "- Установить лимитные значения для параметров ceiling_height, floors_total\n",
    "- Добавить систему проверки \"адекватности\" введенных данных\n",
    "- Устранить причину пропусков в столбце locality_name. Населенный пункт, в котором находится квартира - чуть ли не важнейший параметр\n",
    "- Рассмотреть возможность уменьшения количества необязательных для заполнения полей\n",
    "\n",
    "На основании анализа параметров был взят срез данных, который включает в себя \"обычные\" квартиры. Исследование крайне дорогих и больших квартир - отдельная задача, которая не входит в данный проект.  \n",
    "\n",
    "В ходе анализа среди всех квартир были выделены квартиры, которые находятся в центральной зоне Санкт-Петербурга.\n",
    "\n",
    "В среднем по всему городу и в среднем по центру Санкт-Петербурга было выявлено, что на цену квартиры больше всего влияет общая площадь; количество комнат и удаленность от центра влияют не так сильно. При чём в центре влияние всех этих параметров ниже, чем в среднем по городу. Также стоить отметить, что в среднем по городу самые дороги квартиры находятся на последнем этаже, а в центре - между первым и последним. В обоих случаях квартиры на первом этаже в среднем дешевле квартир на остальных этажах.  \n",
    "\n",
    "Квартиры в центральной зоне оказались в среднем почти в 2 раза дороже квартир по всему городу. Помимо этого, квартиры в центре в полтора раза больше по площади, с б*о*льшим количеством комнат и с более высокими потолками. Эта разница в параметрах, а так же статус центральной зоны города и повлияли на цену.  \n",
    "\n",
    "Влияние дня недели или месяца публикации объявления на цену не обнаружено. Однако с 2014 жилье несколько подешевело. **Возможно** это связано с кризисом, который начался в 2014 году и с ухудшением отношений с западными странами.  \n",
    "\n",
    "Предложения для создания автоматизированной системы, предназначенной для выявления мошеннической деятельности и аномалий:\n",
    "- Разбить все объявления на категории (дешевое, среднее, дорогое и элитное жилье)\n",
    "- Выискавать выпадающие объявления (например дорогое жилье с очень маленькой площадью и далеко от центра)\n",
    "- Стоит обратить внимание на время, за которое квартира была продана. Среднее время продажи квартиры - 100 дней. Если квартира продается очень быстро, например за пару дней, то это вызывает подозрения\n",
    "\n"
   ]
  },
  {
   "cell_type": "markdown",
   "metadata": {},
   "source": [
    "### Чек-лист готовности проекта\n",
    "\n",
    "Поставьте 'x' в выполненных пунктах. Далее нажмите Shift+Enter."
   ]
  },
  {
   "cell_type": "markdown",
   "metadata": {},
   "source": [
    "- [x]  открыт файл\n",
    "- [x]  файлы изучены (выведены первые строки, метод info())\n",
    "- [x]  определены пропущенные значения\n",
    "- [x]  заполнены пропущенные значения\n",
    "- [x]  есть пояснение, какие пропущенные значения обнаружены\n",
    "- [x]  изменены типы данных\n",
    "- [x]  есть пояснение, в каких столбцах изменены типы и почему\n",
    "- [x]  посчитано и добавлено в таблицу: цена квадратного метра\n",
    "- [x]  посчитано и добавлено в таблицу: день недели, месяц и год публикации объявления\n",
    "- [x]  посчитано и добавлено в таблицу: этаж квартиры; варианты — первый, последний, другой\n",
    "- [x]  посчитано и добавлено в таблицу: соотношение жилой и общей площади, а также отношение площади кухни к общей\n",
    "- [x]  изучены следующие параметры: площадь, цена, число комнат, высота потолков\n",
    "- [x]  построены гистограммы для каждого параметра\n",
    "- [x]  выполнено задание: \"Изучите время продажи квартиры. Постройте гистограмму. Посчитайте среднее и медиану. Опишите, сколько обычно занимает продажа. Когда можно считать, что продажи прошли очень быстро, а когда необычно долго?\"\n",
    "- [x]  выполнено задание: \"Уберите редкие и выбивающиеся значения. Опишите, какие особенности обнаружили.\"\n",
    "- [x]  выполнено задание: \"Какие факторы больше всего влияют на стоимость квартиры? Изучите, зависит ли цена от квадратного метра, числа комнат, этажа (первого или последнего), удалённости от центра. Также изучите зависимость от даты размещения: дня недели, месяца и года. \"Выберите 10 населённых пунктов с наибольшим числом объявлений. Посчитайте среднюю цену квадратного метра в этих населённых пунктах. Выделите населённые пункты с самой высокой и низкой стоимостью жилья. Эти данные можно найти по имени в столбце '*locality_name'*. \"\n",
    "- [x]  выполнено задание: \"Изучите предложения квартир: для каждой квартиры есть информация о расстоянии до центра. Выделите квартиры в Санкт-Петербурге (*'locality_name'*). Ваша задача — выяснить, какая область входит в центр. Создайте столбец с расстоянием до центра в километрах: округлите до целых значений. После этого посчитайте среднюю цену для каждого километра. Постройте график: он должен показывать, как цена зависит от удалённости от центра. Определите границу, где график сильно меняется — это и будет центральная зона. \"\n",
    "- [x]  выполнено задание: \"Выделите сегмент квартир в центре. Проанализируйте эту территорию и изучите следующие параметры: площадь, цена, число комнат, высота потолков. Также выделите факторы, которые влияют на стоимость квартиры (число комнат, этаж, удалённость от центра, дата размещения объявления). Сделайте выводы. Отличаются ли они от общих выводов по всему городу?\"\n",
    "- [x]  в каждом этапе есть выводы\n",
    "- [x]  есть общий вывод"
   ]
  }
 ],
 "metadata": {
  "kernelspec": {
   "display_name": "Python 3",
   "language": "python",
   "name": "python3"
  },
  "language_info": {
   "codemirror_mode": {
    "name": "ipython",
    "version": 3
   },
   "file_extension": ".py",
   "mimetype": "text/x-python",
   "name": "python",
   "nbconvert_exporter": "python",
   "pygments_lexer": "ipython3",
   "version": "3.8.3"
  },
  "toc": {
   "base_numbering": 1,
   "nav_menu": {
    "height": "243px",
    "width": "552px"
   },
   "number_sections": false,
   "sideBar": true,
   "skip_h1_title": true,
   "title_cell": "Table of Contents",
   "title_sidebar": "Contents",
   "toc_cell": false,
   "toc_position": {},
   "toc_section_display": true,
   "toc_window_display": false
  }
 },
 "nbformat": 4,
 "nbformat_minor": 2
}
